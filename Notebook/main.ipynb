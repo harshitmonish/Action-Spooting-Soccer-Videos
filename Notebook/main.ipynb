{
  "cells": [
    {
      "cell_type": "code",
      "source": [
        "!pip install SoccerNet"
      ],
      "metadata": {
        "id": "XhGFRk4QfC9U"
      },
      "execution_count": null,
      "outputs": []
    },
    {
      "cell_type": "code",
      "source": [
        "from google.colab import drive\n",
        "drive.mount('/content/drive')"
      ],
      "metadata": {
        "id": "58gjeFwoquQx",
        "outputId": "63bb8909-3a9a-47ce-cd53-92b1a0928a4d",
        "colab": {
          "base_uri": "https://localhost:8080/"
        }
      },
      "execution_count": 2,
      "outputs": [
        {
          "output_type": "stream",
          "name": "stdout",
          "text": [
            "Mounted at /content/drive\n"
          ]
        }
      ]
    },
    {
      "cell_type": "code",
      "source": [
        "%cd drive/MyDrive/Action\\ Spotting\\ CSE\\ 610/"
      ],
      "metadata": {
        "id": "lUgHbfNMqzZh",
        "outputId": "90b42e4e-c7ec-47f1-8fff-95e9cdee8113",
        "colab": {
          "base_uri": "https://localhost:8080/"
        }
      },
      "execution_count": 1,
      "outputs": [
        {
          "output_type": "stream",
          "name": "stdout",
          "text": [
            "/content/drive/MyDrive/Action Spotting CSE 610\n"
          ]
        }
      ]
    },
    {
      "cell_type": "code",
      "execution_count": 2,
      "metadata": {
        "id": "tFpHc8aEo-WP"
      },
      "outputs": [],
      "source": [
        "# import packages\n",
        "import numpy as np\n",
        "import matplotlib.pyplot as plt\n",
        "import glob\n",
        "import json\n",
        "import tensorflow\n",
        "import keras\n",
        "\n",
        "from util.dataset_generator import *\n",
        "from util.metrics import *\n",
        "import src.global_variables as GV"
      ]
    },
    {
      "cell_type": "code",
      "source": [
        "# GPU optimization\n",
        "tensorflow.config.run_functions_eagerly(True)\n",
        "tensorflow.data.experimental.enable_debug_mode()"
      ],
      "metadata": {
        "id": "ZD_I-u6BzzBq"
      },
      "execution_count": 3,
      "outputs": []
    },
    {
      "cell_type": "markdown",
      "source": [
        "## Util Functions\n",
        "---"
      ],
      "metadata": {
        "id": "FcTWBOWCjtvA"
      }
    },
    {
      "cell_type": "code",
      "source": [
        "timestep = 1"
      ],
      "metadata": {
        "id": "f9Bn3TUr-BY1"
      },
      "execution_count": 4,
      "outputs": []
    },
    {
      "cell_type": "code",
      "execution_count": 5,
      "metadata": {
        "id": "kRuO_HxRo-Wa",
        "outputId": "106a977d-eb93-4d3e-de81-c8a618b314ae",
        "colab": {
          "base_uri": "https://localhost:8080/"
        }
      },
      "outputs": [
        {
          "output_type": "stream",
          "name": "stdout",
          "text": [
            "Games in trainList: 400\n",
            "Games in testList: 100\n",
            "Games in challengeList: 50\n"
          ]
        }
      ],
      "source": [
        "from SoccerNet.Downloader import getListGames\n",
        "\n",
        "trainList = []\n",
        "trainList.extend(getListGames(['train']))\n",
        "trainList.extend(getListGames(['valid']))\n",
        "testList = getListGames(['test'])\n",
        "challengeList = getListGames(['challenge'])\n",
        "\n",
        "print(f\"Games in trainList: {len(trainList)}\")\n",
        "print(f\"Games in testList: {len(testList)}\")\n",
        "print(f\"Games in challengeList: {len(challengeList)}\")"
      ]
    },
    {
      "cell_type": "code",
      "source": [
        "context = np.array([0.5, 0.6, 0.7, 0.8, 0.85, 0.9, 0.95, 1., \n",
        "                    0.95, 0.9, 0.85, 0.8, 0.7, 0.6, 0.5], dtype=\"float\")\n",
        "context = np.expand_dims(context, axis=1)\n",
        "\n",
        "map = {\n",
        "    0: [1, 0, 0],\n",
        "    -1: [0, 1, 0],\n",
        "    1: [0, 0, 1],\n",
        "}\n",
        "\n",
        "def contextLabel(labels):\n",
        "    # labels = labels * context\n",
        "    label = np.sum(labels, axis=0)\n",
        "    return label\n",
        "\n",
        "def binaryLabel(labels):\n",
        "    # label = np.sum(labels, axis=0)\n",
        "    # val = np.sum(labels)\n",
        "    # return map[np.sum(labels)]\n",
        "    if np.sum(labels) == 0:\n",
        "        return 0\n",
        "    else:\n",
        "        return 1\n",
        "\n",
        "def divideGame(features, labels, binary=True, stride=1):\n",
        "    feat_ = []\n",
        "    lab_ = []\n",
        "\n",
        "    for i in range(0, len(features), stride):\n",
        "        if i+timestep > len(features):\n",
        "            break\n",
        "        feat_.append(features[i : i+timestep])\n",
        "        if binary:\n",
        "            lab_.append(binaryLabel(labels[i : i+timestep]))\n",
        "        else:\n",
        "            lab_.append(contextLabel(labels[i : i+timestep]))\n",
        "\n",
        "    feat_ = np.asanyarray(feat_)\n",
        "    lab_ = np.asanyarray(lab_)\n",
        "    feat_ = np.reshape(feat_, (feat_.shape[0], feat_.shape[-1]))\n",
        "    return (feat_, lab_)\n"
      ],
      "metadata": {
        "id": "yt8Ug41fAqbu"
      },
      "execution_count": 6,
      "outputs": []
    },
    {
      "cell_type": "markdown",
      "source": [
        "##Train Naive Classifier\n",
        "---"
      ],
      "metadata": {
        "id": "AYI04Wk5jaZM"
      }
    },
    {
      "cell_type": "code",
      "execution_count": 43,
      "metadata": {
        "id": "NEZT7nDno-WW"
      },
      "outputs": [],
      "source": [
        "# import\n",
        "from tensorflow.keras.layers import (\n",
        "\tDense,\n",
        "    Dropout\n",
        ")\n",
        "from tensorflow.keras.models import Model\n",
        "from tensorflow.keras import Input\n",
        "\n",
        "class NaiveClassifier:\n",
        "\n",
        "    @staticmethod\n",
        "    def build(dim=8576):\n",
        "        inputShape = (dim)\n",
        "\n",
        "        inputs = Input(inputShape)\n",
        "        x = Dense(64, activation=\"relu\")(inputs)\n",
        "        x = Dropout(0.2)(x)\n",
        "        x = Dense(64, activation=\"relu\")(x)\n",
        "        x = Dropout(0.2)(x)\n",
        "        x = Dense(3, activation=\"softmax\")(x)\n",
        "\n",
        "        # create the model\n",
        "        model = Model(inputs, x, name=\"naive_classifier\")\n",
        "\n",
        "        return model"
      ]
    },
    {
      "cell_type": "code",
      "execution_count": 44,
      "metadata": {
        "id": "gN_YG1pvo-WY"
      },
      "outputs": [],
      "source": [
        "from tensorflow.keras.optimizers import Adam\n",
        "from tensorflow.keras.losses import CategoricalCrossentropy, BinaryCrossentropy\n",
        "\n",
        "opt = Adam(learning_rate=1e-3)\n",
        "loss = CategoricalCrossentropy()\n",
        "# loss = BinaryCrossentropy()\n",
        "model = NaiveClassifier.build()\n",
        "model.compile(loss=loss, optimizer=opt,\n",
        "    metrics=[\"accuracy\"])"
      ]
    },
    {
      "cell_type": "code",
      "source": [
        "model.summary()"
      ],
      "metadata": {
        "colab": {
          "base_uri": "https://localhost:8080/"
        },
        "id": "AEIKU6cEROqv",
        "outputId": "df4cbd85-0f81-4dae-9539-bb8f6f5e0c94"
      },
      "execution_count": 45,
      "outputs": [
        {
          "output_type": "stream",
          "name": "stdout",
          "text": [
            "Model: \"naive_classifier\"\n",
            "_________________________________________________________________\n",
            " Layer (type)                Output Shape              Param #   \n",
            "=================================================================\n",
            " input_2 (InputLayer)        [(None, 8576)]            0         \n",
            "                                                                 \n",
            " dense_3 (Dense)             (None, 64)                548928    \n",
            "                                                                 \n",
            " dropout_2 (Dropout)         (None, 64)                0         \n",
            "                                                                 \n",
            " dense_4 (Dense)             (None, 64)                4160      \n",
            "                                                                 \n",
            " dropout_3 (Dropout)         (None, 64)                0         \n",
            "                                                                 \n",
            " dense_5 (Dense)             (None, 3)                 195       \n",
            "                                                                 \n",
            "=================================================================\n",
            "Total params: 553,283\n",
            "Trainable params: 553,283\n",
            "Non-trainable params: 0\n",
            "_________________________________________________________________\n"
          ]
        }
      ]
    },
    {
      "cell_type": "code",
      "source": [
        "def getBinaryClassWeights(labels):\n",
        "    n_samples = len(labels)\n",
        "    n_classes = 3\n",
        "\n",
        "    class_count = []\n",
        "    class_count.append(len(np.where(labels == 0)[0]))\n",
        "    class_count.append(len(np.where(labels < 0)[0]))\n",
        "    class_count.append(len(np.where(labels > 0)[0]))\n",
        "\n",
        "    class_weights = [n_samples / (n_classes * freq) if freq > 0 else 1 for freq in class_count]\n",
        "    class_labels = range(len(class_weights))\n",
        "    return dict(zip(class_labels, class_weights))\n",
        "    # return {0: class_weights[0], -1: class_weights[1], 1: class_weights[2]}"
      ],
      "metadata": {
        "id": "rVIphNiHkVGw"
      },
      "execution_count": 47,
      "outputs": []
    },
    {
      "cell_type": "code",
      "source": [
        "getBinaryClassWeights(labels)"
      ],
      "metadata": {
        "id": "WTcBE-StnoL2",
        "outputId": "88794edd-f024-460a-d5f6-98d33201233b",
        "colab": {
          "base_uri": "https://localhost:8080/"
        }
      },
      "execution_count": 48,
      "outputs": [
        {
          "output_type": "execute_result",
          "data": {
            "text/plain": [
              "{0: 0.3464918814241025, 1: 58.88607594936709, 2: 10.314855875831485}"
            ]
          },
          "metadata": {},
          "execution_count": 48
        }
      ]
    },
    {
      "cell_type": "code",
      "source": [
        "from numpy.core.fromnumeric import shape\n",
        "acc, loss = [], []\n",
        "\n",
        "batch = 10\n",
        "\n",
        "for idx in range(0, len(trainList), batch):\n",
        "    print(f\"[INFO] training on game: {idx+1}-{idx+batch}/400\")\n",
        "    features, labels = [], []\n",
        "\n",
        "    for fp in range(idx, idx+batch):\n",
        "        filepath = \"labels/\" + trainList[fp] + \"/\" \n",
        "        # print(filepath)   \n",
        "        [features_1, features_2, labels_1, labels_2] = getGameData(filepath, \n",
        "                                        num_classes=17, \n",
        "                                        event_mapping=GV.EVENT_DICTIONARY_V2)\n",
        "        if features_1 is None:\n",
        "            continue\n",
        "\n",
        "        features_1, labels_1 = divideGame(features_1, labels_1)\n",
        "        features_2, labels_2 = divideGame(features_2, labels_2)\n",
        "\n",
        "        if len(features) != 0:\n",
        "            features = np.concatenate((features, features_1, features_2), axis=0)\n",
        "            labels = np.concatenate((labels, labels_1, labels_2), axis=0)\n",
        "        else:\n",
        "            features = np.concatenate((features_1, features_2), axis=0)\n",
        "            labels = np.concatenate((labels_1, labels_2), axis=0)\n",
        "    \n",
        "    train_df = tensorflow.data.Dataset.from_tensor_slices((features, labels))\n",
        "    train_df = train_df.cache().shuffle(200).batch(32).prefetch(tensorflow.data.experimental.AUTOTUNE)\n",
        "\n",
        "    H = model.fit(train_df,\n",
        "                  epochs=2,\n",
        "                  class_weight=getBinaryClassWeights(labels))\n",
        "    acc.extend(H.history[\"accuracy\"])\n",
        "    loss.extend(H.history[\"loss\"])"
      ],
      "metadata": {
        "id": "-R_08x0lsDCr",
        "colab": {
          "base_uri": "https://localhost:8080/",
          "height": 398
        },
        "outputId": "8c72affe-7620-4b42-f10b-4fafe1597faf"
      },
      "execution_count": 52,
      "outputs": [
        {
          "output_type": "stream",
          "name": "stdout",
          "text": [
            "[INFO] training on game: 1-10/400\n"
          ]
        },
        {
          "output_type": "error",
          "ename": "KeyError",
          "evalue": "ignored",
          "traceback": [
            "\u001b[0;31m---------------------------------------------------------------------------\u001b[0m",
            "\u001b[0;31mKeyError\u001b[0m                                  Traceback (most recent call last)",
            "\u001b[0;32m<ipython-input-52-cf360b88d3df>\u001b[0m in \u001b[0;36m<module>\u001b[0;34m()\u001b[0m\n\u001b[1;32m     18\u001b[0m \u001b[0;34m\u001b[0m\u001b[0m\n\u001b[1;32m     19\u001b[0m         \u001b[0mfeatures_1\u001b[0m\u001b[0;34m,\u001b[0m \u001b[0mlabels_1\u001b[0m \u001b[0;34m=\u001b[0m \u001b[0mdivideGame\u001b[0m\u001b[0;34m(\u001b[0m\u001b[0mfeatures_1\u001b[0m\u001b[0;34m,\u001b[0m \u001b[0mlabels_1\u001b[0m\u001b[0;34m)\u001b[0m\u001b[0;34m\u001b[0m\u001b[0;34m\u001b[0m\u001b[0m\n\u001b[0;32m---> 20\u001b[0;31m         \u001b[0mfeatures_2\u001b[0m\u001b[0;34m,\u001b[0m \u001b[0mlabels_2\u001b[0m \u001b[0;34m=\u001b[0m \u001b[0mdivideGame\u001b[0m\u001b[0;34m(\u001b[0m\u001b[0mfeatures_2\u001b[0m\u001b[0;34m,\u001b[0m \u001b[0mlabels_2\u001b[0m\u001b[0;34m)\u001b[0m\u001b[0;34m\u001b[0m\u001b[0;34m\u001b[0m\u001b[0m\n\u001b[0m\u001b[1;32m     21\u001b[0m \u001b[0;34m\u001b[0m\u001b[0m\n\u001b[1;32m     22\u001b[0m         \u001b[0;32mif\u001b[0m \u001b[0mlen\u001b[0m\u001b[0;34m(\u001b[0m\u001b[0mfeatures\u001b[0m\u001b[0;34m)\u001b[0m \u001b[0;34m!=\u001b[0m \u001b[0;36m0\u001b[0m\u001b[0;34m:\u001b[0m\u001b[0;34m\u001b[0m\u001b[0;34m\u001b[0m\u001b[0m\n",
            "\u001b[0;32m<ipython-input-51-39072c38a72a>\u001b[0m in \u001b[0;36mdivideGame\u001b[0;34m(features, labels, binary, stride)\u001b[0m\n\u001b[1;32m     32\u001b[0m         \u001b[0mfeat_\u001b[0m\u001b[0;34m.\u001b[0m\u001b[0mappend\u001b[0m\u001b[0;34m(\u001b[0m\u001b[0mfeatures\u001b[0m\u001b[0;34m[\u001b[0m\u001b[0mi\u001b[0m \u001b[0;34m:\u001b[0m \u001b[0mi\u001b[0m\u001b[0;34m+\u001b[0m\u001b[0mtimestep\u001b[0m\u001b[0;34m]\u001b[0m\u001b[0;34m)\u001b[0m\u001b[0;34m\u001b[0m\u001b[0;34m\u001b[0m\u001b[0m\n\u001b[1;32m     33\u001b[0m         \u001b[0;32mif\u001b[0m \u001b[0mbinary\u001b[0m\u001b[0;34m:\u001b[0m\u001b[0;34m\u001b[0m\u001b[0;34m\u001b[0m\u001b[0m\n\u001b[0;32m---> 34\u001b[0;31m             \u001b[0mlab_\u001b[0m\u001b[0;34m.\u001b[0m\u001b[0mappend\u001b[0m\u001b[0;34m(\u001b[0m\u001b[0mbinaryLabel\u001b[0m\u001b[0;34m(\u001b[0m\u001b[0mlabels\u001b[0m\u001b[0;34m[\u001b[0m\u001b[0mi\u001b[0m \u001b[0;34m:\u001b[0m \u001b[0mi\u001b[0m\u001b[0;34m+\u001b[0m\u001b[0mtimestep\u001b[0m\u001b[0;34m]\u001b[0m\u001b[0;34m)\u001b[0m\u001b[0;34m)\u001b[0m\u001b[0;34m\u001b[0m\u001b[0;34m\u001b[0m\u001b[0m\n\u001b[0m\u001b[1;32m     35\u001b[0m         \u001b[0;32melse\u001b[0m\u001b[0;34m:\u001b[0m\u001b[0;34m\u001b[0m\u001b[0;34m\u001b[0m\u001b[0m\n\u001b[1;32m     36\u001b[0m             \u001b[0mlab_\u001b[0m\u001b[0;34m.\u001b[0m\u001b[0mappend\u001b[0m\u001b[0;34m(\u001b[0m\u001b[0mcontextLabel\u001b[0m\u001b[0;34m(\u001b[0m\u001b[0mlabels\u001b[0m\u001b[0;34m[\u001b[0m\u001b[0mi\u001b[0m \u001b[0;34m:\u001b[0m \u001b[0mi\u001b[0m\u001b[0;34m+\u001b[0m\u001b[0mtimestep\u001b[0m\u001b[0;34m]\u001b[0m\u001b[0;34m)\u001b[0m\u001b[0;34m)\u001b[0m\u001b[0;34m\u001b[0m\u001b[0;34m\u001b[0m\u001b[0m\n",
            "\u001b[0;32m<ipython-input-51-39072c38a72a>\u001b[0m in \u001b[0;36mbinaryLabel\u001b[0;34m(labels)\u001b[0m\n\u001b[1;32m     17\u001b[0m     \u001b[0;31m# label = np.sum(labels, axis=0)\u001b[0m\u001b[0;34m\u001b[0m\u001b[0;34m\u001b[0m\u001b[0;34m\u001b[0m\u001b[0m\n\u001b[1;32m     18\u001b[0m     \u001b[0;31m# val = np.sum(labels)\u001b[0m\u001b[0;34m\u001b[0m\u001b[0;34m\u001b[0m\u001b[0;34m\u001b[0m\u001b[0m\n\u001b[0;32m---> 19\u001b[0;31m     \u001b[0;32mreturn\u001b[0m \u001b[0mmap\u001b[0m\u001b[0;34m[\u001b[0m\u001b[0mnp\u001b[0m\u001b[0;34m.\u001b[0m\u001b[0msum\u001b[0m\u001b[0;34m(\u001b[0m\u001b[0mlabels\u001b[0m\u001b[0;34m)\u001b[0m\u001b[0;34m]\u001b[0m\u001b[0;34m\u001b[0m\u001b[0;34m\u001b[0m\u001b[0m\n\u001b[0m\u001b[1;32m     20\u001b[0m     \u001b[0;31m# if np.sum(labels) == 0:\u001b[0m\u001b[0;34m\u001b[0m\u001b[0;34m\u001b[0m\u001b[0;34m\u001b[0m\u001b[0m\n\u001b[1;32m     21\u001b[0m     \u001b[0;31m#     return 0\u001b[0m\u001b[0;34m\u001b[0m\u001b[0;34m\u001b[0m\u001b[0;34m\u001b[0m\u001b[0m\n",
            "\u001b[0;31mKeyError\u001b[0m: -2.0"
          ]
        }
      ]
    },
    {
      "cell_type": "code",
      "source": [
        "plt.style.use(\"ggplot\")\n",
        "plt.figure()\n",
        "plt.plot(loss, label=\"train_loss\")\n",
        "plt.plot(acc, label=\"train_acc\")\n",
        "plt.title(\"Training Loss and Accuracy\")\n",
        "plt.xlabel(\"Epoch #\")\n",
        "plt.ylabel(\"Loss/Accuracy\")\n",
        "plt.legend(loc=\"upper left\")"
      ],
      "metadata": {
        "id": "cS6ET0CL0zW2",
        "outputId": "8bf0c198-25e4-443c-8df3-56b2070e0fe0",
        "colab": {
          "base_uri": "https://localhost:8080/",
          "height": 316
        }
      },
      "execution_count": null,
      "outputs": [
        {
          "output_type": "execute_result",
          "data": {
            "text/plain": [
              "<matplotlib.legend.Legend at 0x7fe77c05d110>"
            ]
          },
          "metadata": {},
          "execution_count": 25
        },
        {
          "output_type": "display_data",
          "data": {
            "text/plain": [
              "<Figure size 432x288 with 1 Axes>"
            ],
            "image/png": "[encoded data removed]"
          },
          "metadata": {}
        }
      ]
    },
    {
      "cell_type": "code",
      "source": [
        "model.save(\"models/naive_classifier\")"
      ],
      "metadata": {
        "id": "TXs1Bu-OmyNi",
        "outputId": "d35a62f8-deaa-4f47-9e73-b518a892f9fe",
        "colab": {
          "base_uri": "https://localhost:8080/"
        }
      },
      "execution_count": null,
      "outputs": [
        {
          "output_type": "stream",
          "name": "stdout",
          "text": [
            "INFO:tensorflow:Assets written to: models/naive_classifier/assets\n"
          ]
        }
      ]
    },
    {
      "cell_type": "markdown",
      "source": [
        "##Test Naive Classifier and Generate Windows\n",
        "---"
      ],
      "metadata": {
        "id": "b_iTLRDFjk5I"
      }
    },
    {
      "cell_type": "code",
      "source": [
        "# load naive classifier\n",
        "model = tensorflow.keras.models.load_model(\"models/naive_classifier\")"
      ],
      "metadata": {
        "id": "RcpbvXaIkE35"
      },
      "execution_count": 6,
      "outputs": []
    },
    {
      "cell_type": "code",
      "source": [
        "# testing\n",
        "print(filepaths[45])\n",
        "[features, labels] = getGameData(filepaths[45][38:], \n",
        "                                num_classes=9, \n",
        "                                event_mapping=GV.MOD_EVENT_DICTIONARY_V2)\n",
        "features, labels = divideGame(features, labels)\n",
        "pred = model.predict_on_batch(features)"
      ],
      "metadata": {
        "id": "c1ShtZXVcOTi"
      },
      "execution_count": null,
      "outputs": []
    },
    {
      "cell_type": "code",
      "source": [
        "# plot probability predictions for first 3 mins of game\n",
        "plt.style.use(\"ggplot\")\n",
        "plt.figure()\n",
        "plt.plot(pred[200:300], label=\"pred\")\n",
        "plt.title(\"Event Prediction\")\n",
        "plt.xlabel(\"Time (seconds)\")\n",
        "plt.ylabel(\"Predictions\")\n",
        "plt.legend(loc=\"upper left\")"
      ],
      "metadata": {
        "id": "zk3KprCXIz5B"
      },
      "execution_count": null,
      "outputs": []
    },
    {
      "cell_type": "code",
      "source": [
        "# get windows from predictions\n",
        "def getWindows(pred, threshold=0.2):\n",
        "    windows = []\n",
        "    pred = pred > threshold\n",
        "    idx = 0\n",
        "\n",
        "    while idx < len(pred):\n",
        "        if pred[idx]:\n",
        "            start = idx\n",
        "            while idx < len(pred) and pred[idx]:\n",
        "                idx += 1\n",
        "            windows.append([start, idx-1])\n",
        "        idx += 1\n",
        "    \n",
        "    return np.asarray(windows)"
      ],
      "metadata": {
        "id": "eOtIHzZalmeI"
      },
      "execution_count": 10,
      "outputs": []
    },
    {
      "cell_type": "code",
      "source": [
        "# segment actions from game for event classification\n",
        "def segmentActions(windows, features, labels, max_window=15):\n",
        "    feat_ = []\n",
        "    lab_ = []\n",
        "\n",
        "    for (start, end) in windows:\n",
        "        temp_feat = []\n",
        "        temp_feat.extend([np.array(features[f]) for f in range(start, end+1)])\n",
        "        if end+1 - start < max_window: \n",
        "            temp_feat.extend(np.array([0] * features.shape[-1]) for _ in range(max_window - (end+1 - start)))\n",
        "\n",
        "        temp_feat = np.asarray(temp_feat)\n",
        "        feat_.append(np.array(temp_feat))\n",
        "\n",
        "        temp_lab = contextLabel(labels[start : end+1])\n",
        "        if np.sum(temp_lab) > 1:\n",
        "            temp_lab = temp_lab / np.sum(temp_lab)\n",
        "        lab_.append(temp_lab)\n",
        "\n",
        "    feat_ = np.array(feat_)\n",
        "    lab_ = np.array(lab_)\n",
        "    return (feat_, lab_)"
      ],
      "metadata": {
        "id": "vg7Qy2HKoszJ"
      },
      "execution_count": 11,
      "outputs": []
    },
    {
      "cell_type": "code",
      "source": [
        "def getEventWindows(features, labels):\n",
        "    feat_ = []\n",
        "    lab_ = []\n",
        "\n",
        "    for (idx, label) in enumerate(labels):\n",
        "        if np.sum(label) > 0:\n",
        "            start = idx - 5\n",
        "            end = idx + 5\n",
        "            temp_feat = []\n",
        "            if start < 0:\n",
        "                arr = [np.array(features[f]) for f in range(0, 11)]\n",
        "                assert(len(arr) == 11)\n",
        "            elif end > len(labels)-1:\n",
        "                arr = [np.array(features[f]) for f in range(len(labels)-11, len(labels))]\n",
        "                assert(len(arr) == 11)\n",
        "            else:\n",
        "                arr = [np.array(features[f]) for f in range(start, end+1)]\n",
        "                assert(len(arr) == 11)\n",
        "            temp_feat.extend(arr)\n",
        "            # if end+1 - start < max_window: \n",
        "            #     temp_feat.extend(np.array([0] * features.shape[-1]) for _ in range(max_window - (end+1 - start)))\n",
        "            temp_feat = np.asarray(temp_feat)\n",
        "            feat_.append(np.array(temp_feat))\n",
        "\n",
        "            # temp_lab = contextLabel(labels[start : end+1])\n",
        "            # if np.sum(temp_lab) > 1:\n",
        "            #     temp_lab = temp_lab / np.sum(temp_lab)\n",
        "            lab_.append(label)\n",
        "\n",
        "    feat_ = np.array(feat_)\n",
        "    lab_ = np.array(lab_)\n",
        "    return (feat_, lab_)"
      ],
      "metadata": {
        "id": "nVbizmFbB1N7"
      },
      "execution_count": 4,
      "outputs": []
    },
    {
      "cell_type": "code",
      "source": [
        "from pyparsing import actions\n",
        "# import\n",
        "from tensorflow.keras.layers import (\n",
        "\tDense,\n",
        "    Flatten,\n",
        "    Dropout,\n",
        "    LSTM,\n",
        "    GRU,\n",
        "    Bidirectional\n",
        ")\n",
        "from tensorflow.keras.models import Model, Sequential\n",
        "from tensorflow.keras import Input\n",
        "\n",
        "class ActionClassifier:\n",
        "\n",
        "    @staticmethod\n",
        "    def build(timesteps=15, dim=8576, classes=17):\n",
        "        model = Sequential()\n",
        "        model.add(Bidirectional(GRU(128, return_sequences=True),\n",
        "                                input_shape=(timesteps, dim),\n",
        "                                merge_mode='sum'))\n",
        "        model.add(Dropout(0.3))\n",
        "        model.add(Bidirectional(GRU(128), merge_mode='sum'))\n",
        "        model.add(Dropout(0.2))\n",
        "        model.add(Flatten())\n",
        "\n",
        "        # model.add(Dense(64, activation=\"relu\"))\n",
        "        # model.add(Dense(64, activation=\"relu\"))\n",
        "        # model.add(Dropout(0.3))\n",
        "\n",
        "        # Add a Dense layer.\n",
        "        model.add(Dense(classes, activation=\"softmax\"))\n",
        "\n",
        "        return model"
      ],
      "metadata": {
        "id": "Kxvlf2d0w0-m"
      },
      "execution_count": 8,
      "outputs": []
    },
    {
      "cell_type": "code",
      "source": [
        "METRICS = [\n",
        "            keras.metrics.CategoricalAccuracy(),\n",
        "            keras.metrics.TruePositives(name='tp'),\n",
        "            keras.metrics.FalsePositives(name='fp'),\n",
        "            keras.metrics.TrueNegatives(name='tn'),\n",
        "            keras.metrics.FalseNegatives(name='fn'), \n",
        "            keras.metrics.BinaryAccuracy(name='accuracy'),\n",
        "            keras.metrics.Precision(name='precision'),\n",
        "            keras.metrics.Recall(name='recall'),\n",
        "            keras.metrics.AUC(name='auc'),\n",
        "            keras.metrics.AUC(name='prc', curve='PR'), # precision-recall curve\n",
        "]"
      ],
      "metadata": {
        "id": "4bBRCTVQ4P28"
      },
      "execution_count": 16,
      "outputs": []
    },
    {
      "cell_type": "code",
      "source": [
        "from tensorflow.keras.optimizers import Adam\n",
        "from tensorflow.keras.losses import CategoricalCrossentropy, BinaryCrossentropy\n",
        "\n",
        "opt = Adam(learning_rate=1e-4)\n",
        "loss = CategoricalCrossentropy()\n",
        "rnn_model = ActionClassifier.build(timesteps=11, classes=8)\n",
        "rnn_model.compile(loss=loss, optimizer=opt,\n",
        "    metrics=METRICS, run_eagerly=True)"
      ],
      "metadata": {
        "id": "nfW57z_zAobl"
      },
      "execution_count": 17,
      "outputs": []
    },
    {
      "cell_type": "code",
      "source": [
        "rnn_model.summary()"
      ],
      "metadata": {
        "colab": {
          "base_uri": "https://localhost:8080/"
        },
        "id": "bShC4Kp2JAfu",
        "outputId": "00a3bf15-0b56-4ec7-95bd-be84ad463780"
      },
      "execution_count": 18,
      "outputs": [
        {
          "output_type": "stream",
          "name": "stdout",
          "text": [
            "Model: \"sequential_1\"\n",
            "_________________________________________________________________\n",
            " Layer (type)                Output Shape              Param #   \n",
            "=================================================================\n",
            " bidirectional_2 (Bidirectio  (None, 11, 128)          6686208   \n",
            " nal)                                                            \n",
            "                                                                 \n",
            " dropout_2 (Dropout)         (None, 11, 128)           0         \n",
            "                                                                 \n",
            " bidirectional_3 (Bidirectio  (None, 128)              198144    \n",
            " nal)                                                            \n",
            "                                                                 \n",
            " dropout_3 (Dropout)         (None, 128)               0         \n",
            "                                                                 \n",
            " flatten_1 (Flatten)         (None, 128)               0         \n",
            "                                                                 \n",
            " dense_1 (Dense)             (None, 8)                 1032      \n",
            "                                                                 \n",
            "=================================================================\n",
            "Total params: 6,885,384\n",
            "Trainable params: 6,885,384\n",
            "Non-trainable params: 0\n",
            "_________________________________________________________________\n"
          ]
        }
      ]
    },
    {
      "cell_type": "code",
      "source": [
        "def getClassWeights(labels):\n",
        "    n_samples = len(labels)\n",
        "    n_classes = len(labels[0])\n",
        "\n",
        "    # Count each class frequency\n",
        "    class_count = [0] * n_classes\n",
        "    for classes in labels:\n",
        "        for index in range(n_classes):\n",
        "            if classes[index] != 0:\n",
        "                class_count[index] += 1\n",
        "\n",
        "    # Compute class weights using balanced method\n",
        "    class_weights = [n_samples / (n_classes * freq) if freq > 0 else 1 for freq in class_count]\n",
        "    class_labels = range(len(class_weights))\n",
        "    return dict(zip(class_labels, class_weights))"
      ],
      "metadata": {
        "id": "4X7akeGM_MOp"
      },
      "execution_count": 7,
      "outputs": []
    },
    {
      "cell_type": "code",
      "source": [
        "# acc, loss = [], []\n",
        "\n",
        "batch = 25\n",
        "\n",
        "for j in range(5):\n",
        "\n",
        "    for idx in range(0, len(trainList), batch):\n",
        "        print(f\"[INFO] training on game: {idx+1}-{idx+batch}/400\")\n",
        "\n",
        "        features, labels = [], []\n",
        "\n",
        "        for fp in range(idx, idx+batch):\n",
        "            \n",
        "            filepath = \"labels/\" + trainList[fp] + \"/\"\n",
        "            # print(filepath)\n",
        "\n",
        "            [features_1, features_2, labels_1, labels_2] = getGameData(filepath, \n",
        "                                                            num_classes=8, \n",
        "                                                            event_mapping=GV.MOD_EVENT_DICTIONARY_V2)\n",
        "            if features_1 is None or features_2 is None:\n",
        "                continue\n",
        "        \n",
        "            # # features_1, _ = divideGame(features_1, labels_1)\n",
        "            # # features_2, _ = divideGame(features_2, labels_2)\n",
        "\n",
        "            # pred_1 = model.predict_on_batch(features_1)\n",
        "            # pred_2 = model.predict_on_batch(features_2)\n",
        "\n",
        "            # windows_1 = getWindows(pred_1)\n",
        "            # windows_2 = getWindows(pred_2)\n",
        "\n",
        "            # # features_1, labels_1 = divideGame(features_1, labels_1, binary=False)\n",
        "            # # features_2, labels_2 = divideGame(features_2, labels_2, binary=False)\n",
        "\n",
        "            # [features_1, labels_1] = segmentActions(windows_1, features_1, labels_1)\n",
        "            # [features_2, labels_2] = segmentActions(windows_2, features_2, labels_2)\n",
        "\n",
        "            # if features_1 is None or len(features_1.shape) != 3 or \\\n",
        "            #     features_2 is None or len(features_2.shape) != 3:\n",
        "            #     continue\n",
        "            \n",
        "            features_1, labels_1 = getEventWindows(features_1, labels_1)\n",
        "            features_2, labels_2 = getEventWindows(features_2, labels_2)\n",
        "\n",
        "            # print(features_1.shape, labels_1.shape)\n",
        "            # print(features_2.shape, labels_2.shape)\n",
        "\n",
        "            if len(features) != 0:\n",
        "                features = np.concatenate((features, features_1, features_2), axis=0)\n",
        "                labels = np.concatenate((labels, labels_1, labels_2), axis=0)\n",
        "            else:\n",
        "                features = np.concatenate((features_1, features_2), axis=0)\n",
        "                labels = np.concatenate((labels_1, labels_2), axis=0)\n",
        "\n",
        "        partition = int(len(features) * 0.8)\n",
        "\n",
        "        train_df = tensorflow.data.Dataset.from_tensor_slices((features[:partition], labels[:partition]))\n",
        "        train_df = train_df.cache().shuffle(200).batch(32).prefetch(tensorflow.data.experimental.AUTOTUNE)\n",
        "        val_df = tensorflow.data.Dataset.from_tensor_slices((features[partition:], labels[partition:]))\n",
        "        val_df = val_df.cache().shuffle(200).batch(32).prefetch(tensorflow.data.experimental.AUTOTUNE)\n",
        "\n",
        "        H = rnn_model.fit(train_df, \n",
        "                        epochs=5,\n",
        "                        validation_data=val_df,\n",
        "                        class_weight = getClassWeights(labels))\n",
        "        # acc.extend(H.history[\"accuracy\"])\n",
        "        # loss.extend(H.history[\"loss\"])\n"
      ],
      "metadata": {
        "colab": {
          "base_uri": "https://localhost:8080/"
        },
        "id": "5KHd_R_UJDvw",
        "outputId": "03719712-e4d5-4c0a-ad43-87844df54879"
      },
      "execution_count": 19,
      "outputs": [
        {
          "output_type": "stream",
          "name": "stdout",
          "text": [
            "[INFO] training on game: 1-25/400\n",
            "Epoch 1/5\n",
            "133/133 [==============================] - 14s 102ms/step - loss: 1.3472 - categorical_accuracy: 0.5666 - tp: 737.0000 - fp: 72.0000 - tn: 29597.0000 - fn: 3578.0000 - accuracy: 0.8926 - precision: 0.9110 - recall: 0.1708 - auc: 0.9064 - prc: 0.6437 - val_loss: 0.6604 - val_categorical_accuracy: 0.8183 - val_tp: 718.0000 - val_fp: 75.0000 - val_tn: 7343.0000 - val_fn: 360.0000 - val_accuracy: 0.9488 - val_precision: 0.9054 - val_recall: 0.6660 - val_auc: 0.9781 - val_prc: 0.8916\n",
            "Epoch 2/5\n",
            "133/133 [==============================] - 14s 102ms/step - loss: 0.9048 - categorical_accuracy: 0.7479 - tp: 2445.0000 - fp: 458.0000 - tn: 29211.0000 - fn: 1870.0000 - accuracy: 0.9315 - precision: 0.8422 - recall: 0.5666 - auc: 0.9624 - prc: 0.8054 - val_loss: 0.4784 - val_categorical_accuracy: 0.8625 - val_tp: 853.0000 - val_fp: 92.0000 - val_tn: 7326.0000 - val_fn: 225.0000 - val_accuracy: 0.9627 - val_precision: 0.9026 - val_recall: 0.7913 - val_auc: 0.9862 - val_prc: 0.9224\n",
            "Epoch 3/5\n",
            "133/133 [==============================] - 14s 103ms/step - loss: 0.7979 - categorical_accuracy: 0.7938 - tp: 2988.0000 - fp: 538.0000 - tn: 29131.0000 - fn: 1327.0000 - accuracy: 0.9451 - precision: 0.8474 - recall: 0.6925 - auc: 0.9726 - prc: 0.8569 - val_loss: 0.3975 - val_categorical_accuracy: 0.8804 - val_tp: 910.0000 - val_fp: 99.0000 - val_tn: 7319.0000 - val_fn: 168.0000 - val_accuracy: 0.9686 - val_precision: 0.9019 - val_recall: 0.8442 - val_auc: 0.9894 - val_prc: 0.9428\n",
            "Epoch 4/5\n",
            "133/133 [==============================] - 13s 102ms/step - loss: 0.7187 - categorical_accuracy: 0.8206 - tp: 3285.0000 - fp: 561.0000 - tn: 29108.0000 - fn: 1030.0000 - accuracy: 0.9532 - precision: 0.8541 - recall: 0.7613 - auc: 0.9778 - prc: 0.8830 - val_loss: 0.3910 - val_categorical_accuracy: 0.8729 - val_tp: 915.0000 - val_fp: 117.0000 - val_tn: 7301.0000 - val_fn: 163.0000 - val_accuracy: 0.9670 - val_precision: 0.8866 - val_recall: 0.8488 - val_auc: 0.9890 - val_prc: 0.9407\n",
            "Epoch 5/5\n",
            "133/133 [==============================] - 13s 101ms/step - loss: 0.7633 - categorical_accuracy: 0.8284 - tp: 3395.0000 - fp: 552.0000 - tn: 29117.0000 - fn: 920.0000 - accuracy: 0.9567 - precision: 0.8601 - recall: 0.7868 - auc: 0.9802 - prc: 0.8975 - val_loss: 0.4518 - val_categorical_accuracy: 0.8399 - val_tp: 880.0000 - val_fp: 152.0000 - val_tn: 7266.0000 - val_fn: 198.0000 - val_accuracy: 0.9588 - val_precision: 0.8527 - val_recall: 0.8163 - val_auc: 0.9850 - val_prc: 0.9243\n",
            "[INFO] training on game: 26-50/400\n",
            "Epoch 1/5\n",
            "132/132 [==============================] - 13s 101ms/step - loss: 0.8866 - categorical_accuracy: 0.8139 - tp: 3288.0000 - fp: 619.0000 - tn: 28769.0000 - fn: 988.0000 - accuracy: 0.9523 - precision: 0.8416 - recall: 0.7689 - auc: 0.9737 - prc: 0.8797 - val_loss: 0.4987 - val_categorical_accuracy: 0.8509 - val_tp: 871.0000 - val_fp: 129.0000 - val_tn: 7231.0000 - val_fn: 193.0000 - val_accuracy: 0.9618 - val_precision: 0.8710 - val_recall: 0.8186 - val_auc: 0.9801 - val_prc: 0.9100\n",
            "Epoch 2/5\n",
            "132/132 [==============================] - 13s 101ms/step - loss: 0.8582 - categorical_accuracy: 0.8484 - tp: 3488.0000 - fp: 524.0000 - tn: 28864.0000 - fn: 788.0000 - accuracy: 0.9610 - precision: 0.8694 - recall: 0.8157 - auc: 0.9794 - prc: 0.9053 - val_loss: 0.4123 - val_categorical_accuracy: 0.8765 - val_tp: 910.0000 - val_fp: 119.0000 - val_tn: 7241.0000 - val_fn: 154.0000 - val_accuracy: 0.9676 - val_precision: 0.8844 - val_recall: 0.8553 - val_auc: 0.9849 - val_prc: 0.9262\n",
            "Epoch 3/5\n",
            "132/132 [==============================] - 13s 101ms/step - loss: 0.7922 - categorical_accuracy: 0.8560 - tp: 3531.0000 - fp: 499.0000 - tn: 28889.0000 - fn: 745.0000 - accuracy: 0.9630 - precision: 0.8762 - recall: 0.8258 - auc: 0.9802 - prc: 0.9117 - val_loss: 0.4036 - val_categorical_accuracy: 0.8841 - val_tp: 918.0000 - val_fp: 109.0000 - val_tn: 7251.0000 - val_fn: 146.0000 - val_accuracy: 0.9697 - val_precision: 0.8939 - val_recall: 0.8628 - val_auc: 0.9864 - val_prc: 0.9326\n",
            "Epoch 4/5\n",
            "132/132 [==============================] - 13s 101ms/step - loss: 0.7573 - categorical_accuracy: 0.8617 - tp: 3568.0000 - fp: 496.0000 - tn: 28892.0000 - fn: 708.0000 - accuracy: 0.9642 - precision: 0.8780 - recall: 0.8344 - auc: 0.9831 - prc: 0.9250 - val_loss: 0.3926 - val_categorical_accuracy: 0.8813 - val_tp: 914.0000 - val_fp: 115.0000 - val_tn: 7245.0000 - val_fn: 150.0000 - val_accuracy: 0.9685 - val_precision: 0.8882 - val_recall: 0.8590 - val_auc: 0.9858 - val_prc: 0.9364\n",
            "Epoch 5/5\n",
            "132/132 [==============================] - 13s 100ms/step - loss: 0.8110 - categorical_accuracy: 0.8738 - tp: 3612.0000 - fp: 446.0000 - tn: 28942.0000 - fn: 664.0000 - accuracy: 0.9670 - precision: 0.8901 - recall: 0.8447 - auc: 0.9841 - prc: 0.9293 - val_loss: 0.3816 - val_categorical_accuracy: 0.8813 - val_tp: 920.0000 - val_fp: 109.0000 - val_tn: 7251.0000 - val_fn: 144.0000 - val_accuracy: 0.9700 - val_precision: 0.8941 - val_recall: 0.8647 - val_auc: 0.9869 - val_prc: 0.9433\n",
            "[INFO] training on game: 51-75/400\n",
            "Epoch 1/5\n",
            "131/131 [==============================] - 13s 100ms/step - loss: 1.0717 - categorical_accuracy: 0.7979 - tp: 3251.0000 - fp: 737.0000 - tn: 28408.0000 - fn: 980.0000 - accuracy: 0.9486 - precision: 0.8152 - recall: 0.7684 - auc: 0.9578 - prc: 0.8452 - val_loss: 0.5303 - val_categorical_accuracy: 0.8696 - val_tp: 894.0000 - val_fp: 117.0000 - val_tn: 7166.0000 - val_fn: 167.0000 - val_accuracy: 0.9660 - val_precision: 0.8843 - val_recall: 0.8426 - val_auc: 0.9775 - val_prc: 0.9217\n",
            "Epoch 2/5\n",
            "131/131 [==============================] - 13s 101ms/step - loss: 0.7572 - categorical_accuracy: 0.8435 - tp: 3474.0000 - fp: 546.0000 - tn: 28599.0000 - fn: 757.0000 - accuracy: 0.9610 - precision: 0.8642 - recall: 0.8211 - auc: 0.9745 - prc: 0.9025 - val_loss: 0.5048 - val_categorical_accuracy: 0.8706 - val_tp: 904.0000 - val_fp: 121.0000 - val_tn: 7162.0000 - val_fn: 157.0000 - val_accuracy: 0.9667 - val_precision: 0.8820 - val_recall: 0.8520 - val_auc: 0.9795 - val_prc: 0.9326\n",
            "Epoch 3/5\n",
            "131/131 [==============================] - 13s 101ms/step - loss: 0.7946 - categorical_accuracy: 0.8442 - tp: 3463.0000 - fp: 558.0000 - tn: 28587.0000 - fn: 768.0000 - accuracy: 0.9603 - precision: 0.8612 - recall: 0.8185 - auc: 0.9778 - prc: 0.9097 - val_loss: 0.4792 - val_categorical_accuracy: 0.8754 - val_tp: 912.0000 - val_fp: 112.0000 - val_tn: 7171.0000 - val_fn: 149.0000 - val_accuracy: 0.9687 - val_precision: 0.8906 - val_recall: 0.8596 - val_auc: 0.9807 - val_prc: 0.9368\n",
            "Epoch 4/5\n",
            "131/131 [==============================] - 13s 100ms/step - loss: 0.8173 - categorical_accuracy: 0.8514 - tp: 3519.0000 - fp: 536.0000 - tn: 28609.0000 - fn: 712.0000 - accuracy: 0.9626 - precision: 0.8678 - recall: 0.8317 - auc: 0.9797 - prc: 0.9172 - val_loss: 0.5302 - val_categorical_accuracy: 0.8667 - val_tp: 903.0000 - val_fp: 126.0000 - val_tn: 7157.0000 - val_fn: 158.0000 - val_accuracy: 0.9660 - val_precision: 0.8776 - val_recall: 0.8511 - val_auc: 0.9782 - val_prc: 0.9257\n",
            "Epoch 5/5\n",
            "131/131 [==============================] - 13s 100ms/step - loss: 0.8824 - categorical_accuracy: 0.8569 - tp: 3521.0000 - fp: 533.0000 - tn: 28612.0000 - fn: 710.0000 - accuracy: 0.9628 - precision: 0.8685 - recall: 0.8322 - auc: 0.9811 - prc: 0.9181 - val_loss: 0.4790 - val_categorical_accuracy: 0.8792 - val_tp: 917.0000 - val_fp: 107.0000 - val_tn: 7176.0000 - val_fn: 144.0000 - val_accuracy: 0.9699 - val_precision: 0.8955 - val_recall: 0.8643 - val_auc: 0.9811 - val_prc: 0.9363\n",
            "[INFO] training on game: 76-100/400\n",
            "Epoch 1/5\n",
            "140/140 [==============================] - 14s 103ms/step - loss: 0.6000 - categorical_accuracy: 0.8499 - tp: 3764.0000 - fp: 572.0000 - tn: 30561.0000 - fn: 767.0000 - accuracy: 0.9625 - precision: 0.8681 - recall: 0.8307 - auc: 0.9793 - prc: 0.9117 - val_loss: 0.4867 - val_categorical_accuracy: 0.8493 - val_tp: 941.0000 - val_fp: 154.0000 - val_tn: 7634.0000 - val_fn: 191.0000 - val_accuracy: 0.9613 - val_precision: 0.8594 - val_recall: 0.8313 - val_auc: 0.9812 - val_prc: 0.9222\n",
            "Epoch 2/5\n",
            "140/140 [==============================] - 14s 101ms/step - loss: 0.5633 - categorical_accuracy: 0.8594 - tp: 3810.0000 - fp: 552.0000 - tn: 30581.0000 - fn: 721.0000 - accuracy: 0.9643 - precision: 0.8735 - recall: 0.8409 - auc: 0.9828 - prc: 0.9237 - val_loss: 0.4714 - val_categorical_accuracy: 0.8493 - val_tp: 941.0000 - val_fp: 149.0000 - val_tn: 7639.0000 - val_fn: 191.0000 - val_accuracy: 0.9619 - val_precision: 0.8633 - val_recall: 0.8313 - val_auc: 0.9820 - val_prc: 0.9291\n",
            "Epoch 3/5\n",
            "140/140 [==============================] - 14s 101ms/step - loss: 0.5308 - categorical_accuracy: 0.8706 - tp: 3863.0000 - fp: 507.0000 - tn: 30626.0000 - fn: 668.0000 - accuracy: 0.9671 - precision: 0.8840 - recall: 0.8526 - auc: 0.9846 - prc: 0.9305 - val_loss: 0.4635 - val_categorical_accuracy: 0.8583 - val_tp: 951.0000 - val_fp: 138.0000 - val_tn: 7650.0000 - val_fn: 181.0000 - val_accuracy: 0.9642 - val_precision: 0.8733 - val_recall: 0.8401 - val_auc: 0.9826 - val_prc: 0.9303\n",
            "Epoch 4/5\n",
            "140/140 [==============================] - 14s 102ms/step - loss: 0.4613 - categorical_accuracy: 0.8762 - tp: 3896.0000 - fp: 484.0000 - tn: 30649.0000 - fn: 635.0000 - accuracy: 0.9686 - precision: 0.8895 - recall: 0.8599 - auc: 0.9867 - prc: 0.9384 - val_loss: 0.4232 - val_categorical_accuracy: 0.8762 - val_tp: 971.0000 - val_fp: 127.0000 - val_tn: 7661.0000 - val_fn: 161.0000 - val_accuracy: 0.9677 - val_precision: 0.8843 - val_recall: 0.8578 - val_auc: 0.9836 - val_prc: 0.9382\n",
            "Epoch 5/5\n",
            "140/140 [==============================] - 14s 101ms/step - loss: 0.5282 - categorical_accuracy: 0.8789 - tp: 3910.0000 - fp: 472.0000 - tn: 30661.0000 - fn: 621.0000 - accuracy: 0.9694 - precision: 0.8923 - recall: 0.8629 - auc: 0.9870 - prc: 0.9403 - val_loss: 0.4538 - val_categorical_accuracy: 0.8646 - val_tp: 959.0000 - val_fp: 138.0000 - val_tn: 7650.0000 - val_fn: 173.0000 - val_accuracy: 0.9651 - val_precision: 0.8742 - val_recall: 0.8472 - val_auc: 0.9807 - val_prc: 0.9302\n",
            "[INFO] training on game: 101-125/400\n",
            "Epoch 1/5\n",
            "133/133 [==============================] - 14s 102ms/step - loss: 0.8517 - categorical_accuracy: 0.8819 - tp: 3722.0000 - fp: 430.0000 - tn: 29081.0000 - fn: 575.0000 - accuracy: 0.9703 - precision: 0.8964 - recall: 0.8662 - auc: 0.9863 - prc: 0.9407 - val_loss: 0.3600 - val_categorical_accuracy: 0.8836 - val_tp: 936.0000 - val_fp: 107.0000 - val_tn: 7273.0000 - val_fn: 140.0000 - val_accuracy: 0.9708 - val_precision: 0.8974 - val_recall: 0.8699 - val_auc: 0.9901 - val_prc: 0.9482\n",
            "Epoch 2/5\n",
            "133/133 [==============================] - 14s 102ms/step - loss: 0.7824 - categorical_accuracy: 0.8800 - tp: 3716.0000 - fp: 451.0000 - tn: 29060.0000 - fn: 581.0000 - accuracy: 0.9695 - precision: 0.8918 - recall: 0.8648 - auc: 0.9879 - prc: 0.9434 - val_loss: 0.4221 - val_categorical_accuracy: 0.8666 - val_tp: 917.0000 - val_fp: 123.0000 - val_tn: 7257.0000 - val_fn: 159.0000 - val_accuracy: 0.9667 - val_precision: 0.8817 - val_recall: 0.8522 - val_auc: 0.9867 - val_prc: 0.9359\n",
            "Epoch 3/5\n",
            "133/133 [==============================] - 14s 102ms/step - loss: 0.7415 - categorical_accuracy: 0.8911 - tp: 3766.0000 - fp: 408.0000 - tn: 29103.0000 - fn: 531.0000 - accuracy: 0.9722 - precision: 0.9023 - recall: 0.8764 - auc: 0.9886 - prc: 0.9505 - val_loss: 0.3687 - val_categorical_accuracy: 0.8789 - val_tp: 936.0000 - val_fp: 111.0000 - val_tn: 7269.0000 - val_fn: 140.0000 - val_accuracy: 0.9703 - val_precision: 0.8940 - val_recall: 0.8699 - val_auc: 0.9896 - val_prc: 0.9480\n",
            "Epoch 4/5\n",
            "133/133 [==============================] - 13s 101ms/step - loss: 0.7482 - categorical_accuracy: 0.8930 - tp: 3780.0000 - fp: 397.0000 - tn: 29114.0000 - fn: 517.0000 - accuracy: 0.9730 - precision: 0.9050 - recall: 0.8797 - auc: 0.9899 - prc: 0.9536 - val_loss: 0.4312 - val_categorical_accuracy: 0.8751 - val_tp: 923.0000 - val_fp: 118.0000 - val_tn: 7262.0000 - val_fn: 153.0000 - val_accuracy: 0.9680 - val_precision: 0.8866 - val_recall: 0.8578 - val_auc: 0.9856 - val_prc: 0.9326\n",
            "Epoch 5/5\n",
            "133/133 [==============================] - 13s 101ms/step - loss: 0.7625 - categorical_accuracy: 0.8942 - tp: 3776.0000 - fp: 394.0000 - tn: 29117.0000 - fn: 521.0000 - accuracy: 0.9729 - precision: 0.9055 - recall: 0.8788 - auc: 0.9900 - prc: 0.9555 - val_loss: 0.4059 - val_categorical_accuracy: 0.8770 - val_tp: 932.0000 - val_fp: 118.0000 - val_tn: 7262.0000 - val_fn: 144.0000 - val_accuracy: 0.9690 - val_precision: 0.8876 - val_recall: 0.8662 - val_auc: 0.9880 - val_prc: 0.9403\n",
            "[INFO] training on game: 126-150/400\n",
            "Epoch 1/5\n",
            "125/125 [==============================] - 13s 103ms/step - loss: 0.3180 - categorical_accuracy: 0.8948 - tp: 3564.0000 - fp: 391.0000 - tn: 27503.0000 - fn: 470.0000 - accuracy: 0.9730 - precision: 0.9011 - recall: 0.8835 - auc: 0.9896 - prc: 0.9518 - val_loss: 0.3157 - val_categorical_accuracy: 0.9068 - val_tp: 903.0000 - val_fp: 85.0000 - val_tn: 6885.0000 - val_fn: 111.0000 - val_accuracy: 0.9755 - val_precision: 0.9140 - val_recall: 0.8905 - val_auc: 0.9908 - val_prc: 0.9599\n",
            "Epoch 2/5\n",
            "125/125 [==============================] - 13s 103ms/step - loss: 0.4030 - categorical_accuracy: 0.9048 - tp: 3602.0000 - fp: 351.0000 - tn: 27543.0000 - fn: 432.0000 - accuracy: 0.9755 - precision: 0.9112 - recall: 0.8929 - auc: 0.9921 - prc: 0.9614 - val_loss: 0.2792 - val_categorical_accuracy: 0.9128 - val_tp: 911.0000 - val_fp: 77.0000 - val_tn: 6893.0000 - val_fn: 103.0000 - val_accuracy: 0.9775 - val_precision: 0.9221 - val_recall: 0.8984 - val_auc: 0.9935 - val_prc: 0.9692\n",
            "Epoch 3/5\n",
            "125/125 [==============================] - 13s 101ms/step - loss: 0.2941 - categorical_accuracy: 0.9050 - tp: 3607.0000 - fp: 351.0000 - tn: 27543.0000 - fn: 427.0000 - accuracy: 0.9756 - precision: 0.9113 - recall: 0.8941 - auc: 0.9920 - prc: 0.9629 - val_loss: 0.2616 - val_categorical_accuracy: 0.9259 - val_tp: 926.0000 - val_fp: 66.0000 - val_tn: 6904.0000 - val_fn: 88.0000 - val_accuracy: 0.9807 - val_precision: 0.9335 - val_recall: 0.9132 - val_auc: 0.9937 - val_prc: 0.9726\n",
            "Epoch 4/5\n",
            "125/125 [==============================] - 13s 101ms/step - loss: 0.2773 - categorical_accuracy: 0.9103 - tp: 3631.0000 - fp: 333.0000 - tn: 27561.0000 - fn: 403.0000 - accuracy: 0.9769 - precision: 0.9160 - recall: 0.9001 - auc: 0.9921 - prc: 0.9639 - val_loss: 0.2761 - val_categorical_accuracy: 0.9158 - val_tp: 919.0000 - val_fp: 71.0000 - val_tn: 6899.0000 - val_fn: 95.0000 - val_accuracy: 0.9792 - val_precision: 0.9283 - val_recall: 0.9063 - val_auc: 0.9929 - val_prc: 0.9691\n",
            "Epoch 5/5\n",
            "125/125 [==============================] - 13s 102ms/step - loss: 0.2996 - categorical_accuracy: 0.9156 - tp: 3645.0000 - fp: 315.0000 - tn: 27579.0000 - fn: 389.0000 - accuracy: 0.9780 - precision: 0.9205 - recall: 0.9036 - auc: 0.9927 - prc: 0.9666 - val_loss: 0.2997 - val_categorical_accuracy: 0.9048 - val_tp: 906.0000 - val_fp: 87.0000 - val_tn: 6883.0000 - val_fn: 108.0000 - val_accuracy: 0.9756 - val_precision: 0.9124 - val_recall: 0.8935 - val_auc: 0.9924 - val_prc: 0.9662\n",
            "[INFO] training on game: 151-175/400\n",
            "Epoch 1/5\n",
            "144/144 [==============================] - 15s 102ms/step - loss: 1.6596 - categorical_accuracy: 0.9085 - tp: 4172.0000 - fp: 386.0000 - tn: 31668.0000 - fn: 478.0000 - accuracy: 0.9765 - precision: 0.9153 - recall: 0.8972 - auc: 0.9884 - prc: 0.9551 - val_loss: 0.2492 - val_categorical_accuracy: 0.9190 - val_tp: 1065.0000 - val_fp: 79.0000 - val_tn: 7943.0000 - val_fn: 97.0000 - val_accuracy: 0.9808 - val_precision: 0.9309 - val_recall: 0.9165 - val_auc: 0.9926 - val_prc: 0.9690\n",
            "Epoch 2/5\n",
            "144/144 [==============================] - 15s 101ms/step - loss: 2.0064 - categorical_accuracy: 0.9115 - tp: 4187.0000 - fp: 372.0000 - tn: 31682.0000 - fn: 463.0000 - accuracy: 0.9773 - precision: 0.9184 - recall: 0.9004 - auc: 0.9919 - prc: 0.9657 - val_loss: 0.2546 - val_categorical_accuracy: 0.9207 - val_tp: 1064.0000 - val_fp: 76.0000 - val_tn: 7946.0000 - val_fn: 98.0000 - val_accuracy: 0.9811 - val_precision: 0.9333 - val_recall: 0.9157 - val_auc: 0.9924 - val_prc: 0.9711\n",
            "Epoch 3/5\n",
            "144/144 [==============================] - 14s 100ms/step - loss: 1.4703 - categorical_accuracy: 0.9176 - tp: 4206.0000 - fp: 340.0000 - tn: 31714.0000 - fn: 444.0000 - accuracy: 0.9786 - precision: 0.9252 - recall: 0.9045 - auc: 0.9924 - prc: 0.9674 - val_loss: 0.2381 - val_categorical_accuracy: 0.9251 - val_tp: 1067.0000 - val_fp: 77.0000 - val_tn: 7945.0000 - val_fn: 95.0000 - val_accuracy: 0.9813 - val_precision: 0.9327 - val_recall: 0.9182 - val_auc: 0.9933 - val_prc: 0.9750\n",
            "Epoch 4/5\n",
            "144/144 [==============================] - 15s 101ms/step - loss: 1.5206 - categorical_accuracy: 0.9231 - tp: 4244.0000 - fp: 319.0000 - tn: 31735.0000 - fn: 406.0000 - accuracy: 0.9802 - precision: 0.9301 - recall: 0.9127 - auc: 0.9928 - prc: 0.9697 - val_loss: 0.2257 - val_categorical_accuracy: 0.9294 - val_tp: 1074.0000 - val_fp: 70.0000 - val_tn: 7952.0000 - val_fn: 88.0000 - val_accuracy: 0.9828 - val_precision: 0.9388 - val_recall: 0.9243 - val_auc: 0.9934 - val_prc: 0.9745\n",
            "Epoch 5/5\n",
            "144/144 [==============================] - 14s 100ms/step - loss: 1.6575 - categorical_accuracy: 0.9235 - tp: 4246.0000 - fp: 317.0000 - tn: 31737.0000 - fn: 404.0000 - accuracy: 0.9804 - precision: 0.9305 - recall: 0.9131 - auc: 0.9936 - prc: 0.9737 - val_loss: 0.2218 - val_categorical_accuracy: 0.9312 - val_tp: 1075.0000 - val_fp: 67.0000 - val_tn: 7955.0000 - val_fn: 87.0000 - val_accuracy: 0.9832 - val_precision: 0.9413 - val_recall: 0.9251 - val_auc: 0.9941 - val_prc: 0.9772\n",
            "[INFO] training on game: 176-200/400\n",
            "Epoch 1/5\n",
            "144/144 [==============================] - 15s 102ms/step - loss: 1.8007 - categorical_accuracy: 0.8121 - tp: 3717.0000 - fp: 800.0000 - tn: 31288.0000 - fn: 947.0000 - accuracy: 0.9525 - precision: 0.8229 - recall: 0.7970 - auc: 0.9570 - prc: 0.8730 - val_loss: 1.6197 - val_categorical_accuracy: 0.5866 - val_tp: 649.0000 - val_fp: 400.0000 - val_tn: 7621.0000 - val_fn: 522.0000 - val_accuracy: 0.8997 - val_precision: 0.6187 - val_recall: 0.5542 - val_auc: 0.9090 - val_prc: 0.6466\n",
            "Epoch 2/5\n",
            "144/144 [==============================] - 14s 100ms/step - loss: 1.4186 - categorical_accuracy: 0.7638 - tp: 3264.0000 - fp: 778.0000 - tn: 31310.0000 - fn: 1400.0000 - accuracy: 0.9407 - precision: 0.8075 - recall: 0.6998 - auc: 0.9463 - prc: 0.7842 - val_loss: 0.6678 - val_categorical_accuracy: 0.8372 - val_tp: 940.0000 - val_fp: 132.0000 - val_tn: 7889.0000 - val_fn: 231.0000 - val_accuracy: 0.9605 - val_precision: 0.8769 - val_recall: 0.8027 - val_auc: 0.9665 - val_prc: 0.8712\n",
            "Epoch 3/5\n",
            "144/144 [==============================] - 15s 102ms/step - loss: 0.7796 - categorical_accuracy: 0.8552 - tp: 3815.0000 - fp: 515.0000 - tn: 31573.0000 - fn: 849.0000 - accuracy: 0.9629 - precision: 0.8811 - recall: 0.8180 - auc: 0.9737 - prc: 0.8899 - val_loss: 0.6679 - val_categorical_accuracy: 0.8555 - val_tp: 973.0000 - val_fp: 142.0000 - val_tn: 7879.0000 - val_fn: 198.0000 - val_accuracy: 0.9630 - val_precision: 0.8726 - val_recall: 0.8309 - val_auc: 0.9696 - val_prc: 0.8923\n",
            "Epoch 4/5\n",
            "144/144 [==============================] - 14s 100ms/step - loss: 0.6149 - categorical_accuracy: 0.8594 - tp: 3905.0000 - fp: 543.0000 - tn: 31545.0000 - fn: 759.0000 - accuracy: 0.9646 - precision: 0.8779 - recall: 0.8373 - auc: 0.9797 - prc: 0.9128 - val_loss: 0.7038 - val_categorical_accuracy: 0.8451 - val_tp: 965.0000 - val_fp: 163.0000 - val_tn: 7858.0000 - val_fn: 206.0000 - val_accuracy: 0.9599 - val_precision: 0.8555 - val_recall: 0.8241 - val_auc: 0.9698 - val_prc: 0.8919\n",
            "Epoch 5/5\n",
            "144/144 [==============================] - 15s 101ms/step - loss: 0.6497 - categorical_accuracy: 0.8703 - tp: 3976.0000 - fp: 515.0000 - tn: 31573.0000 - fn: 688.0000 - accuracy: 0.9673 - precision: 0.8853 - recall: 0.8525 - auc: 0.9814 - prc: 0.9209 - val_loss: 0.6676 - val_categorical_accuracy: 0.8494 - val_tp: 970.0000 - val_fp: 156.0000 - val_tn: 7865.0000 - val_fn: 201.0000 - val_accuracy: 0.9612 - val_precision: 0.8615 - val_recall: 0.8284 - val_auc: 0.9723 - val_prc: 0.8946\n",
            "[INFO] training on game: 201-225/400\n",
            "Epoch 1/5\n",
            "146/146 [==============================] - 15s 102ms/step - loss: 0.3814 - categorical_accuracy: 0.8887 - tp: 4126.0000 - fp: 462.0000 - tn: 32049.0000 - fn: 579.0000 - accuracy: 0.9720 - precision: 0.8993 - recall: 0.8769 - auc: 0.9874 - prc: 0.9467 - val_loss: 0.3792 - val_categorical_accuracy: 0.8918 - val_tp: 1036.0000 - val_fp: 110.0000 - val_tn: 8020.0000 - val_fn: 146.0000 - val_accuracy: 0.9725 - val_precision: 0.9040 - val_recall: 0.8765 - val_auc: 0.9867 - val_prc: 0.9466\n",
            "Epoch 2/5\n",
            "146/146 [==============================] - 15s 102ms/step - loss: 0.3860 - categorical_accuracy: 0.9046 - tp: 4197.0000 - fp: 405.0000 - tn: 32106.0000 - fn: 508.0000 - accuracy: 0.9755 - precision: 0.9120 - recall: 0.8920 - auc: 0.9885 - prc: 0.9551 - val_loss: 0.3774 - val_categorical_accuracy: 0.8875 - val_tp: 1038.0000 - val_fp: 109.0000 - val_tn: 8021.0000 - val_fn: 144.0000 - val_accuracy: 0.9728 - val_precision: 0.9050 - val_recall: 0.8782 - val_auc: 0.9864 - val_prc: 0.9491\n",
            "Epoch 3/5\n",
            "146/146 [==============================] - 15s 102ms/step - loss: 0.3315 - categorical_accuracy: 0.9033 - tp: 4202.0000 - fp: 403.0000 - tn: 32108.0000 - fn: 503.0000 - accuracy: 0.9757 - precision: 0.9125 - recall: 0.8931 - auc: 0.9900 - prc: 0.9586 - val_loss: 0.3700 - val_categorical_accuracy: 0.8926 - val_tp: 1040.0000 - val_fp: 109.0000 - val_tn: 8021.0000 - val_fn: 142.0000 - val_accuracy: 0.9730 - val_precision: 0.9051 - val_recall: 0.8799 - val_auc: 0.9871 - val_prc: 0.9496\n",
            "Epoch 4/5\n",
            "146/146 [==============================] - 15s 102ms/step - loss: 0.4569 - categorical_accuracy: 0.9061 - tp: 4222.0000 - fp: 394.0000 - tn: 32117.0000 - fn: 483.0000 - accuracy: 0.9764 - precision: 0.9146 - recall: 0.8973 - auc: 0.9904 - prc: 0.9622 - val_loss: 0.3818 - val_categorical_accuracy: 0.8926 - val_tp: 1039.0000 - val_fp: 112.0000 - val_tn: 8018.0000 - val_fn: 143.0000 - val_accuracy: 0.9726 - val_precision: 0.9027 - val_recall: 0.8790 - val_auc: 0.9862 - val_prc: 0.9479\n",
            "Epoch 5/5\n",
            "146/146 [==============================] - 15s 103ms/step - loss: 0.3899 - categorical_accuracy: 0.9110 - tp: 4241.0000 - fp: 371.0000 - tn: 32140.0000 - fn: 464.0000 - accuracy: 0.9776 - precision: 0.9196 - recall: 0.9014 - auc: 0.9906 - prc: 0.9628 - val_loss: 0.3728 - val_categorical_accuracy: 0.8978 - val_tp: 1048.0000 - val_fp: 109.0000 - val_tn: 8021.0000 - val_fn: 134.0000 - val_accuracy: 0.9739 - val_precision: 0.9058 - val_recall: 0.8866 - val_auc: 0.9867 - val_prc: 0.9504\n",
            "[INFO] training on game: 226-250/400\n",
            "Epoch 1/5\n",
            "142/142 [==============================] - 15s 102ms/step - loss: 0.4533 - categorical_accuracy: 0.8941 - tp: 4052.0000 - fp: 420.0000 - tn: 31224.0000 - fn: 568.0000 - accuracy: 0.9728 - precision: 0.9061 - recall: 0.8771 - auc: 0.9882 - prc: 0.9509 - val_loss: 0.3296 - val_categorical_accuracy: 0.9012 - val_tp: 1020.0000 - val_fp: 105.0000 - val_tn: 7816.0000 - val_fn: 131.0000 - val_accuracy: 0.9740 - val_precision: 0.9067 - val_recall: 0.8862 - val_auc: 0.9919 - val_prc: 0.9630\n",
            "Epoch 2/5\n",
            "142/142 [==============================] - 14s 101ms/step - loss: 0.4526 - categorical_accuracy: 0.8976 - tp: 4076.0000 - fp: 396.0000 - tn: 31248.0000 - fn: 544.0000 - accuracy: 0.9741 - precision: 0.9114 - recall: 0.8823 - auc: 0.9886 - prc: 0.9548 - val_loss: 0.3231 - val_categorical_accuracy: 0.9039 - val_tp: 1022.0000 - val_fp: 101.0000 - val_tn: 7820.0000 - val_fn: 129.0000 - val_accuracy: 0.9746 - val_precision: 0.9101 - val_recall: 0.8879 - val_auc: 0.9922 - val_prc: 0.9649\n",
            "Epoch 3/5\n",
            "142/142 [==============================] - 14s 101ms/step - loss: 0.5223 - categorical_accuracy: 0.8994 - tp: 4070.0000 - fp: 410.0000 - tn: 31234.0000 - fn: 550.0000 - accuracy: 0.9735 - precision: 0.9085 - recall: 0.8810 - auc: 0.9886 - prc: 0.9533 - val_loss: 0.2994 - val_categorical_accuracy: 0.9012 - val_tp: 1022.0000 - val_fp: 100.0000 - val_tn: 7821.0000 - val_fn: 129.0000 - val_accuracy: 0.9748 - val_precision: 0.9109 - val_recall: 0.8879 - val_auc: 0.9933 - val_prc: 0.9689\n",
            "Epoch 4/5\n",
            "142/142 [==============================] - 14s 101ms/step - loss: 0.4918 - categorical_accuracy: 0.9005 - tp: 4087.0000 - fp: 398.0000 - tn: 31246.0000 - fn: 533.0000 - accuracy: 0.9743 - precision: 0.9113 - recall: 0.8846 - auc: 0.9897 - prc: 0.9579 - val_loss: 0.3585 - val_categorical_accuracy: 0.8898 - val_tp: 1011.0000 - val_fp: 116.0000 - val_tn: 7805.0000 - val_fn: 140.0000 - val_accuracy: 0.9718 - val_precision: 0.8971 - val_recall: 0.8784 - val_auc: 0.9904 - val_prc: 0.9604\n",
            "Epoch 5/5\n",
            "142/142 [==============================] - 14s 102ms/step - loss: 0.3986 - categorical_accuracy: 0.8974 - tp: 4074.0000 - fp: 416.0000 - tn: 31228.0000 - fn: 546.0000 - accuracy: 0.9735 - precision: 0.9073 - recall: 0.8818 - auc: 0.9880 - prc: 0.9542 - val_loss: 0.3121 - val_categorical_accuracy: 0.9004 - val_tp: 1021.0000 - val_fp: 103.0000 - val_tn: 7818.0000 - val_fn: 130.0000 - val_accuracy: 0.9743 - val_precision: 0.9084 - val_recall: 0.8871 - val_auc: 0.9922 - val_prc: 0.9683\n",
            "[INFO] training on game: 251-275/400\n",
            "Epoch 1/5\n",
            "133/133 [==============================] - 13s 101ms/step - loss: 0.5456 - categorical_accuracy: 0.8882 - tp: 3784.0000 - fp: 431.0000 - tn: 29235.0000 - fn: 542.0000 - accuracy: 0.9714 - precision: 0.8977 - recall: 0.8747 - auc: 0.9868 - prc: 0.9503 - val_loss: 0.2913 - val_categorical_accuracy: 0.9163 - val_tp: 974.0000 - val_fp: 83.0000 - val_tn: 7344.0000 - val_fn: 103.0000 - val_accuracy: 0.9781 - val_precision: 0.9215 - val_recall: 0.9044 - val_auc: 0.9900 - val_prc: 0.9602\n",
            "Epoch 2/5\n",
            "133/133 [==============================] - 13s 101ms/step - loss: 0.4885 - categorical_accuracy: 0.8986 - tp: 3831.0000 - fp: 379.0000 - tn: 29287.0000 - fn: 495.0000 - accuracy: 0.9743 - precision: 0.9100 - recall: 0.8856 - auc: 0.9891 - prc: 0.9550 - val_loss: 0.3188 - val_categorical_accuracy: 0.9153 - val_tp: 971.0000 - val_fp: 88.0000 - val_tn: 7339.0000 - val_fn: 106.0000 - val_accuracy: 0.9772 - val_precision: 0.9169 - val_recall: 0.9016 - val_auc: 0.9891 - val_prc: 0.9586\n",
            "Epoch 3/5\n",
            "133/133 [==============================] - 13s 101ms/step - loss: 0.4915 - categorical_accuracy: 0.8983 - tp: 3835.0000 - fp: 389.0000 - tn: 29277.0000 - fn: 491.0000 - accuracy: 0.9741 - precision: 0.9079 - recall: 0.8865 - auc: 0.9887 - prc: 0.9558 - val_loss: 0.2975 - val_categorical_accuracy: 0.9229 - val_tp: 981.0000 - val_fp: 79.0000 - val_tn: 7348.0000 - val_fn: 96.0000 - val_accuracy: 0.9794 - val_precision: 0.9255 - val_recall: 0.9109 - val_auc: 0.9895 - val_prc: 0.9606\n",
            "Epoch 4/5\n",
            "133/133 [==============================] - 13s 101ms/step - loss: 0.4523 - categorical_accuracy: 0.8976 - tp: 3820.0000 - fp: 392.0000 - tn: 29274.0000 - fn: 506.0000 - accuracy: 0.9736 - precision: 0.9069 - recall: 0.8830 - auc: 0.9885 - prc: 0.9558 - val_loss: 0.2995 - val_categorical_accuracy: 0.9210 - val_tp: 979.0000 - val_fp: 81.0000 - val_tn: 7346.0000 - val_fn: 98.0000 - val_accuracy: 0.9790 - val_precision: 0.9236 - val_recall: 0.9090 - val_auc: 0.9900 - val_prc: 0.9616\n",
            "Epoch 5/5\n",
            "133/133 [==============================] - 13s 101ms/step - loss: 0.3867 - categorical_accuracy: 0.8950 - tp: 3816.0000 - fp: 402.0000 - tn: 29264.0000 - fn: 510.0000 - accuracy: 0.9732 - precision: 0.9047 - recall: 0.8821 - auc: 0.9887 - prc: 0.9569 - val_loss: 0.2851 - val_categorical_accuracy: 0.9229 - val_tp: 981.0000 - val_fp: 79.0000 - val_tn: 7348.0000 - val_fn: 96.0000 - val_accuracy: 0.9794 - val_precision: 0.9255 - val_recall: 0.9109 - val_auc: 0.9903 - val_prc: 0.9640\n",
            "[INFO] training on game: 276-300/400\n",
            "Epoch 1/5\n",
            "128/128 [==============================] - 13s 103ms/step - loss: 0.3996 - categorical_accuracy: 0.8909 - tp: 3647.0000 - fp: 402.0000 - tn: 28210.0000 - fn: 509.0000 - accuracy: 0.9722 - precision: 0.9007 - recall: 0.8775 - auc: 0.9873 - prc: 0.9519 - val_loss: 0.4247 - val_categorical_accuracy: 0.8712 - val_tp: 894.0000 - val_fp: 114.0000 - val_tn: 7052.0000 - val_fn: 140.0000 - val_accuracy: 0.9690 - val_precision: 0.8869 - val_recall: 0.8646 - val_auc: 0.9838 - val_prc: 0.9432\n",
            "Epoch 2/5\n",
            "128/128 [==============================] - 13s 102ms/step - loss: 0.3848 - categorical_accuracy: 0.8938 - tp: 3664.0000 - fp: 386.0000 - tn: 28226.0000 - fn: 492.0000 - accuracy: 0.9732 - precision: 0.9047 - recall: 0.8816 - auc: 0.9893 - prc: 0.9554 - val_loss: 0.3863 - val_categorical_accuracy: 0.8800 - val_tp: 902.0000 - val_fp: 110.0000 - val_tn: 7056.0000 - val_fn: 132.0000 - val_accuracy: 0.9705 - val_precision: 0.8913 - val_recall: 0.8723 - val_auc: 0.9865 - val_prc: 0.9495\n",
            "Epoch 3/5\n",
            "128/128 [==============================] - 13s 102ms/step - loss: 0.4062 - categorical_accuracy: 0.8975 - tp: 3679.0000 - fp: 365.0000 - tn: 28247.0000 - fn: 477.0000 - accuracy: 0.9743 - precision: 0.9097 - recall: 0.8852 - auc: 0.9895 - prc: 0.9542 - val_loss: 0.4298 - val_categorical_accuracy: 0.8712 - val_tp: 888.0000 - val_fp: 113.0000 - val_tn: 7053.0000 - val_fn: 146.0000 - val_accuracy: 0.9684 - val_precision: 0.8871 - val_recall: 0.8588 - val_auc: 0.9836 - val_prc: 0.9409\n",
            "Epoch 4/5\n",
            "128/128 [==============================] - 13s 102ms/step - loss: 0.3525 - categorical_accuracy: 0.9033 - tp: 3708.0000 - fp: 349.0000 - tn: 28263.0000 - fn: 448.0000 - accuracy: 0.9757 - precision: 0.9140 - recall: 0.8922 - auc: 0.9906 - prc: 0.9614 - val_loss: 0.4348 - val_categorical_accuracy: 0.8663 - val_tp: 886.0000 - val_fp: 119.0000 - val_tn: 7047.0000 - val_fn: 148.0000 - val_accuracy: 0.9674 - val_precision: 0.8816 - val_recall: 0.8569 - val_auc: 0.9827 - val_prc: 0.9396\n",
            "Epoch 5/5\n",
            "128/128 [==============================] - 13s 101ms/step - loss: 0.4251 - categorical_accuracy: 0.9006 - tp: 3694.0000 - fp: 361.0000 - tn: 28251.0000 - fn: 462.0000 - accuracy: 0.9749 - precision: 0.9110 - recall: 0.8888 - auc: 0.9898 - prc: 0.9595 - val_loss: 0.4163 - val_categorical_accuracy: 0.8712 - val_tp: 889.0000 - val_fp: 119.0000 - val_tn: 7047.0000 - val_fn: 145.0000 - val_accuracy: 0.9678 - val_precision: 0.8819 - val_recall: 0.8598 - val_auc: 0.9843 - val_prc: 0.9448\n",
            "[INFO] training on game: 301-325/400\n",
            "Epoch 1/5\n",
            "123/123 [==============================] - 12s 101ms/step - loss: 1.3162 - categorical_accuracy: 0.8217 - tp: 3221.0000 - fp: 622.0000 - tn: 26796.0000 - fn: 769.0000 - accuracy: 0.9557 - precision: 0.8381 - recall: 0.8073 - auc: 0.9657 - prc: 0.8782 - val_loss: 0.5898 - val_categorical_accuracy: 0.8381 - val_tp: 824.0000 - val_fp: 141.0000 - val_tn: 6708.0000 - val_fn: 183.0000 - val_accuracy: 0.9588 - val_precision: 0.8539 - val_recall: 0.8183 - val_auc: 0.9784 - val_prc: 0.9043\n",
            "Epoch 2/5\n",
            "123/123 [==============================] - 12s 101ms/step - loss: 1.4608 - categorical_accuracy: 0.8263 - tp: 3229.0000 - fp: 592.0000 - tn: 26826.0000 - fn: 761.0000 - accuracy: 0.9569 - precision: 0.8451 - recall: 0.8093 - auc: 0.9731 - prc: 0.8901 - val_loss: 0.6218 - val_categorical_accuracy: 0.8248 - val_tp: 809.0000 - val_fp: 164.0000 - val_tn: 6685.0000 - val_fn: 198.0000 - val_accuracy: 0.9539 - val_precision: 0.8314 - val_recall: 0.8034 - val_auc: 0.9747 - val_prc: 0.8932\n",
            "Epoch 3/5\n",
            "123/123 [==============================] - 12s 101ms/step - loss: 1.1282 - categorical_accuracy: 0.8533 - tp: 3333.0000 - fp: 514.0000 - tn: 26904.0000 - fn: 657.0000 - accuracy: 0.9627 - precision: 0.8664 - recall: 0.8353 - auc: 0.9778 - prc: 0.9113 - val_loss: 0.5971 - val_categorical_accuracy: 0.8411 - val_tp: 829.0000 - val_fp: 133.0000 - val_tn: 6716.0000 - val_fn: 178.0000 - val_accuracy: 0.9604 - val_precision: 0.8617 - val_recall: 0.8232 - val_auc: 0.9757 - val_prc: 0.9014\n",
            "Epoch 4/5\n",
            "123/123 [==============================] - 12s 101ms/step - loss: 1.1708 - categorical_accuracy: 0.8512 - tp: 3322.0000 - fp: 515.0000 - tn: 26903.0000 - fn: 668.0000 - accuracy: 0.9623 - precision: 0.8658 - recall: 0.8326 - auc: 0.9795 - prc: 0.9177 - val_loss: 0.6294 - val_categorical_accuracy: 0.8320 - val_tp: 815.0000 - val_fp: 153.0000 - val_tn: 6696.0000 - val_fn: 192.0000 - val_accuracy: 0.9561 - val_precision: 0.8419 - val_recall: 0.8093 - val_auc: 0.9727 - val_prc: 0.8941\n",
            "Epoch 5/5\n",
            "123/123 [==============================] - 12s 101ms/step - loss: 1.1688 - categorical_accuracy: 0.8637 - tp: 3356.0000 - fp: 472.0000 - tn: 26946.0000 - fn: 634.0000 - accuracy: 0.9648 - precision: 0.8767 - recall: 0.8411 - auc: 0.9789 - prc: 0.9152 - val_loss: 0.5759 - val_categorical_accuracy: 0.8391 - val_tp: 824.0000 - val_fp: 144.0000 - val_tn: 6705.0000 - val_fn: 183.0000 - val_accuracy: 0.9584 - val_precision: 0.8512 - val_recall: 0.8183 - val_auc: 0.9759 - val_prc: 0.9060\n",
            "[INFO] training on game: 326-350/400\n",
            "Epoch 1/5\n",
            "133/133 [==============================] - 14s 102ms/step - loss: 0.7105 - categorical_accuracy: 0.8362 - tp: 3529.0000 - fp: 609.0000 - tn: 29124.0000 - fn: 786.0000 - accuracy: 0.9590 - precision: 0.8528 - recall: 0.8178 - auc: 0.9761 - prc: 0.8941 - val_loss: 0.4039 - val_categorical_accuracy: 0.8507 - val_tp: 903.0000 - val_fp: 138.0000 - val_tn: 7306.0000 - val_fn: 173.0000 - val_accuracy: 0.9635 - val_precision: 0.8674 - val_recall: 0.8392 - val_auc: 0.9873 - val_prc: 0.9358\n",
            "Epoch 2/5\n",
            "133/133 [==============================] - 14s 102ms/step - loss: 0.5968 - categorical_accuracy: 0.8409 - tp: 3541.0000 - fp: 602.0000 - tn: 29131.0000 - fn: 774.0000 - accuracy: 0.9596 - precision: 0.8547 - recall: 0.8206 - auc: 0.9784 - prc: 0.9027 - val_loss: 0.4081 - val_categorical_accuracy: 0.8469 - val_tp: 898.0000 - val_fp: 144.0000 - val_tn: 7300.0000 - val_fn: 178.0000 - val_accuracy: 0.9622 - val_precision: 0.8618 - val_recall: 0.8346 - val_auc: 0.9868 - val_prc: 0.9320\n",
            "Epoch 3/5\n",
            "133/133 [==============================] - 13s 101ms/step - loss: 0.7062 - categorical_accuracy: 0.8449 - tp: 3555.0000 - fp: 577.0000 - tn: 29156.0000 - fn: 760.0000 - accuracy: 0.9607 - precision: 0.8604 - recall: 0.8239 - auc: 0.9792 - prc: 0.9049 - val_loss: 0.3821 - val_categorical_accuracy: 0.8657 - val_tp: 912.0000 - val_fp: 134.0000 - val_tn: 7310.0000 - val_fn: 164.0000 - val_accuracy: 0.9650 - val_precision: 0.8719 - val_recall: 0.8476 - val_auc: 0.9882 - val_prc: 0.9409\n",
            "Epoch 4/5\n",
            "133/133 [==============================] - 14s 102ms/step - loss: 0.6445 - categorical_accuracy: 0.8407 - tp: 3548.0000 - fp: 592.0000 - tn: 29141.0000 - fn: 767.0000 - accuracy: 0.9601 - precision: 0.8570 - recall: 0.8222 - auc: 0.9791 - prc: 0.9031 - val_loss: 0.4039 - val_categorical_accuracy: 0.8507 - val_tp: 901.0000 - val_fp: 144.0000 - val_tn: 7300.0000 - val_fn: 175.0000 - val_accuracy: 0.9626 - val_precision: 0.8622 - val_recall: 0.8374 - val_auc: 0.9866 - val_prc: 0.9339\n",
            "Epoch 5/5\n",
            "133/133 [==============================] - 14s 102ms/step - loss: 0.6613 - categorical_accuracy: 0.8447 - tp: 3557.0000 - fp: 584.0000 - tn: 29149.0000 - fn: 758.0000 - accuracy: 0.9606 - precision: 0.8590 - recall: 0.8243 - auc: 0.9803 - prc: 0.9082 - val_loss: 0.3801 - val_categorical_accuracy: 0.8610 - val_tp: 913.0000 - val_fp: 136.0000 - val_tn: 7308.0000 - val_fn: 163.0000 - val_accuracy: 0.9649 - val_precision: 0.8704 - val_recall: 0.8485 - val_auc: 0.9875 - val_prc: 0.9412\n",
            "[INFO] training on game: 351-375/400\n",
            "Epoch 1/5\n",
            "135/135 [==============================] - 14s 105ms/step - loss: 1.3105 - categorical_accuracy: 0.8411 - tp: 3599.0000 - fp: 583.0000 - tn: 29581.0000 - fn: 781.0000 - accuracy: 0.9605 - precision: 0.8606 - recall: 0.8217 - auc: 0.9778 - prc: 0.9066 - val_loss: 0.5449 - val_categorical_accuracy: 0.8194 - val_tp: 874.0000 - val_fp: 171.0000 - val_tn: 7376.0000 - val_fn: 219.0000 - val_accuracy: 0.9549 - val_precision: 0.8364 - val_recall: 0.7996 - val_auc: 0.9787 - val_prc: 0.8973\n",
            "Epoch 2/5\n",
            "135/135 [==============================] - 14s 104ms/step - loss: 1.1797 - categorical_accuracy: 0.8393 - tp: 3604.0000 - fp: 625.0000 - tn: 29539.0000 - fn: 776.0000 - accuracy: 0.9594 - precision: 0.8522 - recall: 0.8228 - auc: 0.9784 - prc: 0.9043 - val_loss: 0.5406 - val_categorical_accuracy: 0.8139 - val_tp: 865.0000 - val_fp: 178.0000 - val_tn: 7369.0000 - val_fn: 228.0000 - val_accuracy: 0.9530 - val_precision: 0.8293 - val_recall: 0.7914 - val_auc: 0.9797 - val_prc: 0.8984\n",
            "Epoch 3/5\n",
            "135/135 [==============================] - 14s 105ms/step - loss: 1.2697 - categorical_accuracy: 0.8458 - tp: 3632.0000 - fp: 594.0000 - tn: 29570.0000 - fn: 748.0000 - accuracy: 0.9612 - precision: 0.8594 - recall: 0.8292 - auc: 0.9790 - prc: 0.9128 - val_loss: 0.5805 - val_categorical_accuracy: 0.7963 - val_tp: 851.0000 - val_fp: 191.0000 - val_tn: 7356.0000 - val_fn: 242.0000 - val_accuracy: 0.9499 - val_precision: 0.8167 - val_recall: 0.7786 - val_auc: 0.9761 - val_prc: 0.8813\n",
            "Epoch 4/5\n",
            "135/135 [==============================] - 14s 104ms/step - loss: 1.2291 - categorical_accuracy: 0.8492 - tp: 3640.0000 - fp: 579.0000 - tn: 29585.0000 - fn: 740.0000 - accuracy: 0.9618 - precision: 0.8628 - recall: 0.8311 - auc: 0.9797 - prc: 0.9143 - val_loss: 0.5794 - val_categorical_accuracy: 0.7972 - val_tp: 849.0000 - val_fp: 194.0000 - val_tn: 7353.0000 - val_fn: 244.0000 - val_accuracy: 0.9493 - val_precision: 0.8140 - val_recall: 0.7768 - val_auc: 0.9761 - val_prc: 0.8810\n",
            "Epoch 5/5\n",
            "135/135 [==============================] - 14s 103ms/step - loss: 1.2990 - categorical_accuracy: 0.8511 - tp: 3650.0000 - fp: 569.0000 - tn: 29595.0000 - fn: 730.0000 - accuracy: 0.9624 - precision: 0.8651 - recall: 0.8333 - auc: 0.9807 - prc: 0.9187 - val_loss: 0.5138 - val_categorical_accuracy: 0.8306 - val_tp: 886.0000 - val_fp: 157.0000 - val_tn: 7390.0000 - val_fn: 207.0000 - val_accuracy: 0.9579 - val_precision: 0.8495 - val_recall: 0.8106 - val_auc: 0.9816 - val_prc: 0.9089\n",
            "[INFO] training on game: 376-400/400\n",
            "Epoch 1/5\n",
            "133/133 [==============================] - 14s 103ms/step - loss: 0.8391 - categorical_accuracy: 0.8014 - tp: 3366.0000 - fp: 718.0000 - tn: 28924.0000 - fn: 992.0000 - accuracy: 0.9497 - precision: 0.8242 - recall: 0.7724 - auc: 0.9666 - prc: 0.8641 - val_loss: 0.4723 - val_categorical_accuracy: 0.8730 - val_tp: 920.0000 - val_fp: 119.0000 - val_tn: 7315.0000 - val_fn: 150.0000 - val_accuracy: 0.9684 - val_precision: 0.8855 - val_recall: 0.8598 - val_auc: 0.9796 - val_prc: 0.9234\n",
            "Epoch 2/5\n",
            "133/133 [==============================] - 14s 102ms/step - loss: 0.8384 - categorical_accuracy: 0.8146 - tp: 3412.0000 - fp: 632.0000 - tn: 29010.0000 - fn: 946.0000 - accuracy: 0.9536 - precision: 0.8437 - recall: 0.7829 - auc: 0.9702 - prc: 0.8720 - val_loss: 0.4688 - val_categorical_accuracy: 0.8730 - val_tp: 922.0000 - val_fp: 119.0000 - val_tn: 7315.0000 - val_fn: 148.0000 - val_accuracy: 0.9686 - val_precision: 0.8857 - val_recall: 0.8617 - val_auc: 0.9800 - val_prc: 0.9271\n",
            "Epoch 3/5\n",
            "133/133 [==============================] - 14s 102ms/step - loss: 0.6738 - categorical_accuracy: 0.8113 - tp: 3406.0000 - fp: 660.0000 - tn: 28982.0000 - fn: 952.0000 - accuracy: 0.9526 - precision: 0.8377 - recall: 0.7816 - auc: 0.9723 - prc: 0.8809 - val_loss: 0.4782 - val_categorical_accuracy: 0.8711 - val_tp: 920.0000 - val_fp: 125.0000 - val_tn: 7309.0000 - val_fn: 150.0000 - val_accuracy: 0.9677 - val_precision: 0.8804 - val_recall: 0.8598 - val_auc: 0.9796 - val_prc: 0.9283\n",
            "Epoch 4/5\n",
            "133/133 [==============================] - 14s 104ms/step - loss: 0.8063 - categorical_accuracy: 0.8186 - tp: 3460.0000 - fp: 654.0000 - tn: 28988.0000 - fn: 898.0000 - accuracy: 0.9544 - precision: 0.8410 - recall: 0.7939 - auc: 0.9735 - prc: 0.8874 - val_loss: 0.4321 - val_categorical_accuracy: 0.8711 - val_tp: 916.0000 - val_fp: 118.0000 - val_tn: 7316.0000 - val_fn: 154.0000 - val_accuracy: 0.9680 - val_precision: 0.8859 - val_recall: 0.8561 - val_auc: 0.9822 - val_prc: 0.9338\n",
            "Epoch 5/5\n",
            "133/133 [==============================] - 14s 105ms/step - loss: 0.6786 - categorical_accuracy: 0.8153 - tp: 3433.0000 - fp: 668.0000 - tn: 28974.0000 - fn: 925.0000 - accuracy: 0.9531 - precision: 0.8371 - recall: 0.7877 - auc: 0.9734 - prc: 0.8849 - val_loss: 0.4678 - val_categorical_accuracy: 0.8711 - val_tp: 921.0000 - val_fp: 123.0000 - val_tn: 7311.0000 - val_fn: 149.0000 - val_accuracy: 0.9680 - val_precision: 0.8822 - val_recall: 0.8607 - val_auc: 0.9802 - val_prc: 0.9302\n",
            "[INFO] training on game: 1-25/400\n",
            "Epoch 1/5\n",
            "133/133 [==============================] - 14s 105ms/step - loss: 1.4303 - categorical_accuracy: 0.8957 - tp: 3795.0000 - fp: 388.0000 - tn: 29281.0000 - fn: 520.0000 - accuracy: 0.9733 - precision: 0.9072 - recall: 0.8795 - auc: 0.9891 - prc: 0.9535 - val_loss: 0.3783 - val_categorical_accuracy: 0.9124 - val_tp: 972.0000 - val_fp: 80.0000 - val_tn: 7338.0000 - val_fn: 106.0000 - val_accuracy: 0.9781 - val_precision: 0.9240 - val_recall: 0.9017 - val_auc: 0.9889 - val_prc: 0.9608\n",
            "Epoch 2/5\n",
            "133/133 [==============================] - 14s 103ms/step - loss: 1.4991 - categorical_accuracy: 0.9035 - tp: 3837.0000 - fp: 362.0000 - tn: 29307.0000 - fn: 478.0000 - accuracy: 0.9753 - precision: 0.9138 - recall: 0.8892 - auc: 0.9901 - prc: 0.9589 - val_loss: 0.3915 - val_categorical_accuracy: 0.9105 - val_tp: 969.0000 - val_fp: 84.0000 - val_tn: 7334.0000 - val_fn: 109.0000 - val_accuracy: 0.9773 - val_precision: 0.9202 - val_recall: 0.8989 - val_auc: 0.9896 - val_prc: 0.9597\n",
            "Epoch 3/5\n",
            "133/133 [==============================] - 14s 103ms/step - loss: 1.3260 - categorical_accuracy: 0.9171 - tp: 3903.0000 - fp: 309.0000 - tn: 29360.0000 - fn: 412.0000 - accuracy: 0.9788 - precision: 0.9266 - recall: 0.9045 - auc: 0.9906 - prc: 0.9634 - val_loss: 0.3634 - val_categorical_accuracy: 0.9190 - val_tp: 977.0000 - val_fp: 76.0000 - val_tn: 7342.0000 - val_fn: 101.0000 - val_accuracy: 0.9792 - val_precision: 0.9278 - val_recall: 0.9063 - val_auc: 0.9898 - val_prc: 0.9631\n",
            "Epoch 4/5\n",
            "133/133 [==============================] - 14s 103ms/step - loss: 1.5689 - categorical_accuracy: 0.9089 - tp: 3871.0000 - fp: 343.0000 - tn: 29326.0000 - fn: 444.0000 - accuracy: 0.9768 - precision: 0.9186 - recall: 0.8971 - auc: 0.9910 - prc: 0.9627 - val_loss: 0.3459 - val_categorical_accuracy: 0.9284 - val_tp: 987.0000 - val_fp: 67.0000 - val_tn: 7351.0000 - val_fn: 91.0000 - val_accuracy: 0.9814 - val_precision: 0.9364 - val_recall: 0.9156 - val_auc: 0.9909 - val_prc: 0.9673\n",
            "Epoch 5/5\n",
            "133/133 [==============================] - 14s 103ms/step - loss: 1.4256 - categorical_accuracy: 0.9200 - tp: 3915.0000 - fp: 309.0000 - tn: 29360.0000 - fn: 400.0000 - accuracy: 0.9791 - precision: 0.9268 - recall: 0.9073 - auc: 0.9919 - prc: 0.9680 - val_loss: 0.3481 - val_categorical_accuracy: 0.9228 - val_tp: 985.0000 - val_fp: 70.0000 - val_tn: 7348.0000 - val_fn: 93.0000 - val_accuracy: 0.9808 - val_precision: 0.9336 - val_recall: 0.9137 - val_auc: 0.9901 - val_prc: 0.9671\n",
            "[INFO] training on game: 26-50/400\n",
            "Epoch 1/5\n",
            "132/132 [==============================] - 13s 102ms/step - loss: 1.0707 - categorical_accuracy: 0.9068 - tp: 3820.0000 - fp: 347.0000 - tn: 29041.0000 - fn: 456.0000 - accuracy: 0.9761 - precision: 0.9167 - recall: 0.8934 - auc: 0.9884 - prc: 0.9577 - val_loss: 0.2842 - val_categorical_accuracy: 0.9440 - val_tp: 995.0000 - val_fp: 55.0000 - val_tn: 7305.0000 - val_fn: 69.0000 - val_accuracy: 0.9853 - val_precision: 0.9476 - val_recall: 0.9352 - val_auc: 0.9923 - val_prc: 0.9754\n",
            "Epoch 2/5\n",
            "132/132 [==============================] - 13s 102ms/step - loss: 1.2335 - categorical_accuracy: 0.9221 - tp: 3876.0000 - fp: 297.0000 - tn: 29091.0000 - fn: 400.0000 - accuracy: 0.9793 - precision: 0.9288 - recall: 0.9065 - auc: 0.9902 - prc: 0.9667 - val_loss: 0.2908 - val_categorical_accuracy: 0.9383 - val_tp: 990.0000 - val_fp: 59.0000 - val_tn: 7301.0000 - val_fn: 74.0000 - val_accuracy: 0.9842 - val_precision: 0.9438 - val_recall: 0.9305 - val_auc: 0.9925 - val_prc: 0.9742\n",
            "Epoch 3/5\n",
            "132/132 [==============================] - 13s 102ms/step - loss: 1.0886 - categorical_accuracy: 0.9187 - tp: 3875.0000 - fp: 307.0000 - tn: 29081.0000 - fn: 401.0000 - accuracy: 0.9790 - precision: 0.9266 - recall: 0.9062 - auc: 0.9879 - prc: 0.9593 - val_loss: 0.3325 - val_categorical_accuracy: 0.9326 - val_tp: 984.0000 - val_fp: 66.0000 - val_tn: 7294.0000 - val_fn: 80.0000 - val_accuracy: 0.9827 - val_precision: 0.9371 - val_recall: 0.9248 - val_auc: 0.9907 - val_prc: 0.9708\n",
            "Epoch 4/5\n",
            "132/132 [==============================] - 14s 104ms/step - loss: 1.0309 - categorical_accuracy: 0.9256 - tp: 3897.0000 - fp: 273.0000 - tn: 29115.0000 - fn: 379.0000 - accuracy: 0.9806 - precision: 0.9345 - recall: 0.9114 - auc: 0.9901 - prc: 0.9678 - val_loss: 0.3509 - val_categorical_accuracy: 0.9259 - val_tp: 977.0000 - val_fp: 71.0000 - val_tn: 7289.0000 - val_fn: 87.0000 - val_accuracy: 0.9812 - val_precision: 0.9323 - val_recall: 0.9182 - val_auc: 0.9908 - val_prc: 0.9681\n",
            "Epoch 5/5\n",
            "132/132 [==============================] - 13s 102ms/step - loss: 1.0648 - categorical_accuracy: 0.9221 - tp: 3882.0000 - fp: 297.0000 - tn: 29091.0000 - fn: 394.0000 - accuracy: 0.9795 - precision: 0.9289 - recall: 0.9079 - auc: 0.9891 - prc: 0.9634 - val_loss: 0.2604 - val_categorical_accuracy: 0.9449 - val_tp: 995.0000 - val_fp: 55.0000 - val_tn: 7305.0000 - val_fn: 69.0000 - val_accuracy: 0.9853 - val_precision: 0.9476 - val_recall: 0.9352 - val_auc: 0.9930 - val_prc: 0.9771\n",
            "[INFO] training on game: 51-75/400\n",
            "Epoch 1/5\n",
            "131/131 [==============================] - 13s 102ms/step - loss: 1.1484 - categorical_accuracy: 0.8550 - tp: 3562.0000 - fp: 546.0000 - tn: 28599.0000 - fn: 669.0000 - accuracy: 0.9636 - precision: 0.8671 - recall: 0.8419 - auc: 0.9673 - prc: 0.8957 - val_loss: 0.4988 - val_categorical_accuracy: 0.9012 - val_tp: 940.0000 - val_fp: 90.0000 - val_tn: 7193.0000 - val_fn: 121.0000 - val_accuracy: 0.9747 - val_precision: 0.9126 - val_recall: 0.8860 - val_auc: 0.9839 - val_prc: 0.9575\n",
            "Epoch 2/5\n",
            "131/131 [==============================] - 13s 102ms/step - loss: 1.0384 - categorical_accuracy: 0.8965 - tp: 3737.0000 - fp: 399.0000 - tn: 28746.0000 - fn: 494.0000 - accuracy: 0.9732 - precision: 0.9035 - recall: 0.8832 - auc: 0.9833 - prc: 0.9438 - val_loss: 0.4249 - val_categorical_accuracy: 0.9137 - val_tp: 952.0000 - val_fp: 82.0000 - val_tn: 7201.0000 - val_fn: 109.0000 - val_accuracy: 0.9771 - val_precision: 0.9207 - val_recall: 0.8973 - val_auc: 0.9868 - val_prc: 0.9639\n",
            "Epoch 3/5\n",
            "131/131 [==============================] - 13s 101ms/step - loss: 1.1319 - categorical_accuracy: 0.8977 - tp: 3739.0000 - fp: 386.0000 - tn: 28759.0000 - fn: 492.0000 - accuracy: 0.9737 - precision: 0.9064 - recall: 0.8837 - auc: 0.9850 - prc: 0.9490 - val_loss: 0.3772 - val_categorical_accuracy: 0.9166 - val_tp: 956.0000 - val_fp: 77.0000 - val_tn: 7206.0000 - val_fn: 105.0000 - val_accuracy: 0.9782 - val_precision: 0.9255 - val_recall: 0.9010 - val_auc: 0.9879 - val_prc: 0.9675\n",
            "Epoch 4/5\n",
            "131/131 [==============================] - 13s 102ms/step - loss: 0.9241 - categorical_accuracy: 0.9032 - tp: 3772.0000 - fp: 362.0000 - tn: 28783.0000 - fn: 459.0000 - accuracy: 0.9754 - precision: 0.9124 - recall: 0.8915 - auc: 0.9861 - prc: 0.9547 - val_loss: 0.3841 - val_categorical_accuracy: 0.9214 - val_tp: 963.0000 - val_fp: 76.0000 - val_tn: 7207.0000 - val_fn: 98.0000 - val_accuracy: 0.9791 - val_precision: 0.9269 - val_recall: 0.9076 - val_auc: 0.9879 - val_prc: 0.9661\n",
            "Epoch 5/5\n",
            "131/131 [==============================] - 13s 102ms/step - loss: 1.0748 - categorical_accuracy: 0.9068 - tp: 3783.0000 - fp: 352.0000 - tn: 28793.0000 - fn: 448.0000 - accuracy: 0.9760 - precision: 0.9149 - recall: 0.8941 - auc: 0.9864 - prc: 0.9553 - val_loss: 0.4545 - val_categorical_accuracy: 0.9204 - val_tp: 959.0000 - val_fp: 73.0000 - val_tn: 7210.0000 - val_fn: 102.0000 - val_accuracy: 0.9790 - val_precision: 0.9293 - val_recall: 0.9039 - val_auc: 0.9852 - val_prc: 0.9594\n",
            "[INFO] training on game: 76-100/400\n",
            "Epoch 1/5\n",
            "140/140 [==============================] - 14s 103ms/step - loss: 0.4798 - categorical_accuracy: 0.8993 - tp: 4017.0000 - fp: 401.0000 - tn: 30732.0000 - fn: 514.0000 - accuracy: 0.9743 - precision: 0.9092 - recall: 0.8866 - auc: 0.9869 - prc: 0.9548 - val_loss: 0.3596 - val_categorical_accuracy: 0.9085 - val_tp: 1014.0000 - val_fp: 97.0000 - val_tn: 7691.0000 - val_fn: 118.0000 - val_accuracy: 0.9759 - val_precision: 0.9127 - val_recall: 0.8958 - val_auc: 0.9868 - val_prc: 0.9576\n",
            "Epoch 2/5\n",
            "140/140 [==============================] - 14s 102ms/step - loss: 0.4332 - categorical_accuracy: 0.9078 - tp: 4056.0000 - fp: 364.0000 - tn: 30769.0000 - fn: 475.0000 - accuracy: 0.9765 - precision: 0.9176 - recall: 0.8952 - auc: 0.9891 - prc: 0.9598 - val_loss: 0.3177 - val_categorical_accuracy: 0.9238 - val_tp: 1030.0000 - val_fp: 78.0000 - val_tn: 7710.0000 - val_fn: 102.0000 - val_accuracy: 0.9798 - val_precision: 0.9296 - val_recall: 0.9099 - val_auc: 0.9882 - val_prc: 0.9642\n",
            "Epoch 3/5\n",
            "140/140 [==============================] - 14s 103ms/step - loss: 0.4568 - categorical_accuracy: 0.9089 - tp: 4057.0000 - fp: 366.0000 - tn: 30767.0000 - fn: 474.0000 - accuracy: 0.9764 - precision: 0.9173 - recall: 0.8954 - auc: 0.9894 - prc: 0.9608 - val_loss: 0.3141 - val_categorical_accuracy: 0.9265 - val_tp: 1032.0000 - val_fp: 79.0000 - val_tn: 7709.0000 - val_fn: 100.0000 - val_accuracy: 0.9799 - val_precision: 0.9289 - val_recall: 0.9117 - val_auc: 0.9882 - val_prc: 0.9651\n",
            "Epoch 4/5\n",
            "140/140 [==============================] - 14s 101ms/step - loss: 0.4726 - categorical_accuracy: 0.9049 - tp: 4035.0000 - fp: 379.0000 - tn: 30754.0000 - fn: 496.0000 - accuracy: 0.9755 - precision: 0.9141 - recall: 0.8905 - auc: 0.9893 - prc: 0.9608 - val_loss: 0.3403 - val_categorical_accuracy: 0.9202 - val_tp: 1026.0000 - val_fp: 87.0000 - val_tn: 7701.0000 - val_fn: 106.0000 - val_accuracy: 0.9784 - val_precision: 0.9218 - val_recall: 0.9064 - val_auc: 0.9870 - val_prc: 0.9615\n",
            "Epoch 5/5\n",
            "140/140 [==============================] - 14s 102ms/step - loss: 0.5498 - categorical_accuracy: 0.9038 - tp: 4036.0000 - fp: 376.0000 - tn: 30757.0000 - fn: 495.0000 - accuracy: 0.9756 - precision: 0.9148 - recall: 0.8908 - auc: 0.9899 - prc: 0.9624 - val_loss: 0.3138 - val_categorical_accuracy: 0.9265 - val_tp: 1035.0000 - val_fp: 77.0000 - val_tn: 7711.0000 - val_fn: 97.0000 - val_accuracy: 0.9805 - val_precision: 0.9308 - val_recall: 0.9143 - val_auc: 0.9878 - val_prc: 0.9652\n",
            "[INFO] training on game: 101-125/400\n",
            "Epoch 1/5\n",
            "133/133 [==============================] - 14s 103ms/step - loss: 1.0389 - categorical_accuracy: 0.9134 - tp: 3872.0000 - fp: 327.0000 - tn: 29184.0000 - fn: 425.0000 - accuracy: 0.9778 - precision: 0.9221 - recall: 0.9011 - auc: 0.9887 - prc: 0.9612 - val_loss: 0.3518 - val_categorical_accuracy: 0.9130 - val_tp: 970.0000 - val_fp: 86.0000 - val_tn: 7294.0000 - val_fn: 106.0000 - val_accuracy: 0.9773 - val_precision: 0.9186 - val_recall: 0.9015 - val_auc: 0.9871 - val_prc: 0.9593\n",
            "Epoch 2/5\n",
            "133/133 [==============================] - 14s 102ms/step - loss: 1.1050 - categorical_accuracy: 0.9179 - tp: 3893.0000 - fp: 308.0000 - tn: 29203.0000 - fn: 404.0000 - accuracy: 0.9789 - precision: 0.9267 - recall: 0.9060 - auc: 0.9899 - prc: 0.9654 - val_loss: 0.3320 - val_categorical_accuracy: 0.9186 - val_tp: 976.0000 - val_fp: 77.0000 - val_tn: 7303.0000 - val_fn: 100.0000 - val_accuracy: 0.9791 - val_precision: 0.9269 - val_recall: 0.9071 - val_auc: 0.9890 - val_prc: 0.9654\n",
            "Epoch 3/5\n",
            "133/133 [==============================] - 14s 103ms/step - loss: 1.1014 - categorical_accuracy: 0.9181 - tp: 3892.0000 - fp: 301.0000 - tn: 29210.0000 - fn: 405.0000 - accuracy: 0.9791 - precision: 0.9282 - recall: 0.9057 - auc: 0.9896 - prc: 0.9643 - val_loss: 0.3258 - val_categorical_accuracy: 0.9272 - val_tp: 986.0000 - val_fp: 67.0000 - val_tn: 7313.0000 - val_fn: 90.0000 - val_accuracy: 0.9814 - val_precision: 0.9364 - val_recall: 0.9164 - val_auc: 0.9900 - val_prc: 0.9726\n",
            "Epoch 4/5\n",
            "133/133 [==============================] - 14s 102ms/step - loss: 1.0668 - categorical_accuracy: 0.9304 - tp: 3942.0000 - fp: 266.0000 - tn: 29245.0000 - fn: 355.0000 - accuracy: 0.9816 - precision: 0.9368 - recall: 0.9174 - auc: 0.9909 - prc: 0.9696 - val_loss: 0.2850 - val_categorical_accuracy: 0.9347 - val_tp: 998.0000 - val_fp: 56.0000 - val_tn: 7324.0000 - val_fn: 78.0000 - val_accuracy: 0.9842 - val_precision: 0.9469 - val_recall: 0.9275 - val_auc: 0.9918 - val_prc: 0.9751\n",
            "Epoch 5/5\n",
            "133/133 [==============================] - 14s 102ms/step - loss: 0.9336 - categorical_accuracy: 0.9248 - tp: 3930.0000 - fp: 280.0000 - tn: 29231.0000 - fn: 367.0000 - accuracy: 0.9809 - precision: 0.9335 - recall: 0.9146 - auc: 0.9906 - prc: 0.9674 - val_loss: 0.3344 - val_categorical_accuracy: 0.9309 - val_tp: 992.0000 - val_fp: 61.0000 - val_tn: 7319.0000 - val_fn: 84.0000 - val_accuracy: 0.9829 - val_precision: 0.9421 - val_recall: 0.9219 - val_auc: 0.9894 - val_prc: 0.9737\n",
            "[INFO] training on game: 126-150/400\n",
            "Epoch 1/5\n",
            "125/125 [==============================] - 13s 102ms/step - loss: 0.3397 - categorical_accuracy: 0.9208 - tp: 3679.0000 - fp: 290.0000 - tn: 27604.0000 - fn: 355.0000 - accuracy: 0.9798 - precision: 0.9269 - recall: 0.9120 - auc: 0.9907 - prc: 0.9646 - val_loss: 0.2979 - val_categorical_accuracy: 0.9309 - val_tp: 931.0000 - val_fp: 66.0000 - val_tn: 6904.0000 - val_fn: 83.0000 - val_accuracy: 0.9813 - val_precision: 0.9338 - val_recall: 0.9181 - val_auc: 0.9918 - val_prc: 0.9713\n",
            "Epoch 2/5\n",
            "125/125 [==============================] - 13s 102ms/step - loss: 0.2839 - categorical_accuracy: 0.9296 - tp: 3715.0000 - fp: 264.0000 - tn: 27630.0000 - fn: 319.0000 - accuracy: 0.9817 - precision: 0.9337 - recall: 0.9209 - auc: 0.9923 - prc: 0.9713 - val_loss: 0.2793 - val_categorical_accuracy: 0.9359 - val_tp: 936.0000 - val_fp: 60.0000 - val_tn: 6910.0000 - val_fn: 78.0000 - val_accuracy: 0.9827 - val_precision: 0.9398 - val_recall: 0.9231 - val_auc: 0.9926 - val_prc: 0.9745\n",
            "Epoch 3/5\n",
            "125/125 [==============================] - 13s 102ms/step - loss: 0.2711 - categorical_accuracy: 0.9364 - tp: 3741.0000 - fp: 242.0000 - tn: 27652.0000 - fn: 293.0000 - accuracy: 0.9832 - precision: 0.9392 - recall: 0.9274 - auc: 0.9925 - prc: 0.9725 - val_loss: 0.2687 - val_categorical_accuracy: 0.9379 - val_tp: 939.0000 - val_fp: 57.0000 - val_tn: 6913.0000 - val_fn: 75.0000 - val_accuracy: 0.9835 - val_precision: 0.9428 - val_recall: 0.9260 - val_auc: 0.9933 - val_prc: 0.9772\n",
            "Epoch 4/5\n",
            "125/125 [==============================] - 13s 104ms/step - loss: 0.2931 - categorical_accuracy: 0.9321 - tp: 3723.0000 - fp: 254.0000 - tn: 27640.0000 - fn: 311.0000 - accuracy: 0.9823 - precision: 0.9361 - recall: 0.9229 - auc: 0.9926 - prc: 0.9728 - val_loss: 0.2766 - val_categorical_accuracy: 0.9349 - val_tp: 937.0000 - val_fp: 60.0000 - val_tn: 6910.0000 - val_fn: 77.0000 - val_accuracy: 0.9828 - val_precision: 0.9398 - val_recall: 0.9241 - val_auc: 0.9941 - val_prc: 0.9774\n",
            "Epoch 5/5\n",
            "125/125 [==============================] - 13s 102ms/step - loss: 0.2688 - categorical_accuracy: 0.9386 - tp: 3753.0000 - fp: 228.0000 - tn: 27666.0000 - fn: 281.0000 - accuracy: 0.9841 - precision: 0.9427 - recall: 0.9303 - auc: 0.9933 - prc: 0.9755 - val_loss: 0.2856 - val_categorical_accuracy: 0.9359 - val_tp: 937.0000 - val_fp: 59.0000 - val_tn: 6911.0000 - val_fn: 77.0000 - val_accuracy: 0.9830 - val_precision: 0.9408 - val_recall: 0.9241 - val_auc: 0.9931 - val_prc: 0.9752\n",
            "[INFO] training on game: 151-175/400\n",
            "Epoch 1/5\n",
            "144/144 [==============================] - 15s 103ms/step - loss: 2.8682 - categorical_accuracy: 0.9270 - tp: 4271.0000 - fp: 308.0000 - tn: 31746.0000 - fn: 379.0000 - accuracy: 0.9813 - precision: 0.9327 - recall: 0.9185 - auc: 0.9902 - prc: 0.9678 - val_loss: 0.1917 - val_categorical_accuracy: 0.9443 - val_tp: 1089.0000 - val_fp: 54.0000 - val_tn: 7968.0000 - val_fn: 73.0000 - val_accuracy: 0.9862 - val_precision: 0.9528 - val_recall: 0.9372 - val_auc: 0.9956 - val_prc: 0.9819\n",
            "Epoch 2/5\n",
            "144/144 [==============================] - 15s 102ms/step - loss: 2.8752 - categorical_accuracy: 0.9270 - tp: 4265.0000 - fp: 303.0000 - tn: 31751.0000 - fn: 385.0000 - accuracy: 0.9813 - precision: 0.9337 - recall: 0.9172 - auc: 0.9905 - prc: 0.9678 - val_loss: 0.1879 - val_categorical_accuracy: 0.9469 - val_tp: 1092.0000 - val_fp: 53.0000 - val_tn: 7969.0000 - val_fn: 70.0000 - val_accuracy: 0.9866 - val_precision: 0.9537 - val_recall: 0.9398 - val_auc: 0.9954 - val_prc: 0.9827\n",
            "Epoch 3/5\n",
            "144/144 [==============================] - 15s 102ms/step - loss: 2.8366 - categorical_accuracy: 0.9344 - tp: 4296.0000 - fp: 274.0000 - tn: 31780.0000 - fn: 354.0000 - accuracy: 0.9829 - precision: 0.9400 - recall: 0.9239 - auc: 0.9912 - prc: 0.9707 - val_loss: 0.2665 - val_categorical_accuracy: 0.9207 - val_tp: 1062.0000 - val_fp: 82.0000 - val_tn: 7940.0000 - val_fn: 100.0000 - val_accuracy: 0.9802 - val_precision: 0.9283 - val_recall: 0.9139 - val_auc: 0.9920 - val_prc: 0.9667\n",
            "Epoch 4/5\n",
            "144/144 [==============================] - 15s 102ms/step - loss: 2.6515 - categorical_accuracy: 0.9296 - tp: 4276.0000 - fp: 291.0000 - tn: 31763.0000 - fn: 374.0000 - accuracy: 0.9819 - precision: 0.9363 - recall: 0.9196 - auc: 0.9920 - prc: 0.9715 - val_loss: 0.2227 - val_categorical_accuracy: 0.9399 - val_tp: 1083.0000 - val_fp: 63.0000 - val_tn: 7959.0000 - val_fn: 79.0000 - val_accuracy: 0.9845 - val_precision: 0.9450 - val_recall: 0.9320 - val_auc: 0.9929 - val_prc: 0.9769\n",
            "Epoch 5/5\n",
            "144/144 [==============================] - 15s 102ms/step - loss: 3.0355 - categorical_accuracy: 0.9392 - tp: 4318.0000 - fp: 254.0000 - tn: 31800.0000 - fn: 332.0000 - accuracy: 0.9840 - precision: 0.9444 - recall: 0.9286 - auc: 0.9930 - prc: 0.9761 - val_loss: 0.2340 - val_categorical_accuracy: 0.9416 - val_tp: 1088.0000 - val_fp: 57.0000 - val_tn: 7965.0000 - val_fn: 74.0000 - val_accuracy: 0.9857 - val_precision: 0.9502 - val_recall: 0.9363 - val_auc: 0.9933 - val_prc: 0.9784\n",
            "[INFO] training on game: 176-200/400\n",
            "Epoch 1/5\n",
            "144/144 [==============================] - 15s 102ms/step - loss: 1.0459 - categorical_accuracy: 0.8341 - tp: 3824.0000 - fp: 703.0000 - tn: 31385.0000 - fn: 840.0000 - accuracy: 0.9580 - precision: 0.8447 - recall: 0.8199 - auc: 0.9555 - prc: 0.8753 - val_loss: 1.3471 - val_categorical_accuracy: 0.7180 - val_tp: 811.0000 - val_fp: 289.0000 - val_tn: 7732.0000 - val_fn: 360.0000 - val_accuracy: 0.9294 - val_precision: 0.7373 - val_recall: 0.6926 - val_auc: 0.9303 - val_prc: 0.7476\n",
            "Epoch 2/5\n",
            "144/144 [==============================] - 15s 103ms/step - loss: 0.7738 - categorical_accuracy: 0.8583 - tp: 3942.0000 - fp: 595.0000 - tn: 31493.0000 - fn: 722.0000 - accuracy: 0.9642 - precision: 0.8689 - recall: 0.8452 - auc: 0.9711 - prc: 0.9054 - val_loss: 0.7928 - val_categorical_accuracy: 0.8721 - val_tp: 1002.0000 - val_fp: 144.0000 - val_tn: 7877.0000 - val_fn: 169.0000 - val_accuracy: 0.9659 - val_precision: 0.8743 - val_recall: 0.8557 - val_auc: 0.9741 - val_prc: 0.9144\n",
            "Epoch 3/5\n",
            "144/144 [==============================] - 15s 102ms/step - loss: 0.5969 - categorical_accuracy: 0.8883 - tp: 4086.0000 - fp: 464.0000 - tn: 31624.0000 - fn: 578.0000 - accuracy: 0.9716 - precision: 0.8980 - recall: 0.8761 - auc: 0.9782 - prc: 0.9291 - val_loss: 0.7248 - val_categorical_accuracy: 0.8677 - val_tp: 998.0000 - val_fp: 145.0000 - val_tn: 7876.0000 - val_fn: 173.0000 - val_accuracy: 0.9654 - val_precision: 0.8731 - val_recall: 0.8523 - val_auc: 0.9750 - val_prc: 0.9136\n",
            "Epoch 4/5\n",
            "144/144 [==============================] - 15s 101ms/step - loss: 0.5180 - categorical_accuracy: 0.8872 - tp: 4075.0000 - fp: 475.0000 - tn: 31613.0000 - fn: 589.0000 - accuracy: 0.9710 - precision: 0.8956 - recall: 0.8737 - auc: 0.9806 - prc: 0.9344 - val_loss: 0.6843 - val_categorical_accuracy: 0.8686 - val_tp: 995.0000 - val_fp: 138.0000 - val_tn: 7883.0000 - val_fn: 176.0000 - val_accuracy: 0.9658 - val_precision: 0.8782 - val_recall: 0.8497 - val_auc: 0.9772 - val_prc: 0.9200\n",
            "Epoch 5/5\n",
            "144/144 [==============================] - 15s 101ms/step - loss: 0.4978 - categorical_accuracy: 0.8855 - tp: 4072.0000 - fp: 476.0000 - tn: 31612.0000 - fn: 592.0000 - accuracy: 0.9709 - precision: 0.8953 - recall: 0.8731 - auc: 0.9811 - prc: 0.9340 - val_loss: 0.6471 - val_categorical_accuracy: 0.8790 - val_tp: 1009.0000 - val_fp: 126.0000 - val_tn: 7895.0000 - val_fn: 162.0000 - val_accuracy: 0.9687 - val_precision: 0.8890 - val_recall: 0.8617 - val_auc: 0.9786 - val_prc: 0.9254\n",
            "[INFO] training on game: 201-225/400\n",
            "Epoch 1/5\n",
            "146/146 [==============================] - 15s 103ms/step - loss: 0.4462 - categorical_accuracy: 0.9052 - tp: 4221.0000 - fp: 397.0000 - tn: 32114.0000 - fn: 484.0000 - accuracy: 0.9763 - precision: 0.9140 - recall: 0.8971 - auc: 0.9867 - prc: 0.9541 - val_loss: 0.4641 - val_categorical_accuracy: 0.9029 - val_tp: 1053.0000 - val_fp: 102.0000 - val_tn: 8028.0000 - val_fn: 129.0000 - val_accuracy: 0.9752 - val_precision: 0.9117 - val_recall: 0.8909 - val_auc: 0.9828 - val_prc: 0.9440\n",
            "Epoch 2/5\n",
            "146/146 [==============================] - 15s 102ms/step - loss: 0.3671 - categorical_accuracy: 0.9108 - tp: 4249.0000 - fp: 383.0000 - tn: 32128.0000 - fn: 456.0000 - accuracy: 0.9775 - precision: 0.9173 - recall: 0.9031 - auc: 0.9884 - prc: 0.9609 - val_loss: 0.4323 - val_categorical_accuracy: 0.9201 - val_tp: 1072.0000 - val_fp: 84.0000 - val_tn: 8046.0000 - val_fn: 110.0000 - val_accuracy: 0.9792 - val_precision: 0.9273 - val_recall: 0.9069 - val_auc: 0.9840 - val_prc: 0.9500\n",
            "Epoch 3/5\n",
            "146/146 [==============================] - 15s 104ms/step - loss: 0.3492 - categorical_accuracy: 0.9151 - tp: 4274.0000 - fp: 366.0000 - tn: 32145.0000 - fn: 431.0000 - accuracy: 0.9786 - precision: 0.9211 - recall: 0.9084 - auc: 0.9881 - prc: 0.9624 - val_loss: 0.4506 - val_categorical_accuracy: 0.9149 - val_tp: 1062.0000 - val_fp: 91.0000 - val_tn: 8039.0000 - val_fn: 120.0000 - val_accuracy: 0.9773 - val_precision: 0.9211 - val_recall: 0.8985 - val_auc: 0.9826 - val_prc: 0.9471\n",
            "Epoch 4/5\n",
            "146/146 [==============================] - 15s 102ms/step - loss: 0.4052 - categorical_accuracy: 0.9256 - tp: 4320.0000 - fp: 316.0000 - tn: 32195.0000 - fn: 385.0000 - accuracy: 0.9812 - precision: 0.9318 - recall: 0.9182 - auc: 0.9896 - prc: 0.9671 - val_loss: 0.4298 - val_categorical_accuracy: 0.9227 - val_tp: 1076.0000 - val_fp: 85.0000 - val_tn: 8045.0000 - val_fn: 106.0000 - val_accuracy: 0.9795 - val_precision: 0.9268 - val_recall: 0.9103 - val_auc: 0.9823 - val_prc: 0.9486\n",
            "Epoch 5/5\n",
            "146/146 [==============================] - 15s 102ms/step - loss: 0.3818 - categorical_accuracy: 0.9265 - tp: 4323.0000 - fp: 318.0000 - tn: 32193.0000 - fn: 382.0000 - accuracy: 0.9812 - precision: 0.9315 - recall: 0.9188 - auc: 0.9890 - prc: 0.9665 - val_loss: 0.4306 - val_categorical_accuracy: 0.9210 - val_tp: 1077.0000 - val_fp: 83.0000 - val_tn: 8047.0000 - val_fn: 105.0000 - val_accuracy: 0.9798 - val_precision: 0.9284 - val_recall: 0.9112 - val_auc: 0.9828 - val_prc: 0.9502\n",
            "[INFO] training on game: 226-250/400\n",
            "Epoch 1/5\n",
            "142/142 [==============================] - 15s 102ms/step - loss: 0.4175 - categorical_accuracy: 0.9177 - tp: 4177.0000 - fp: 335.0000 - tn: 31309.0000 - fn: 443.0000 - accuracy: 0.9785 - precision: 0.9258 - recall: 0.9041 - auc: 0.9864 - prc: 0.9578 - val_loss: 0.3815 - val_categorical_accuracy: 0.9250 - val_tp: 1049.0000 - val_fp: 78.0000 - val_tn: 7843.0000 - val_fn: 102.0000 - val_accuracy: 0.9802 - val_precision: 0.9308 - val_recall: 0.9114 - val_auc: 0.9909 - val_prc: 0.9715\n",
            "Epoch 2/5\n",
            "142/142 [==============================] - 15s 103ms/step - loss: 0.3958 - categorical_accuracy: 0.9159 - tp: 4168.0000 - fp: 343.0000 - tn: 31301.0000 - fn: 452.0000 - accuracy: 0.9781 - precision: 0.9240 - recall: 0.9022 - auc: 0.9879 - prc: 0.9610 - val_loss: 0.3794 - val_categorical_accuracy: 0.9268 - val_tp: 1051.0000 - val_fp: 79.0000 - val_tn: 7842.0000 - val_fn: 100.0000 - val_accuracy: 0.9803 - val_precision: 0.9301 - val_recall: 0.9131 - val_auc: 0.9906 - val_prc: 0.9729\n",
            "Epoch 3/5\n",
            "142/142 [==============================] - 14s 102ms/step - loss: 0.3865 - categorical_accuracy: 0.9186 - tp: 4189.0000 - fp: 335.0000 - tn: 31309.0000 - fn: 431.0000 - accuracy: 0.9789 - precision: 0.9260 - recall: 0.9067 - auc: 0.9886 - prc: 0.9633 - val_loss: 0.3750 - val_categorical_accuracy: 0.9242 - val_tp: 1049.0000 - val_fp: 83.0000 - val_tn: 7838.0000 - val_fn: 102.0000 - val_accuracy: 0.9796 - val_precision: 0.9267 - val_recall: 0.9114 - val_auc: 0.9911 - val_prc: 0.9739\n",
            "Epoch 4/5\n",
            "142/142 [==============================] - 14s 102ms/step - loss: 0.4379 - categorical_accuracy: 0.9193 - tp: 4189.0000 - fp: 326.0000 - tn: 31318.0000 - fn: 431.0000 - accuracy: 0.9791 - precision: 0.9278 - recall: 0.9067 - auc: 0.9878 - prc: 0.9614 - val_loss: 0.3839 - val_categorical_accuracy: 0.9259 - val_tp: 1050.0000 - val_fp: 81.0000 - val_tn: 7840.0000 - val_fn: 101.0000 - val_accuracy: 0.9799 - val_precision: 0.9284 - val_recall: 0.9123 - val_auc: 0.9897 - val_prc: 0.9717\n",
            "Epoch 5/5\n",
            "142/142 [==============================] - 14s 102ms/step - loss: 0.4303 - categorical_accuracy: 0.9186 - tp: 4189.0000 - fp: 321.0000 - tn: 31323.0000 - fn: 431.0000 - accuracy: 0.9793 - precision: 0.9288 - recall: 0.9067 - auc: 0.9877 - prc: 0.9632 - val_loss: 0.3807 - val_categorical_accuracy: 0.9268 - val_tp: 1052.0000 - val_fp: 79.0000 - val_tn: 7842.0000 - val_fn: 99.0000 - val_accuracy: 0.9804 - val_precision: 0.9302 - val_recall: 0.9140 - val_auc: 0.9902 - val_prc: 0.9727\n",
            "[INFO] training on game: 251-275/400\n",
            "Epoch 1/5\n",
            "133/133 [==============================] - 14s 104ms/step - loss: 0.5647 - categorical_accuracy: 0.9002 - tp: 3843.0000 - fp: 381.0000 - tn: 29285.0000 - fn: 483.0000 - accuracy: 0.9746 - precision: 0.9098 - recall: 0.8883 - auc: 0.9863 - prc: 0.9544 - val_loss: 0.3836 - val_categorical_accuracy: 0.9285 - val_tp: 989.0000 - val_fp: 71.0000 - val_tn: 7356.0000 - val_fn: 88.0000 - val_accuracy: 0.9813 - val_precision: 0.9330 - val_recall: 0.9183 - val_auc: 0.9875 - val_prc: 0.9563\n",
            "Epoch 2/5\n",
            "133/133 [==============================] - 14s 102ms/step - loss: 0.6722 - categorical_accuracy: 0.9153 - tp: 3895.0000 - fp: 336.0000 - tn: 29330.0000 - fn: 431.0000 - accuracy: 0.9774 - precision: 0.9206 - recall: 0.9004 - auc: 0.9876 - prc: 0.9598 - val_loss: 0.2491 - val_categorical_accuracy: 0.9341 - val_tp: 995.0000 - val_fp: 64.0000 - val_tn: 7363.0000 - val_fn: 82.0000 - val_accuracy: 0.9828 - val_precision: 0.9396 - val_recall: 0.9239 - val_auc: 0.9925 - val_prc: 0.9753\n",
            "Epoch 3/5\n",
            "133/133 [==============================] - 14s 103ms/step - loss: 0.5325 - categorical_accuracy: 0.9165 - tp: 3904.0000 - fp: 331.0000 - tn: 29335.0000 - fn: 422.0000 - accuracy: 0.9778 - precision: 0.9218 - recall: 0.9025 - auc: 0.9875 - prc: 0.9586 - val_loss: 0.2627 - val_categorical_accuracy: 0.9313 - val_tp: 991.0000 - val_fp: 70.0000 - val_tn: 7357.0000 - val_fn: 86.0000 - val_accuracy: 0.9817 - val_precision: 0.9340 - val_recall: 0.9201 - val_auc: 0.9922 - val_prc: 0.9724\n",
            "Epoch 4/5\n",
            "133/133 [==============================] - 14s 102ms/step - loss: 0.3851 - categorical_accuracy: 0.9172 - tp: 3912.0000 - fp: 320.0000 - tn: 29346.0000 - fn: 414.0000 - accuracy: 0.9784 - precision: 0.9244 - recall: 0.9043 - auc: 0.9877 - prc: 0.9614 - val_loss: 0.2514 - val_categorical_accuracy: 0.9351 - val_tp: 997.0000 - val_fp: 66.0000 - val_tn: 7361.0000 - val_fn: 80.0000 - val_accuracy: 0.9828 - val_precision: 0.9379 - val_recall: 0.9257 - val_auc: 0.9925 - val_prc: 0.9744\n",
            "Epoch 5/5\n",
            "133/133 [==============================] - 14s 102ms/step - loss: 0.4754 - categorical_accuracy: 0.9141 - tp: 3896.0000 - fp: 335.0000 - tn: 29331.0000 - fn: 430.0000 - accuracy: 0.9775 - precision: 0.9208 - recall: 0.9006 - auc: 0.9875 - prc: 0.9585 - val_loss: 0.2351 - val_categorical_accuracy: 0.9398 - val_tp: 1000.0000 - val_fp: 59.0000 - val_tn: 7368.0000 - val_fn: 77.0000 - val_accuracy: 0.9840 - val_precision: 0.9443 - val_recall: 0.9285 - val_auc: 0.9921 - val_prc: 0.9751\n",
            "[INFO] training on game: 276-300/400\n",
            "Epoch 1/5\n",
            "128/128 [==============================] - 13s 104ms/step - loss: 0.4992 - categorical_accuracy: 0.9004 - tp: 3695.0000 - fp: 362.0000 - tn: 28250.0000 - fn: 461.0000 - accuracy: 0.9749 - precision: 0.9108 - recall: 0.8891 - auc: 0.9867 - prc: 0.9531 - val_loss: 0.4295 - val_categorical_accuracy: 0.8888 - val_tp: 913.0000 - val_fp: 104.0000 - val_tn: 7062.0000 - val_fn: 121.0000 - val_accuracy: 0.9726 - val_precision: 0.8977 - val_recall: 0.8830 - val_auc: 0.9845 - val_prc: 0.9479\n",
            "Epoch 2/5\n",
            "128/128 [==============================] - 13s 104ms/step - loss: 0.4451 - categorical_accuracy: 0.9106 - tp: 3740.0000 - fp: 325.0000 - tn: 28287.0000 - fn: 416.0000 - accuracy: 0.9774 - precision: 0.9200 - recall: 0.8999 - auc: 0.9878 - prc: 0.9576 - val_loss: 0.4665 - val_categorical_accuracy: 0.8849 - val_tp: 911.0000 - val_fp: 104.0000 - val_tn: 7062.0000 - val_fn: 123.0000 - val_accuracy: 0.9723 - val_precision: 0.8975 - val_recall: 0.8810 - val_auc: 0.9838 - val_prc: 0.9458\n",
            "Epoch 3/5\n",
            "128/128 [==============================] - 13s 103ms/step - loss: 0.4473 - categorical_accuracy: 0.9092 - tp: 3734.0000 - fp: 332.0000 - tn: 28280.0000 - fn: 422.0000 - accuracy: 0.9770 - precision: 0.9183 - recall: 0.8985 - auc: 0.9873 - prc: 0.9587 - val_loss: 0.4372 - val_categorical_accuracy: 0.8907 - val_tp: 912.0000 - val_fp: 106.0000 - val_tn: 7060.0000 - val_fn: 122.0000 - val_accuracy: 0.9722 - val_precision: 0.8959 - val_recall: 0.8820 - val_auc: 0.9852 - val_prc: 0.9495\n",
            "Epoch 4/5\n",
            "128/128 [==============================] - 13s 102ms/step - loss: 0.3539 - categorical_accuracy: 0.9141 - tp: 3756.0000 - fp: 322.0000 - tn: 28290.0000 - fn: 400.0000 - accuracy: 0.9780 - precision: 0.9210 - recall: 0.9038 - auc: 0.9887 - prc: 0.9606 - val_loss: 0.4410 - val_categorical_accuracy: 0.8878 - val_tp: 904.0000 - val_fp: 108.0000 - val_tn: 7058.0000 - val_fn: 130.0000 - val_accuracy: 0.9710 - val_precision: 0.8933 - val_recall: 0.8743 - val_auc: 0.9846 - val_prc: 0.9461\n",
            "Epoch 5/5\n",
            "128/128 [==============================] - 13s 102ms/step - loss: 0.4306 - categorical_accuracy: 0.9143 - tp: 3760.0000 - fp: 316.0000 - tn: 28296.0000 - fn: 396.0000 - accuracy: 0.9783 - precision: 0.9225 - recall: 0.9047 - auc: 0.9883 - prc: 0.9597 - val_loss: 0.4666 - val_categorical_accuracy: 0.8859 - val_tp: 910.0000 - val_fp: 108.0000 - val_tn: 7058.0000 - val_fn: 124.0000 - val_accuracy: 0.9717 - val_precision: 0.8939 - val_recall: 0.8801 - val_auc: 0.9836 - val_prc: 0.9450\n",
            "[INFO] training on game: 301-325/400\n",
            "Epoch 1/5\n",
            "123/123 [==============================] - 13s 102ms/step - loss: 1.4970 - categorical_accuracy: 0.8597 - tp: 3351.0000 - fp: 476.0000 - tn: 26942.0000 - fn: 639.0000 - accuracy: 0.9645 - precision: 0.8756 - recall: 0.8398 - auc: 0.9764 - prc: 0.9155 - val_loss: 0.6179 - val_categorical_accuracy: 0.8299 - val_tp: 813.0000 - val_fp: 145.0000 - val_tn: 6704.0000 - val_fn: 194.0000 - val_accuracy: 0.9568 - val_precision: 0.8486 - val_recall: 0.8073 - val_auc: 0.9734 - val_prc: 0.9015\n",
            "Epoch 2/5\n",
            "123/123 [==============================] - 13s 102ms/step - loss: 1.5720 - categorical_accuracy: 0.8650 - tp: 3390.0000 - fp: 453.0000 - tn: 26965.0000 - fn: 600.0000 - accuracy: 0.9665 - precision: 0.8821 - recall: 0.8496 - auc: 0.9787 - prc: 0.9219 - val_loss: 0.6589 - val_categorical_accuracy: 0.8401 - val_tp: 822.0000 - val_fp: 150.0000 - val_tn: 6699.0000 - val_fn: 185.0000 - val_accuracy: 0.9574 - val_precision: 0.8457 - val_recall: 0.8163 - val_auc: 0.9736 - val_prc: 0.8952\n",
            "Epoch 3/5\n",
            "123/123 [==============================] - 12s 101ms/step - loss: 1.6307 - categorical_accuracy: 0.8780 - tp: 3440.0000 - fp: 417.0000 - tn: 27001.0000 - fn: 550.0000 - accuracy: 0.9692 - precision: 0.8919 - recall: 0.8622 - auc: 0.9814 - prc: 0.9309 - val_loss: 0.6025 - val_categorical_accuracy: 0.8493 - val_tp: 835.0000 - val_fp: 138.0000 - val_tn: 6711.0000 - val_fn: 172.0000 - val_accuracy: 0.9605 - val_precision: 0.8582 - val_recall: 0.8292 - val_auc: 0.9776 - val_prc: 0.9086\n",
            "Epoch 4/5\n",
            "123/123 [==============================] - 12s 101ms/step - loss: 1.6076 - categorical_accuracy: 0.8805 - tp: 3442.0000 - fp: 410.0000 - tn: 27008.0000 - fn: 548.0000 - accuracy: 0.9695 - precision: 0.8936 - recall: 0.8627 - auc: 0.9796 - prc: 0.9266 - val_loss: 0.5557 - val_categorical_accuracy: 0.8686 - val_tp: 849.0000 - val_fp: 119.0000 - val_tn: 6730.0000 - val_fn: 158.0000 - val_accuracy: 0.9647 - val_precision: 0.8771 - val_recall: 0.8431 - val_auc: 0.9772 - val_prc: 0.9166\n",
            "Epoch 5/5\n",
            "123/123 [==============================] - 13s 102ms/step - loss: 1.6336 - categorical_accuracy: 0.8788 - tp: 3440.0000 - fp: 423.0000 - tn: 26995.0000 - fn: 550.0000 - accuracy: 0.9690 - precision: 0.8905 - recall: 0.8622 - auc: 0.9821 - prc: 0.9334 - val_loss: 0.5498 - val_categorical_accuracy: 0.8676 - val_tp: 848.0000 - val_fp: 118.0000 - val_tn: 6731.0000 - val_fn: 159.0000 - val_accuracy: 0.9647 - val_precision: 0.8778 - val_recall: 0.8421 - val_auc: 0.9780 - val_prc: 0.9195\n",
            "[INFO] training on game: 326-350/400\n",
            "Epoch 1/5\n",
            "133/133 [==============================] - 14s 104ms/step - loss: 0.6432 - categorical_accuracy: 0.8452 - tp: 3583.0000 - fp: 600.0000 - tn: 29133.0000 - fn: 732.0000 - accuracy: 0.9609 - precision: 0.8566 - recall: 0.8304 - auc: 0.9756 - prc: 0.8978 - val_loss: 0.4240 - val_categorical_accuracy: 0.8676 - val_tp: 918.0000 - val_fp: 127.0000 - val_tn: 7317.0000 - val_fn: 158.0000 - val_accuracy: 0.9665 - val_precision: 0.8785 - val_recall: 0.8532 - val_auc: 0.9841 - val_prc: 0.9322\n",
            "Epoch 2/5\n",
            "133/133 [==============================] - 14s 102ms/step - loss: 0.6079 - categorical_accuracy: 0.8409 - tp: 3558.0000 - fp: 603.0000 - tn: 29130.0000 - fn: 757.0000 - accuracy: 0.9601 - precision: 0.8551 - recall: 0.8246 - auc: 0.9771 - prc: 0.9062 - val_loss: 0.4098 - val_categorical_accuracy: 0.8732 - val_tp: 921.0000 - val_fp: 118.0000 - val_tn: 7326.0000 - val_fn: 155.0000 - val_accuracy: 0.9680 - val_precision: 0.8864 - val_recall: 0.8559 - val_auc: 0.9852 - val_prc: 0.9400\n",
            "Epoch 3/5\n",
            "133/133 [==============================] - 14s 103ms/step - loss: 0.5998 - categorical_accuracy: 0.8588 - tp: 3632.0000 - fp: 543.0000 - tn: 29190.0000 - fn: 683.0000 - accuracy: 0.9640 - precision: 0.8699 - recall: 0.8417 - auc: 0.9806 - prc: 0.9194 - val_loss: 0.4076 - val_categorical_accuracy: 0.8714 - val_tp: 919.0000 - val_fp: 125.0000 - val_tn: 7319.0000 - val_fn: 157.0000 - val_accuracy: 0.9669 - val_precision: 0.8803 - val_recall: 0.8541 - val_auc: 0.9850 - val_prc: 0.9382\n",
            "Epoch 4/5\n",
            "133/133 [==============================] - 14s 102ms/step - loss: 0.6133 - categorical_accuracy: 0.8531 - tp: 3604.0000 - fp: 560.0000 - tn: 29173.0000 - fn: 711.0000 - accuracy: 0.9627 - precision: 0.8655 - recall: 0.8352 - auc: 0.9788 - prc: 0.9113 - val_loss: 0.3884 - val_categorical_accuracy: 0.8808 - val_tp: 932.0000 - val_fp: 117.0000 - val_tn: 7327.0000 - val_fn: 144.0000 - val_accuracy: 0.9694 - val_precision: 0.8885 - val_recall: 0.8662 - val_auc: 0.9868 - val_prc: 0.9438\n",
            "Epoch 5/5\n",
            "133/133 [==============================] - 14s 102ms/step - loss: 0.6390 - categorical_accuracy: 0.8607 - tp: 3640.0000 - fp: 536.0000 - tn: 29197.0000 - fn: 675.0000 - accuracy: 0.9644 - precision: 0.8716 - recall: 0.8436 - auc: 0.9813 - prc: 0.9211 - val_loss: 0.4171 - val_categorical_accuracy: 0.8723 - val_tp: 925.0000 - val_fp: 125.0000 - val_tn: 7319.0000 - val_fn: 151.0000 - val_accuracy: 0.9676 - val_precision: 0.8810 - val_recall: 0.8597 - val_auc: 0.9855 - val_prc: 0.9385\n",
            "[INFO] training on game: 351-375/400\n",
            "Epoch 1/5\n",
            "135/135 [==============================] - 14s 102ms/step - loss: 1.8132 - categorical_accuracy: 0.8511 - tp: 3662.0000 - fp: 591.0000 - tn: 29573.0000 - fn: 718.0000 - accuracy: 0.9621 - precision: 0.8610 - recall: 0.8361 - auc: 0.9753 - prc: 0.9053 - val_loss: 0.4813 - val_categorical_accuracy: 0.8639 - val_tp: 930.0000 - val_fp: 127.0000 - val_tn: 7420.0000 - val_fn: 163.0000 - val_accuracy: 0.9664 - val_precision: 0.8798 - val_recall: 0.8509 - val_auc: 0.9823 - val_prc: 0.9269\n",
            "Epoch 2/5\n",
            "135/135 [==============================] - 14s 102ms/step - loss: 1.6753 - categorical_accuracy: 0.8573 - tp: 3701.0000 - fp: 555.0000 - tn: 29609.0000 - fn: 679.0000 - accuracy: 0.9643 - precision: 0.8696 - recall: 0.8450 - auc: 0.9790 - prc: 0.9168 - val_loss: 0.5469 - val_categorical_accuracy: 0.8398 - val_tp: 899.0000 - val_fp: 157.0000 - val_tn: 7390.0000 - val_fn: 194.0000 - val_accuracy: 0.9594 - val_precision: 0.8513 - val_recall: 0.8225 - val_auc: 0.9797 - val_prc: 0.9075\n",
            "Epoch 3/5\n",
            "135/135 [==============================] - 14s 101ms/step - loss: 1.7312 - categorical_accuracy: 0.8555 - tp: 3677.0000 - fp: 563.0000 - tn: 29601.0000 - fn: 703.0000 - accuracy: 0.9634 - precision: 0.8672 - recall: 0.8395 - auc: 0.9781 - prc: 0.9136 - val_loss: 0.5642 - val_categorical_accuracy: 0.8278 - val_tp: 888.0000 - val_fp: 163.0000 - val_tn: 7384.0000 - val_fn: 205.0000 - val_accuracy: 0.9574 - val_precision: 0.8449 - val_recall: 0.8124 - val_auc: 0.9781 - val_prc: 0.9026\n",
            "Epoch 4/5\n",
            "135/135 [==============================] - 14s 102ms/step - loss: 1.8012 - categorical_accuracy: 0.8610 - tp: 3720.0000 - fp: 545.0000 - tn: 29619.0000 - fn: 660.0000 - accuracy: 0.9651 - precision: 0.8722 - recall: 0.8493 - auc: 0.9790 - prc: 0.9204 - val_loss: 0.5151 - val_categorical_accuracy: 0.8491 - val_tp: 912.0000 - val_fp: 143.0000 - val_tn: 7404.0000 - val_fn: 181.0000 - val_accuracy: 0.9625 - val_precision: 0.8645 - val_recall: 0.8344 - val_auc: 0.9827 - val_prc: 0.9184\n",
            "Epoch 5/5\n",
            "135/135 [==============================] - 14s 102ms/step - loss: 1.6083 - categorical_accuracy: 0.8668 - tp: 3723.0000 - fp: 525.0000 - tn: 29639.0000 - fn: 657.0000 - accuracy: 0.9658 - precision: 0.8764 - recall: 0.8500 - auc: 0.9803 - prc: 0.9222 - val_loss: 0.5342 - val_categorical_accuracy: 0.8500 - val_tp: 915.0000 - val_fp: 144.0000 - val_tn: 7403.0000 - val_fn: 178.0000 - val_accuracy: 0.9627 - val_precision: 0.8640 - val_recall: 0.8371 - val_auc: 0.9796 - val_prc: 0.9128\n",
            "[INFO] training on game: 376-400/400\n",
            "Epoch 1/5\n",
            "133/133 [==============================] - 14s 103ms/step - loss: 0.8016 - categorical_accuracy: 0.8226 - tp: 3468.0000 - fp: 638.0000 - tn: 29004.0000 - fn: 890.0000 - accuracy: 0.9551 - precision: 0.8446 - recall: 0.7958 - auc: 0.9662 - prc: 0.8744 - val_loss: 0.4994 - val_categorical_accuracy: 0.8655 - val_tp: 914.0000 - val_fp: 126.0000 - val_tn: 7308.0000 - val_fn: 156.0000 - val_accuracy: 0.9668 - val_precision: 0.8788 - val_recall: 0.8542 - val_auc: 0.9795 - val_prc: 0.9266\n",
            "Epoch 2/5\n",
            "133/133 [==============================] - 13s 102ms/step - loss: 0.7688 - categorical_accuracy: 0.8193 - tp: 3456.0000 - fp: 650.0000 - tn: 28992.0000 - fn: 902.0000 - accuracy: 0.9544 - precision: 0.8417 - recall: 0.7930 - auc: 0.9691 - prc: 0.8839 - val_loss: 0.5045 - val_categorical_accuracy: 0.8721 - val_tp: 922.0000 - val_fp: 119.0000 - val_tn: 7315.0000 - val_fn: 148.0000 - val_accuracy: 0.9686 - val_precision: 0.8857 - val_recall: 0.8617 - val_auc: 0.9797 - val_prc: 0.9297\n",
            "Epoch 3/5\n",
            "133/133 [==============================] - 13s 102ms/step - loss: 0.7986 - categorical_accuracy: 0.8219 - tp: 3467.0000 - fp: 646.0000 - tn: 28996.0000 - fn: 891.0000 - accuracy: 0.9548 - precision: 0.8429 - recall: 0.7955 - auc: 0.9681 - prc: 0.8819 - val_loss: 0.5038 - val_categorical_accuracy: 0.8589 - val_tp: 909.0000 - val_fp: 132.0000 - val_tn: 7302.0000 - val_fn: 161.0000 - val_accuracy: 0.9655 - val_precision: 0.8732 - val_recall: 0.8495 - val_auc: 0.9792 - val_prc: 0.9269\n",
            "Epoch 4/5\n",
            "133/133 [==============================] - 14s 104ms/step - loss: 0.7006 - categorical_accuracy: 0.8233 - tp: 3479.0000 - fp: 654.0000 - tn: 28988.0000 - fn: 879.0000 - accuracy: 0.9549 - precision: 0.8418 - recall: 0.7983 - auc: 0.9703 - prc: 0.8879 - val_loss: 0.4251 - val_categorical_accuracy: 0.8786 - val_tp: 932.0000 - val_fp: 117.0000 - val_tn: 7317.0000 - val_fn: 138.0000 - val_accuracy: 0.9700 - val_precision: 0.8885 - val_recall: 0.8710 - val_auc: 0.9849 - val_prc: 0.9443\n",
            "Epoch 5/5\n",
            "133/133 [==============================] - 14s 102ms/step - loss: 0.8145 - categorical_accuracy: 0.8268 - tp: 3495.0000 - fp: 642.0000 - tn: 29000.0000 - fn: 863.0000 - accuracy: 0.9557 - precision: 0.8448 - recall: 0.8020 - auc: 0.9686 - prc: 0.8818 - val_loss: 0.5290 - val_categorical_accuracy: 0.8608 - val_tp: 913.0000 - val_fp: 132.0000 - val_tn: 7302.0000 - val_fn: 157.0000 - val_accuracy: 0.9660 - val_precision: 0.8737 - val_recall: 0.8533 - val_auc: 0.9790 - val_prc: 0.9266\n",
            "[INFO] training on game: 1-25/400\n",
            "Epoch 1/5\n",
            "133/133 [==============================] - 14s 102ms/step - loss: 2.1068 - categorical_accuracy: 0.9044 - tp: 3847.0000 - fp: 356.0000 - tn: 29313.0000 - fn: 468.0000 - accuracy: 0.9758 - precision: 0.9153 - recall: 0.8915 - auc: 0.9886 - prc: 0.9581 - val_loss: 0.4511 - val_categorical_accuracy: 0.9134 - val_tp: 966.0000 - val_fp: 83.0000 - val_tn: 7335.0000 - val_fn: 112.0000 - val_accuracy: 0.9770 - val_precision: 0.9209 - val_recall: 0.8961 - val_auc: 0.9881 - val_prc: 0.9623\n",
            "Epoch 2/5\n",
            "133/133 [==============================] - 14s 102ms/step - loss: 2.0821 - categorical_accuracy: 0.9150 - tp: 3894.0000 - fp: 319.0000 - tn: 29350.0000 - fn: 421.0000 - accuracy: 0.9782 - precision: 0.9243 - recall: 0.9024 - auc: 0.9882 - prc: 0.9600 - val_loss: 0.4276 - val_categorical_accuracy: 0.9331 - val_tp: 993.0000 - val_fp: 67.0000 - val_tn: 7351.0000 - val_fn: 85.0000 - val_accuracy: 0.9821 - val_precision: 0.9368 - val_recall: 0.9212 - val_auc: 0.9894 - val_prc: 0.9668\n",
            "Epoch 3/5\n",
            "133/133 [==============================] - 13s 102ms/step - loss: 1.9350 - categorical_accuracy: 0.9143 - tp: 3884.0000 - fp: 333.0000 - tn: 29336.0000 - fn: 431.0000 - accuracy: 0.9775 - precision: 0.9210 - recall: 0.9001 - auc: 0.9897 - prc: 0.9641 - val_loss: 0.4287 - val_categorical_accuracy: 0.9294 - val_tp: 988.0000 - val_fp: 70.0000 - val_tn: 7348.0000 - val_fn: 90.0000 - val_accuracy: 0.9812 - val_precision: 0.9338 - val_recall: 0.9165 - val_auc: 0.9895 - val_prc: 0.9662\n",
            "Epoch 4/5\n",
            "133/133 [==============================] - 14s 102ms/step - loss: 2.2038 - categorical_accuracy: 0.9237 - tp: 3942.0000 - fp: 288.0000 - tn: 29381.0000 - fn: 373.0000 - accuracy: 0.9805 - precision: 0.9319 - recall: 0.9136 - auc: 0.9888 - prc: 0.9632 - val_loss: 0.4126 - val_categorical_accuracy: 0.9266 - val_tp: 987.0000 - val_fp: 73.0000 - val_tn: 7345.0000 - val_fn: 91.0000 - val_accuracy: 0.9807 - val_precision: 0.9311 - val_recall: 0.9156 - val_auc: 0.9898 - val_prc: 0.9678\n",
            "Epoch 5/5\n",
            "133/133 [==============================] - 14s 103ms/step - loss: 1.9410 - categorical_accuracy: 0.9209 - tp: 3922.0000 - fp: 301.0000 - tn: 29368.0000 - fn: 393.0000 - accuracy: 0.9796 - precision: 0.9287 - recall: 0.9089 - auc: 0.9895 - prc: 0.9652 - val_loss: 0.3898 - val_categorical_accuracy: 0.9313 - val_tp: 994.0000 - val_fp: 66.0000 - val_tn: 7352.0000 - val_fn: 84.0000 - val_accuracy: 0.9823 - val_precision: 0.9377 - val_recall: 0.9221 - val_auc: 0.9891 - val_prc: 0.9666\n",
            "[INFO] training on game: 26-50/400\n",
            "Epoch 1/5\n",
            "132/132 [==============================] - 14s 104ms/step - loss: 1.3850 - categorical_accuracy: 0.9099 - tp: 3821.0000 - fp: 320.0000 - tn: 29068.0000 - fn: 455.0000 - accuracy: 0.9770 - precision: 0.9227 - recall: 0.8936 - auc: 0.9873 - prc: 0.9559 - val_loss: 0.3373 - val_categorical_accuracy: 0.9364 - val_tp: 987.0000 - val_fp: 62.0000 - val_tn: 7298.0000 - val_fn: 77.0000 - val_accuracy: 0.9835 - val_precision: 0.9409 - val_recall: 0.9276 - val_auc: 0.9918 - val_prc: 0.9726\n",
            "Epoch 2/5\n",
            "132/132 [==============================] - 13s 102ms/step - loss: 1.4017 - categorical_accuracy: 0.9221 - tp: 3887.0000 - fp: 297.0000 - tn: 29091.0000 - fn: 389.0000 - accuracy: 0.9796 - precision: 0.9290 - recall: 0.9090 - auc: 0.9879 - prc: 0.9616 - val_loss: 0.4790 - val_categorical_accuracy: 0.9231 - val_tp: 971.0000 - val_fp: 76.0000 - val_tn: 7284.0000 - val_fn: 93.0000 - val_accuracy: 0.9799 - val_precision: 0.9274 - val_recall: 0.9126 - val_auc: 0.9870 - val_prc: 0.9566\n",
            "Epoch 3/5\n",
            "132/132 [==============================] - 13s 102ms/step - loss: 1.4052 - categorical_accuracy: 0.9261 - tp: 3904.0000 - fp: 286.0000 - tn: 29102.0000 - fn: 372.0000 - accuracy: 0.9805 - precision: 0.9317 - recall: 0.9130 - auc: 0.9878 - prc: 0.9641 - val_loss: 0.3051 - val_categorical_accuracy: 0.9411 - val_tp: 995.0000 - val_fp: 56.0000 - val_tn: 7304.0000 - val_fn: 69.0000 - val_accuracy: 0.9852 - val_precision: 0.9467 - val_recall: 0.9352 - val_auc: 0.9919 - val_prc: 0.9734\n",
            "Epoch 4/5\n",
            "132/132 [==============================] - 13s 102ms/step - loss: 1.3908 - categorical_accuracy: 0.9339 - tp: 3934.0000 - fp: 253.0000 - tn: 29135.0000 - fn: 342.0000 - accuracy: 0.9823 - precision: 0.9396 - recall: 0.9200 - auc: 0.9911 - prc: 0.9716 - val_loss: 0.2963 - val_categorical_accuracy: 0.9402 - val_tp: 992.0000 - val_fp: 58.0000 - val_tn: 7302.0000 - val_fn: 72.0000 - val_accuracy: 0.9846 - val_precision: 0.9448 - val_recall: 0.9323 - val_auc: 0.9920 - val_prc: 0.9738\n",
            "Epoch 5/5\n",
            "132/132 [==============================] - 14s 103ms/step - loss: 1.3519 - categorical_accuracy: 0.9361 - tp: 3938.0000 - fp: 246.0000 - tn: 29142.0000 - fn: 338.0000 - accuracy: 0.9827 - precision: 0.9412 - recall: 0.9210 - auc: 0.9893 - prc: 0.9695 - val_loss: 0.2735 - val_categorical_accuracy: 0.9440 - val_tp: 995.0000 - val_fp: 54.0000 - val_tn: 7306.0000 - val_fn: 69.0000 - val_accuracy: 0.9854 - val_precision: 0.9485 - val_recall: 0.9352 - val_auc: 0.9932 - val_prc: 0.9765\n",
            "[INFO] training on game: 51-75/400\n",
            "Epoch 1/5\n",
            "131/131 [==============================] - 13s 103ms/step - loss: 1.5254 - categorical_accuracy: 0.8672 - tp: 3600.0000 - fp: 488.0000 - tn: 28657.0000 - fn: 631.0000 - accuracy: 0.9665 - precision: 0.8806 - recall: 0.8509 - auc: 0.9710 - prc: 0.9124 - val_loss: 0.5082 - val_categorical_accuracy: 0.9128 - val_tp: 954.0000 - val_fp: 81.0000 - val_tn: 7202.0000 - val_fn: 107.0000 - val_accuracy: 0.9775 - val_precision: 0.9217 - val_recall: 0.8992 - val_auc: 0.9847 - val_prc: 0.9589\n",
            "Epoch 2/5\n",
            "131/131 [==============================] - 13s 102ms/step - loss: 1.4750 - categorical_accuracy: 0.9003 - tp: 3751.0000 - fp: 379.0000 - tn: 28766.0000 - fn: 480.0000 - accuracy: 0.9743 - precision: 0.9082 - recall: 0.8866 - auc: 0.9829 - prc: 0.9436 - val_loss: 0.4914 - val_categorical_accuracy: 0.9223 - val_tp: 964.0000 - val_fp: 76.0000 - val_tn: 7207.0000 - val_fn: 97.0000 - val_accuracy: 0.9793 - val_precision: 0.9269 - val_recall: 0.9086 - val_auc: 0.9855 - val_prc: 0.9631\n",
            "Epoch 3/5\n",
            "131/131 [==============================] - 13s 102ms/step - loss: 1.2685 - categorical_accuracy: 0.9132 - tp: 3811.0000 - fp: 337.0000 - tn: 28808.0000 - fn: 420.0000 - accuracy: 0.9773 - precision: 0.9188 - recall: 0.9007 - auc: 0.9848 - prc: 0.9531 - val_loss: 0.4623 - val_categorical_accuracy: 0.9195 - val_tp: 961.0000 - val_fp: 78.0000 - val_tn: 7205.0000 - val_fn: 100.0000 - val_accuracy: 0.9787 - val_precision: 0.9249 - val_recall: 0.9057 - val_auc: 0.9870 - val_prc: 0.9644\n",
            "Epoch 4/5\n",
            "131/131 [==============================] - 13s 102ms/step - loss: 1.4100 - categorical_accuracy: 0.9104 - tp: 3804.0000 - fp: 349.0000 - tn: 28796.0000 - fn: 427.0000 - accuracy: 0.9767 - precision: 0.9160 - recall: 0.8991 - auc: 0.9850 - prc: 0.9529 - val_loss: 0.4681 - val_categorical_accuracy: 0.9214 - val_tp: 961.0000 - val_fp: 75.0000 - val_tn: 7208.0000 - val_fn: 100.0000 - val_accuracy: 0.9790 - val_precision: 0.9276 - val_recall: 0.9057 - val_auc: 0.9870 - val_prc: 0.9649\n",
            "Epoch 5/5\n",
            "131/131 [==============================] - 13s 102ms/step - loss: 1.2733 - categorical_accuracy: 0.9123 - tp: 3810.0000 - fp: 337.0000 - tn: 28808.0000 - fn: 421.0000 - accuracy: 0.9773 - precision: 0.9187 - recall: 0.9005 - auc: 0.9850 - prc: 0.9514 - val_loss: 0.4223 - val_categorical_accuracy: 0.9310 - val_tp: 971.0000 - val_fp: 68.0000 - val_tn: 7215.0000 - val_fn: 90.0000 - val_accuracy: 0.9811 - val_precision: 0.9346 - val_recall: 0.9152 - val_auc: 0.9876 - val_prc: 0.9689\n",
            "[INFO] training on game: 76-100/400\n",
            "Epoch 1/5\n",
            "140/140 [==============================] - 14s 103ms/step - loss: 0.4875 - categorical_accuracy: 0.9127 - tp: 4070.0000 - fp: 353.0000 - tn: 30780.0000 - fn: 461.0000 - accuracy: 0.9772 - precision: 0.9202 - recall: 0.8983 - auc: 0.9844 - prc: 0.9514 - val_loss: 0.4168 - val_categorical_accuracy: 0.9247 - val_tp: 1032.0000 - val_fp: 80.0000 - val_tn: 7708.0000 - val_fn: 100.0000 - val_accuracy: 0.9798 - val_precision: 0.9281 - val_recall: 0.9117 - val_auc: 0.9863 - val_prc: 0.9599\n",
            "Epoch 2/5\n",
            "140/140 [==============================] - 14s 102ms/step - loss: 0.4969 - categorical_accuracy: 0.9114 - tp: 4065.0000 - fp: 360.0000 - tn: 30773.0000 - fn: 466.0000 - accuracy: 0.9768 - precision: 0.9186 - recall: 0.8972 - auc: 0.9851 - prc: 0.9543 - val_loss: 0.3547 - val_categorical_accuracy: 0.9372 - val_tp: 1045.0000 - val_fp: 65.0000 - val_tn: 7723.0000 - val_fn: 87.0000 - val_accuracy: 0.9830 - val_precision: 0.9414 - val_recall: 0.9231 - val_auc: 0.9883 - val_prc: 0.9654\n",
            "Epoch 3/5\n",
            "140/140 [==============================] - 14s 102ms/step - loss: 0.4418 - categorical_accuracy: 0.9204 - tp: 4101.0000 - fp: 328.0000 - tn: 30805.0000 - fn: 430.0000 - accuracy: 0.9787 - precision: 0.9259 - recall: 0.9051 - auc: 0.9870 - prc: 0.9608 - val_loss: 0.3646 - val_categorical_accuracy: 0.9291 - val_tp: 1037.0000 - val_fp: 76.0000 - val_tn: 7712.0000 - val_fn: 95.0000 - val_accuracy: 0.9808 - val_precision: 0.9317 - val_recall: 0.9161 - val_auc: 0.9871 - val_prc: 0.9624\n",
            "Epoch 4/5\n",
            "140/140 [==============================] - 14s 101ms/step - loss: 0.4420 - categorical_accuracy: 0.9228 - tp: 4116.0000 - fp: 311.0000 - tn: 30822.0000 - fn: 415.0000 - accuracy: 0.9796 - precision: 0.9297 - recall: 0.9084 - auc: 0.9874 - prc: 0.9588 - val_loss: 0.3636 - val_categorical_accuracy: 0.9283 - val_tp: 1035.0000 - val_fp: 76.0000 - val_tn: 7712.0000 - val_fn: 97.0000 - val_accuracy: 0.9806 - val_precision: 0.9316 - val_recall: 0.9143 - val_auc: 0.9869 - val_prc: 0.9628\n",
            "Epoch 5/5\n",
            "140/140 [==============================] - 14s 103ms/step - loss: 0.4953 - categorical_accuracy: 0.9233 - tp: 4126.0000 - fp: 313.0000 - tn: 30820.0000 - fn: 405.0000 - accuracy: 0.9799 - precision: 0.9295 - recall: 0.9106 - auc: 0.9866 - prc: 0.9595 - val_loss: 0.3548 - val_categorical_accuracy: 0.9283 - val_tp: 1037.0000 - val_fp: 77.0000 - val_tn: 7711.0000 - val_fn: 95.0000 - val_accuracy: 0.9807 - val_precision: 0.9309 - val_recall: 0.9161 - val_auc: 0.9863 - val_prc: 0.9597\n",
            "[INFO] training on game: 101-125/400\n",
            "Epoch 1/5\n",
            "133/133 [==============================] - 14s 104ms/step - loss: 1.6594 - categorical_accuracy: 0.9098 - tp: 3853.0000 - fp: 344.0000 - tn: 29167.0000 - fn: 444.0000 - accuracy: 0.9767 - precision: 0.9180 - recall: 0.8967 - auc: 0.9839 - prc: 0.9537 - val_loss: 0.4180 - val_categorical_accuracy: 0.9253 - val_tp: 979.0000 - val_fp: 71.0000 - val_tn: 7309.0000 - val_fn: 97.0000 - val_accuracy: 0.9801 - val_precision: 0.9324 - val_recall: 0.9099 - val_auc: 0.9868 - val_prc: 0.9623\n",
            "Epoch 2/5\n",
            "133/133 [==============================] - 14s 102ms/step - loss: 1.3166 - categorical_accuracy: 0.9281 - tp: 3935.0000 - fp: 278.0000 - tn: 29233.0000 - fn: 362.0000 - accuracy: 0.9811 - precision: 0.9340 - recall: 0.9158 - auc: 0.9900 - prc: 0.9700 - val_loss: 0.3570 - val_categorical_accuracy: 0.9385 - val_tp: 995.0000 - val_fp: 57.0000 - val_tn: 7323.0000 - val_fn: 81.0000 - val_accuracy: 0.9837 - val_precision: 0.9458 - val_recall: 0.9247 - val_auc: 0.9906 - val_prc: 0.9742\n",
            "Epoch 3/5\n",
            "133/133 [==============================] - 14s 103ms/step - loss: 1.3469 - categorical_accuracy: 0.9290 - tp: 3943.0000 - fp: 268.0000 - tn: 29243.0000 - fn: 354.0000 - accuracy: 0.9816 - precision: 0.9364 - recall: 0.9176 - auc: 0.9890 - prc: 0.9673 - val_loss: 0.3478 - val_categorical_accuracy: 0.9395 - val_tp: 993.0000 - val_fp: 60.0000 - val_tn: 7320.0000 - val_fn: 83.0000 - val_accuracy: 0.9831 - val_precision: 0.9430 - val_recall: 0.9229 - val_auc: 0.9906 - val_prc: 0.9741\n",
            "Epoch 4/5\n",
            "133/133 [==============================] - 13s 101ms/step - loss: 1.4119 - categorical_accuracy: 0.9316 - tp: 3946.0000 - fp: 261.0000 - tn: 29250.0000 - fn: 351.0000 - accuracy: 0.9819 - precision: 0.9380 - recall: 0.9183 - auc: 0.9901 - prc: 0.9698 - val_loss: 0.3433 - val_categorical_accuracy: 0.9395 - val_tp: 995.0000 - val_fp: 61.0000 - val_tn: 7319.0000 - val_fn: 81.0000 - val_accuracy: 0.9832 - val_precision: 0.9422 - val_recall: 0.9247 - val_auc: 0.9904 - val_prc: 0.9724\n",
            "Epoch 5/5\n",
            "133/133 [==============================] - 14s 102ms/step - loss: 1.3819 - categorical_accuracy: 0.9389 - tp: 3979.0000 - fp: 229.0000 - tn: 29282.0000 - fn: 318.0000 - accuracy: 0.9838 - precision: 0.9456 - recall: 0.9260 - auc: 0.9916 - prc: 0.9755 - val_loss: 0.3476 - val_categorical_accuracy: 0.9357 - val_tp: 988.0000 - val_fp: 64.0000 - val_tn: 7316.0000 - val_fn: 88.0000 - val_accuracy: 0.9820 - val_precision: 0.9392 - val_recall: 0.9182 - val_auc: 0.9905 - val_prc: 0.9734\n",
            "[INFO] training on game: 126-150/400\n",
            "Epoch 1/5\n",
            "125/125 [==============================] - 13s 103ms/step - loss: 0.3370 - categorical_accuracy: 0.9268 - tp: 3703.0000 - fp: 270.0000 - tn: 27624.0000 - fn: 331.0000 - accuracy: 0.9812 - precision: 0.9320 - recall: 0.9179 - auc: 0.9893 - prc: 0.9656 - val_loss: 0.3226 - val_categorical_accuracy: 0.9429 - val_tp: 942.0000 - val_fp: 53.0000 - val_tn: 6917.0000 - val_fn: 72.0000 - val_accuracy: 0.9843 - val_precision: 0.9467 - val_recall: 0.9290 - val_auc: 0.9918 - val_prc: 0.9739\n",
            "Epoch 2/5\n",
            "125/125 [==============================] - 13s 105ms/step - loss: 0.3651 - categorical_accuracy: 0.9351 - tp: 3736.0000 - fp: 245.0000 - tn: 27649.0000 - fn: 298.0000 - accuracy: 0.9830 - precision: 0.9385 - recall: 0.9261 - auc: 0.9904 - prc: 0.9708 - val_loss: 0.3138 - val_categorical_accuracy: 0.9439 - val_tp: 944.0000 - val_fp: 54.0000 - val_tn: 6916.0000 - val_fn: 70.0000 - val_accuracy: 0.9845 - val_precision: 0.9459 - val_recall: 0.9310 - val_auc: 0.9914 - val_prc: 0.9742\n",
            "Epoch 3/5\n",
            "125/125 [==============================] - 13s 102ms/step - loss: 0.3773 - categorical_accuracy: 0.9361 - tp: 3737.0000 - fp: 242.0000 - tn: 27652.0000 - fn: 297.0000 - accuracy: 0.9831 - precision: 0.9392 - recall: 0.9264 - auc: 0.9909 - prc: 0.9712 - val_loss: 0.3106 - val_categorical_accuracy: 0.9449 - val_tp: 945.0000 - val_fp: 52.0000 - val_tn: 6918.0000 - val_fn: 69.0000 - val_accuracy: 0.9848 - val_precision: 0.9478 - val_recall: 0.9320 - val_auc: 0.9916 - val_prc: 0.9765\n",
            "Epoch 4/5\n",
            "125/125 [==============================] - 13s 103ms/step - loss: 0.3268 - categorical_accuracy: 0.9376 - tp: 3746.0000 - fp: 238.0000 - tn: 27656.0000 - fn: 288.0000 - accuracy: 0.9835 - precision: 0.9403 - recall: 0.9286 - auc: 0.9901 - prc: 0.9705 - val_loss: 0.3142 - val_categorical_accuracy: 0.9429 - val_tp: 944.0000 - val_fp: 54.0000 - val_tn: 6916.0000 - val_fn: 70.0000 - val_accuracy: 0.9845 - val_precision: 0.9459 - val_recall: 0.9310 - val_auc: 0.9911 - val_prc: 0.9760\n",
            "Epoch 5/5\n",
            "125/125 [==============================] - 13s 102ms/step - loss: 0.2999 - categorical_accuracy: 0.9399 - tp: 3757.0000 - fp: 222.0000 - tn: 27672.0000 - fn: 277.0000 - accuracy: 0.9844 - precision: 0.9442 - recall: 0.9313 - auc: 0.9921 - prc: 0.9751 - val_loss: 0.3154 - val_categorical_accuracy: 0.9429 - val_tp: 943.0000 - val_fp: 54.0000 - val_tn: 6916.0000 - val_fn: 71.0000 - val_accuracy: 0.9843 - val_precision: 0.9458 - val_recall: 0.9300 - val_auc: 0.9915 - val_prc: 0.9756\n",
            "[INFO] training on game: 151-175/400\n",
            "Epoch 1/5\n",
            "144/144 [==============================] - 15s 103ms/step - loss: 4.3306 - categorical_accuracy: 0.9401 - tp: 4314.0000 - fp: 264.0000 - tn: 31790.0000 - fn: 336.0000 - accuracy: 0.9837 - precision: 0.9423 - recall: 0.9277 - auc: 0.9891 - prc: 0.9686 - val_loss: 0.2631 - val_categorical_accuracy: 0.9486 - val_tp: 1092.0000 - val_fp: 53.0000 - val_tn: 7969.0000 - val_fn: 70.0000 - val_accuracy: 0.9866 - val_precision: 0.9537 - val_recall: 0.9398 - val_auc: 0.9924 - val_prc: 0.9754\n",
            "Epoch 2/5\n",
            "144/144 [==============================] - 15s 102ms/step - loss: 3.7712 - categorical_accuracy: 0.9425 - tp: 4328.0000 - fp: 246.0000 - tn: 31808.0000 - fn: 322.0000 - accuracy: 0.9845 - precision: 0.9462 - recall: 0.9308 - auc: 0.9908 - prc: 0.9743 - val_loss: 0.2841 - val_categorical_accuracy: 0.9416 - val_tp: 1085.0000 - val_fp: 61.0000 - val_tn: 7961.0000 - val_fn: 77.0000 - val_accuracy: 0.9850 - val_precision: 0.9468 - val_recall: 0.9337 - val_auc: 0.9913 - val_prc: 0.9725\n",
            "Epoch 3/5\n",
            "144/144 [==============================] - 15s 102ms/step - loss: 4.2205 - categorical_accuracy: 0.9388 - tp: 4317.0000 - fp: 256.0000 - tn: 31798.0000 - fn: 333.0000 - accuracy: 0.9840 - precision: 0.9440 - recall: 0.9284 - auc: 0.9914 - prc: 0.9738 - val_loss: 0.3008 - val_categorical_accuracy: 0.9399 - val_tp: 1084.0000 - val_fp: 62.0000 - val_tn: 7960.0000 - val_fn: 78.0000 - val_accuracy: 0.9848 - val_precision: 0.9459 - val_recall: 0.9329 - val_auc: 0.9911 - val_prc: 0.9717\n",
            "Epoch 4/5\n",
            "144/144 [==============================] - 15s 102ms/step - loss: 4.5382 - categorical_accuracy: 0.9440 - tp: 4341.0000 - fp: 239.0000 - tn: 31815.0000 - fn: 309.0000 - accuracy: 0.9851 - precision: 0.9478 - recall: 0.9335 - auc: 0.9910 - prc: 0.9746 - val_loss: 0.2397 - val_categorical_accuracy: 0.9538 - val_tp: 1102.0000 - val_fp: 45.0000 - val_tn: 7977.0000 - val_fn: 60.0000 - val_accuracy: 0.9886 - val_precision: 0.9608 - val_recall: 0.9484 - val_auc: 0.9935 - val_prc: 0.9784\n",
            "Epoch 5/5\n",
            "144/144 [==============================] - 15s 102ms/step - loss: 4.3916 - categorical_accuracy: 0.9488 - tp: 4359.0000 - fp: 219.0000 - tn: 31835.0000 - fn: 291.0000 - accuracy: 0.9861 - precision: 0.9522 - recall: 0.9374 - auc: 0.9929 - prc: 0.9790 - val_loss: 0.2525 - val_categorical_accuracy: 0.9538 - val_tp: 1100.0000 - val_fp: 48.0000 - val_tn: 7974.0000 - val_fn: 62.0000 - val_accuracy: 0.9880 - val_precision: 0.9582 - val_recall: 0.9466 - val_auc: 0.9927 - val_prc: 0.9776\n",
            "[INFO] training on game: 176-200/400\n",
            "Epoch 1/5\n",
            "144/144 [==============================] - 15s 103ms/step - loss: 0.7810 - categorical_accuracy: 0.8929 - tp: 4117.0000 - fp: 452.0000 - tn: 31636.0000 - fn: 547.0000 - accuracy: 0.9728 - precision: 0.9011 - recall: 0.8827 - auc: 0.9763 - prc: 0.9300 - val_loss: 0.6562 - val_categorical_accuracy: 0.8886 - val_tp: 1028.0000 - val_fp: 105.0000 - val_tn: 7916.0000 - val_fn: 143.0000 - val_accuracy: 0.9730 - val_precision: 0.9073 - val_recall: 0.8779 - val_auc: 0.9767 - val_prc: 0.9306\n",
            "Epoch 2/5\n",
            "144/144 [==============================] - 15s 102ms/step - loss: 0.5186 - categorical_accuracy: 0.8855 - tp: 4072.0000 - fp: 480.0000 - tn: 31608.0000 - fn: 592.0000 - accuracy: 0.9708 - precision: 0.8946 - recall: 0.8731 - auc: 0.9755 - prc: 0.9244 - val_loss: 0.7181 - val_categorical_accuracy: 0.8982 - val_tp: 1031.0000 - val_fp: 106.0000 - val_tn: 7915.0000 - val_fn: 140.0000 - val_accuracy: 0.9732 - val_precision: 0.9068 - val_recall: 0.8804 - val_auc: 0.9771 - val_prc: 0.9247\n",
            "Epoch 3/5\n",
            "144/144 [==============================] - 15s 102ms/step - loss: 0.6712 - categorical_accuracy: 0.8933 - tp: 4100.0000 - fp: 462.0000 - tn: 31626.0000 - fn: 564.0000 - accuracy: 0.9721 - precision: 0.8987 - recall: 0.8791 - auc: 0.9801 - prc: 0.9378 - val_loss: 0.7114 - val_categorical_accuracy: 0.8903 - val_tp: 1025.0000 - val_fp: 118.0000 - val_tn: 7903.0000 - val_fn: 146.0000 - val_accuracy: 0.9713 - val_precision: 0.8968 - val_recall: 0.8753 - val_auc: 0.9777 - val_prc: 0.9235\n",
            "Epoch 4/5\n",
            "144/144 [==============================] - 15s 102ms/step - loss: 0.5888 - categorical_accuracy: 0.8940 - tp: 4109.0000 - fp: 463.0000 - tn: 31625.0000 - fn: 555.0000 - accuracy: 0.9723 - precision: 0.8987 - recall: 0.8810 - auc: 0.9800 - prc: 0.9369 - val_loss: 0.6803 - val_categorical_accuracy: 0.9069 - val_tp: 1042.0000 - val_fp: 100.0000 - val_tn: 7921.0000 - val_fn: 129.0000 - val_accuracy: 0.9751 - val_precision: 0.9124 - val_recall: 0.8898 - val_auc: 0.9784 - val_prc: 0.9274\n",
            "Epoch 5/5\n",
            "144/144 [==============================] - 15s 102ms/step - loss: 0.5808 - categorical_accuracy: 0.8964 - tp: 4118.0000 - fp: 449.0000 - tn: 31639.0000 - fn: 546.0000 - accuracy: 0.9729 - precision: 0.9017 - recall: 0.8829 - auc: 0.9805 - prc: 0.9405 - val_loss: 0.6670 - val_categorical_accuracy: 0.9060 - val_tp: 1045.0000 - val_fp: 96.0000 - val_tn: 7925.0000 - val_fn: 126.0000 - val_accuracy: 0.9758 - val_precision: 0.9159 - val_recall: 0.8924 - val_auc: 0.9770 - val_prc: 0.9261\n",
            "[INFO] training on game: 201-225/400\n",
            "Epoch 1/5\n",
            "146/146 [==============================] - 15s 102ms/step - loss: 0.4308 - categorical_accuracy: 0.9058 - tp: 4219.0000 - fp: 408.0000 - tn: 32103.0000 - fn: 486.0000 - accuracy: 0.9760 - precision: 0.9118 - recall: 0.8967 - auc: 0.9840 - prc: 0.9514 - val_loss: 0.5646 - val_categorical_accuracy: 0.9158 - val_tp: 1066.0000 - val_fp: 97.0000 - val_tn: 8033.0000 - val_fn: 116.0000 - val_accuracy: 0.9771 - val_precision: 0.9166 - val_recall: 0.9019 - val_auc: 0.9809 - val_prc: 0.9424\n",
            "Epoch 2/5\n",
            "146/146 [==============================] - 15s 102ms/step - loss: 0.4333 - categorical_accuracy: 0.9250 - tp: 4307.0000 - fp: 326.0000 - tn: 32185.0000 - fn: 398.0000 - accuracy: 0.9805 - precision: 0.9296 - recall: 0.9154 - auc: 0.9862 - prc: 0.9617 - val_loss: 0.4914 - val_categorical_accuracy: 0.9270 - val_tp: 1080.0000 - val_fp: 81.0000 - val_tn: 8049.0000 - val_fn: 102.0000 - val_accuracy: 0.9803 - val_precision: 0.9302 - val_recall: 0.9137 - val_auc: 0.9839 - val_prc: 0.9519\n",
            "Epoch 3/5\n",
            "146/146 [==============================] - 15s 101ms/step - loss: 0.3614 - categorical_accuracy: 0.9297 - tp: 4340.0000 - fp: 302.0000 - tn: 32209.0000 - fn: 365.0000 - accuracy: 0.9821 - precision: 0.9349 - recall: 0.9224 - auc: 0.9876 - prc: 0.9666 - val_loss: 0.4625 - val_categorical_accuracy: 0.9270 - val_tp: 1081.0000 - val_fp: 79.0000 - val_tn: 8051.0000 - val_fn: 101.0000 - val_accuracy: 0.9807 - val_precision: 0.9319 - val_recall: 0.9146 - val_auc: 0.9849 - val_prc: 0.9519\n",
            "Epoch 4/5\n",
            "146/146 [==============================] - 15s 102ms/step - loss: 0.3758 - categorical_accuracy: 0.9331 - tp: 4354.0000 - fp: 276.0000 - tn: 32235.0000 - fn: 351.0000 - accuracy: 0.9832 - precision: 0.9404 - recall: 0.9254 - auc: 0.9875 - prc: 0.9660 - val_loss: 0.4492 - val_categorical_accuracy: 0.9253 - val_tp: 1081.0000 - val_fp: 81.0000 - val_tn: 8049.0000 - val_fn: 101.0000 - val_accuracy: 0.9805 - val_precision: 0.9303 - val_recall: 0.9146 - val_auc: 0.9865 - val_prc: 0.9557\n",
            "Epoch 5/5\n",
            "146/146 [==============================] - 15s 102ms/step - loss: 0.3846 - categorical_accuracy: 0.9379 - tp: 4372.0000 - fp: 270.0000 - tn: 32241.0000 - fn: 333.0000 - accuracy: 0.9838 - precision: 0.9418 - recall: 0.9292 - auc: 0.9893 - prc: 0.9696 - val_loss: 0.4537 - val_categorical_accuracy: 0.9278 - val_tp: 1083.0000 - val_fp: 80.0000 - val_tn: 8050.0000 - val_fn: 99.0000 - val_accuracy: 0.9808 - val_precision: 0.9312 - val_recall: 0.9162 - val_auc: 0.9865 - val_prc: 0.9565\n",
            "[INFO] training on game: 226-250/400\n",
            "Epoch 1/5\n",
            "142/142 [==============================] - 15s 105ms/step - loss: 0.4406 - categorical_accuracy: 0.9195 - tp: 4177.0000 - fp: 333.0000 - tn: 31311.0000 - fn: 443.0000 - accuracy: 0.9786 - precision: 0.9262 - recall: 0.9041 - auc: 0.9866 - prc: 0.9603 - val_loss: 0.4122 - val_categorical_accuracy: 0.9303 - val_tp: 1055.0000 - val_fp: 78.0000 - val_tn: 7843.0000 - val_fn: 96.0000 - val_accuracy: 0.9808 - val_precision: 0.9312 - val_recall: 0.9166 - val_auc: 0.9891 - val_prc: 0.9713\n",
            "Epoch 2/5\n",
            "142/142 [==============================] - 14s 102ms/step - loss: 0.4725 - categorical_accuracy: 0.9235 - tp: 4193.0000 - fp: 313.0000 - tn: 31331.0000 - fn: 427.0000 - accuracy: 0.9796 - precision: 0.9305 - recall: 0.9076 - auc: 0.9864 - prc: 0.9620 - val_loss: 0.3934 - val_categorical_accuracy: 0.9339 - val_tp: 1060.0000 - val_fp: 73.0000 - val_tn: 7848.0000 - val_fn: 91.0000 - val_accuracy: 0.9819 - val_precision: 0.9356 - val_recall: 0.9209 - val_auc: 0.9898 - val_prc: 0.9734\n",
            "Epoch 3/5\n",
            "142/142 [==============================] - 14s 101ms/step - loss: 0.4368 - categorical_accuracy: 0.9243 - tp: 4207.0000 - fp: 305.0000 - tn: 31339.0000 - fn: 413.0000 - accuracy: 0.9802 - precision: 0.9324 - recall: 0.9106 - auc: 0.9865 - prc: 0.9615 - val_loss: 0.3957 - val_categorical_accuracy: 0.9295 - val_tp: 1054.0000 - val_fp: 78.0000 - val_tn: 7843.0000 - val_fn: 97.0000 - val_accuracy: 0.9807 - val_precision: 0.9311 - val_recall: 0.9157 - val_auc: 0.9898 - val_prc: 0.9724\n",
            "Epoch 4/5\n",
            "142/142 [==============================] - 14s 102ms/step - loss: 0.4114 - categorical_accuracy: 0.9268 - tp: 4218.0000 - fp: 299.0000 - tn: 31345.0000 - fn: 402.0000 - accuracy: 0.9807 - precision: 0.9338 - recall: 0.9130 - auc: 0.9859 - prc: 0.9614 - val_loss: 0.4283 - val_categorical_accuracy: 0.9250 - val_tp: 1047.0000 - val_fp: 83.0000 - val_tn: 7838.0000 - val_fn: 104.0000 - val_accuracy: 0.9794 - val_precision: 0.9265 - val_recall: 0.9096 - val_auc: 0.9889 - val_prc: 0.9690\n",
            "Epoch 5/5\n",
            "142/142 [==============================] - 14s 102ms/step - loss: 0.4593 - categorical_accuracy: 0.9360 - tp: 4254.0000 - fp: 266.0000 - tn: 31378.0000 - fn: 366.0000 - accuracy: 0.9826 - precision: 0.9412 - recall: 0.9208 - auc: 0.9875 - prc: 0.9668 - val_loss: 0.4531 - val_categorical_accuracy: 0.9233 - val_tp: 1046.0000 - val_fp: 86.0000 - val_tn: 7835.0000 - val_fn: 105.0000 - val_accuracy: 0.9789 - val_precision: 0.9240 - val_recall: 0.9088 - val_auc: 0.9877 - val_prc: 0.9670\n",
            "[INFO] training on game: 251-275/400\n",
            "Epoch 1/5\n",
            "133/133 [==============================] - 14s 103ms/step - loss: 0.4813 - categorical_accuracy: 0.9169 - tp: 3910.0000 - fp: 326.0000 - tn: 29340.0000 - fn: 416.0000 - accuracy: 0.9782 - precision: 0.9230 - recall: 0.9038 - auc: 0.9840 - prc: 0.9539 - val_loss: 0.2443 - val_categorical_accuracy: 0.9417 - val_tp: 1000.0000 - val_fp: 59.0000 - val_tn: 7368.0000 - val_fn: 77.0000 - val_accuracy: 0.9840 - val_precision: 0.9443 - val_recall: 0.9285 - val_auc: 0.9914 - val_prc: 0.9731\n",
            "Epoch 2/5\n",
            "133/133 [==============================] - 14s 103ms/step - loss: 0.4323 - categorical_accuracy: 0.9167 - tp: 3901.0000 - fp: 328.0000 - tn: 29338.0000 - fn: 425.0000 - accuracy: 0.9778 - precision: 0.9224 - recall: 0.9018 - auc: 0.9843 - prc: 0.9538 - val_loss: 0.3910 - val_categorical_accuracy: 0.9238 - val_tp: 982.0000 - val_fp: 80.0000 - val_tn: 7347.0000 - val_fn: 95.0000 - val_accuracy: 0.9794 - val_precision: 0.9247 - val_recall: 0.9118 - val_auc: 0.9837 - val_prc: 0.9545\n",
            "Epoch 3/5\n",
            "133/133 [==============================] - 14s 103ms/step - loss: 0.4341 - categorical_accuracy: 0.9207 - tp: 3925.0000 - fp: 309.0000 - tn: 29357.0000 - fn: 401.0000 - accuracy: 0.9791 - precision: 0.9270 - recall: 0.9073 - auc: 0.9849 - prc: 0.9565 - val_loss: 0.2707 - val_categorical_accuracy: 0.9436 - val_tp: 1005.0000 - val_fp: 58.0000 - val_tn: 7369.0000 - val_fn: 72.0000 - val_accuracy: 0.9847 - val_precision: 0.9454 - val_recall: 0.9331 - val_auc: 0.9893 - val_prc: 0.9678\n",
            "Epoch 4/5\n",
            "133/133 [==============================] - 14s 103ms/step - loss: 0.4919 - categorical_accuracy: 0.9209 - tp: 3932.0000 - fp: 298.0000 - tn: 29368.0000 - fn: 394.0000 - accuracy: 0.9796 - precision: 0.9296 - recall: 0.9089 - auc: 0.9872 - prc: 0.9622 - val_loss: 0.2664 - val_categorical_accuracy: 0.9445 - val_tp: 1005.0000 - val_fp: 58.0000 - val_tn: 7369.0000 - val_fn: 72.0000 - val_accuracy: 0.9847 - val_precision: 0.9454 - val_recall: 0.9331 - val_auc: 0.9912 - val_prc: 0.9701\n",
            "Epoch 5/5\n",
            "133/133 [==============================] - 14s 103ms/step - loss: 0.4592 - categorical_accuracy: 0.9233 - tp: 3938.0000 - fp: 298.0000 - tn: 29368.0000 - fn: 388.0000 - accuracy: 0.9798 - precision: 0.9297 - recall: 0.9103 - auc: 0.9860 - prc: 0.9611 - val_loss: 0.2597 - val_categorical_accuracy: 0.9389 - val_tp: 999.0000 - val_fp: 62.0000 - val_tn: 7365.0000 - val_fn: 78.0000 - val_accuracy: 0.9835 - val_precision: 0.9416 - val_recall: 0.9276 - val_auc: 0.9914 - val_prc: 0.9732\n",
            "[INFO] training on game: 276-300/400\n",
            "Epoch 1/5\n",
            "128/128 [==============================] - 13s 104ms/step - loss: 0.4869 - categorical_accuracy: 0.9116 - tp: 3747.0000 - fp: 331.0000 - tn: 28281.0000 - fn: 409.0000 - accuracy: 0.9774 - precision: 0.9188 - recall: 0.9016 - auc: 0.9843 - prc: 0.9525 - val_loss: 0.4367 - val_categorical_accuracy: 0.8927 - val_tp: 919.0000 - val_fp: 101.0000 - val_tn: 7065.0000 - val_fn: 115.0000 - val_accuracy: 0.9737 - val_precision: 0.9010 - val_recall: 0.8888 - val_auc: 0.9836 - val_prc: 0.9474\n",
            "Epoch 2/5\n",
            "128/128 [==============================] - 13s 103ms/step - loss: 0.4224 - categorical_accuracy: 0.9053 - tp: 3716.0000 - fp: 350.0000 - tn: 28262.0000 - fn: 440.0000 - accuracy: 0.9759 - precision: 0.9139 - recall: 0.8941 - auc: 0.9856 - prc: 0.9532 - val_loss: 0.4868 - val_categorical_accuracy: 0.8907 - val_tp: 914.0000 - val_fp: 101.0000 - val_tn: 7065.0000 - val_fn: 120.0000 - val_accuracy: 0.9730 - val_precision: 0.9005 - val_recall: 0.8839 - val_auc: 0.9814 - val_prc: 0.9416\n",
            "Epoch 3/5\n",
            "128/128 [==============================] - 13s 103ms/step - loss: 0.3651 - categorical_accuracy: 0.9160 - tp: 3762.0000 - fp: 303.0000 - tn: 28309.0000 - fn: 394.0000 - accuracy: 0.9787 - precision: 0.9255 - recall: 0.9052 - auc: 0.9864 - prc: 0.9564 - val_loss: 0.5198 - val_categorical_accuracy: 0.8888 - val_tp: 915.0000 - val_fp: 108.0000 - val_tn: 7058.0000 - val_fn: 119.0000 - val_accuracy: 0.9723 - val_precision: 0.8944 - val_recall: 0.8849 - val_auc: 0.9805 - val_prc: 0.9395\n",
            "Epoch 4/5\n",
            "128/128 [==============================] - 13s 103ms/step - loss: 0.3705 - categorical_accuracy: 0.9185 - tp: 3770.0000 - fp: 301.0000 - tn: 28311.0000 - fn: 386.0000 - accuracy: 0.9790 - precision: 0.9261 - recall: 0.9071 - auc: 0.9868 - prc: 0.9585 - val_loss: 0.4763 - val_categorical_accuracy: 0.8985 - val_tp: 923.0000 - val_fp: 97.0000 - val_tn: 7069.0000 - val_fn: 111.0000 - val_accuracy: 0.9746 - val_precision: 0.9049 - val_recall: 0.8926 - val_auc: 0.9820 - val_prc: 0.9433\n",
            "Epoch 5/5\n",
            "128/128 [==============================] - 13s 103ms/step - loss: 0.4102 - categorical_accuracy: 0.9229 - tp: 3783.0000 - fp: 286.0000 - tn: 28326.0000 - fn: 373.0000 - accuracy: 0.9799 - precision: 0.9297 - recall: 0.9103 - auc: 0.9872 - prc: 0.9589 - val_loss: 0.4533 - val_categorical_accuracy: 0.9073 - val_tp: 929.0000 - val_fp: 89.0000 - val_tn: 7077.0000 - val_fn: 105.0000 - val_accuracy: 0.9763 - val_precision: 0.9126 - val_recall: 0.8985 - val_auc: 0.9822 - val_prc: 0.9494\n",
            "[INFO] training on game: 301-325/400\n",
            "Epoch 1/5\n",
            "123/123 [==============================] - 13s 103ms/step - loss: 2.6403 - categorical_accuracy: 0.8558 - tp: 3354.0000 - fp: 516.0000 - tn: 26902.0000 - fn: 636.0000 - accuracy: 0.9633 - precision: 0.8667 - recall: 0.8406 - auc: 0.9664 - prc: 0.8961 - val_loss: 0.5686 - val_categorical_accuracy: 0.8595 - val_tp: 847.0000 - val_fp: 126.0000 - val_tn: 6723.0000 - val_fn: 160.0000 - val_accuracy: 0.9636 - val_precision: 0.8705 - val_recall: 0.8411 - val_auc: 0.9781 - val_prc: 0.9214\n",
            "Epoch 2/5\n",
            "123/123 [==============================] - 13s 103ms/step - loss: 2.2932 - categorical_accuracy: 0.8719 - tp: 3418.0000 - fp: 463.0000 - tn: 26955.0000 - fn: 572.0000 - accuracy: 0.9670 - precision: 0.8807 - recall: 0.8566 - auc: 0.9772 - prc: 0.9223 - val_loss: 0.6383 - val_categorical_accuracy: 0.8707 - val_tp: 850.0000 - val_fp: 115.0000 - val_tn: 6734.0000 - val_fn: 157.0000 - val_accuracy: 0.9654 - val_precision: 0.8808 - val_recall: 0.8441 - val_auc: 0.9740 - val_prc: 0.9182\n",
            "Epoch 3/5\n",
            "123/123 [==============================] - 13s 103ms/step - loss: 2.2245 - categorical_accuracy: 0.8782 - tp: 3444.0000 - fp: 428.0000 - tn: 26990.0000 - fn: 546.0000 - accuracy: 0.9690 - precision: 0.8895 - recall: 0.8632 - auc: 0.9779 - prc: 0.9246 - val_loss: 0.6114 - val_categorical_accuracy: 0.8758 - val_tp: 855.0000 - val_fp: 112.0000 - val_tn: 6737.0000 - val_fn: 152.0000 - val_accuracy: 0.9664 - val_precision: 0.8842 - val_recall: 0.8491 - val_auc: 0.9735 - val_prc: 0.9167\n",
            "Epoch 4/5\n",
            "123/123 [==============================] - 13s 103ms/step - loss: 2.3371 - categorical_accuracy: 0.8841 - tp: 3460.0000 - fp: 407.0000 - tn: 27011.0000 - fn: 530.0000 - accuracy: 0.9702 - precision: 0.8948 - recall: 0.8672 - auc: 0.9796 - prc: 0.9290 - val_loss: 0.6472 - val_categorical_accuracy: 0.8635 - val_tp: 847.0000 - val_fp: 123.0000 - val_tn: 6726.0000 - val_fn: 160.0000 - val_accuracy: 0.9640 - val_precision: 0.8732 - val_recall: 0.8411 - val_auc: 0.9718 - val_prc: 0.9040\n",
            "Epoch 5/5\n",
            "123/123 [==============================] - 13s 102ms/step - loss: 2.1437 - categorical_accuracy: 0.8813 - tp: 3451.0000 - fp: 429.0000 - tn: 26989.0000 - fn: 539.0000 - accuracy: 0.9692 - precision: 0.8894 - recall: 0.8649 - auc: 0.9790 - prc: 0.9276 - val_loss: 0.5630 - val_categorical_accuracy: 0.8778 - val_tp: 864.0000 - val_fp: 106.0000 - val_tn: 6743.0000 - val_fn: 143.0000 - val_accuracy: 0.9683 - val_precision: 0.8907 - val_recall: 0.8580 - val_auc: 0.9780 - val_prc: 0.9280\n",
            "[INFO] training on game: 326-350/400\n",
            "Epoch 1/5\n",
            "133/133 [==============================] - 14s 103ms/step - loss: 0.7024 - categorical_accuracy: 0.8487 - tp: 3611.0000 - fp: 591.0000 - tn: 29142.0000 - fn: 704.0000 - accuracy: 0.9620 - precision: 0.8594 - recall: 0.8368 - auc: 0.9714 - prc: 0.8956 - val_loss: 0.4589 - val_categorical_accuracy: 0.8817 - val_tp: 934.0000 - val_fp: 118.0000 - val_tn: 7326.0000 - val_fn: 142.0000 - val_accuracy: 0.9695 - val_precision: 0.8878 - val_recall: 0.8680 - val_auc: 0.9825 - val_prc: 0.9313\n",
            "Epoch 2/5\n",
            "133/133 [==============================] - 14s 102ms/step - loss: 0.6892 - categorical_accuracy: 0.8609 - tp: 3649.0000 - fp: 536.0000 - tn: 29197.0000 - fn: 666.0000 - accuracy: 0.9647 - precision: 0.8719 - recall: 0.8457 - auc: 0.9757 - prc: 0.9109 - val_loss: 0.4512 - val_categorical_accuracy: 0.8770 - val_tp: 928.0000 - val_fp: 121.0000 - val_tn: 7323.0000 - val_fn: 148.0000 - val_accuracy: 0.9684 - val_precision: 0.8847 - val_recall: 0.8625 - val_auc: 0.9823 - val_prc: 0.9321\n",
            "Epoch 3/5\n",
            "133/133 [==============================] - 14s 102ms/step - loss: 0.6522 - categorical_accuracy: 0.8628 - tp: 3659.0000 - fp: 529.0000 - tn: 29204.0000 - fn: 656.0000 - accuracy: 0.9652 - precision: 0.8737 - recall: 0.8480 - auc: 0.9762 - prc: 0.9116 - val_loss: 0.4926 - val_categorical_accuracy: 0.8629 - val_tp: 916.0000 - val_fp: 137.0000 - val_tn: 7307.0000 - val_fn: 160.0000 - val_accuracy: 0.9651 - val_precision: 0.8699 - val_recall: 0.8513 - val_auc: 0.9804 - val_prc: 0.9226\n",
            "Epoch 4/5\n",
            "133/133 [==============================] - 14s 103ms/step - loss: 0.5755 - categorical_accuracy: 0.8649 - tp: 3674.0000 - fp: 525.0000 - tn: 29208.0000 - fn: 641.0000 - accuracy: 0.9658 - precision: 0.8750 - recall: 0.8514 - auc: 0.9773 - prc: 0.9133 - val_loss: 0.4706 - val_categorical_accuracy: 0.8676 - val_tp: 920.0000 - val_fp: 131.0000 - val_tn: 7313.0000 - val_fn: 156.0000 - val_accuracy: 0.9663 - val_precision: 0.8754 - val_recall: 0.8550 - val_auc: 0.9806 - val_prc: 0.9251\n",
            "Epoch 5/5\n",
            "133/133 [==============================] - 14s 103ms/step - loss: 0.6341 - categorical_accuracy: 0.8691 - tp: 3699.0000 - fp: 515.0000 - tn: 29218.0000 - fn: 616.0000 - accuracy: 0.9668 - precision: 0.8778 - recall: 0.8572 - auc: 0.9782 - prc: 0.9203 - val_loss: 0.4670 - val_categorical_accuracy: 0.8667 - val_tp: 924.0000 - val_fp: 132.0000 - val_tn: 7312.0000 - val_fn: 152.0000 - val_accuracy: 0.9667 - val_precision: 0.8750 - val_recall: 0.8587 - val_auc: 0.9821 - val_prc: 0.9270\n",
            "[INFO] training on game: 351-375/400\n",
            "Epoch 1/5\n",
            "135/135 [==============================] - 14s 103ms/step - loss: 2.2021 - categorical_accuracy: 0.8550 - tp: 3687.0000 - fp: 573.0000 - tn: 29591.0000 - fn: 693.0000 - accuracy: 0.9634 - precision: 0.8655 - recall: 0.8418 - auc: 0.9745 - prc: 0.9093 - val_loss: 0.5275 - val_categorical_accuracy: 0.8750 - val_tp: 935.0000 - val_fp: 119.0000 - val_tn: 7428.0000 - val_fn: 158.0000 - val_accuracy: 0.9679 - val_precision: 0.8871 - val_recall: 0.8554 - val_auc: 0.9773 - val_prc: 0.9147\n",
            "Epoch 2/5\n",
            "135/135 [==============================] - 14s 103ms/step - loss: 2.2447 - categorical_accuracy: 0.8576 - tp: 3696.0000 - fp: 565.0000 - tn: 29599.0000 - fn: 684.0000 - accuracy: 0.9638 - precision: 0.8674 - recall: 0.8438 - auc: 0.9741 - prc: 0.9078 - val_loss: 0.5417 - val_categorical_accuracy: 0.8685 - val_tp: 937.0000 - val_fp: 135.0000 - val_tn: 7412.0000 - val_fn: 156.0000 - val_accuracy: 0.9663 - val_precision: 0.8741 - val_recall: 0.8573 - val_auc: 0.9813 - val_prc: 0.9209\n",
            "Epoch 3/5\n",
            "135/135 [==============================] - 14s 103ms/step - loss: 2.1609 - categorical_accuracy: 0.8680 - tp: 3750.0000 - fp: 535.0000 - tn: 29629.0000 - fn: 630.0000 - accuracy: 0.9663 - precision: 0.8751 - recall: 0.8562 - auc: 0.9781 - prc: 0.9210 - val_loss: 0.5122 - val_categorical_accuracy: 0.8648 - val_tp: 932.0000 - val_fp: 138.0000 - val_tn: 7409.0000 - val_fn: 161.0000 - val_accuracy: 0.9654 - val_precision: 0.8710 - val_recall: 0.8527 - val_auc: 0.9818 - val_prc: 0.9224\n",
            "Epoch 4/5\n",
            "135/135 [==============================] - 14s 103ms/step - loss: 2.1903 - categorical_accuracy: 0.8705 - tp: 3764.0000 - fp: 516.0000 - tn: 29648.0000 - fn: 616.0000 - accuracy: 0.9672 - precision: 0.8794 - recall: 0.8594 - auc: 0.9794 - prc: 0.9247 - val_loss: 0.5480 - val_categorical_accuracy: 0.8593 - val_tp: 927.0000 - val_fp: 142.0000 - val_tn: 7405.0000 - val_fn: 166.0000 - val_accuracy: 0.9644 - val_precision: 0.8672 - val_recall: 0.8481 - val_auc: 0.9790 - val_prc: 0.9099\n",
            "Epoch 5/5\n",
            "135/135 [==============================] - 14s 103ms/step - loss: 2.2319 - categorical_accuracy: 0.8719 - tp: 3762.0000 - fp: 513.0000 - tn: 29651.0000 - fn: 618.0000 - accuracy: 0.9673 - precision: 0.8800 - recall: 0.8589 - auc: 0.9785 - prc: 0.9247 - val_loss: 0.5623 - val_categorical_accuracy: 0.8537 - val_tp: 918.0000 - val_fp: 148.0000 - val_tn: 7399.0000 - val_fn: 175.0000 - val_accuracy: 0.9626 - val_precision: 0.8612 - val_recall: 0.8399 - val_auc: 0.9772 - val_prc: 0.9077\n",
            "[INFO] training on game: 376-400/400\n",
            "Epoch 1/5\n",
            "133/133 [==============================] - 14s 103ms/step - loss: 0.9455 - categorical_accuracy: 0.8125 - tp: 3442.0000 - fp: 702.0000 - tn: 28940.0000 - fn: 916.0000 - accuracy: 0.9524 - precision: 0.8306 - recall: 0.7898 - auc: 0.9599 - prc: 0.8606 - val_loss: 0.5884 - val_categorical_accuracy: 0.8523 - val_tp: 905.0000 - val_fp: 145.0000 - val_tn: 7289.0000 - val_fn: 165.0000 - val_accuracy: 0.9635 - val_precision: 0.8619 - val_recall: 0.8458 - val_auc: 0.9725 - val_prc: 0.9125\n",
            "Epoch 2/5\n",
            "133/133 [==============================] - 14s 102ms/step - loss: 0.7704 - categorical_accuracy: 0.8299 - tp: 3514.0000 - fp: 643.0000 - tn: 28999.0000 - fn: 844.0000 - accuracy: 0.9563 - precision: 0.8453 - recall: 0.8063 - auc: 0.9661 - prc: 0.8816 - val_loss: 0.5029 - val_categorical_accuracy: 0.8721 - val_tp: 922.0000 - val_fp: 122.0000 - val_tn: 7312.0000 - val_fn: 148.0000 - val_accuracy: 0.9683 - val_precision: 0.8831 - val_recall: 0.8617 - val_auc: 0.9796 - val_prc: 0.9326\n",
            "Epoch 3/5\n",
            "133/133 [==============================] - 14s 103ms/step - loss: 0.8555 - categorical_accuracy: 0.8384 - tp: 3541.0000 - fp: 617.0000 - tn: 29025.0000 - fn: 817.0000 - accuracy: 0.9578 - precision: 0.8516 - recall: 0.8125 - auc: 0.9675 - prc: 0.8911 - val_loss: 0.5075 - val_categorical_accuracy: 0.8683 - val_tp: 918.0000 - val_fp: 127.0000 - val_tn: 7307.0000 - val_fn: 152.0000 - val_accuracy: 0.9672 - val_precision: 0.8785 - val_recall: 0.8579 - val_auc: 0.9792 - val_prc: 0.9312\n",
            "Epoch 4/5\n",
            "133/133 [==============================] - 14s 103ms/step - loss: 0.7966 - categorical_accuracy: 0.8353 - tp: 3534.0000 - fp: 607.0000 - tn: 29035.0000 - fn: 824.0000 - accuracy: 0.9579 - precision: 0.8534 - recall: 0.8109 - auc: 0.9673 - prc: 0.8896 - val_loss: 0.5481 - val_categorical_accuracy: 0.8542 - val_tp: 903.0000 - val_fp: 142.0000 - val_tn: 7292.0000 - val_fn: 167.0000 - val_accuracy: 0.9637 - val_precision: 0.8641 - val_recall: 0.8439 - val_auc: 0.9777 - val_prc: 0.9246\n",
            "Epoch 5/5\n",
            "133/133 [==============================] - 14s 103ms/step - loss: 0.7297 - categorical_accuracy: 0.8353 - tp: 3547.0000 - fp: 612.0000 - tn: 29030.0000 - fn: 811.0000 - accuracy: 0.9581 - precision: 0.8528 - recall: 0.8139 - auc: 0.9700 - prc: 0.8946 - val_loss: 0.6084 - val_categorical_accuracy: 0.8561 - val_tp: 907.0000 - val_fp: 145.0000 - val_tn: 7289.0000 - val_fn: 163.0000 - val_accuracy: 0.9638 - val_precision: 0.8622 - val_recall: 0.8477 - val_auc: 0.9741 - val_prc: 0.9164\n",
            "[INFO] training on game: 1-25/400\n",
            "Epoch 1/5\n",
            "133/133 [==============================] - 14s 104ms/step - loss: 2.6502 - categorical_accuracy: 0.9190 - tp: 3907.0000 - fp: 306.0000 - tn: 29363.0000 - fn: 408.0000 - accuracy: 0.9790 - precision: 0.9274 - recall: 0.9054 - auc: 0.9883 - prc: 0.9617 - val_loss: 0.7256 - val_categorical_accuracy: 0.9096 - val_tp: 963.0000 - val_fp: 86.0000 - val_tn: 7332.0000 - val_fn: 115.0000 - val_accuracy: 0.9763 - val_precision: 0.9180 - val_recall: 0.8933 - val_auc: 0.9825 - val_prc: 0.9497\n",
            "Epoch 2/5\n",
            "133/133 [==============================] - 14s 103ms/step - loss: 2.8125 - categorical_accuracy: 0.9216 - tp: 3924.0000 - fp: 298.0000 - tn: 29371.0000 - fn: 391.0000 - accuracy: 0.9797 - precision: 0.9294 - recall: 0.9094 - auc: 0.9873 - prc: 0.9605 - val_loss: 0.6193 - val_categorical_accuracy: 0.9218 - val_tp: 981.0000 - val_fp: 72.0000 - val_tn: 7346.0000 - val_fn: 97.0000 - val_accuracy: 0.9801 - val_precision: 0.9316 - val_recall: 0.9100 - val_auc: 0.9874 - val_prc: 0.9650\n",
            "Epoch 3/5\n",
            "133/133 [==============================] - 14s 103ms/step - loss: 2.5628 - categorical_accuracy: 0.9235 - tp: 3927.0000 - fp: 292.0000 - tn: 29377.0000 - fn: 388.0000 - accuracy: 0.9800 - precision: 0.9308 - recall: 0.9101 - auc: 0.9890 - prc: 0.9649 - val_loss: 0.6141 - val_categorical_accuracy: 0.9266 - val_tp: 988.0000 - val_fp: 71.0000 - val_tn: 7347.0000 - val_fn: 90.0000 - val_accuracy: 0.9810 - val_precision: 0.9330 - val_recall: 0.9165 - val_auc: 0.9851 - val_prc: 0.9586\n",
            "Epoch 4/5\n",
            "133/133 [==============================] - 14s 103ms/step - loss: 2.5162 - categorical_accuracy: 0.9282 - tp: 3953.0000 - fp: 274.0000 - tn: 29395.0000 - fn: 362.0000 - accuracy: 0.9813 - precision: 0.9352 - recall: 0.9161 - auc: 0.9871 - prc: 0.9628 - val_loss: 0.5133 - val_categorical_accuracy: 0.9369 - val_tp: 1000.0000 - val_fp: 60.0000 - val_tn: 7358.0000 - val_fn: 78.0000 - val_accuracy: 0.9838 - val_precision: 0.9434 - val_recall: 0.9276 - val_auc: 0.9893 - val_prc: 0.9707\n",
            "Epoch 5/5\n",
            "133/133 [==============================] - 14s 102ms/step - loss: 2.8060 - categorical_accuracy: 0.9360 - tp: 3983.0000 - fp: 246.0000 - tn: 29423.0000 - fn: 332.0000 - accuracy: 0.9830 - precision: 0.9418 - recall: 0.9231 - auc: 0.9891 - prc: 0.9693 - val_loss: 0.4575 - val_categorical_accuracy: 0.9397 - val_tp: 1002.0000 - val_fp: 58.0000 - val_tn: 7360.0000 - val_fn: 76.0000 - val_accuracy: 0.9842 - val_precision: 0.9453 - val_recall: 0.9295 - val_auc: 0.9884 - val_prc: 0.9697\n",
            "[INFO] training on game: 26-50/400\n",
            "Epoch 1/5\n",
            "132/132 [==============================] - 14s 106ms/step - loss: 1.7153 - categorical_accuracy: 0.9135 - tp: 3848.0000 - fp: 326.0000 - tn: 29062.0000 - fn: 428.0000 - accuracy: 0.9776 - precision: 0.9219 - recall: 0.8999 - auc: 0.9863 - prc: 0.9578 - val_loss: 0.3717 - val_categorical_accuracy: 0.9345 - val_tp: 986.0000 - val_fp: 64.0000 - val_tn: 7296.0000 - val_fn: 78.0000 - val_accuracy: 0.9831 - val_precision: 0.9390 - val_recall: 0.9267 - val_auc: 0.9888 - val_prc: 0.9668\n",
            "Epoch 2/5\n",
            "132/132 [==============================] - 14s 105ms/step - loss: 1.7063 - categorical_accuracy: 0.9292 - tp: 3925.0000 - fp: 266.0000 - tn: 29122.0000 - fn: 351.0000 - accuracy: 0.9817 - precision: 0.9365 - recall: 0.9179 - auc: 0.9883 - prc: 0.9658 - val_loss: 0.4186 - val_categorical_accuracy: 0.9364 - val_tp: 986.0000 - val_fp: 61.0000 - val_tn: 7299.0000 - val_fn: 78.0000 - val_accuracy: 0.9835 - val_precision: 0.9417 - val_recall: 0.9267 - val_auc: 0.9881 - val_prc: 0.9630\n",
            "Epoch 3/5\n",
            "132/132 [==============================] - 14s 105ms/step - loss: 1.7694 - categorical_accuracy: 0.9306 - tp: 3925.0000 - fp: 267.0000 - tn: 29121.0000 - fn: 351.0000 - accuracy: 0.9816 - precision: 0.9363 - recall: 0.9179 - auc: 0.9858 - prc: 0.9616 - val_loss: 0.4408 - val_categorical_accuracy: 0.9326 - val_tp: 984.0000 - val_fp: 66.0000 - val_tn: 7294.0000 - val_fn: 80.0000 - val_accuracy: 0.9827 - val_precision: 0.9371 - val_recall: 0.9248 - val_auc: 0.9879 - val_prc: 0.9613\n",
            "Epoch 4/5\n",
            "132/132 [==============================] - 13s 102ms/step - loss: 1.7355 - categorical_accuracy: 0.9394 - tp: 3963.0000 - fp: 237.0000 - tn: 29151.0000 - fn: 313.0000 - accuracy: 0.9837 - precision: 0.9436 - recall: 0.9268 - auc: 0.9886 - prc: 0.9670 - val_loss: 0.3656 - val_categorical_accuracy: 0.9449 - val_tp: 995.0000 - val_fp: 55.0000 - val_tn: 7305.0000 - val_fn: 69.0000 - val_accuracy: 0.9853 - val_precision: 0.9476 - val_recall: 0.9352 - val_auc: 0.9903 - val_prc: 0.9719\n",
            "Epoch 5/5\n",
            "132/132 [==============================] - 13s 102ms/step - loss: 1.6151 - categorical_accuracy: 0.9377 - tp: 3962.0000 - fp: 242.0000 - tn: 29146.0000 - fn: 314.0000 - accuracy: 0.9835 - precision: 0.9424 - recall: 0.9266 - auc: 0.9876 - prc: 0.9668 - val_loss: 0.3670 - val_categorical_accuracy: 0.9487 - val_tp: 1001.0000 - val_fp: 51.0000 - val_tn: 7309.0000 - val_fn: 63.0000 - val_accuracy: 0.9865 - val_precision: 0.9515 - val_recall: 0.9408 - val_auc: 0.9901 - val_prc: 0.9736\n",
            "[INFO] training on game: 51-75/400\n",
            "Epoch 1/5\n",
            "131/131 [==============================] - 14s 105ms/step - loss: 1.6446 - categorical_accuracy: 0.9048 - tp: 3779.0000 - fp: 359.0000 - tn: 28786.0000 - fn: 452.0000 - accuracy: 0.9757 - precision: 0.9132 - recall: 0.8932 - auc: 0.9822 - prc: 0.9450 - val_loss: 0.4410 - val_categorical_accuracy: 0.9434 - val_tp: 986.0000 - val_fp: 55.0000 - val_tn: 7228.0000 - val_fn: 75.0000 - val_accuracy: 0.9844 - val_precision: 0.9472 - val_recall: 0.9293 - val_auc: 0.9878 - val_prc: 0.9699\n",
            "Epoch 2/5\n",
            "131/131 [==============================] - 13s 102ms/step - loss: 1.5951 - categorical_accuracy: 0.9178 - tp: 3836.0000 - fp: 320.0000 - tn: 28825.0000 - fn: 395.0000 - accuracy: 0.9786 - precision: 0.9230 - recall: 0.9066 - auc: 0.9855 - prc: 0.9581 - val_loss: 0.5099 - val_categorical_accuracy: 0.9252 - val_tp: 969.0000 - val_fp: 70.0000 - val_tn: 7213.0000 - val_fn: 92.0000 - val_accuracy: 0.9806 - val_precision: 0.9326 - val_recall: 0.9133 - val_auc: 0.9850 - val_prc: 0.9629\n",
            "Epoch 3/5\n",
            "131/131 [==============================] - 13s 103ms/step - loss: 1.7943 - categorical_accuracy: 0.9108 - tp: 3793.0000 - fp: 352.0000 - tn: 28793.0000 - fn: 438.0000 - accuracy: 0.9763 - precision: 0.9151 - recall: 0.8965 - auc: 0.9802 - prc: 0.9446 - val_loss: 0.4732 - val_categorical_accuracy: 0.9185 - val_tp: 960.0000 - val_fp: 78.0000 - val_tn: 7205.0000 - val_fn: 101.0000 - val_accuracy: 0.9785 - val_precision: 0.9249 - val_recall: 0.9048 - val_auc: 0.9873 - val_prc: 0.9650\n",
            "Epoch 4/5\n",
            "131/131 [==============================] - 13s 102ms/step - loss: 1.6716 - categorical_accuracy: 0.9199 - tp: 3830.0000 - fp: 310.0000 - tn: 28835.0000 - fn: 401.0000 - accuracy: 0.9787 - precision: 0.9251 - recall: 0.9052 - auc: 0.9865 - prc: 0.9593 - val_loss: 0.4451 - val_categorical_accuracy: 0.9396 - val_tp: 983.0000 - val_fp: 57.0000 - val_tn: 7226.0000 - val_fn: 78.0000 - val_accuracy: 0.9838 - val_precision: 0.9452 - val_recall: 0.9265 - val_auc: 0.9899 - val_prc: 0.9732\n",
            "Epoch 5/5\n",
            "131/131 [==============================] - 13s 102ms/step - loss: 1.7163 - categorical_accuracy: 0.9300 - tp: 3881.0000 - fp: 271.0000 - tn: 28874.0000 - fn: 350.0000 - accuracy: 0.9814 - precision: 0.9347 - recall: 0.9173 - auc: 0.9872 - prc: 0.9639 - val_loss: 0.4272 - val_categorical_accuracy: 0.9367 - val_tp: 981.0000 - val_fp: 59.0000 - val_tn: 7224.0000 - val_fn: 80.0000 - val_accuracy: 0.9833 - val_precision: 0.9433 - val_recall: 0.9246 - val_auc: 0.9899 - val_prc: 0.9749\n",
            "[INFO] training on game: 76-100/400\n",
            "Epoch 1/5\n",
            "140/140 [==============================] - 14s 102ms/step - loss: 0.5671 - categorical_accuracy: 0.9029 - tp: 4030.0000 - fp: 399.0000 - tn: 30734.0000 - fn: 501.0000 - accuracy: 0.9748 - precision: 0.9099 - recall: 0.8894 - auc: 0.9799 - prc: 0.9449 - val_loss: 0.4230 - val_categorical_accuracy: 0.9327 - val_tp: 1042.0000 - val_fp: 71.0000 - val_tn: 7717.0000 - val_fn: 90.0000 - val_accuracy: 0.9820 - val_precision: 0.9362 - val_recall: 0.9205 - val_auc: 0.9870 - val_prc: 0.9624\n",
            "Epoch 2/5\n",
            "140/140 [==============================] - 14s 103ms/step - loss: 0.4920 - categorical_accuracy: 0.9183 - tp: 4095.0000 - fp: 337.0000 - tn: 30796.0000 - fn: 436.0000 - accuracy: 0.9783 - precision: 0.9240 - recall: 0.9038 - auc: 0.9851 - prc: 0.9568 - val_loss: 0.4213 - val_categorical_accuracy: 0.9283 - val_tp: 1039.0000 - val_fp: 76.0000 - val_tn: 7712.0000 - val_fn: 93.0000 - val_accuracy: 0.9811 - val_precision: 0.9318 - val_recall: 0.9178 - val_auc: 0.9869 - val_prc: 0.9609\n",
            "Epoch 3/5\n",
            "140/140 [==============================] - 14s 102ms/step - loss: 0.5976 - categorical_accuracy: 0.9170 - tp: 4101.0000 - fp: 338.0000 - tn: 30795.0000 - fn: 430.0000 - accuracy: 0.9785 - precision: 0.9239 - recall: 0.9051 - auc: 0.9846 - prc: 0.9548 - val_loss: 0.4016 - val_categorical_accuracy: 0.9381 - val_tp: 1048.0000 - val_fp: 67.0000 - val_tn: 7721.0000 - val_fn: 84.0000 - val_accuracy: 0.9831 - val_precision: 0.9399 - val_recall: 0.9258 - val_auc: 0.9870 - val_prc: 0.9606\n",
            "Epoch 4/5\n",
            "140/140 [==============================] - 14s 102ms/step - loss: 0.5444 - categorical_accuracy: 0.9332 - tp: 4168.0000 - fp: 276.0000 - tn: 30857.0000 - fn: 363.0000 - accuracy: 0.9821 - precision: 0.9379 - recall: 0.9199 - auc: 0.9861 - prc: 0.9636 - val_loss: 0.4136 - val_categorical_accuracy: 0.9354 - val_tp: 1047.0000 - val_fp: 68.0000 - val_tn: 7720.0000 - val_fn: 85.0000 - val_accuracy: 0.9828 - val_precision: 0.9390 - val_recall: 0.9249 - val_auc: 0.9870 - val_prc: 0.9649\n",
            "Epoch 5/5\n",
            "140/140 [==============================] - 14s 102ms/step - loss: 0.4831 - categorical_accuracy: 0.9379 - tp: 4193.0000 - fp: 256.0000 - tn: 30877.0000 - fn: 338.0000 - accuracy: 0.9833 - precision: 0.9425 - recall: 0.9254 - auc: 0.9876 - prc: 0.9664 - val_loss: 0.3131 - val_categorical_accuracy: 0.9444 - val_tp: 1056.0000 - val_fp: 56.0000 - val_tn: 7732.0000 - val_fn: 76.0000 - val_accuracy: 0.9852 - val_precision: 0.9496 - val_recall: 0.9329 - val_auc: 0.9899 - val_prc: 0.9734\n",
            "[INFO] training on game: 101-125/400\n",
            "Epoch 1/5\n",
            "133/133 [==============================] - 14s 103ms/step - loss: 1.6494 - categorical_accuracy: 0.9304 - tp: 3943.0000 - fp: 268.0000 - tn: 29243.0000 - fn: 354.0000 - accuracy: 0.9816 - precision: 0.9364 - recall: 0.9176 - auc: 0.9861 - prc: 0.9627 - val_loss: 0.3768 - val_categorical_accuracy: 0.9470 - val_tp: 1005.0000 - val_fp: 51.0000 - val_tn: 7329.0000 - val_fn: 71.0000 - val_accuracy: 0.9856 - val_precision: 0.9517 - val_recall: 0.9340 - val_auc: 0.9904 - val_prc: 0.9767\n",
            "Epoch 2/5\n",
            "133/133 [==============================] - 14s 103ms/step - loss: 1.7277 - categorical_accuracy: 0.9326 - tp: 3954.0000 - fp: 262.0000 - tn: 29249.0000 - fn: 343.0000 - accuracy: 0.9821 - precision: 0.9379 - recall: 0.9202 - auc: 0.9866 - prc: 0.9653 - val_loss: 0.4097 - val_categorical_accuracy: 0.9423 - val_tp: 998.0000 - val_fp: 56.0000 - val_tn: 7324.0000 - val_fn: 78.0000 - val_accuracy: 0.9842 - val_precision: 0.9469 - val_recall: 0.9275 - val_auc: 0.9892 - val_prc: 0.9749\n",
            "Epoch 3/5\n",
            "133/133 [==============================] - 14s 103ms/step - loss: 1.7983 - categorical_accuracy: 0.9389 - tp: 3979.0000 - fp: 233.0000 - tn: 29278.0000 - fn: 318.0000 - accuracy: 0.9837 - precision: 0.9447 - recall: 0.9260 - auc: 0.9888 - prc: 0.9705 - val_loss: 0.3947 - val_categorical_accuracy: 0.9480 - val_tp: 1005.0000 - val_fp: 52.0000 - val_tn: 7328.0000 - val_fn: 71.0000 - val_accuracy: 0.9855 - val_precision: 0.9508 - val_recall: 0.9340 - val_auc: 0.9894 - val_prc: 0.9760\n",
            "Epoch 4/5\n",
            "133/133 [==============================] - 14s 102ms/step - loss: 1.7781 - categorical_accuracy: 0.9371 - tp: 3975.0000 - fp: 239.0000 - tn: 29272.0000 - fn: 322.0000 - accuracy: 0.9834 - precision: 0.9433 - recall: 0.9251 - auc: 0.9902 - prc: 0.9736 - val_loss: 0.3960 - val_categorical_accuracy: 0.9338 - val_tp: 991.0000 - val_fp: 64.0000 - val_tn: 7316.0000 - val_fn: 85.0000 - val_accuracy: 0.9824 - val_precision: 0.9393 - val_recall: 0.9210 - val_auc: 0.9879 - val_prc: 0.9696\n",
            "Epoch 5/5\n",
            "133/133 [==============================] - 14s 102ms/step - loss: 1.6937 - categorical_accuracy: 0.9430 - tp: 3992.0000 - fp: 221.0000 - tn: 29290.0000 - fn: 305.0000 - accuracy: 0.9844 - precision: 0.9475 - recall: 0.9290 - auc: 0.9892 - prc: 0.9715 - val_loss: 0.3902 - val_categorical_accuracy: 0.9470 - val_tp: 1003.0000 - val_fp: 53.0000 - val_tn: 7327.0000 - val_fn: 73.0000 - val_accuracy: 0.9851 - val_precision: 0.9498 - val_recall: 0.9322 - val_auc: 0.9889 - val_prc: 0.9746\n",
            "[INFO] training on game: 126-150/400\n",
            "Epoch 1/5\n",
            "125/125 [==============================] - 13s 102ms/step - loss: 0.3671 - categorical_accuracy: 0.9301 - tp: 3718.0000 - fp: 265.0000 - tn: 27629.0000 - fn: 316.0000 - accuracy: 0.9818 - precision: 0.9335 - recall: 0.9217 - auc: 0.9884 - prc: 0.9649 - val_loss: 0.3775 - val_categorical_accuracy: 0.9409 - val_tp: 941.0000 - val_fp: 57.0000 - val_tn: 6913.0000 - val_fn: 73.0000 - val_accuracy: 0.9837 - val_precision: 0.9429 - val_recall: 0.9280 - val_auc: 0.9899 - val_prc: 0.9705\n",
            "Epoch 2/5\n",
            "125/125 [==============================] - 13s 102ms/step - loss: 0.3934 - categorical_accuracy: 0.9399 - tp: 3755.0000 - fp: 226.0000 - tn: 27668.0000 - fn: 279.0000 - accuracy: 0.9842 - precision: 0.9432 - recall: 0.9308 - auc: 0.9884 - prc: 0.9667 - val_loss: 0.3352 - val_categorical_accuracy: 0.9519 - val_tp: 953.0000 - val_fp: 45.0000 - val_tn: 6925.0000 - val_fn: 61.0000 - val_accuracy: 0.9867 - val_precision: 0.9549 - val_recall: 0.9398 - val_auc: 0.9908 - val_prc: 0.9749\n",
            "Epoch 3/5\n",
            "125/125 [==============================] - 13s 102ms/step - loss: 0.3272 - categorical_accuracy: 0.9446 - tp: 3774.0000 - fp: 214.0000 - tn: 27680.0000 - fn: 260.0000 - accuracy: 0.9852 - precision: 0.9463 - recall: 0.9355 - auc: 0.9901 - prc: 0.9711 - val_loss: 0.3355 - val_categorical_accuracy: 0.9489 - val_tp: 949.0000 - val_fp: 46.0000 - val_tn: 6924.0000 - val_fn: 65.0000 - val_accuracy: 0.9861 - val_precision: 0.9538 - val_recall: 0.9359 - val_auc: 0.9909 - val_prc: 0.9757\n",
            "Epoch 4/5\n",
            "125/125 [==============================] - 13s 103ms/step - loss: 0.3362 - categorical_accuracy: 0.9401 - tp: 3754.0000 - fp: 228.0000 - tn: 27666.0000 - fn: 280.0000 - accuracy: 0.9841 - precision: 0.9427 - recall: 0.9306 - auc: 0.9892 - prc: 0.9680 - val_loss: 0.3626 - val_categorical_accuracy: 0.9459 - val_tp: 950.0000 - val_fp: 45.0000 - val_tn: 6925.0000 - val_fn: 64.0000 - val_accuracy: 0.9863 - val_precision: 0.9548 - val_recall: 0.9369 - val_auc: 0.9889 - val_prc: 0.9724\n",
            "Epoch 5/5\n",
            "125/125 [==============================] - 13s 103ms/step - loss: 0.3077 - categorical_accuracy: 0.9404 - tp: 3759.0000 - fp: 224.0000 - tn: 27670.0000 - fn: 275.0000 - accuracy: 0.9844 - precision: 0.9438 - recall: 0.9318 - auc: 0.9890 - prc: 0.9701 - val_loss: 0.4058 - val_categorical_accuracy: 0.9469 - val_tp: 946.0000 - val_fp: 51.0000 - val_tn: 6919.0000 - val_fn: 68.0000 - val_accuracy: 0.9851 - val_precision: 0.9488 - val_recall: 0.9329 - val_auc: 0.9872 - val_prc: 0.9670\n",
            "[INFO] training on game: 151-175/400\n",
            "Epoch 1/5\n",
            "144/144 [==============================] - 15s 103ms/step - loss: 5.3804 - categorical_accuracy: 0.9438 - tp: 4338.0000 - fp: 238.0000 - tn: 31816.0000 - fn: 312.0000 - accuracy: 0.9850 - precision: 0.9480 - recall: 0.9329 - auc: 0.9888 - prc: 0.9706 - val_loss: 0.3302 - val_categorical_accuracy: 0.9443 - val_tp: 1091.0000 - val_fp: 53.0000 - val_tn: 7969.0000 - val_fn: 71.0000 - val_accuracy: 0.9865 - val_precision: 0.9537 - val_recall: 0.9389 - val_auc: 0.9883 - val_prc: 0.9668\n",
            "Epoch 2/5\n",
            "144/144 [==============================] - 15s 102ms/step - loss: 5.4479 - categorical_accuracy: 0.9481 - tp: 4352.0000 - fp: 223.0000 - tn: 31831.0000 - fn: 298.0000 - accuracy: 0.9858 - precision: 0.9513 - recall: 0.9359 - auc: 0.9892 - prc: 0.9732 - val_loss: 0.3010 - val_categorical_accuracy: 0.9512 - val_tp: 1096.0000 - val_fp: 50.0000 - val_tn: 7972.0000 - val_fn: 66.0000 - val_accuracy: 0.9874 - val_precision: 0.9564 - val_recall: 0.9432 - val_auc: 0.9886 - val_prc: 0.9688\n",
            "Epoch 3/5\n",
            "144/144 [==============================] - 15s 102ms/step - loss: 5.2999 - categorical_accuracy: 0.9431 - tp: 4331.0000 - fp: 244.0000 - tn: 31810.0000 - fn: 319.0000 - accuracy: 0.9847 - precision: 0.9467 - recall: 0.9314 - auc: 0.9873 - prc: 0.9695 - val_loss: 2.5692 - val_categorical_accuracy: 0.8389 - val_tp: 962.0000 - val_fp: 170.0000 - val_tn: 7852.0000 - val_fn: 200.0000 - val_accuracy: 0.9597 - val_precision: 0.8498 - val_recall: 0.8279 - val_auc: 0.9459 - val_prc: 0.8871\n",
            "Epoch 4/5\n",
            "144/144 [==============================] - 15s 103ms/step - loss: 5.4445 - categorical_accuracy: 0.9370 - tp: 4311.0000 - fp: 269.0000 - tn: 31785.0000 - fn: 339.0000 - accuracy: 0.9834 - precision: 0.9413 - recall: 0.9271 - auc: 0.9891 - prc: 0.9698 - val_loss: 0.3310 - val_categorical_accuracy: 0.9512 - val_tp: 1096.0000 - val_fp: 48.0000 - val_tn: 7974.0000 - val_fn: 66.0000 - val_accuracy: 0.9876 - val_precision: 0.9580 - val_recall: 0.9432 - val_auc: 0.9873 - val_prc: 0.9642\n",
            "Epoch 5/5\n",
            "144/144 [==============================] - 15s 103ms/step - loss: 5.2805 - categorical_accuracy: 0.9518 - tp: 4373.0000 - fp: 210.0000 - tn: 31844.0000 - fn: 277.0000 - accuracy: 0.9867 - precision: 0.9542 - recall: 0.9404 - auc: 0.9910 - prc: 0.9766 - val_loss: 0.2586 - val_categorical_accuracy: 0.9530 - val_tp: 1099.0000 - val_fp: 49.0000 - val_tn: 7973.0000 - val_fn: 63.0000 - val_accuracy: 0.9878 - val_precision: 0.9573 - val_recall: 0.9458 - val_auc: 0.9883 - val_prc: 0.9689\n",
            "[INFO] training on game: 176-200/400\n",
            "Epoch 1/5\n",
            "144/144 [==============================] - 15s 103ms/step - loss: 0.7483 - categorical_accuracy: 0.8981 - tp: 4140.0000 - fp: 432.0000 - tn: 31656.0000 - fn: 524.0000 - accuracy: 0.9740 - precision: 0.9055 - recall: 0.8877 - auc: 0.9737 - prc: 0.9292 - val_loss: 0.9463 - val_categorical_accuracy: 0.8938 - val_tp: 1030.0000 - val_fp: 117.0000 - val_tn: 7904.0000 - val_fn: 141.0000 - val_accuracy: 0.9719 - val_precision: 0.8980 - val_recall: 0.8796 - val_auc: 0.9689 - val_prc: 0.9171\n",
            "Epoch 2/5\n",
            "144/144 [==============================] - 15s 102ms/step - loss: 1.1258 - categorical_accuracy: 0.8533 - tp: 3921.0000 - fp: 643.0000 - tn: 31445.0000 - fn: 743.0000 - accuracy: 0.9623 - precision: 0.8591 - recall: 0.8407 - auc: 0.9614 - prc: 0.8862 - val_loss: 1.1148 - val_categorical_accuracy: 0.8329 - val_tp: 958.0000 - val_fp: 181.0000 - val_tn: 7840.0000 - val_fn: 213.0000 - val_accuracy: 0.9571 - val_precision: 0.8411 - val_recall: 0.8181 - val_auc: 0.9611 - val_prc: 0.8842\n",
            "Epoch 3/5\n",
            "144/144 [==============================] - 15s 102ms/step - loss: 0.7941 - categorical_accuracy: 0.8742 - tp: 4016.0000 - fp: 534.0000 - tn: 31554.0000 - fn: 648.0000 - accuracy: 0.9678 - precision: 0.8826 - recall: 0.8611 - auc: 0.9705 - prc: 0.9155 - val_loss: 0.9545 - val_categorical_accuracy: 0.8877 - val_tp: 1022.0000 - val_fp: 121.0000 - val_tn: 7900.0000 - val_fn: 149.0000 - val_accuracy: 0.9706 - val_precision: 0.8941 - val_recall: 0.8728 - val_auc: 0.9671 - val_prc: 0.9091\n",
            "Epoch 4/5\n",
            "144/144 [==============================] - 15s 102ms/step - loss: 0.7210 - categorical_accuracy: 0.8933 - tp: 4106.0000 - fp: 460.0000 - tn: 31628.0000 - fn: 558.0000 - accuracy: 0.9723 - precision: 0.8993 - recall: 0.8804 - auc: 0.9761 - prc: 0.9319 - val_loss: 0.8784 - val_categorical_accuracy: 0.9017 - val_tp: 1039.0000 - val_fp: 110.0000 - val_tn: 7911.0000 - val_fn: 132.0000 - val_accuracy: 0.9737 - val_precision: 0.9043 - val_recall: 0.8873 - val_auc: 0.9716 - val_prc: 0.9190\n",
            "Epoch 5/5\n",
            "144/144 [==============================] - 15s 101ms/step - loss: 0.5975 - categorical_accuracy: 0.9007 - tp: 4144.0000 - fp: 416.0000 - tn: 31672.0000 - fn: 520.0000 - accuracy: 0.9745 - precision: 0.9088 - recall: 0.8885 - auc: 0.9778 - prc: 0.9373 - val_loss: 0.9193 - val_categorical_accuracy: 0.8930 - val_tp: 1026.0000 - val_fp: 115.0000 - val_tn: 7906.0000 - val_fn: 145.0000 - val_accuracy: 0.9717 - val_precision: 0.8992 - val_recall: 0.8762 - val_auc: 0.9698 - val_prc: 0.9173\n",
            "[INFO] training on game: 201-225/400\n",
            "Epoch 1/5\n",
            "146/146 [==============================] - 15s 105ms/step - loss: 0.4204 - categorical_accuracy: 0.9198 - tp: 4280.0000 - fp: 357.0000 - tn: 32154.0000 - fn: 425.0000 - accuracy: 0.9790 - precision: 0.9230 - recall: 0.9097 - auc: 0.9818 - prc: 0.9506 - val_loss: 0.4900 - val_categorical_accuracy: 0.9321 - val_tp: 1086.0000 - val_fp: 74.0000 - val_tn: 8056.0000 - val_fn: 96.0000 - val_accuracy: 0.9817 - val_precision: 0.9362 - val_recall: 0.9188 - val_auc: 0.9843 - val_prc: 0.9559\n",
            "Epoch 2/5\n",
            "146/146 [==============================] - 15s 102ms/step - loss: 0.4409 - categorical_accuracy: 0.9273 - tp: 4321.0000 - fp: 307.0000 - tn: 32204.0000 - fn: 384.0000 - accuracy: 0.9814 - precision: 0.9337 - recall: 0.9184 - auc: 0.9853 - prc: 0.9600 - val_loss: 0.5437 - val_categorical_accuracy: 0.9304 - val_tp: 1082.0000 - val_fp: 78.0000 - val_tn: 8052.0000 - val_fn: 100.0000 - val_accuracy: 0.9809 - val_precision: 0.9328 - val_recall: 0.9154 - val_auc: 0.9818 - val_prc: 0.9487\n",
            "Epoch 3/5\n",
            "146/146 [==============================] - 15s 103ms/step - loss: 0.4327 - categorical_accuracy: 0.9316 - tp: 4341.0000 - fp: 295.0000 - tn: 32216.0000 - fn: 364.0000 - accuracy: 0.9823 - precision: 0.9364 - recall: 0.9226 - auc: 0.9857 - prc: 0.9609 - val_loss: 0.5265 - val_categorical_accuracy: 0.9347 - val_tp: 1085.0000 - val_fp: 74.0000 - val_tn: 8056.0000 - val_fn: 97.0000 - val_accuracy: 0.9816 - val_precision: 0.9362 - val_recall: 0.9179 - val_auc: 0.9827 - val_prc: 0.9516\n",
            "Epoch 4/5\n",
            "146/146 [==============================] - 15s 103ms/step - loss: 0.4047 - categorical_accuracy: 0.9342 - tp: 4350.0000 - fp: 286.0000 - tn: 32225.0000 - fn: 355.0000 - accuracy: 0.9828 - precision: 0.9383 - recall: 0.9245 - auc: 0.9871 - prc: 0.9665 - val_loss: 0.5172 - val_categorical_accuracy: 0.9338 - val_tp: 1085.0000 - val_fp: 76.0000 - val_tn: 8054.0000 - val_fn: 97.0000 - val_accuracy: 0.9814 - val_precision: 0.9345 - val_recall: 0.9179 - val_auc: 0.9847 - val_prc: 0.9557\n",
            "Epoch 5/5\n",
            "146/146 [==============================] - 15s 105ms/step - loss: 0.4057 - categorical_accuracy: 0.9407 - tp: 4383.0000 - fp: 255.0000 - tn: 32256.0000 - fn: 322.0000 - accuracy: 0.9845 - precision: 0.9450 - recall: 0.9316 - auc: 0.9887 - prc: 0.9703 - val_loss: 0.5065 - val_categorical_accuracy: 0.9304 - val_tp: 1084.0000 - val_fp: 78.0000 - val_tn: 8052.0000 - val_fn: 98.0000 - val_accuracy: 0.9811 - val_precision: 0.9329 - val_recall: 0.9171 - val_auc: 0.9860 - val_prc: 0.9584\n",
            "[INFO] training on game: 226-250/400\n",
            "Epoch 1/5\n",
            "142/142 [==============================] - 15s 104ms/step - loss: 0.5213 - categorical_accuracy: 0.9248 - tp: 4212.0000 - fp: 304.0000 - tn: 31340.0000 - fn: 408.0000 - accuracy: 0.9804 - precision: 0.9327 - recall: 0.9117 - auc: 0.9841 - prc: 0.9585 - val_loss: 0.4407 - val_categorical_accuracy: 0.9286 - val_tp: 1052.0000 - val_fp: 80.0000 - val_tn: 7841.0000 - val_fn: 99.0000 - val_accuracy: 0.9803 - val_precision: 0.9293 - val_recall: 0.9140 - val_auc: 0.9865 - val_prc: 0.9642\n",
            "Epoch 2/5\n",
            "142/142 [==============================] - 15s 104ms/step - loss: 0.6461 - categorical_accuracy: 0.9261 - tp: 4206.0000 - fp: 317.0000 - tn: 31327.0000 - fn: 414.0000 - accuracy: 0.9798 - precision: 0.9299 - recall: 0.9104 - auc: 0.9810 - prc: 0.9538 - val_loss: 0.6094 - val_categorical_accuracy: 0.9198 - val_tp: 1043.0000 - val_fp: 90.0000 - val_tn: 7831.0000 - val_fn: 108.0000 - val_accuracy: 0.9782 - val_precision: 0.9206 - val_recall: 0.9062 - val_auc: 0.9838 - val_prc: 0.9578\n",
            "Epoch 3/5\n",
            "142/142 [==============================] - 15s 104ms/step - loss: 0.4491 - categorical_accuracy: 0.9338 - tp: 4248.0000 - fp: 274.0000 - tn: 31370.0000 - fn: 372.0000 - accuracy: 0.9822 - precision: 0.9394 - recall: 0.9195 - auc: 0.9833 - prc: 0.9560 - val_loss: 0.5384 - val_categorical_accuracy: 0.9286 - val_tp: 1052.0000 - val_fp: 81.0000 - val_tn: 7840.0000 - val_fn: 99.0000 - val_accuracy: 0.9802 - val_precision: 0.9285 - val_recall: 0.9140 - val_auc: 0.9856 - val_prc: 0.9644\n",
            "Epoch 4/5\n",
            "142/142 [==============================] - 15s 103ms/step - loss: 0.4805 - categorical_accuracy: 0.9354 - tp: 4253.0000 - fp: 269.0000 - tn: 31375.0000 - fn: 367.0000 - accuracy: 0.9825 - precision: 0.9405 - recall: 0.9206 - auc: 0.9852 - prc: 0.9616 - val_loss: 0.3582 - val_categorical_accuracy: 0.9347 - val_tp: 1059.0000 - val_fp: 74.0000 - val_tn: 7847.0000 - val_fn: 92.0000 - val_accuracy: 0.9817 - val_precision: 0.9347 - val_recall: 0.9201 - val_auc: 0.9881 - val_prc: 0.9697\n",
            "Epoch 5/5\n",
            "142/142 [==============================] - 15s 103ms/step - loss: 0.4762 - categorical_accuracy: 0.9303 - tp: 4226.0000 - fp: 297.0000 - tn: 31347.0000 - fn: 394.0000 - accuracy: 0.9809 - precision: 0.9343 - recall: 0.9147 - auc: 0.9836 - prc: 0.9586 - val_loss: 0.5412 - val_categorical_accuracy: 0.9295 - val_tp: 1053.0000 - val_fp: 80.0000 - val_tn: 7841.0000 - val_fn: 98.0000 - val_accuracy: 0.9804 - val_precision: 0.9294 - val_recall: 0.9149 - val_auc: 0.9839 - val_prc: 0.9619\n",
            "[INFO] training on game: 251-275/400\n",
            "Epoch 1/5\n",
            "133/133 [==============================] - 14s 104ms/step - loss: 0.5634 - categorical_accuracy: 0.9219 - tp: 3932.0000 - fp: 303.0000 - tn: 29363.0000 - fn: 394.0000 - accuracy: 0.9795 - precision: 0.9285 - recall: 0.9089 - auc: 0.9829 - prc: 0.9556 - val_loss: 0.2404 - val_categorical_accuracy: 0.9464 - val_tp: 1008.0000 - val_fp: 54.0000 - val_tn: 7373.0000 - val_fn: 69.0000 - val_accuracy: 0.9855 - val_precision: 0.9492 - val_recall: 0.9359 - val_auc: 0.9904 - val_prc: 0.9742\n",
            "Epoch 2/5\n",
            "133/133 [==============================] - 14s 103ms/step - loss: 0.4510 - categorical_accuracy: 0.9327 - tp: 3983.0000 - fp: 256.0000 - tn: 29410.0000 - fn: 343.0000 - accuracy: 0.9824 - precision: 0.9396 - recall: 0.9207 - auc: 0.9865 - prc: 0.9637 - val_loss: 0.2801 - val_categorical_accuracy: 0.9464 - val_tp: 1007.0000 - val_fp: 53.0000 - val_tn: 7374.0000 - val_fn: 70.0000 - val_accuracy: 0.9855 - val_precision: 0.9500 - val_recall: 0.9350 - val_auc: 0.9908 - val_prc: 0.9752\n",
            "Epoch 3/5\n",
            "133/133 [==============================] - 14s 103ms/step - loss: 0.5273 - categorical_accuracy: 0.9308 - tp: 3968.0000 - fp: 267.0000 - tn: 29399.0000 - fn: 358.0000 - accuracy: 0.9816 - precision: 0.9370 - recall: 0.9172 - auc: 0.9840 - prc: 0.9576 - val_loss: 0.2848 - val_categorical_accuracy: 0.9445 - val_tp: 1005.0000 - val_fp: 55.0000 - val_tn: 7372.0000 - val_fn: 72.0000 - val_accuracy: 0.9851 - val_precision: 0.9481 - val_recall: 0.9331 - val_auc: 0.9902 - val_prc: 0.9721\n",
            "Epoch 4/5\n",
            "133/133 [==============================] - 14s 103ms/step - loss: 0.5184 - categorical_accuracy: 0.9329 - tp: 3971.0000 - fp: 267.0000 - tn: 29399.0000 - fn: 355.0000 - accuracy: 0.9817 - precision: 0.9370 - recall: 0.9179 - auc: 0.9856 - prc: 0.9614 - val_loss: 0.2679 - val_categorical_accuracy: 0.9426 - val_tp: 1003.0000 - val_fp: 58.0000 - val_tn: 7369.0000 - val_fn: 74.0000 - val_accuracy: 0.9845 - val_precision: 0.9453 - val_recall: 0.9313 - val_auc: 0.9898 - val_prc: 0.9722\n",
            "Epoch 5/5\n",
            "133/133 [==============================] - 14s 104ms/step - loss: 0.4791 - categorical_accuracy: 0.9329 - tp: 3978.0000 - fp: 252.0000 - tn: 29414.0000 - fn: 348.0000 - accuracy: 0.9823 - precision: 0.9404 - recall: 0.9196 - auc: 0.9868 - prc: 0.9631 - val_loss: 0.2587 - val_categorical_accuracy: 0.9473 - val_tp: 1009.0000 - val_fp: 53.0000 - val_tn: 7374.0000 - val_fn: 68.0000 - val_accuracy: 0.9858 - val_precision: 0.9501 - val_recall: 0.9369 - val_auc: 0.9908 - val_prc: 0.9742\n",
            "[INFO] training on game: 276-300/400\n",
            "Epoch 1/5\n",
            "128/128 [==============================] - 14s 106ms/step - loss: 0.5603 - categorical_accuracy: 0.9058 - tp: 3727.0000 - fp: 343.0000 - tn: 28269.0000 - fn: 429.0000 - accuracy: 0.9764 - precision: 0.9157 - recall: 0.8968 - auc: 0.9804 - prc: 0.9456 - val_loss: 0.5581 - val_categorical_accuracy: 0.8995 - val_tp: 922.0000 - val_fp: 98.0000 - val_tn: 7068.0000 - val_fn: 112.0000 - val_accuracy: 0.9744 - val_precision: 0.9039 - val_recall: 0.8917 - val_auc: 0.9786 - val_prc: 0.9360\n",
            "Epoch 2/5\n",
            "128/128 [==============================] - 13s 104ms/step - loss: 0.4772 - categorical_accuracy: 0.9250 - tp: 3794.0000 - fp: 285.0000 - tn: 28327.0000 - fn: 362.0000 - accuracy: 0.9803 - precision: 0.9301 - recall: 0.9129 - auc: 0.9853 - prc: 0.9578 - val_loss: 0.5638 - val_categorical_accuracy: 0.9093 - val_tp: 934.0000 - val_fp: 90.0000 - val_tn: 7076.0000 - val_fn: 100.0000 - val_accuracy: 0.9768 - val_precision: 0.9121 - val_recall: 0.9033 - val_auc: 0.9775 - val_prc: 0.9385\n",
            "Epoch 3/5\n",
            "128/128 [==============================] - 13s 104ms/step - loss: 0.4313 - categorical_accuracy: 0.9255 - tp: 3801.0000 - fp: 280.0000 - tn: 28332.0000 - fn: 355.0000 - accuracy: 0.9806 - precision: 0.9314 - recall: 0.9146 - auc: 0.9861 - prc: 0.9614 - val_loss: 0.5730 - val_categorical_accuracy: 0.9073 - val_tp: 932.0000 - val_fp: 90.0000 - val_tn: 7076.0000 - val_fn: 102.0000 - val_accuracy: 0.9766 - val_precision: 0.9119 - val_recall: 0.9014 - val_auc: 0.9771 - val_prc: 0.9364\n",
            "Epoch 4/5\n",
            "128/128 [==============================] - 13s 103ms/step - loss: 0.4063 - categorical_accuracy: 0.9316 - tp: 3823.0000 - fp: 251.0000 - tn: 28361.0000 - fn: 333.0000 - accuracy: 0.9822 - precision: 0.9384 - recall: 0.9199 - auc: 0.9872 - prc: 0.9644 - val_loss: 0.5508 - val_categorical_accuracy: 0.9054 - val_tp: 928.0000 - val_fp: 93.0000 - val_tn: 7073.0000 - val_fn: 106.0000 - val_accuracy: 0.9757 - val_precision: 0.9089 - val_recall: 0.8975 - val_auc: 0.9752 - val_prc: 0.9312\n",
            "Epoch 5/5\n",
            "128/128 [==============================] - 13s 103ms/step - loss: 0.3964 - categorical_accuracy: 0.9292 - tp: 3816.0000 - fp: 266.0000 - tn: 28346.0000 - fn: 340.0000 - accuracy: 0.9815 - precision: 0.9348 - recall: 0.9182 - auc: 0.9859 - prc: 0.9609 - val_loss: 0.5463 - val_categorical_accuracy: 0.9112 - val_tp: 936.0000 - val_fp: 87.0000 - val_tn: 7079.0000 - val_fn: 98.0000 - val_accuracy: 0.9774 - val_precision: 0.9150 - val_recall: 0.9052 - val_auc: 0.9779 - val_prc: 0.9366\n",
            "[INFO] training on game: 301-325/400\n",
            "Epoch 1/5\n",
            "123/123 [==============================] - 13s 104ms/step - loss: 2.6993 - categorical_accuracy: 0.8846 - tp: 3479.0000 - fp: 419.0000 - tn: 26999.0000 - fn: 511.0000 - accuracy: 0.9704 - precision: 0.8925 - recall: 0.8719 - auc: 0.9739 - prc: 0.9210 - val_loss: 0.6316 - val_categorical_accuracy: 0.8798 - val_tp: 861.0000 - val_fp: 112.0000 - val_tn: 6737.0000 - val_fn: 146.0000 - val_accuracy: 0.9672 - val_precision: 0.8849 - val_recall: 0.8550 - val_auc: 0.9712 - val_prc: 0.9158\n",
            "Epoch 2/5\n",
            "123/123 [==============================] - 13s 102ms/step - loss: 2.5868 - categorical_accuracy: 0.8818 - tp: 3458.0000 - fp: 426.0000 - tn: 26992.0000 - fn: 532.0000 - accuracy: 0.9695 - precision: 0.8903 - recall: 0.8667 - auc: 0.9756 - prc: 0.9221 - val_loss: 0.6485 - val_categorical_accuracy: 0.8686 - val_tp: 851.0000 - val_fp: 117.0000 - val_tn: 6732.0000 - val_fn: 156.0000 - val_accuracy: 0.9652 - val_precision: 0.8791 - val_recall: 0.8451 - val_auc: 0.9714 - val_prc: 0.9125\n",
            "Epoch 3/5\n",
            "123/123 [==============================] - 13s 102ms/step - loss: 2.5415 - categorical_accuracy: 0.8818 - tp: 3454.0000 - fp: 421.0000 - tn: 26997.0000 - fn: 536.0000 - accuracy: 0.9695 - precision: 0.8914 - recall: 0.8657 - auc: 0.9759 - prc: 0.9270 - val_loss: 0.6911 - val_categorical_accuracy: 0.8686 - val_tp: 854.0000 - val_fp: 120.0000 - val_tn: 6729.0000 - val_fn: 153.0000 - val_accuracy: 0.9652 - val_precision: 0.8768 - val_recall: 0.8481 - val_auc: 0.9697 - val_prc: 0.9075\n",
            "Epoch 4/5\n",
            "123/123 [==============================] - 13s 103ms/step - loss: 2.5863 - categorical_accuracy: 0.8803 - tp: 3460.0000 - fp: 430.0000 - tn: 26988.0000 - fn: 530.0000 - accuracy: 0.9694 - precision: 0.8895 - recall: 0.8672 - auc: 0.9759 - prc: 0.9248 - val_loss: 0.6338 - val_categorical_accuracy: 0.8900 - val_tp: 871.0000 - val_fp: 103.0000 - val_tn: 6746.0000 - val_fn: 136.0000 - val_accuracy: 0.9696 - val_precision: 0.8943 - val_recall: 0.8649 - val_auc: 0.9721 - val_prc: 0.9204\n",
            "Epoch 5/5\n",
            "123/123 [==============================] - 13s 102ms/step - loss: 2.6423 - categorical_accuracy: 0.8877 - tp: 3478.0000 - fp: 408.0000 - tn: 27010.0000 - fn: 512.0000 - accuracy: 0.9707 - precision: 0.8950 - recall: 0.8717 - auc: 0.9772 - prc: 0.9320 - val_loss: 0.5970 - val_categorical_accuracy: 0.8859 - val_tp: 869.0000 - val_fp: 104.0000 - val_tn: 6745.0000 - val_fn: 138.0000 - val_accuracy: 0.9692 - val_precision: 0.8931 - val_recall: 0.8630 - val_auc: 0.9746 - val_prc: 0.9231\n",
            "[INFO] training on game: 326-350/400\n",
            "Epoch 1/5\n",
            "133/133 [==============================] - 14s 105ms/step - loss: 1.2230 - categorical_accuracy: 0.8468 - tp: 3607.0000 - fp: 603.0000 - tn: 29130.0000 - fn: 708.0000 - accuracy: 0.9615 - precision: 0.8568 - recall: 0.8359 - auc: 0.9630 - prc: 0.8843 - val_loss: 0.6397 - val_categorical_accuracy: 0.8582 - val_tp: 911.0000 - val_fp: 140.0000 - val_tn: 7304.0000 - val_fn: 165.0000 - val_accuracy: 0.9642 - val_precision: 0.8668 - val_recall: 0.8467 - val_auc: 0.9725 - val_prc: 0.9015\n",
            "Epoch 2/5\n",
            "133/133 [==============================] - 14s 103ms/step - loss: 0.6782 - categorical_accuracy: 0.8630 - tp: 3670.0000 - fp: 535.0000 - tn: 29198.0000 - fn: 645.0000 - accuracy: 0.9653 - precision: 0.8728 - recall: 0.8505 - auc: 0.9729 - prc: 0.9077 - val_loss: 0.6126 - val_categorical_accuracy: 0.8610 - val_tp: 919.0000 - val_fp: 141.0000 - val_tn: 7303.0000 - val_fn: 157.0000 - val_accuracy: 0.9650 - val_precision: 0.8670 - val_recall: 0.8541 - val_auc: 0.9762 - val_prc: 0.9146\n",
            "Epoch 3/5\n",
            "133/133 [==============================] - 14s 102ms/step - loss: 0.6790 - categorical_accuracy: 0.8696 - tp: 3687.0000 - fp: 511.0000 - tn: 29222.0000 - fn: 628.0000 - accuracy: 0.9665 - precision: 0.8783 - recall: 0.8545 - auc: 0.9754 - prc: 0.9150 - val_loss: 0.5910 - val_categorical_accuracy: 0.8742 - val_tp: 930.0000 - val_fp: 125.0000 - val_tn: 7319.0000 - val_fn: 146.0000 - val_accuracy: 0.9682 - val_precision: 0.8815 - val_recall: 0.8643 - val_auc: 0.9779 - val_prc: 0.9210\n",
            "Epoch 4/5\n",
            "133/133 [==============================] - 14s 102ms/step - loss: 0.6436 - categorical_accuracy: 0.8759 - tp: 3717.0000 - fp: 489.0000 - tn: 29244.0000 - fn: 598.0000 - accuracy: 0.9681 - precision: 0.8837 - recall: 0.8614 - auc: 0.9760 - prc: 0.9188 - val_loss: 0.5334 - val_categorical_accuracy: 0.8723 - val_tp: 931.0000 - val_fp: 128.0000 - val_tn: 7316.0000 - val_fn: 145.0000 - val_accuracy: 0.9680 - val_precision: 0.8791 - val_recall: 0.8652 - val_auc: 0.9789 - val_prc: 0.9252\n",
            "Epoch 5/5\n",
            "133/133 [==============================] - 14s 103ms/step - loss: 0.7072 - categorical_accuracy: 0.8661 - tp: 3673.0000 - fp: 528.0000 - tn: 29205.0000 - fn: 642.0000 - accuracy: 0.9656 - precision: 0.8743 - recall: 0.8512 - auc: 0.9747 - prc: 0.9125 - val_loss: 0.5664 - val_categorical_accuracy: 0.8667 - val_tp: 925.0000 - val_fp: 138.0000 - val_tn: 7306.0000 - val_fn: 151.0000 - val_accuracy: 0.9661 - val_precision: 0.8702 - val_recall: 0.8597 - val_auc: 0.9777 - val_prc: 0.9185\n",
            "[INFO] training on game: 351-375/400\n",
            "Epoch 1/5\n",
            "135/135 [==============================] - 14s 103ms/step - loss: 2.6248 - categorical_accuracy: 0.8585 - tp: 3701.0000 - fp: 564.0000 - tn: 29600.0000 - fn: 679.0000 - accuracy: 0.9640 - precision: 0.8678 - recall: 0.8450 - auc: 0.9709 - prc: 0.9072 - val_loss: 0.7432 - val_categorical_accuracy: 0.8444 - val_tp: 909.0000 - val_fp: 158.0000 - val_tn: 7389.0000 - val_fn: 184.0000 - val_accuracy: 0.9604 - val_precision: 0.8519 - val_recall: 0.8317 - val_auc: 0.9680 - val_prc: 0.8873\n",
            "Epoch 2/5\n",
            "135/135 [==============================] - 14s 103ms/step - loss: 2.7980 - categorical_accuracy: 0.8569 - tp: 3702.0000 - fp: 574.0000 - tn: 29590.0000 - fn: 678.0000 - accuracy: 0.9638 - precision: 0.8658 - recall: 0.8452 - auc: 0.9724 - prc: 0.9060 - val_loss: 0.6875 - val_categorical_accuracy: 0.8463 - val_tp: 914.0000 - val_fp: 156.0000 - val_tn: 7391.0000 - val_fn: 179.0000 - val_accuracy: 0.9612 - val_precision: 0.8542 - val_recall: 0.8362 - val_auc: 0.9719 - val_prc: 0.9005\n",
            "Epoch 3/5\n",
            "135/135 [==============================] - 14s 102ms/step - loss: 2.6399 - categorical_accuracy: 0.8717 - tp: 3762.0000 - fp: 521.0000 - tn: 29643.0000 - fn: 618.0000 - accuracy: 0.9670 - precision: 0.8784 - recall: 0.8589 - auc: 0.9759 - prc: 0.9184 - val_loss: 0.6116 - val_categorical_accuracy: 0.8713 - val_tp: 940.0000 - val_fp: 129.0000 - val_tn: 7418.0000 - val_fn: 153.0000 - val_accuracy: 0.9674 - val_precision: 0.8793 - val_recall: 0.8600 - val_auc: 0.9771 - val_prc: 0.9173\n",
            "Epoch 4/5\n",
            "135/135 [==============================] - 14s 103ms/step - loss: 2.7187 - categorical_accuracy: 0.8770 - tp: 3776.0000 - fp: 493.0000 - tn: 29671.0000 - fn: 604.0000 - accuracy: 0.9682 - precision: 0.8845 - recall: 0.8621 - auc: 0.9773 - prc: 0.9239 - val_loss: 0.5865 - val_categorical_accuracy: 0.8648 - val_tp: 926.0000 - val_fp: 139.0000 - val_tn: 7408.0000 - val_fn: 167.0000 - val_accuracy: 0.9646 - val_precision: 0.8695 - val_recall: 0.8472 - val_auc: 0.9748 - val_prc: 0.9125\n",
            "Epoch 5/5\n",
            "135/135 [==============================] - 14s 103ms/step - loss: 2.6852 - categorical_accuracy: 0.8773 - tp: 3773.0000 - fp: 487.0000 - tn: 29677.0000 - fn: 607.0000 - accuracy: 0.9683 - precision: 0.8857 - recall: 0.8614 - auc: 0.9764 - prc: 0.9210 - val_loss: 0.5822 - val_categorical_accuracy: 0.8750 - val_tp: 942.0000 - val_fp: 128.0000 - val_tn: 7419.0000 - val_fn: 151.0000 - val_accuracy: 0.9677 - val_precision: 0.8804 - val_recall: 0.8618 - val_auc: 0.9786 - val_prc: 0.9251\n",
            "[INFO] training on game: 376-400/400\n",
            "Epoch 1/5\n",
            "133/133 [==============================] - 14s 103ms/step - loss: 0.9319 - categorical_accuracy: 0.8207 - tp: 3488.0000 - fp: 696.0000 - tn: 28946.0000 - fn: 870.0000 - accuracy: 0.9539 - precision: 0.8337 - recall: 0.8004 - auc: 0.9636 - prc: 0.8772 - val_loss: 0.5341 - val_categorical_accuracy: 0.8786 - val_tp: 932.0000 - val_fp: 121.0000 - val_tn: 7313.0000 - val_fn: 138.0000 - val_accuracy: 0.9695 - val_precision: 0.8851 - val_recall: 0.8710 - val_auc: 0.9800 - val_prc: 0.9329\n",
            "Epoch 2/5\n",
            "133/133 [==============================] - 14s 102ms/step - loss: 0.8798 - categorical_accuracy: 0.8292 - tp: 3517.0000 - fp: 645.0000 - tn: 28997.0000 - fn: 841.0000 - accuracy: 0.9563 - precision: 0.8450 - recall: 0.8070 - auc: 0.9617 - prc: 0.8807 - val_loss: 0.5679 - val_categorical_accuracy: 0.8739 - val_tp: 924.0000 - val_fp: 125.0000 - val_tn: 7309.0000 - val_fn: 146.0000 - val_accuracy: 0.9681 - val_precision: 0.8808 - val_recall: 0.8636 - val_auc: 0.9761 - val_prc: 0.9255\n",
            "Epoch 3/5\n",
            "133/133 [==============================] - 14s 103ms/step - loss: 0.8761 - categorical_accuracy: 0.8388 - tp: 3570.0000 - fp: 617.0000 - tn: 29025.0000 - fn: 788.0000 - accuracy: 0.9587 - precision: 0.8526 - recall: 0.8192 - auc: 0.9657 - prc: 0.8890 - val_loss: 0.5744 - val_categorical_accuracy: 0.8655 - val_tp: 916.0000 - val_fp: 134.0000 - val_tn: 7300.0000 - val_fn: 154.0000 - val_accuracy: 0.9661 - val_precision: 0.8724 - val_recall: 0.8561 - val_auc: 0.9779 - val_prc: 0.9283\n",
            "Epoch 4/5\n",
            "133/133 [==============================] - 14s 102ms/step - loss: 0.8520 - categorical_accuracy: 0.8384 - tp: 3550.0000 - fp: 619.0000 - tn: 29023.0000 - fn: 808.0000 - accuracy: 0.9580 - precision: 0.8515 - recall: 0.8146 - auc: 0.9648 - prc: 0.8889 - val_loss: 0.5687 - val_categorical_accuracy: 0.8589 - val_tp: 909.0000 - val_fp: 135.0000 - val_tn: 7299.0000 - val_fn: 161.0000 - val_accuracy: 0.9652 - val_precision: 0.8707 - val_recall: 0.8495 - val_auc: 0.9773 - val_prc: 0.9267\n",
            "Epoch 5/5\n",
            "133/133 [==============================] - 14s 102ms/step - loss: 0.7830 - categorical_accuracy: 0.8452 - tp: 3599.0000 - fp: 590.0000 - tn: 29052.0000 - fn: 759.0000 - accuracy: 0.9603 - precision: 0.8592 - recall: 0.8258 - auc: 0.9682 - prc: 0.8979 - val_loss: 0.5814 - val_categorical_accuracy: 0.8749 - val_tp: 928.0000 - val_fp: 123.0000 - val_tn: 7311.0000 - val_fn: 142.0000 - val_accuracy: 0.9688 - val_precision: 0.8830 - val_recall: 0.8673 - val_auc: 0.9757 - val_prc: 0.9256\n",
            "[INFO] training on game: 1-25/400\n",
            "Epoch 1/5\n",
            "133/133 [==============================] - 14s 103ms/step - loss: 3.3650 - categorical_accuracy: 0.9169 - tp: 3904.0000 - fp: 310.0000 - tn: 29359.0000 - fn: 411.0000 - accuracy: 0.9788 - precision: 0.9264 - recall: 0.9048 - auc: 0.9835 - prc: 0.9526 - val_loss: 0.5475 - val_categorical_accuracy: 0.9143 - val_tp: 970.0000 - val_fp: 82.0000 - val_tn: 7336.0000 - val_fn: 108.0000 - val_accuracy: 0.9776 - val_precision: 0.9221 - val_recall: 0.8998 - val_auc: 0.9833 - val_prc: 0.9541\n",
            "Epoch 2/5\n",
            "133/133 [==============================] - 14s 103ms/step - loss: 3.4573 - categorical_accuracy: 0.9266 - tp: 3947.0000 - fp: 281.0000 - tn: 29388.0000 - fn: 368.0000 - accuracy: 0.9809 - precision: 0.9335 - recall: 0.9147 - auc: 0.9875 - prc: 0.9640 - val_loss: 0.5121 - val_categorical_accuracy: 0.9247 - val_tp: 982.0000 - val_fp: 70.0000 - val_tn: 7348.0000 - val_fn: 96.0000 - val_accuracy: 0.9805 - val_precision: 0.9335 - val_recall: 0.9109 - val_auc: 0.9841 - val_prc: 0.9590\n",
            "Epoch 3/5\n",
            "133/133 [==============================] - 14s 104ms/step - loss: 3.3329 - categorical_accuracy: 0.9291 - tp: 3956.0000 - fp: 271.0000 - tn: 29398.0000 - fn: 359.0000 - accuracy: 0.9815 - precision: 0.9359 - recall: 0.9168 - auc: 0.9869 - prc: 0.9626 - val_loss: 0.6108 - val_categorical_accuracy: 0.9284 - val_tp: 988.0000 - val_fp: 74.0000 - val_tn: 7344.0000 - val_fn: 90.0000 - val_accuracy: 0.9807 - val_precision: 0.9303 - val_recall: 0.9165 - val_auc: 0.9849 - val_prc: 0.9578\n",
            "Epoch 4/5\n",
            "133/133 [==============================] - 14s 103ms/step - loss: 3.3162 - categorical_accuracy: 0.9343 - tp: 3977.0000 - fp: 253.0000 - tn: 29416.0000 - fn: 338.0000 - accuracy: 0.9826 - precision: 0.9402 - recall: 0.9217 - auc: 0.9872 - prc: 0.9670 - val_loss: 0.6235 - val_categorical_accuracy: 0.9331 - val_tp: 993.0000 - val_fp: 67.0000 - val_tn: 7351.0000 - val_fn: 85.0000 - val_accuracy: 0.9821 - val_precision: 0.9368 - val_recall: 0.9212 - val_auc: 0.9861 - val_prc: 0.9610\n",
            "Epoch 5/5\n",
            "133/133 [==============================] - 14s 104ms/step - loss: 3.5088 - categorical_accuracy: 0.9336 - tp: 3983.0000 - fp: 256.0000 - tn: 29413.0000 - fn: 332.0000 - accuracy: 0.9827 - precision: 0.9396 - recall: 0.9231 - auc: 0.9855 - prc: 0.9639 - val_loss: 0.5656 - val_categorical_accuracy: 0.9360 - val_tp: 995.0000 - val_fp: 64.0000 - val_tn: 7354.0000 - val_fn: 83.0000 - val_accuracy: 0.9827 - val_precision: 0.9396 - val_recall: 0.9230 - val_auc: 0.9853 - val_prc: 0.9616\n",
            "[INFO] training on game: 26-50/400\n",
            "Epoch 1/5\n",
            "132/132 [==============================] - 14s 104ms/step - loss: 2.0645 - categorical_accuracy: 0.9228 - tp: 3891.0000 - fp: 295.0000 - tn: 29093.0000 - fn: 385.0000 - accuracy: 0.9798 - precision: 0.9295 - recall: 0.9100 - auc: 0.9854 - prc: 0.9605 - val_loss: 0.4694 - val_categorical_accuracy: 0.9421 - val_tp: 992.0000 - val_fp: 58.0000 - val_tn: 7302.0000 - val_fn: 72.0000 - val_accuracy: 0.9846 - val_precision: 0.9448 - val_recall: 0.9323 - val_auc: 0.9865 - val_prc: 0.9667\n",
            "Epoch 2/5\n",
            "132/132 [==============================] - 14s 104ms/step - loss: 2.2191 - categorical_accuracy: 0.9287 - tp: 3916.0000 - fp: 279.0000 - tn: 29109.0000 - fn: 360.0000 - accuracy: 0.9810 - precision: 0.9335 - recall: 0.9158 - auc: 0.9820 - prc: 0.9556 - val_loss: 0.4154 - val_categorical_accuracy: 0.9478 - val_tp: 1000.0000 - val_fp: 52.0000 - val_tn: 7308.0000 - val_fn: 64.0000 - val_accuracy: 0.9862 - val_precision: 0.9506 - val_recall: 0.9398 - val_auc: 0.9898 - val_prc: 0.9733\n",
            "Epoch 3/5\n",
            "132/132 [==============================] - 14s 103ms/step - loss: 2.1404 - categorical_accuracy: 0.9404 - tp: 3963.0000 - fp: 234.0000 - tn: 29154.0000 - fn: 313.0000 - accuracy: 0.9838 - precision: 0.9442 - recall: 0.9268 - auc: 0.9858 - prc: 0.9661 - val_loss: 0.4708 - val_categorical_accuracy: 0.9326 - val_tp: 984.0000 - val_fp: 68.0000 - val_tn: 7292.0000 - val_fn: 80.0000 - val_accuracy: 0.9824 - val_precision: 0.9354 - val_recall: 0.9248 - val_auc: 0.9881 - val_prc: 0.9672\n",
            "Epoch 4/5\n",
            "132/132 [==============================] - 14s 103ms/step - loss: 2.0605 - categorical_accuracy: 0.9399 - tp: 3967.0000 - fp: 221.0000 - tn: 29167.0000 - fn: 309.0000 - accuracy: 0.9843 - precision: 0.9472 - recall: 0.9277 - auc: 0.9875 - prc: 0.9685 - val_loss: 0.4550 - val_categorical_accuracy: 0.9430 - val_tp: 995.0000 - val_fp: 54.0000 - val_tn: 7306.0000 - val_fn: 69.0000 - val_accuracy: 0.9854 - val_precision: 0.9485 - val_recall: 0.9352 - val_auc: 0.9887 - val_prc: 0.9713\n",
            "Epoch 5/5\n",
            "132/132 [==============================] - 14s 103ms/step - loss: 1.8748 - categorical_accuracy: 0.9411 - tp: 3973.0000 - fp: 225.0000 - tn: 29163.0000 - fn: 303.0000 - accuracy: 0.9843 - precision: 0.9464 - recall: 0.9291 - auc: 0.9877 - prc: 0.9691 - val_loss: 0.4221 - val_categorical_accuracy: 0.9449 - val_tp: 996.0000 - val_fp: 54.0000 - val_tn: 7306.0000 - val_fn: 68.0000 - val_accuracy: 0.9855 - val_precision: 0.9486 - val_recall: 0.9361 - val_auc: 0.9885 - val_prc: 0.9677\n",
            "[INFO] training on game: 51-75/400\n",
            "Epoch 1/5\n",
            "131/131 [==============================] - 14s 106ms/step - loss: 1.9139 - categorical_accuracy: 0.9226 - tp: 3851.0000 - fp: 299.0000 - tn: 28846.0000 - fn: 380.0000 - accuracy: 0.9797 - precision: 0.9280 - recall: 0.9102 - auc: 0.9833 - prc: 0.9527 - val_loss: 0.5192 - val_categorical_accuracy: 0.9396 - val_tp: 983.0000 - val_fp: 58.0000 - val_tn: 7225.0000 - val_fn: 78.0000 - val_accuracy: 0.9837 - val_precision: 0.9443 - val_recall: 0.9265 - val_auc: 0.9869 - val_prc: 0.9670\n",
            "Epoch 2/5\n",
            "131/131 [==============================] - 14s 104ms/step - loss: 1.8215 - categorical_accuracy: 0.9255 - tp: 3867.0000 - fp: 286.0000 - tn: 28859.0000 - fn: 364.0000 - accuracy: 0.9805 - precision: 0.9311 - recall: 0.9140 - auc: 0.9849 - prc: 0.9557 - val_loss: 0.4752 - val_categorical_accuracy: 0.9396 - val_tp: 984.0000 - val_fp: 55.0000 - val_tn: 7228.0000 - val_fn: 77.0000 - val_accuracy: 0.9842 - val_precision: 0.9471 - val_recall: 0.9274 - val_auc: 0.9874 - val_prc: 0.9690\n",
            "Epoch 3/5\n",
            "131/131 [==============================] - 14s 104ms/step - loss: 1.9011 - categorical_accuracy: 0.9302 - tp: 3890.0000 - fp: 270.0000 - tn: 28875.0000 - fn: 341.0000 - accuracy: 0.9817 - precision: 0.9351 - recall: 0.9194 - auc: 0.9861 - prc: 0.9624 - val_loss: 0.4861 - val_categorical_accuracy: 0.9415 - val_tp: 986.0000 - val_fp: 55.0000 - val_tn: 7228.0000 - val_fn: 75.0000 - val_accuracy: 0.9844 - val_precision: 0.9472 - val_recall: 0.9293 - val_auc: 0.9895 - val_prc: 0.9733\n",
            "Epoch 4/5\n",
            "131/131 [==============================] - 14s 103ms/step - loss: 1.9210 - categorical_accuracy: 0.9317 - tp: 3897.0000 - fp: 265.0000 - tn: 28880.0000 - fn: 334.0000 - accuracy: 0.9821 - precision: 0.9363 - recall: 0.9211 - auc: 0.9871 - prc: 0.9643 - val_loss: 0.4887 - val_categorical_accuracy: 0.9415 - val_tp: 986.0000 - val_fp: 56.0000 - val_tn: 7227.0000 - val_fn: 75.0000 - val_accuracy: 0.9843 - val_precision: 0.9463 - val_recall: 0.9293 - val_auc: 0.9885 - val_prc: 0.9719\n",
            "Epoch 5/5\n",
            "131/131 [==============================] - 13s 102ms/step - loss: 1.9128 - categorical_accuracy: 0.9336 - tp: 3899.0000 - fp: 262.0000 - tn: 28883.0000 - fn: 332.0000 - accuracy: 0.9822 - precision: 0.9370 - recall: 0.9215 - auc: 0.9863 - prc: 0.9617 - val_loss: 0.4526 - val_categorical_accuracy: 0.9434 - val_tp: 988.0000 - val_fp: 52.0000 - val_tn: 7231.0000 - val_fn: 73.0000 - val_accuracy: 0.9850 - val_precision: 0.9500 - val_recall: 0.9312 - val_auc: 0.9888 - val_prc: 0.9746\n",
            "[INFO] training on game: 76-100/400\n",
            "Epoch 1/5\n",
            "140/140 [==============================] - 14s 103ms/step - loss: 0.6558 - categorical_accuracy: 0.9150 - tp: 4089.0000 - fp: 344.0000 - tn: 30789.0000 - fn: 442.0000 - accuracy: 0.9780 - precision: 0.9224 - recall: 0.9024 - auc: 0.9819 - prc: 0.9488 - val_loss: 0.4150 - val_categorical_accuracy: 0.9363 - val_tp: 1045.0000 - val_fp: 69.0000 - val_tn: 7719.0000 - val_fn: 87.0000 - val_accuracy: 0.9825 - val_precision: 0.9381 - val_recall: 0.9231 - val_auc: 0.9862 - val_prc: 0.9594\n",
            "Epoch 2/5\n",
            "140/140 [==============================] - 14s 103ms/step - loss: 0.5733 - categorical_accuracy: 0.9269 - tp: 4141.0000 - fp: 308.0000 - tn: 30825.0000 - fn: 390.0000 - accuracy: 0.9804 - precision: 0.9308 - recall: 0.9139 - auc: 0.9835 - prc: 0.9564 - val_loss: 0.3585 - val_categorical_accuracy: 0.9444 - val_tp: 1057.0000 - val_fp: 56.0000 - val_tn: 7732.0000 - val_fn: 75.0000 - val_accuracy: 0.9853 - val_precision: 0.9497 - val_recall: 0.9337 - val_auc: 0.9881 - val_prc: 0.9655\n",
            "Epoch 3/5\n",
            "140/140 [==============================] - 15s 104ms/step - loss: 0.5726 - categorical_accuracy: 0.9296 - tp: 4154.0000 - fp: 286.0000 - tn: 30847.0000 - fn: 377.0000 - accuracy: 0.9814 - precision: 0.9356 - recall: 0.9168 - auc: 0.9849 - prc: 0.9610 - val_loss: 0.3731 - val_categorical_accuracy: 0.9435 - val_tp: 1052.0000 - val_fp: 59.0000 - val_tn: 7729.0000 - val_fn: 80.0000 - val_accuracy: 0.9844 - val_precision: 0.9469 - val_recall: 0.9293 - val_auc: 0.9880 - val_prc: 0.9643\n",
            "Epoch 4/5\n",
            "140/140 [==============================] - 14s 102ms/step - loss: 0.4631 - categorical_accuracy: 0.9426 - tp: 4210.0000 - fp: 238.0000 - tn: 30895.0000 - fn: 321.0000 - accuracy: 0.9843 - precision: 0.9465 - recall: 0.9292 - auc: 0.9865 - prc: 0.9659 - val_loss: 0.3577 - val_categorical_accuracy: 0.9462 - val_tp: 1056.0000 - val_fp: 57.0000 - val_tn: 7731.0000 - val_fn: 76.0000 - val_accuracy: 0.9851 - val_precision: 0.9488 - val_recall: 0.9329 - val_auc: 0.9881 - val_prc: 0.9656\n",
            "Epoch 5/5\n",
            "140/140 [==============================] - 14s 102ms/step - loss: 0.4946 - categorical_accuracy: 0.9365 - tp: 4178.0000 - fp: 265.0000 - tn: 30868.0000 - fn: 353.0000 - accuracy: 0.9827 - precision: 0.9404 - recall: 0.9221 - auc: 0.9854 - prc: 0.9632 - val_loss: 0.3604 - val_categorical_accuracy: 0.9489 - val_tp: 1058.0000 - val_fp: 56.0000 - val_tn: 7732.0000 - val_fn: 74.0000 - val_accuracy: 0.9854 - val_precision: 0.9497 - val_recall: 0.9346 - val_auc: 0.9880 - val_prc: 0.9639\n",
            "[INFO] training on game: 101-125/400\n",
            "Epoch 1/5\n",
            "133/133 [==============================] - 14s 104ms/step - loss: 2.0236 - categorical_accuracy: 0.9389 - tp: 3982.0000 - fp: 228.0000 - tn: 29283.0000 - fn: 315.0000 - accuracy: 0.9839 - precision: 0.9458 - recall: 0.9267 - auc: 0.9868 - prc: 0.9661 - val_loss: 0.4774 - val_categorical_accuracy: 0.9300 - val_tp: 985.0000 - val_fp: 68.0000 - val_tn: 7312.0000 - val_fn: 91.0000 - val_accuracy: 0.9812 - val_precision: 0.9354 - val_recall: 0.9154 - val_auc: 0.9841 - val_prc: 0.9648\n",
            "Epoch 2/5\n",
            "133/133 [==============================] - 14s 103ms/step - loss: 2.1128 - categorical_accuracy: 0.9366 - tp: 3969.0000 - fp: 244.0000 - tn: 29267.0000 - fn: 328.0000 - accuracy: 0.9831 - precision: 0.9421 - recall: 0.9237 - auc: 0.9860 - prc: 0.9644 - val_loss: 0.4176 - val_categorical_accuracy: 0.9404 - val_tp: 996.0000 - val_fp: 58.0000 - val_tn: 7322.0000 - val_fn: 80.0000 - val_accuracy: 0.9837 - val_precision: 0.9450 - val_recall: 0.9257 - val_auc: 0.9867 - val_prc: 0.9687\n",
            "Epoch 3/5\n",
            "133/133 [==============================] - 14s 103ms/step - loss: 1.8918 - categorical_accuracy: 0.9387 - tp: 3975.0000 - fp: 236.0000 - tn: 29275.0000 - fn: 322.0000 - accuracy: 0.9835 - precision: 0.9440 - recall: 0.9251 - auc: 0.9866 - prc: 0.9652 - val_loss: 0.4134 - val_categorical_accuracy: 0.9385 - val_tp: 994.0000 - val_fp: 62.0000 - val_tn: 7318.0000 - val_fn: 82.0000 - val_accuracy: 0.9830 - val_precision: 0.9413 - val_recall: 0.9238 - val_auc: 0.9868 - val_prc: 0.9668\n",
            "Epoch 4/5\n",
            "133/133 [==============================] - 14s 102ms/step - loss: 2.0059 - categorical_accuracy: 0.9487 - tp: 4022.0000 - fp: 197.0000 - tn: 29314.0000 - fn: 275.0000 - accuracy: 0.9860 - precision: 0.9533 - recall: 0.9360 - auc: 0.9881 - prc: 0.9705 - val_loss: 0.3357 - val_categorical_accuracy: 0.9461 - val_tp: 1003.0000 - val_fp: 53.0000 - val_tn: 7327.0000 - val_fn: 73.0000 - val_accuracy: 0.9851 - val_precision: 0.9498 - val_recall: 0.9322 - val_auc: 0.9894 - val_prc: 0.9754\n",
            "Epoch 5/5\n",
            "133/133 [==============================] - 14s 103ms/step - loss: 1.9148 - categorical_accuracy: 0.9442 - tp: 4008.0000 - fp: 215.0000 - tn: 29296.0000 - fn: 289.0000 - accuracy: 0.9851 - precision: 0.9491 - recall: 0.9327 - auc: 0.9894 - prc: 0.9737 - val_loss: 0.3330 - val_categorical_accuracy: 0.9451 - val_tp: 1002.0000 - val_fp: 54.0000 - val_tn: 7326.0000 - val_fn: 74.0000 - val_accuracy: 0.9849 - val_precision: 0.9489 - val_recall: 0.9312 - val_auc: 0.9877 - val_prc: 0.9733\n",
            "[INFO] training on game: 126-150/400\n",
            "Epoch 1/5\n",
            "125/125 [==============================] - 13s 104ms/step - loss: 0.3903 - categorical_accuracy: 0.9323 - tp: 3725.0000 - fp: 256.0000 - tn: 27638.0000 - fn: 309.0000 - accuracy: 0.9823 - precision: 0.9357 - recall: 0.9234 - auc: 0.9858 - prc: 0.9592 - val_loss: 0.4291 - val_categorical_accuracy: 0.9499 - val_tp: 950.0000 - val_fp: 48.0000 - val_tn: 6922.0000 - val_fn: 64.0000 - val_accuracy: 0.9860 - val_precision: 0.9519 - val_recall: 0.9369 - val_auc: 0.9892 - val_prc: 0.9707\n",
            "Epoch 2/5\n",
            "125/125 [==============================] - 13s 103ms/step - loss: 0.3958 - categorical_accuracy: 0.9401 - tp: 3758.0000 - fp: 229.0000 - tn: 27665.0000 - fn: 276.0000 - accuracy: 0.9842 - precision: 0.9426 - recall: 0.9316 - auc: 0.9875 - prc: 0.9649 - val_loss: 0.6023 - val_categorical_accuracy: 0.9309 - val_tp: 929.0000 - val_fp: 67.0000 - val_tn: 6903.0000 - val_fn: 85.0000 - val_accuracy: 0.9810 - val_precision: 0.9327 - val_recall: 0.9162 - val_auc: 0.9824 - val_prc: 0.9544\n",
            "Epoch 3/5\n",
            "125/125 [==============================] - 13s 102ms/step - loss: 0.4575 - categorical_accuracy: 0.9399 - tp: 3757.0000 - fp: 228.0000 - tn: 27666.0000 - fn: 277.0000 - accuracy: 0.9842 - precision: 0.9428 - recall: 0.9313 - auc: 0.9866 - prc: 0.9670 - val_loss: 0.4220 - val_categorical_accuracy: 0.9549 - val_tp: 955.0000 - val_fp: 42.0000 - val_tn: 6928.0000 - val_fn: 59.0000 - val_accuracy: 0.9873 - val_precision: 0.9579 - val_recall: 0.9418 - val_auc: 0.9896 - val_prc: 0.9742\n",
            "Epoch 4/5\n",
            "125/125 [==============================] - 13s 103ms/step - loss: 0.3499 - categorical_accuracy: 0.9431 - tp: 3767.0000 - fp: 216.0000 - tn: 27678.0000 - fn: 267.0000 - accuracy: 0.9849 - precision: 0.9458 - recall: 0.9338 - auc: 0.9888 - prc: 0.9701 - val_loss: 0.4038 - val_categorical_accuracy: 0.9529 - val_tp: 954.0000 - val_fp: 43.0000 - val_tn: 6927.0000 - val_fn: 60.0000 - val_accuracy: 0.9871 - val_precision: 0.9569 - val_recall: 0.9408 - val_auc: 0.9892 - val_prc: 0.9748\n",
            "Epoch 5/5\n",
            "125/125 [==============================] - 13s 104ms/step - loss: 0.3821 - categorical_accuracy: 0.9379 - tp: 3747.0000 - fp: 235.0000 - tn: 27659.0000 - fn: 287.0000 - accuracy: 0.9837 - precision: 0.9410 - recall: 0.9289 - auc: 0.9870 - prc: 0.9648 - val_loss: 0.4046 - val_categorical_accuracy: 0.9559 - val_tp: 957.0000 - val_fp: 41.0000 - val_tn: 6929.0000 - val_fn: 57.0000 - val_accuracy: 0.9877 - val_precision: 0.9589 - val_recall: 0.9438 - val_auc: 0.9887 - val_prc: 0.9738\n",
            "[INFO] training on game: 151-175/400\n",
            "Epoch 1/5\n",
            "144/144 [==============================] - 15s 103ms/step - loss: 6.6531 - categorical_accuracy: 0.9418 - tp: 4332.0000 - fp: 249.0000 - tn: 31805.0000 - fn: 318.0000 - accuracy: 0.9846 - precision: 0.9456 - recall: 0.9316 - auc: 0.9858 - prc: 0.9641 - val_loss: 0.3289 - val_categorical_accuracy: 0.9451 - val_tp: 1093.0000 - val_fp: 54.0000 - val_tn: 7968.0000 - val_fn: 69.0000 - val_accuracy: 0.9866 - val_precision: 0.9529 - val_recall: 0.9406 - val_auc: 0.9865 - val_prc: 0.9636\n",
            "Epoch 2/5\n",
            "144/144 [==============================] - 15s 102ms/step - loss: 6.6351 - categorical_accuracy: 0.9486 - tp: 4360.0000 - fp: 215.0000 - tn: 31839.0000 - fn: 290.0000 - accuracy: 0.9862 - precision: 0.9530 - recall: 0.9376 - auc: 0.9893 - prc: 0.9748 - val_loss: 0.3095 - val_categorical_accuracy: 0.9582 - val_tp: 1103.0000 - val_fp: 44.0000 - val_tn: 7978.0000 - val_fn: 59.0000 - val_accuracy: 0.9888 - val_precision: 0.9616 - val_recall: 0.9492 - val_auc: 0.9880 - val_prc: 0.9693\n",
            "Epoch 3/5\n",
            "144/144 [==============================] - 15s 102ms/step - loss: 6.5638 - categorical_accuracy: 0.9542 - tp: 4387.0000 - fp: 195.0000 - tn: 31859.0000 - fn: 263.0000 - accuracy: 0.9875 - precision: 0.9574 - recall: 0.9434 - auc: 0.9897 - prc: 0.9766 - val_loss: 0.3623 - val_categorical_accuracy: 0.9512 - val_tp: 1095.0000 - val_fp: 52.0000 - val_tn: 7970.0000 - val_fn: 67.0000 - val_accuracy: 0.9870 - val_precision: 0.9547 - val_recall: 0.9423 - val_auc: 0.9870 - val_prc: 0.9675\n",
            "Epoch 4/5\n",
            "144/144 [==============================] - 15s 103ms/step - loss: 6.5546 - categorical_accuracy: 0.9490 - tp: 4363.0000 - fp: 218.0000 - tn: 31836.0000 - fn: 287.0000 - accuracy: 0.9862 - precision: 0.9524 - recall: 0.9383 - auc: 0.9893 - prc: 0.9748 - val_loss: 0.3789 - val_categorical_accuracy: 0.9547 - val_tp: 1100.0000 - val_fp: 46.0000 - val_tn: 7976.0000 - val_fn: 62.0000 - val_accuracy: 0.9882 - val_precision: 0.9599 - val_recall: 0.9466 - val_auc: 0.9867 - val_prc: 0.9670\n",
            "Epoch 5/5\n",
            "144/144 [==============================] - 15s 102ms/step - loss: 6.7018 - categorical_accuracy: 0.9590 - tp: 4406.0000 - fp: 179.0000 - tn: 31875.0000 - fn: 244.0000 - accuracy: 0.9885 - precision: 0.9610 - recall: 0.9475 - auc: 0.9914 - prc: 0.9800 - val_loss: 0.3388 - val_categorical_accuracy: 0.9582 - val_tp: 1105.0000 - val_fp: 43.0000 - val_tn: 7979.0000 - val_fn: 57.0000 - val_accuracy: 0.9891 - val_precision: 0.9625 - val_recall: 0.9509 - val_auc: 0.9883 - val_prc: 0.9730\n",
            "[INFO] training on game: 176-200/400\n",
            "Epoch 1/5\n",
            "144/144 [==============================] - 15s 103ms/step - loss: 0.7634 - categorical_accuracy: 0.9064 - tp: 4174.0000 - fp: 400.0000 - tn: 31688.0000 - fn: 490.0000 - accuracy: 0.9758 - precision: 0.9125 - recall: 0.8949 - auc: 0.9720 - prc: 0.9279 - val_loss: 0.9494 - val_categorical_accuracy: 0.9060 - val_tp: 1044.0000 - val_fp: 101.0000 - val_tn: 7920.0000 - val_fn: 127.0000 - val_accuracy: 0.9752 - val_precision: 0.9118 - val_recall: 0.8915 - val_auc: 0.9709 - val_prc: 0.9251\n",
            "Epoch 2/5\n",
            "144/144 [==============================] - 15s 103ms/step - loss: 0.6141 - categorical_accuracy: 0.9001 - tp: 4140.0000 - fp: 437.0000 - tn: 31651.0000 - fn: 524.0000 - accuracy: 0.9739 - precision: 0.9045 - recall: 0.8877 - auc: 0.9727 - prc: 0.9277 - val_loss: 1.0530 - val_categorical_accuracy: 0.8930 - val_tp: 1022.0000 - val_fp: 117.0000 - val_tn: 7904.0000 - val_fn: 149.0000 - val_accuracy: 0.9711 - val_precision: 0.8973 - val_recall: 0.8728 - val_auc: 0.9658 - val_prc: 0.9093\n",
            "Epoch 3/5\n",
            "144/144 [==============================] - 15s 102ms/step - loss: 0.6573 - categorical_accuracy: 0.9053 - tp: 4161.0000 - fp: 412.0000 - tn: 31676.0000 - fn: 503.0000 - accuracy: 0.9751 - precision: 0.9099 - recall: 0.8922 - auc: 0.9737 - prc: 0.9303 - val_loss: 0.8474 - val_categorical_accuracy: 0.9156 - val_tp: 1054.0000 - val_fp: 92.0000 - val_tn: 7929.0000 - val_fn: 117.0000 - val_accuracy: 0.9773 - val_precision: 0.9197 - val_recall: 0.9001 - val_auc: 0.9733 - val_prc: 0.9297\n",
            "Epoch 4/5\n",
            "144/144 [==============================] - 15s 102ms/step - loss: 0.8361 - categorical_accuracy: 0.8755 - tp: 4013.0000 - fp: 554.0000 - tn: 31534.0000 - fn: 651.0000 - accuracy: 0.9672 - precision: 0.8787 - recall: 0.8604 - auc: 0.9639 - prc: 0.9023 - val_loss: 1.3736 - val_categorical_accuracy: 0.8642 - val_tp: 991.0000 - val_fp: 153.0000 - val_tn: 7868.0000 - val_fn: 180.0000 - val_accuracy: 0.9638 - val_precision: 0.8663 - val_recall: 0.8463 - val_auc: 0.9524 - val_prc: 0.8683\n",
            "Epoch 5/5\n",
            "144/144 [==============================] - 15s 102ms/step - loss: 0.9094 - categorical_accuracy: 0.8883 - tp: 4090.0000 - fp: 477.0000 - tn: 31611.0000 - fn: 574.0000 - accuracy: 0.9714 - precision: 0.8956 - recall: 0.8769 - auc: 0.9725 - prc: 0.9259 - val_loss: 1.7616 - val_categorical_accuracy: 0.8529 - val_tp: 981.0000 - val_fp: 161.0000 - val_tn: 7860.0000 - val_fn: 190.0000 - val_accuracy: 0.9618 - val_precision: 0.8590 - val_recall: 0.8377 - val_auc: 0.9470 - val_prc: 0.8619\n",
            "[INFO] training on game: 201-225/400\n",
            "Epoch 1/5\n",
            "146/146 [==============================] - 15s 104ms/step - loss: 0.6669 - categorical_accuracy: 0.9005 - tp: 4188.0000 - fp: 443.0000 - tn: 32068.0000 - fn: 517.0000 - accuracy: 0.9742 - precision: 0.9043 - recall: 0.8901 - auc: 0.9729 - prc: 0.9291 - val_loss: 0.6323 - val_categorical_accuracy: 0.9296 - val_tp: 1081.0000 - val_fp: 75.0000 - val_tn: 8055.0000 - val_fn: 101.0000 - val_accuracy: 0.9811 - val_precision: 0.9351 - val_recall: 0.9146 - val_auc: 0.9825 - val_prc: 0.9507\n",
            "Epoch 2/5\n",
            "146/146 [==============================] - 15s 102ms/step - loss: 0.4569 - categorical_accuracy: 0.9278 - tp: 4320.0000 - fp: 323.0000 - tn: 32188.0000 - fn: 385.0000 - accuracy: 0.9810 - precision: 0.9304 - recall: 0.9182 - auc: 0.9834 - prc: 0.9554 - val_loss: 0.5996 - val_categorical_accuracy: 0.9321 - val_tp: 1083.0000 - val_fp: 75.0000 - val_tn: 8055.0000 - val_fn: 99.0000 - val_accuracy: 0.9813 - val_precision: 0.9352 - val_recall: 0.9162 - val_auc: 0.9831 - val_prc: 0.9530\n",
            "Epoch 3/5\n",
            "146/146 [==============================] - 15s 101ms/step - loss: 0.4599 - categorical_accuracy: 0.9338 - tp: 4349.0000 - fp: 296.0000 - tn: 32215.0000 - fn: 356.0000 - accuracy: 0.9825 - precision: 0.9363 - recall: 0.9243 - auc: 0.9846 - prc: 0.9607 - val_loss: 0.5850 - val_categorical_accuracy: 0.9321 - val_tp: 1087.0000 - val_fp: 75.0000 - val_tn: 8055.0000 - val_fn: 95.0000 - val_accuracy: 0.9817 - val_precision: 0.9355 - val_recall: 0.9196 - val_auc: 0.9833 - val_prc: 0.9521\n",
            "Epoch 4/5\n",
            "146/146 [==============================] - 15s 102ms/step - loss: 0.4333 - categorical_accuracy: 0.9301 - tp: 4335.0000 - fp: 304.0000 - tn: 32207.0000 - fn: 370.0000 - accuracy: 0.9819 - precision: 0.9345 - recall: 0.9214 - auc: 0.9845 - prc: 0.9622 - val_loss: 0.5556 - val_categorical_accuracy: 0.9364 - val_tp: 1091.0000 - val_fp: 70.0000 - val_tn: 8060.0000 - val_fn: 91.0000 - val_accuracy: 0.9827 - val_precision: 0.9397 - val_recall: 0.9230 - val_auc: 0.9849 - val_prc: 0.9567\n",
            "Epoch 5/5\n",
            "146/146 [==============================] - 15s 102ms/step - loss: 0.4418 - categorical_accuracy: 0.9372 - tp: 4362.0000 - fp: 276.0000 - tn: 32235.0000 - fn: 343.0000 - accuracy: 0.9834 - precision: 0.9405 - recall: 0.9271 - auc: 0.9838 - prc: 0.9594 - val_loss: 0.5917 - val_categorical_accuracy: 0.9313 - val_tp: 1085.0000 - val_fp: 76.0000 - val_tn: 8054.0000 - val_fn: 97.0000 - val_accuracy: 0.9814 - val_precision: 0.9345 - val_recall: 0.9179 - val_auc: 0.9838 - val_prc: 0.9535\n",
            "[INFO] training on game: 226-250/400\n",
            "Epoch 1/5\n",
            "142/142 [==============================] - 15s 102ms/step - loss: 0.6444 - categorical_accuracy: 0.9250 - tp: 4203.0000 - fp: 318.0000 - tn: 31326.0000 - fn: 417.0000 - accuracy: 0.9797 - precision: 0.9297 - recall: 0.9097 - auc: 0.9797 - prc: 0.9489 - val_loss: 0.5578 - val_categorical_accuracy: 0.9268 - val_tp: 1049.0000 - val_fp: 83.0000 - val_tn: 7838.0000 - val_fn: 102.0000 - val_accuracy: 0.9796 - val_precision: 0.9267 - val_recall: 0.9114 - val_auc: 0.9826 - val_prc: 0.9542\n",
            "Epoch 2/5\n",
            "142/142 [==============================] - 15s 103ms/step - loss: 0.5224 - categorical_accuracy: 0.9248 - tp: 4208.0000 - fp: 316.0000 - tn: 31328.0000 - fn: 412.0000 - accuracy: 0.9799 - precision: 0.9302 - recall: 0.9108 - auc: 0.9809 - prc: 0.9521 - val_loss: 0.5472 - val_categorical_accuracy: 0.9286 - val_tp: 1053.0000 - val_fp: 79.0000 - val_tn: 7842.0000 - val_fn: 98.0000 - val_accuracy: 0.9805 - val_precision: 0.9302 - val_recall: 0.9149 - val_auc: 0.9828 - val_prc: 0.9566\n",
            "Epoch 3/5\n",
            "142/142 [==============================] - 15s 103ms/step - loss: 0.5642 - categorical_accuracy: 0.9301 - tp: 4227.0000 - fp: 300.0000 - tn: 31344.0000 - fn: 393.0000 - accuracy: 0.9809 - precision: 0.9337 - recall: 0.9149 - auc: 0.9814 - prc: 0.9536 - val_loss: 0.5624 - val_categorical_accuracy: 0.9286 - val_tp: 1052.0000 - val_fp: 79.0000 - val_tn: 7842.0000 - val_fn: 99.0000 - val_accuracy: 0.9804 - val_precision: 0.9302 - val_recall: 0.9140 - val_auc: 0.9823 - val_prc: 0.9546\n",
            "Epoch 4/5\n",
            "142/142 [==============================] - 15s 103ms/step - loss: 0.5176 - categorical_accuracy: 0.9276 - tp: 4218.0000 - fp: 309.0000 - tn: 31335.0000 - fn: 402.0000 - accuracy: 0.9804 - precision: 0.9317 - recall: 0.9130 - auc: 0.9801 - prc: 0.9512 - val_loss: 0.5422 - val_categorical_accuracy: 0.9312 - val_tp: 1056.0000 - val_fp: 78.0000 - val_tn: 7843.0000 - val_fn: 95.0000 - val_accuracy: 0.9809 - val_precision: 0.9312 - val_recall: 0.9175 - val_auc: 0.9849 - val_prc: 0.9621\n",
            "Epoch 5/5\n",
            "142/142 [==============================] - 14s 102ms/step - loss: 0.4407 - categorical_accuracy: 0.9407 - tp: 4272.0000 - fp: 254.0000 - tn: 31390.0000 - fn: 348.0000 - accuracy: 0.9834 - precision: 0.9439 - recall: 0.9247 - auc: 0.9815 - prc: 0.9548 - val_loss: 0.4801 - val_categorical_accuracy: 0.9339 - val_tp: 1059.0000 - val_fp: 75.0000 - val_tn: 7846.0000 - val_fn: 92.0000 - val_accuracy: 0.9816 - val_precision: 0.9339 - val_recall: 0.9201 - val_auc: 0.9865 - val_prc: 0.9659\n",
            "[INFO] training on game: 251-275/400\n",
            "Epoch 1/5\n",
            "133/133 [==============================] - 14s 104ms/step - loss: 0.5650 - categorical_accuracy: 0.9226 - tp: 3938.0000 - fp: 290.0000 - tn: 29376.0000 - fn: 388.0000 - accuracy: 0.9801 - precision: 0.9314 - recall: 0.9103 - auc: 0.9802 - prc: 0.9472 - val_loss: 0.3081 - val_categorical_accuracy: 0.9370 - val_tp: 995.0000 - val_fp: 64.0000 - val_tn: 7363.0000 - val_fn: 82.0000 - val_accuracy: 0.9828 - val_precision: 0.9396 - val_recall: 0.9239 - val_auc: 0.9882 - val_prc: 0.9695\n",
            "Epoch 2/5\n",
            "133/133 [==============================] - 14s 104ms/step - loss: 0.6290 - categorical_accuracy: 0.9233 - tp: 3934.0000 - fp: 301.0000 - tn: 29365.0000 - fn: 392.0000 - accuracy: 0.9796 - precision: 0.9289 - recall: 0.9094 - auc: 0.9822 - prc: 0.9545 - val_loss: 0.3115 - val_categorical_accuracy: 0.9436 - val_tp: 1005.0000 - val_fp: 58.0000 - val_tn: 7369.0000 - val_fn: 72.0000 - val_accuracy: 0.9847 - val_precision: 0.9454 - val_recall: 0.9331 - val_auc: 0.9888 - val_prc: 0.9715\n",
            "Epoch 3/5\n",
            "133/133 [==============================] - 14s 103ms/step - loss: 0.5188 - categorical_accuracy: 0.9249 - tp: 3941.0000 - fp: 287.0000 - tn: 29379.0000 - fn: 385.0000 - accuracy: 0.9802 - precision: 0.9321 - recall: 0.9110 - auc: 0.9839 - prc: 0.9566 - val_loss: 0.3165 - val_categorical_accuracy: 0.9464 - val_tp: 1007.0000 - val_fp: 55.0000 - val_tn: 7372.0000 - val_fn: 70.0000 - val_accuracy: 0.9853 - val_precision: 0.9482 - val_recall: 0.9350 - val_auc: 0.9884 - val_prc: 0.9703\n",
            "Epoch 4/5\n",
            "133/133 [==============================] - 14s 103ms/step - loss: 0.4683 - categorical_accuracy: 0.9320 - tp: 3967.0000 - fp: 267.0000 - tn: 29399.0000 - fn: 359.0000 - accuracy: 0.9816 - precision: 0.9369 - recall: 0.9170 - auc: 0.9833 - prc: 0.9571 - val_loss: 0.3292 - val_categorical_accuracy: 0.9417 - val_tp: 1003.0000 - val_fp: 60.0000 - val_tn: 7367.0000 - val_fn: 74.0000 - val_accuracy: 0.9842 - val_precision: 0.9436 - val_recall: 0.9313 - val_auc: 0.9897 - val_prc: 0.9714\n",
            "Epoch 5/5\n",
            "133/133 [==============================] - 14s 103ms/step - loss: 0.4713 - categorical_accuracy: 0.9299 - tp: 3968.0000 - fp: 275.0000 - tn: 29391.0000 - fn: 358.0000 - accuracy: 0.9814 - precision: 0.9352 - recall: 0.9172 - auc: 0.9835 - prc: 0.9573 - val_loss: 0.3045 - val_categorical_accuracy: 0.9445 - val_tp: 1007.0000 - val_fp: 55.0000 - val_tn: 7372.0000 - val_fn: 70.0000 - val_accuracy: 0.9853 - val_precision: 0.9482 - val_recall: 0.9350 - val_auc: 0.9889 - val_prc: 0.9706\n",
            "[INFO] training on game: 276-300/400\n",
            "Epoch 1/5\n",
            "128/128 [==============================] - 13s 104ms/step - loss: 0.4406 - categorical_accuracy: 0.9197 - tp: 3777.0000 - fp: 306.0000 - tn: 28306.0000 - fn: 379.0000 - accuracy: 0.9791 - precision: 0.9251 - recall: 0.9088 - auc: 0.9811 - prc: 0.9459 - val_loss: 0.6375 - val_categorical_accuracy: 0.9044 - val_tp: 930.0000 - val_fp: 92.0000 - val_tn: 7074.0000 - val_fn: 104.0000 - val_accuracy: 0.9761 - val_precision: 0.9100 - val_recall: 0.8994 - val_auc: 0.9755 - val_prc: 0.9307\n",
            "Epoch 2/5\n",
            "128/128 [==============================] - 13s 103ms/step - loss: 0.4292 - categorical_accuracy: 0.9214 - tp: 3788.0000 - fp: 292.0000 - tn: 28320.0000 - fn: 368.0000 - accuracy: 0.9799 - precision: 0.9284 - recall: 0.9115 - auc: 0.9824 - prc: 0.9519 - val_loss: 0.6324 - val_categorical_accuracy: 0.9112 - val_tp: 936.0000 - val_fp: 88.0000 - val_tn: 7078.0000 - val_fn: 98.0000 - val_accuracy: 0.9773 - val_precision: 0.9141 - val_recall: 0.9052 - val_auc: 0.9755 - val_prc: 0.9302\n",
            "Epoch 3/5\n",
            "128/128 [==============================] - 13s 103ms/step - loss: 0.4140 - categorical_accuracy: 0.9231 - tp: 3799.0000 - fp: 286.0000 - tn: 28326.0000 - fn: 357.0000 - accuracy: 0.9804 - precision: 0.9300 - recall: 0.9141 - auc: 0.9840 - prc: 0.9560 - val_loss: 0.6153 - val_categorical_accuracy: 0.9112 - val_tp: 934.0000 - val_fp: 87.0000 - val_tn: 7079.0000 - val_fn: 100.0000 - val_accuracy: 0.9772 - val_precision: 0.9148 - val_recall: 0.9033 - val_auc: 0.9757 - val_prc: 0.9332\n",
            "Epoch 4/5\n",
            "128/128 [==============================] - 13s 103ms/step - loss: 0.4808 - categorical_accuracy: 0.9229 - tp: 3787.0000 - fp: 295.0000 - tn: 28317.0000 - fn: 369.0000 - accuracy: 0.9797 - precision: 0.9277 - recall: 0.9112 - auc: 0.9840 - prc: 0.9565 - val_loss: 0.6059 - val_categorical_accuracy: 0.9141 - val_tp: 940.0000 - val_fp: 84.0000 - val_tn: 7082.0000 - val_fn: 94.0000 - val_accuracy: 0.9783 - val_precision: 0.9180 - val_recall: 0.9091 - val_auc: 0.9761 - val_prc: 0.9358\n",
            "Epoch 5/5\n",
            "128/128 [==============================] - 13s 104ms/step - loss: 0.5039 - categorical_accuracy: 0.9368 - tp: 3842.0000 - fp: 248.0000 - tn: 28364.0000 - fn: 314.0000 - accuracy: 0.9828 - precision: 0.9394 - recall: 0.9244 - auc: 0.9847 - prc: 0.9592 - val_loss: 0.6125 - val_categorical_accuracy: 0.9112 - val_tp: 936.0000 - val_fp: 87.0000 - val_tn: 7079.0000 - val_fn: 98.0000 - val_accuracy: 0.9774 - val_precision: 0.9150 - val_recall: 0.9052 - val_auc: 0.9767 - val_prc: 0.9329\n",
            "[INFO] training on game: 301-325/400\n",
            "Epoch 1/5\n",
            "123/123 [==============================] - 13s 104ms/step - loss: 3.2553 - categorical_accuracy: 0.8851 - tp: 3482.0000 - fp: 413.0000 - tn: 27005.0000 - fn: 508.0000 - accuracy: 0.9707 - precision: 0.8940 - recall: 0.8727 - auc: 0.9704 - prc: 0.9148 - val_loss: 0.7338 - val_categorical_accuracy: 0.8707 - val_tp: 857.0000 - val_fp: 118.0000 - val_tn: 6731.0000 - val_fn: 150.0000 - val_accuracy: 0.9659 - val_precision: 0.8790 - val_recall: 0.8510 - val_auc: 0.9697 - val_prc: 0.9062\n",
            "Epoch 2/5\n",
            "123/123 [==============================] - 13s 103ms/step - loss: 3.0601 - categorical_accuracy: 0.8846 - tp: 3472.0000 - fp: 429.0000 - tn: 26989.0000 - fn: 518.0000 - accuracy: 0.9698 - precision: 0.8900 - recall: 0.8702 - auc: 0.9719 - prc: 0.9187 - val_loss: 0.6892 - val_categorical_accuracy: 0.8839 - val_tp: 869.0000 - val_fp: 105.0000 - val_tn: 6744.0000 - val_fn: 138.0000 - val_accuracy: 0.9691 - val_precision: 0.8922 - val_recall: 0.8630 - val_auc: 0.9729 - val_prc: 0.9150\n",
            "Epoch 3/5\n",
            "123/123 [==============================] - 13s 103ms/step - loss: 3.1299 - categorical_accuracy: 0.8889 - tp: 3492.0000 - fp: 406.0000 - tn: 27012.0000 - fn: 498.0000 - accuracy: 0.9712 - precision: 0.8958 - recall: 0.8752 - auc: 0.9743 - prc: 0.9245 - val_loss: 0.7047 - val_categorical_accuracy: 0.8819 - val_tp: 869.0000 - val_fp: 106.0000 - val_tn: 6743.0000 - val_fn: 138.0000 - val_accuracy: 0.9689 - val_precision: 0.8913 - val_recall: 0.8630 - val_auc: 0.9724 - val_prc: 0.9172\n",
            "Epoch 4/5\n",
            "123/123 [==============================] - 13s 102ms/step - loss: 2.9859 - categorical_accuracy: 0.8844 - tp: 3472.0000 - fp: 419.0000 - tn: 26999.0000 - fn: 518.0000 - accuracy: 0.9702 - precision: 0.8923 - recall: 0.8702 - auc: 0.9733 - prc: 0.9208 - val_loss: 0.8334 - val_categorical_accuracy: 0.8625 - val_tp: 847.0000 - val_fp: 130.0000 - val_tn: 6719.0000 - val_fn: 160.0000 - val_accuracy: 0.9631 - val_precision: 0.8669 - val_recall: 0.8411 - val_auc: 0.9663 - val_prc: 0.9004\n",
            "Epoch 5/5\n",
            "123/123 [==============================] - 13s 102ms/step - loss: 3.1369 - categorical_accuracy: 0.8879 - tp: 3495.0000 - fp: 404.0000 - tn: 27014.0000 - fn: 495.0000 - accuracy: 0.9714 - precision: 0.8964 - recall: 0.8759 - auc: 0.9751 - prc: 0.9282 - val_loss: 0.7602 - val_categorical_accuracy: 0.8707 - val_tp: 857.0000 - val_fp: 117.0000 - val_tn: 6732.0000 - val_fn: 150.0000 - val_accuracy: 0.9660 - val_precision: 0.8799 - val_recall: 0.8510 - val_auc: 0.9684 - val_prc: 0.9093\n",
            "[INFO] training on game: 326-350/400\n",
            "Epoch 1/5\n",
            "133/133 [==============================] - 14s 104ms/step - loss: 0.8943 - categorical_accuracy: 0.8682 - tp: 3693.0000 - fp: 526.0000 - tn: 29207.0000 - fn: 622.0000 - accuracy: 0.9663 - precision: 0.8753 - recall: 0.8559 - auc: 0.9686 - prc: 0.9013 - val_loss: 0.6282 - val_categorical_accuracy: 0.8864 - val_tp: 944.0000 - val_fp: 119.0000 - val_tn: 7325.0000 - val_fn: 132.0000 - val_accuracy: 0.9705 - val_precision: 0.8881 - val_recall: 0.8773 - val_auc: 0.9741 - val_prc: 0.9111\n",
            "Epoch 2/5\n",
            "133/133 [==============================] - 14s 103ms/step - loss: 0.8102 - categorical_accuracy: 0.8665 - tp: 3689.0000 - fp: 529.0000 - tn: 29204.0000 - fn: 626.0000 - accuracy: 0.9661 - precision: 0.8746 - recall: 0.8549 - auc: 0.9717 - prc: 0.9123 - val_loss: 0.6355 - val_categorical_accuracy: 0.8808 - val_tp: 940.0000 - val_fp: 120.0000 - val_tn: 7324.0000 - val_fn: 136.0000 - val_accuracy: 0.9700 - val_precision: 0.8868 - val_recall: 0.8736 - val_auc: 0.9741 - val_prc: 0.9147\n",
            "Epoch 3/5\n",
            "133/133 [==============================] - 14s 103ms/step - loss: 0.8463 - categorical_accuracy: 0.8766 - tp: 3727.0000 - fp: 494.0000 - tn: 29239.0000 - fn: 588.0000 - accuracy: 0.9682 - precision: 0.8830 - recall: 0.8637 - auc: 0.9728 - prc: 0.9113 - val_loss: 0.6045 - val_categorical_accuracy: 0.8751 - val_tp: 933.0000 - val_fp: 128.0000 - val_tn: 7316.0000 - val_fn: 143.0000 - val_accuracy: 0.9682 - val_precision: 0.8794 - val_recall: 0.8671 - val_auc: 0.9761 - val_prc: 0.9152\n",
            "Epoch 4/5\n",
            "133/133 [==============================] - 14s 102ms/step - loss: 0.6829 - categorical_accuracy: 0.8748 - tp: 3724.0000 - fp: 498.0000 - tn: 29235.0000 - fn: 591.0000 - accuracy: 0.9680 - precision: 0.8820 - recall: 0.8630 - auc: 0.9748 - prc: 0.9172 - val_loss: 0.6093 - val_categorical_accuracy: 0.8761 - val_tp: 931.0000 - val_fp: 127.0000 - val_tn: 7317.0000 - val_fn: 145.0000 - val_accuracy: 0.9681 - val_precision: 0.8800 - val_recall: 0.8652 - val_auc: 0.9775 - val_prc: 0.9188\n",
            "Epoch 5/5\n",
            "133/133 [==============================] - 14s 103ms/step - loss: 0.6207 - categorical_accuracy: 0.8788 - tp: 3735.0000 - fp: 482.0000 - tn: 29251.0000 - fn: 580.0000 - accuracy: 0.9688 - precision: 0.8857 - recall: 0.8656 - auc: 0.9750 - prc: 0.9199 - val_loss: 0.5538 - val_categorical_accuracy: 0.8845 - val_tp: 940.0000 - val_fp: 119.0000 - val_tn: 7325.0000 - val_fn: 136.0000 - val_accuracy: 0.9701 - val_precision: 0.8876 - val_recall: 0.8736 - val_auc: 0.9784 - val_prc: 0.9232\n",
            "[INFO] training on game: 351-375/400\n",
            "Epoch 1/5\n",
            "135/135 [==============================] - 14s 104ms/step - loss: 3.2672 - categorical_accuracy: 0.8569 - tp: 3700.0000 - fp: 579.0000 - tn: 29585.0000 - fn: 680.0000 - accuracy: 0.9636 - precision: 0.8647 - recall: 0.8447 - auc: 0.9679 - prc: 0.8995 - val_loss: 0.5744 - val_categorical_accuracy: 0.8778 - val_tp: 949.0000 - val_fp: 128.0000 - val_tn: 7419.0000 - val_fn: 144.0000 - val_accuracy: 0.9685 - val_precision: 0.8812 - val_recall: 0.8683 - val_auc: 0.9748 - val_prc: 0.9124\n",
            "Epoch 2/5\n",
            "135/135 [==============================] - 14s 103ms/step - loss: 3.7516 - categorical_accuracy: 0.7781 - tp: 3355.0000 - fp: 905.0000 - tn: 29259.0000 - fn: 1025.0000 - accuracy: 0.9441 - precision: 0.7876 - recall: 0.7660 - auc: 0.9351 - prc: 0.8253 - val_loss: 0.6724 - val_categorical_accuracy: 0.8769 - val_tp: 948.0000 - val_fp: 124.0000 - val_tn: 7423.0000 - val_fn: 145.0000 - val_accuracy: 0.9689 - val_precision: 0.8843 - val_recall: 0.8673 - val_auc: 0.9738 - val_prc: 0.9169\n",
            "Epoch 3/5\n",
            "135/135 [==============================] - 14s 103ms/step - loss: 3.1640 - categorical_accuracy: 0.8745 - tp: 3783.0000 - fp: 506.0000 - tn: 29658.0000 - fn: 597.0000 - accuracy: 0.9681 - precision: 0.8820 - recall: 0.8637 - auc: 0.9730 - prc: 0.9195 - val_loss: 0.6293 - val_categorical_accuracy: 0.8843 - val_tp: 954.0000 - val_fp: 116.0000 - val_tn: 7431.0000 - val_fn: 139.0000 - val_accuracy: 0.9705 - val_precision: 0.8916 - val_recall: 0.8728 - val_auc: 0.9783 - val_prc: 0.9313\n",
            "Epoch 4/5\n",
            "135/135 [==============================] - 14s 102ms/step - loss: 3.1489 - categorical_accuracy: 0.8770 - tp: 3787.0000 - fp: 496.0000 - tn: 29668.0000 - fn: 593.0000 - accuracy: 0.9685 - precision: 0.8842 - recall: 0.8646 - auc: 0.9742 - prc: 0.9246 - val_loss: 0.6439 - val_categorical_accuracy: 0.8787 - val_tp: 950.0000 - val_fp: 120.0000 - val_tn: 7427.0000 - val_fn: 143.0000 - val_accuracy: 0.9696 - val_precision: 0.8879 - val_recall: 0.8692 - val_auc: 0.9786 - val_prc: 0.9287\n",
            "Epoch 5/5\n",
            "135/135 [==============================] - 14s 102ms/step - loss: 3.2581 - categorical_accuracy: 0.8775 - tp: 3782.0000 - fp: 494.0000 - tn: 29670.0000 - fn: 598.0000 - accuracy: 0.9684 - precision: 0.8845 - recall: 0.8635 - auc: 0.9744 - prc: 0.9223 - val_loss: 0.6119 - val_categorical_accuracy: 0.8861 - val_tp: 958.0000 - val_fp: 111.0000 - val_tn: 7436.0000 - val_fn: 135.0000 - val_accuracy: 0.9715 - val_precision: 0.8962 - val_recall: 0.8765 - val_auc: 0.9784 - val_prc: 0.9334\n",
            "[INFO] training on game: 376-400/400\n",
            "Epoch 1/5\n",
            "133/133 [==============================] - 14s 104ms/step - loss: 1.0239 - categorical_accuracy: 0.8294 - tp: 3515.0000 - fp: 664.0000 - tn: 28978.0000 - fn: 843.0000 - accuracy: 0.9557 - precision: 0.8411 - recall: 0.8066 - auc: 0.9557 - prc: 0.8644 - val_loss: 0.6782 - val_categorical_accuracy: 0.8617 - val_tp: 912.0000 - val_fp: 141.0000 - val_tn: 7293.0000 - val_fn: 158.0000 - val_accuracy: 0.9648 - val_precision: 0.8661 - val_recall: 0.8523 - val_auc: 0.9745 - val_prc: 0.9213\n",
            "Epoch 2/5\n",
            "133/133 [==============================] - 14s 103ms/step - loss: 0.9704 - categorical_accuracy: 0.8306 - tp: 3523.0000 - fp: 660.0000 - tn: 28982.0000 - fn: 835.0000 - accuracy: 0.9560 - precision: 0.8422 - recall: 0.8084 - auc: 0.9577 - prc: 0.8759 - val_loss: 0.5858 - val_categorical_accuracy: 0.8758 - val_tp: 928.0000 - val_fp: 126.0000 - val_tn: 7308.0000 - val_fn: 142.0000 - val_accuracy: 0.9685 - val_precision: 0.8805 - val_recall: 0.8673 - val_auc: 0.9780 - val_prc: 0.9313\n",
            "Epoch 3/5\n",
            "133/133 [==============================] - 14s 104ms/step - loss: 0.9227 - categorical_accuracy: 0.8421 - tp: 3564.0000 - fp: 615.0000 - tn: 29027.0000 - fn: 794.0000 - accuracy: 0.9586 - precision: 0.8528 - recall: 0.8178 - auc: 0.9630 - prc: 0.8872 - val_loss: 0.6243 - val_categorical_accuracy: 0.8655 - val_tp: 917.0000 - val_fp: 134.0000 - val_tn: 7300.0000 - val_fn: 153.0000 - val_accuracy: 0.9663 - val_precision: 0.8725 - val_recall: 0.8570 - val_auc: 0.9779 - val_prc: 0.9257\n",
            "Epoch 4/5\n",
            "133/133 [==============================] - 14s 102ms/step - loss: 1.0000 - categorical_accuracy: 0.8348 - tp: 3552.0000 - fp: 628.0000 - tn: 29014.0000 - fn: 806.0000 - accuracy: 0.9578 - precision: 0.8498 - recall: 0.8151 - auc: 0.9619 - prc: 0.8854 - val_loss: 0.5546 - val_categorical_accuracy: 0.8739 - val_tp: 925.0000 - val_fp: 128.0000 - val_tn: 7306.0000 - val_fn: 145.0000 - val_accuracy: 0.9679 - val_precision: 0.8784 - val_recall: 0.8645 - val_auc: 0.9794 - val_prc: 0.9342\n",
            "Epoch 5/5\n",
            "133/133 [==============================] - 14s 103ms/step - loss: 0.9641 - categorical_accuracy: 0.8365 - tp: 3550.0000 - fp: 625.0000 - tn: 29017.0000 - fn: 808.0000 - accuracy: 0.9579 - precision: 0.8503 - recall: 0.8146 - auc: 0.9621 - prc: 0.8889 - val_loss: 0.5943 - val_categorical_accuracy: 0.8721 - val_tp: 925.0000 - val_fp: 125.0000 - val_tn: 7309.0000 - val_fn: 145.0000 - val_accuracy: 0.9683 - val_precision: 0.8810 - val_recall: 0.8645 - val_auc: 0.9778 - val_prc: 0.9275\n"
          ]
        }
      ]
    },
    {
      "cell_type": "code",
      "source": [
        "# save rnn_model\n",
        "rnn_model.save(\"models/action_classifier_7_11window\")"
      ],
      "metadata": {
        "colab": {
          "base_uri": "https://localhost:8080/"
        },
        "id": "Me1YvAw3EUlK",
        "outputId": "93ee5cec-de20-4bc1-fd3a-4cec84b00fe1"
      },
      "execution_count": 20,
      "outputs": [
        {
          "output_type": "stream",
          "name": "stderr",
          "text": [
            "WARNING:absl:Found untraced functions such as gru_cell_7_layer_call_fn, gru_cell_7_layer_call_and_return_conditional_losses, gru_cell_8_layer_call_fn, gru_cell_8_layer_call_and_return_conditional_losses, gru_cell_10_layer_call_fn while saving (showing 5 of 8). These functions will not be directly callable after loading.\n"
          ]
        },
        {
          "output_type": "stream",
          "name": "stdout",
          "text": [
            "INFO:tensorflow:Assets written to: models/action_classifier_7_11window/assets\n"
          ]
        },
        {
          "output_type": "stream",
          "name": "stderr",
          "text": [
            "INFO:tensorflow:Assets written to: models/action_classifier_7_11window/assets\n",
            "WARNING:absl:<keras.layers.recurrent.GRUCell object at 0x7f7e67ec2450> has the same name 'GRUCell' as a built-in Keras object. Consider renaming <class 'keras.layers.recurrent.GRUCell'> to avoid naming conflicts when loading with `tf.keras.models.load_model`. If renaming is not possible, pass the object in the `custom_objects` parameter of the load function.\n",
            "WARNING:absl:<keras.layers.recurrent.GRUCell object at 0x7f7e67e521d0> has the same name 'GRUCell' as a built-in Keras object. Consider renaming <class 'keras.layers.recurrent.GRUCell'> to avoid naming conflicts when loading with `tf.keras.models.load_model`. If renaming is not possible, pass the object in the `custom_objects` parameter of the load function.\n",
            "WARNING:absl:<keras.layers.recurrent.GRUCell object at 0x7f7e67d3a6d0> has the same name 'GRUCell' as a built-in Keras object. Consider renaming <class 'keras.layers.recurrent.GRUCell'> to avoid naming conflicts when loading with `tf.keras.models.load_model`. If renaming is not possible, pass the object in the `custom_objects` parameter of the load function.\n",
            "WARNING:absl:<keras.layers.recurrent.GRUCell object at 0x7f7e67c817d0> has the same name 'GRUCell' as a built-in Keras object. Consider renaming <class 'keras.layers.recurrent.GRUCell'> to avoid naming conflicts when loading with `tf.keras.models.load_model`. If renaming is not possible, pass the object in the `custom_objects` parameter of the load function.\n"
          ]
        }
      ]
    },
    {
      "cell_type": "code",
      "source": [
        "plt.style.use(\"ggplot\")\n",
        "plt.figure()\n",
        "plt.plot(loss, label=\"train_loss\")\n",
        "plt.plot(acc, label=\"train_acc\")\n",
        "plt.title(\"Training Loss and Accuracy\")\n",
        "plt.xlabel(\"Epoch #\")\n",
        "plt.ylabel(\"Loss/Accuracy\")\n",
        "plt.legend(loc=\"upper left\")"
      ],
      "metadata": {
        "colab": {
          "base_uri": "https://localhost:8080/",
          "height": 316
        },
        "id": "lsRxY7buMQnv",
        "outputId": "659dc375-8259-41fd-d0bb-a3d01bf46997"
      },
      "execution_count": null,
      "outputs": [
        {
          "output_type": "execute_result",
          "data": {
            "text/plain": [
              "<matplotlib.legend.Legend at 0x7f6768ec3110>"
            ]
          },
          "metadata": {},
          "execution_count": 18
        },
        {
          "output_type": "display_data",
          "data": {
            "text/plain": [
              "<Figure size 432x288 with 1 Axes>"
            ],
            "image/png": "[encoded data removed]"
          },
          "metadata": {}
        }
      ]
    },
    {
      "cell_type": "code",
      "source": [
        "rnn_model = tensorflow.keras.models.load_model(\"models/action_classifier\")"
      ],
      "metadata": {
        "id": "WoVorHzX4ayo"
      },
      "execution_count": null,
      "outputs": []
    },
    {
      "cell_type": "code",
      "source": [
        "def extendPred(pred, windows, num_frames, classes=17):\n",
        "    final_pred = np.zeros((num_frames, classes), dtype=int)\n",
        "\n",
        "    for (p, w) in zip(pred, windows):\n",
        "        ts = w[0] + ((w[1] - w[0]) // 2)\n",
        "        idx = np.argmax(p)\n",
        "        final_pred[ts][idx] = 1\n",
        "    \n",
        "    return final_pred"
      ],
      "metadata": {
        "id": "xmeIkqwcTwEH"
      },
      "execution_count": null,
      "outputs": []
    },
    {
      "cell_type": "code",
      "source": [
        "from sklearn.metrics import precision_score\n",
        "\n",
        "def accuracy_(pred, labels):\n",
        "    total, acc = 0, 0\n",
        "    for p, l in zip(pred, labels):\n",
        "        if np.sum(p) == np.sum(l) and np.argmax(p) == np.argmax(l):\n",
        "            acc += 1\n",
        "        total += 1\n",
        "    precisions = precision_score(labels, pred, average=None)\n",
        "    print(f\"mAP = {np.sum(precisions) / 7}\")\n",
        "    \n",
        "    return (acc / total)"
      ],
      "metadata": {
        "id": "FdWB0qBAU8sl"
      },
      "execution_count": null,
      "outputs": []
    },
    {
      "cell_type": "code",
      "source": [
        "# test action classifier\n",
        "# game = 1\n",
        "\n",
        "for game in tl:\n",
        "\n",
        "    # print(f\"[INFO] testing on game: {game}/100\")\n",
        "\n",
        "    filepath = \"labels/\" + game + \"/\"\n",
        "    filepath = game + \"/\"\n",
        "    print(filepath)\n",
        "\n",
        "    [features_1, features_2, labels_1, labels_2] = getGameData(filepath, \n",
        "                                                        num_classes=17, \n",
        "                                                        event_mapping=GV.EVENT_DICTIONARY_V2)\n",
        "    if features_1 is None or features_2 is None:\n",
        "        continue\n",
        "\n",
        "    features_1, _ = divideGame(features_1, labels_1)\n",
        "    features_2, _ = divideGame(features_2, labels_2)\n",
        "\n",
        "    pred_1 = model.predict_on_batch(features_1)\n",
        "    pred_2 = model.predict_on_batch(features_2)\n",
        "\n",
        "    windows_1 = getWindows(pred_1)\n",
        "    windows_2 = getWindows(pred_2)\n",
        "\n",
        "    features_1, labels_1 = divideGame(features_1, labels_1, binary=False)\n",
        "    features_2, labels_2 = divideGame(features_2, labels_2, binary=False)\n",
        "\n",
        "    [features_1, labels_1] = segmentActions(windows_1, features_1, labels_1)\n",
        "    [features_2, labels_2] = segmentActions(windows_2, features_2, labels_2)\n",
        "\n",
        "    if features_1 is None or len(features_1.shape) != 3 or \\\n",
        "        features_2 is None or len(features_2.shape) != 3:\n",
        "        continue\n",
        "\n",
        "    pred_1 = rnn_model.predict_on_batch(features_1)\n",
        "    pred_1 = np.asarray(pred_1)\n",
        "    pred_2 = rnn_model.predict_on_batch(features_2)\n",
        "    pred_2 = np.asarray(pred_2)\n",
        "\n",
        "    # pred_1 = extendPred(pred_1, windows_1, len(features_1), 7)\n",
        "    # pred_2 = extendPred(pred_2, windows_2, len(features_2), 7)\n",
        "\n",
        "    savePreds((pred_1, pred_2), (windows_1, windows_2), filepath)\n",
        "    \n",
        "    # print(f\"[INFO] Accuracy on 1st half: {accuracy(pred_1, labels_1) * 100}%\")\n",
        "    # print(f\"[INFO] Accuracy on 2nd half: {accuracy(pred_2, labels_2) * 100}%\")\n",
        "\n",
        "    # game += 1"
      ],
      "metadata": {
        "colab": {
          "base_uri": "https://localhost:8080/"
        },
        "id": "ZZhVlit6MSSr",
        "outputId": "4e78711a-c698-405c-d6cb-b767bf18ec6d"
      },
      "execution_count": null,
      "outputs": [
        {
          "output_type": "stream",
          "name": "stdout",
          "text": [
            "labels/england_epl/2016-2017/2016-08-27 - 14-30 Tottenham 1 - 1 Liverpool/\n",
            "[INFO] Accuracy on 1st half: 61.111111111111114%\n",
            "[INFO] Accuracy on 2nd half: 46.464646464646464%\n",
            "labels/england_epl/2016-2017/2016-09-24 - 14-30 Manchester United 4 - 1 Leicester//\n",
            "[INFO] Accuracy on 1st half: 56.16438356164384%\n",
            "[INFO] Accuracy on 2nd half: 63.1578947368421%\n",
            "labels/europe_uefa-champions-league/2016-2017/2016-11-01 - 22-45 Manchester City 3 - 1 Barcelona//\n",
            "[INFO] Accuracy on 1st half: 68.67469879518072%\n",
            "[INFO] Accuracy on 2nd half: 63.23529411764706%\n",
            "labels/germany_bundesliga/2015-2016/2015-08-29 - 19-30 Bayern Munich 3 - 0 Bayer Leverkusen//\n",
            "[INFO] Accuracy on 1st half: 53.65853658536586%\n",
            "[INFO] Accuracy on 2nd half: 53.246753246753244%\n",
            "labels/spain_laliga/2014-2015/2015-04-18 - 21-00 Real Madrid 3 - 1 Malaga//\n",
            "[INFO] Accuracy on 1st half: 45.33333333333333%\n",
            "[INFO] Accuracy on 2nd half: 38.961038961038966%\n",
            "labels/spain_laliga/2014-2015/2015-04-29 - 21-00 Real Madrid 3 - 0 Almeria//\n",
            "[INFO] Accuracy on 1st half: 48.68421052631579%\n",
            "[INFO] Accuracy on 2nd half: 47.88732394366197%\n"
          ]
        }
      ]
    },
    {
      "cell_type": "code",
      "source": [
        "# save rnn_model\n",
        "rnn_model.save(\"models/action_classifier\")"
      ],
      "metadata": {
        "colab": {
          "base_uri": "https://localhost:8080/",
          "height": 182
        },
        "id": "jyQegfrljvvL",
        "outputId": "66e78991-492c-47da-90ff-aedbd01be7c0"
      },
      "execution_count": null,
      "outputs": [
        {
          "output_type": "error",
          "ename": "NameError",
          "evalue": "ignored",
          "traceback": [
            "\u001b[0;31m---------------------------------------------------------------------------\u001b[0m",
            "\u001b[0;31mNameError\u001b[0m                                 Traceback (most recent call last)",
            "\u001b[0;32m<ipython-input-10-656a2b62426b>\u001b[0m in \u001b[0;36m<module>\u001b[0;34m()\u001b[0m\n\u001b[1;32m      1\u001b[0m \u001b[0;31m# save rnn_model\u001b[0m\u001b[0;34m\u001b[0m\u001b[0;34m\u001b[0m\u001b[0;34m\u001b[0m\u001b[0m\n\u001b[0;32m----> 2\u001b[0;31m \u001b[0mrnn_model\u001b[0m\u001b[0;34m.\u001b[0m\u001b[0msave\u001b[0m\u001b[0;34m(\u001b[0m\u001b[0;34m\"models/action_classifier\"\u001b[0m\u001b[0;34m)\u001b[0m\u001b[0;34m\u001b[0m\u001b[0;34m\u001b[0m\u001b[0m\n\u001b[0m",
            "\u001b[0;31mNameError\u001b[0m: name 'rnn_model' is not defined"
          ]
        }
      ]
    },
    {
      "cell_type": "code",
      "source": [
        "from SoccerNet.Evaluation.ActionSpotting import evaluate\n",
        "results = evaluate(SoccerNet_path=\"labels/\", Predictions_path=\"results/\",\n",
        "                   split=\"test\", version=2, prediction_file=\"results_spotting.json\")\n",
        "\n",
        "print(\"tight Average mAP: \", results[\"a_mAP\"])\n",
        "print(\"tight Average mAP per class: \", results[\"a_mAP_per_class\"])\n",
        "print(\"tight Average mAP visible: \", results[\"a_mAP_visible\"])\n",
        "print(\"tight Average mAP visible per class: \", results[\"a_mAP_per_class_visible\"])\n",
        "print(\"tight Average mAP unshown: \", results[\"a_mAP_unshown\"])\n",
        "print(\"tight Average mAP unshown per class: \", results[\"a_mAP_per_class_unshown\"])"
      ],
      "metadata": {
        "id": "zAjT6Kkf5lNN",
        "outputId": "5a494a39-045a-4786-ff5f-048c5b139d19",
        "colab": {
          "base_uri": "https://localhost:8080/"
        }
      },
      "execution_count": null,
      "outputs": [
        {
          "output_type": "stream",
          "name": "stderr",
          "text": [
            "100%|██████████| 100/100 [00:01<00:00, 92.69it/s]\n",
            "100%|██████████| 12/12 [00:22<00:00,  1.89s/it]"
          ]
        },
        {
          "output_type": "stream",
          "name": "stdout",
          "text": [
            "tight Average mAP:  0.3257750762257959\n",
            "tight Average mAP per class:  [0.27272727272727265, 0.44509115419132395, 0.36425764599206706, 0.3509418092305794, 0.2579131394920868, 0.15966749951950798, 0.09090909090909093, 0.2546764453371507, 0.7554700204599456, 0.533955886101281, 0.42491255927235466, 0.09090909090909093, 0.40468894365899427, 0.6969203436085568, 0.43513539442922755, 0.0, 0.0]\n",
            "tight Average mAP visible:  0.37390726160830356\n",
            "tight Average mAP visible per class:  [0.27272727272727265, 0.800528330592797, 0.3643041975485472, 0.3631866314968298, 0.2646736380502615, 0.15966749951950798, 0.09090909090909093, 0.43396209224237176, 0.7577023612006645, 0.6199863285585508, 0.4261131806169537, 0.17062959052091528, 0.4914721113847324, 0.7006478538448223, 0.4399132681278436, 0.0, 0.0]\n",
            "tight Average mAP unshown:  0.15088119340476677\n",
            "tight Average mAP unshown per class:  [0.0, 0.2670977128012103, 0.0, 0.09090909090909093, 0.14545454545454548, 0.0, 0.0, 0.06611570247933884, 0.6204915301122124, 0.2677845469383756, 0.060606060606060594, 0.05450609996064541, 0.0, 0.3581871946974586, 0.030303030303030297, 0.0, 0.0]\n"
          ]
        },
        {
          "output_type": "stream",
          "name": "stderr",
          "text": [
            "\n"
          ]
        }
      ]
    },
    {
      "cell_type": "code",
      "source": [
        "# load naive classifier\n",
        "rnn_model = tensorflow.keras.models.load_model(\"models/action_classifier\")"
      ],
      "metadata": {
        "id": "fG1KkiKzsFk4"
      },
      "execution_count": null,
      "outputs": []
    },
    {
      "cell_type": "code",
      "source": [
        "INVERSE_EVENT_DICTIONARY_V2 = {0:\"Penalty\",1:\"Kick-off\",2:\"Goal\",3:\"Substitution\",4:\"Offside\",5:\"Shots on target\",\n",
        "                                6:\"Shots off target\",7:\"Clearance\",8:\"Ball out of play\",9:\"Throw-in\",10:\"Foul\",\n",
        "                                11:\"Indirect free-kick\",12:\"Direct free-kick\",13:\"Corner\",14:\"Yellow card\"\n",
        "                                ,15:\"Red card\",16:\"Yellow->red card\"}"
      ],
      "metadata": {
        "id": "dvN_jFD0smQ2"
      },
      "execution_count": null,
      "outputs": []
    },
    {
      "cell_type": "code",
      "source": [
        "import json\n",
        "import os\n",
        "\n",
        "res_path = \"results\"\n",
        "\n",
        "def sec2time(sec):\n",
        "    min = sec // 60\n",
        "    sec -= (min*60)\n",
        "    if sec < 10:\n",
        "        return str(min) + \":0\" + str(sec)\n",
        "    return str(min) + \":\" + str(sec)\n",
        "\n",
        "# save predictions\n",
        "def savePreds(preds, windows, filepath):\n",
        "    # labels = []\n",
        "    predictions = {\"annotations\": []}\n",
        "    half = 0\n",
        "    for (pred_half, window_half) in zip(preds, windows):\n",
        "        half += 1\n",
        "        for (pred, window) in zip(pred_half, window_half):\n",
        "            event = {}\n",
        "            # get timestamp\n",
        "            sec = window[0] + ((window[1] - window[0]) // 2)\n",
        "            time = sec2time(sec)\n",
        "\n",
        "            # get class\n",
        "            action = GV.INVERSE_EVENT_DICTIONARY_V2[np.argmax(pred)]\n",
        "            \n",
        "            # labels.append([action, time])\n",
        "            predictions[\"annotations\"].append({\"gameTime\": str(half) + \" - \" + time,\n",
        "                                            \"label\": action,\n",
        "                                            \"position\": str(sec * 1000),\n",
        "                                            \"half\": str(half),\n",
        "                                            \"confidence\": str(np.max(pred))})\n",
        "    \n",
        "    res_path = \"results/\" + filepath[7:]\n",
        "    if not os.path.exists(res_path):\n",
        "        os.makedirs(res_path)\n",
        "    with open(res_path + \"results_spotting.json\", \"w\") as f:\n",
        "        f.write(json.dumps({\"UrlLocal\": filepath[7:-1],\n",
        "            \"predictions\": predictions[\"annotations\"]}, indent=4))\n",
        "\n",
        "    # return labels\n"
      ],
      "metadata": {
        "id": "WsiVh0ntSShF"
      },
      "execution_count": null,
      "outputs": []
    },
    {
      "cell_type": "code",
      "source": [
        "filepath[45:]"
      ],
      "metadata": {
        "colab": {
          "base_uri": "https://localhost:8080/",
          "height": 35
        },
        "id": "IteHI11otuAu",
        "outputId": "ae91d6a9-5f83-4637-f36d-87a69279f1f5"
      },
      "execution_count": null,
      "outputs": [
        {
          "output_type": "execute_result",
          "data": {
            "text/plain": [
              "'italy_serie-a/2016-2017/2016-10-02 - 21-45 AS Roma 2 - 1 Inter/'"
            ],
            "application/vnd.google.colaboratory.intrinsic+json": {
              "type": "string"
            }
          },
          "metadata": {},
          "execution_count": 65
        }
      ]
    },
    {
      "cell_type": "code",
      "source": [
        "!pip install SoccerNet"
      ],
      "metadata": {
        "id": "1SxdnbyCBwQf"
      },
      "execution_count": null,
      "outputs": []
    },
    {
      "cell_type": "code",
      "source": [
        "from SoccerNet.Downloader import getListGames\n",
        "\n",
        "trainList = getListGames(['train'])\n",
        "valList = getListGames(['valid'])\n",
        "testList = getListGames(['test'])\n",
        "challengeList = getListGames(['challenge'])"
      ],
      "metadata": {
        "id": "0DQg_6_4u43Y"
      },
      "execution_count": null,
      "outputs": []
    },
    {
      "cell_type": "code",
      "source": [
        "len(trainList)"
      ],
      "metadata": {
        "colab": {
          "base_uri": "https://localhost:8080/"
        },
        "id": "nlxfVWfDvHV3",
        "outputId": "e2093864-e840-4aa4-d558-eb21b3ba46de"
      },
      "execution_count": null,
      "outputs": [
        {
          "output_type": "execute_result",
          "data": {
            "text/plain": [
              "300"
            ]
          },
          "metadata": {},
          "execution_count": 14
        }
      ]
    },
    {
      "cell_type": "markdown",
      "source": [
        "## Train model on saved dataset\n",
        "---"
      ],
      "metadata": {
        "id": "DgBy4mgMeGJU"
      }
    },
    {
      "cell_type": "code",
      "source": [
        "# import\n",
        "from tensorflow.keras.layers import (\n",
        "\tDense,\n",
        "    Flatten,\n",
        "    Dropout,\n",
        "    LSTM,\n",
        "    GRU,\n",
        "    Bidirectional\n",
        ")\n",
        "from tensorflow.keras.models import Model, Sequential\n",
        "from tensorflow.keras import Input\n",
        "\n",
        "class ActionClassifier:\n",
        "\n",
        "    @staticmethod\n",
        "    def build(timesteps=15, dim=8576, classes=17):\n",
        "        model = Sequential()\n",
        "        model.add(Bidirectional(GRU(32, return_sequences=True),\n",
        "                                input_shape=(timesteps, dim),\n",
        "                                merge_mode='sum'))\n",
        "        # model.add(Dropout(0.3))\n",
        "        model.add(Bidirectional(GRU(32), merge_mode='sum'))\n",
        "        model.add(Flatten())\n",
        "\n",
        "        # Add a Dense layer.\n",
        "        model.add(Dense(64, activation=\"relu\"))\n",
        "        model.add(Dropout(0.2))\n",
        "        model.add(Dense(64, activation=\"relu\"))\n",
        "        model.add(Dropout(0.2))\n",
        "        model.add(Dense(classes, activation=\"softmax\"))\n",
        "\n",
        "        return model\n",
        "\n",
        "from tensorflow.keras.optimizers import Adam\n",
        "from tensorflow.keras.losses import CategoricalCrossentropy\n",
        "\n",
        "opt = Adam(learning_rate=1e-4)\n",
        "loss = CategoricalCrossentropy()\n",
        "rnn_model = ActionClassifier.build(classes=17)\n",
        "rnn_model.compile(loss=loss, optimizer=opt,\n",
        "    metrics=[\"accuracy\"])\n",
        "\n",
        "rnn_model.summary()"
      ],
      "metadata": {
        "colab": {
          "base_uri": "https://localhost:8080/"
        },
        "id": "3D_NTCpw0LA7",
        "outputId": "e951eca8-7bb3-4645-c49a-34033e831442"
      },
      "execution_count": null,
      "outputs": [
        {
          "output_type": "stream",
          "name": "stdout",
          "text": [
            "Model: \"sequential\"\n",
            "_________________________________________________________________\n",
            " Layer (type)                Output Shape              Param #   \n",
            "=================================================================\n",
            " bidirectional (Bidirectiona  (None, 15, 32)           1653120   \n",
            " l)                                                              \n",
            "                                                                 \n",
            " bidirectional_1 (Bidirectio  (None, 32)               12672     \n",
            " nal)                                                            \n",
            "                                                                 \n",
            " flatten (Flatten)           (None, 32)                0         \n",
            "                                                                 \n",
            " dense (Dense)               (None, 64)                2112      \n",
            "                                                                 \n",
            " dropout (Dropout)           (None, 64)                0         \n",
            "                                                                 \n",
            " dense_1 (Dense)             (None, 64)                4160      \n",
            "                                                                 \n",
            " dropout_1 (Dropout)         (None, 64)                0         \n",
            "                                                                 \n",
            " dense_2 (Dense)             (None, 17)                1105      \n",
            "                                                                 \n",
            "=================================================================\n",
            "Total params: 1,673,169\n",
            "Trainable params: 1,673,169\n",
            "Non-trainable params: 0\n",
            "_________________________________________________________________\n"
          ]
        }
      ]
    },
    {
      "cell_type": "code",
      "source": [
        "# load model\n",
        "rnn_model = tensorflow.keras.models.load_model(\"models/action_classifier\")"
      ],
      "metadata": {
        "id": "qg3eGDXZ8iMB"
      },
      "execution_count": null,
      "outputs": []
    },
    {
      "cell_type": "code",
      "source": [
        "# load features and labels\n",
        "features_1 = np.load(\"dataset/train_2_features.npy\")\n",
        "labels_1 = np.load(\"dataset/train_2_labels.npy\")"
      ],
      "metadata": {
        "id": "KUNBWtVMvIcn"
      },
      "execution_count": null,
      "outputs": []
    },
    {
      "cell_type": "code",
      "source": [
        "partition = int(len(features_1) * 0.8)\n",
        "print(partition)\n",
        "\n",
        "train_df = tensorflow.data.Dataset.from_tensor_slices((features_1[:partition], labels_1[:partition]))\n",
        "train_df = train_df.cache().shuffle(200).batch(32).prefetch(tensorflow.data.experimental.AUTOTUNE)\n",
        "val_df = tensorflow.data.Dataset.from_tensor_slices((features_1[partition:], labels_1[partition:]))\n",
        "val_df = val_df.cache().shuffle(200).batch(32).prefetch(tensorflow.data.experimental.AUTOTUNE)"
      ],
      "metadata": {
        "colab": {
          "base_uri": "https://localhost:8080/"
        },
        "id": "DtBK6TAsymdG",
        "outputId": "8db8d8c0-52bb-49d2-de13-7d2058c74db1"
      },
      "execution_count": null,
      "outputs": [
        {
          "output_type": "stream",
          "name": "stdout",
          "text": [
            "7092\n"
          ]
        }
      ]
    },
    {
      "cell_type": "code",
      "source": [
        "H = rnn_model.fit(train_df, \n",
        "                  epochs=3,\n",
        "                  validation_data=val_df)"
      ],
      "metadata": {
        "colab": {
          "base_uri": "https://localhost:8080/"
        },
        "id": "gSmHztMaeubI",
        "outputId": "b280b04e-b114-4146-87f4-5456b9fc0a50"
      },
      "execution_count": null,
      "outputs": [
        {
          "output_type": "stream",
          "name": "stdout",
          "text": [
            "Epoch 1/3\n",
            "222/222 [==============================] - 30s 105ms/step - loss: 1.0346 - accuracy: 0.3252 - val_loss: 0.7763 - val_accuracy: 0.4439\n",
            "Epoch 2/3\n",
            "222/222 [==============================] - 31s 139ms/step - loss: 1.4871 - accuracy: 0.2695 - val_loss: 0.8788 - val_accuracy: 0.3835\n",
            "Epoch 3/3\n",
            "222/222 [==============================] - 31s 139ms/step - loss: 2.6734 - accuracy: 0.2291 - val_loss: 1.4391 - val_accuracy: 0.2995\n"
          ]
        }
      ]
    },
    {
      "cell_type": "code",
      "source": [
        "# plot accuracy\n",
        "plt.style.use(\"ggplot\")\n",
        "plt.figure()\n",
        "plt.plot(H.history[\"accuracy\"], label=\"acc\")\n",
        "plt.plot(H.history[\"val_accuracy\"], label=\"val_acc\")\n",
        "plt.title(\"Training and Validation Accuracy\")\n",
        "plt.xlabel(\"Epochs\")\n",
        "plt.ylabel(\"Accuracy\")\n",
        "plt.legend(loc=\"upper left\")"
      ],
      "metadata": {
        "colab": {
          "base_uri": "https://localhost:8080/",
          "height": 316
        },
        "id": "orFAiDWTfENy",
        "outputId": "d4a1272b-4339-4a53-d1c4-4b552af24133"
      },
      "execution_count": null,
      "outputs": [
        {
          "output_type": "execute_result",
          "data": {
            "text/plain": [
              "<matplotlib.legend.Legend at 0x7f63506fb390>"
            ]
          },
          "metadata": {},
          "execution_count": 8
        },
        {
          "output_type": "display_data",
          "data": {
            "text/plain": [
              "<Figure size 432x288 with 1 Axes>"
            ],
            "image/png": "[encoded data removed]"
          },
          "metadata": {}
        }
      ]
    },
    {
      "cell_type": "code",
      "source": [
        "# plot loss\n",
        "plt.style.use(\"ggplot\")\n",
        "plt.figure()\n",
        "plt.plot(H.history[\"loss\"], label=\"loss\")\n",
        "plt.plot(H.history[\"val_loss\"], label=\"val_)loss\")\n",
        "plt.title(\"Training and Validation Loss\")\n",
        "plt.xlabel(\"Epochs\")\n",
        "plt.ylabel(\"Loss\")\n",
        "plt.legend(loc=\"upper left\")"
      ],
      "metadata": {
        "colab": {
          "base_uri": "https://localhost:8080/",
          "height": 316
        },
        "id": "3PIb8FR4f9Hy",
        "outputId": "6e7f10bd-1095-48f9-92d6-80b83e328771"
      },
      "execution_count": null,
      "outputs": [
        {
          "output_type": "execute_result",
          "data": {
            "text/plain": [
              "<matplotlib.legend.Legend at 0x7f6350689ad0>"
            ]
          },
          "metadata": {},
          "execution_count": 9
        },
        {
          "output_type": "display_data",
          "data": {
            "text/plain": [
              "<Figure size 432x288 with 1 Axes>"
            ],
            "image/png": "[encoded data removed]"
          },
          "metadata": {}
        }
      ]
    },
    {
      "cell_type": "code",
      "source": [
        "print(H.history[\"accuracy\"])\n",
        "print(H.history[\"val_accuracy\"])\n",
        "print(H.history[\"loss\"])\n",
        "print(H.history[\"val_loss\"])"
      ],
      "metadata": {
        "colab": {
          "base_uri": "https://localhost:8080/"
        },
        "id": "VkFr7uDvJ6ai",
        "outputId": "11acc481-b91f-4f36-ac1d-a1c62d85b771"
      },
      "execution_count": null,
      "outputs": [
        {
          "output_type": "stream",
          "name": "stdout",
          "text": [
            "[0.325155109167099, 0.269458532333374, 0.22913141548633575]\n",
            "[0.44388043880462646, 0.38353073596954346, 0.29949238896369934]\n",
            "[1.034645915031433, 1.487118124961853, 2.673398733139038]\n",
            "[0.7762791514396667, 0.8787727355957031, 1.4391096830368042]\n"
          ]
        }
      ]
    },
    {
      "cell_type": "code",
      "source": [
        "# save model\n",
        "rnn_model.save(\"models/action_classifier\")"
      ],
      "metadata": {
        "colab": {
          "base_uri": "https://localhost:8080/",
          "height": 518
        },
        "id": "ct3tBBTW2kXz",
        "outputId": "f610c2d9-709e-4b31-9564-06450e20ccf5"
      },
      "execution_count": null,
      "outputs": [
        {
          "output_type": "error",
          "ename": "KeyboardInterrupt",
          "evalue": "ignored",
          "traceback": [
            "\u001b[0;31m---------------------------------------------------------------------------\u001b[0m",
            "\u001b[0;31mInvalidArgumentError\u001b[0m                      Traceback (most recent call last)",
            "\u001b[0;32m/usr/local/lib/python3.7/dist-packages/tensorflow/python/framework/ops.py\u001b[0m in \u001b[0;36mget_attr\u001b[0;34m(self, name)\u001b[0m\n\u001b[1;32m   2689\u001b[0m       \u001b[0;32mwith\u001b[0m \u001b[0mc_api_util\u001b[0m\u001b[0;34m.\u001b[0m\u001b[0mtf_buffer\u001b[0m\u001b[0;34m(\u001b[0m\u001b[0;34m)\u001b[0m \u001b[0;32mas\u001b[0m \u001b[0mbuf\u001b[0m\u001b[0;34m:\u001b[0m\u001b[0;34m\u001b[0m\u001b[0;34m\u001b[0m\u001b[0m\n\u001b[0;32m-> 2690\u001b[0;31m         \u001b[0mpywrap_tf_session\u001b[0m\u001b[0;34m.\u001b[0m\u001b[0mTF_OperationGetAttrValueProto\u001b[0m\u001b[0;34m(\u001b[0m\u001b[0mself\u001b[0m\u001b[0;34m.\u001b[0m\u001b[0m_c_op\u001b[0m\u001b[0;34m,\u001b[0m \u001b[0mname\u001b[0m\u001b[0;34m,\u001b[0m \u001b[0mbuf\u001b[0m\u001b[0;34m)\u001b[0m\u001b[0;34m\u001b[0m\u001b[0;34m\u001b[0m\u001b[0m\n\u001b[0m\u001b[1;32m   2691\u001b[0m         \u001b[0mdata\u001b[0m \u001b[0;34m=\u001b[0m \u001b[0mpywrap_tf_session\u001b[0m\u001b[0;34m.\u001b[0m\u001b[0mTF_GetBuffer\u001b[0m\u001b[0;34m(\u001b[0m\u001b[0mbuf\u001b[0m\u001b[0;34m)\u001b[0m\u001b[0;34m\u001b[0m\u001b[0;34m\u001b[0m\u001b[0m\n",
            "\u001b[0;31mInvalidArgumentError\u001b[0m: Operation 'Placeholder_3' has no attr named '_user_specified_name'.",
            "\nDuring handling of the above exception, another exception occurred:\n",
            "\u001b[0;31mValueError\u001b[0m                                Traceback (most recent call last)",
            "\u001b[0;32m/usr/local/lib/python3.7/dist-packages/tensorflow/python/framework/func_graph.py\u001b[0m in \u001b[0;36mencode_arg\u001b[0;34m(arg, path)\u001b[0m\n\u001b[1;32m     88\u001b[0m         user_specified_name = compat.as_str(\n\u001b[0;32m---> 89\u001b[0;31m             arg.op.get_attr(\"_user_specified_name\"))\n\u001b[0m\u001b[1;32m     90\u001b[0m       \u001b[0;32mexcept\u001b[0m \u001b[0mValueError\u001b[0m\u001b[0;34m:\u001b[0m\u001b[0;34m\u001b[0m\u001b[0;34m\u001b[0m\u001b[0m\n",
            "\u001b[0;32m/usr/local/lib/python3.7/dist-packages/tensorflow/python/framework/ops.py\u001b[0m in \u001b[0;36mget_attr\u001b[0;34m(self, name)\u001b[0m\n\u001b[1;32m   2693\u001b[0m       \u001b[0;31m# Convert to ValueError for backwards compatibility.\u001b[0m\u001b[0;34m\u001b[0m\u001b[0;34m\u001b[0m\u001b[0;34m\u001b[0m\u001b[0m\n\u001b[0;32m-> 2694\u001b[0;31m       \u001b[0;32mraise\u001b[0m \u001b[0mValueError\u001b[0m\u001b[0;34m(\u001b[0m\u001b[0me\u001b[0m\u001b[0;34m.\u001b[0m\u001b[0mmessage\u001b[0m\u001b[0;34m)\u001b[0m\u001b[0;34m\u001b[0m\u001b[0;34m\u001b[0m\u001b[0m\n\u001b[0m\u001b[1;32m   2695\u001b[0m     \u001b[0mx\u001b[0m \u001b[0;34m=\u001b[0m \u001b[0mattr_value_pb2\u001b[0m\u001b[0;34m.\u001b[0m\u001b[0mAttrValue\u001b[0m\u001b[0;34m(\u001b[0m\u001b[0;34m)\u001b[0m\u001b[0;34m\u001b[0m\u001b[0;34m\u001b[0m\u001b[0m\n",
            "\u001b[0;31mValueError\u001b[0m: Operation 'Placeholder_3' has no attr named '_user_specified_name'.",
            "\nDuring handling of the above exception, another exception occurred:\n",
            "\u001b[0;31mKeyboardInterrupt\u001b[0m                         Traceback (most recent call last)",
            "\u001b[0;32m<ipython-input-11-61aa5825010b>\u001b[0m in \u001b[0;36m<module>\u001b[0;34m()\u001b[0m\n\u001b[1;32m      1\u001b[0m \u001b[0;31m# save model\u001b[0m\u001b[0;34m\u001b[0m\u001b[0;34m\u001b[0m\u001b[0;34m\u001b[0m\u001b[0m\n\u001b[0;32m----> 2\u001b[0;31m \u001b[0mrnn_model\u001b[0m\u001b[0;34m.\u001b[0m\u001b[0msave\u001b[0m\u001b[0;34m(\u001b[0m\u001b[0;34m\"models/action_classifier\"\u001b[0m\u001b[0;34m)\u001b[0m\u001b[0;34m\u001b[0m\u001b[0;34m\u001b[0m\u001b[0m\n\u001b[0m",
            "\u001b[0;32m/usr/local/lib/python3.7/dist-packages/keras/utils/traceback_utils.py\u001b[0m in \u001b[0;36merror_handler\u001b[0;34m(*args, **kwargs)\u001b[0m\n\u001b[1;32m     62\u001b[0m     \u001b[0mfiltered_tb\u001b[0m \u001b[0;34m=\u001b[0m \u001b[0;32mNone\u001b[0m\u001b[0;34m\u001b[0m\u001b[0;34m\u001b[0m\u001b[0m\n\u001b[1;32m     63\u001b[0m     \u001b[0;32mtry\u001b[0m\u001b[0;34m:\u001b[0m\u001b[0;34m\u001b[0m\u001b[0;34m\u001b[0m\u001b[0m\n\u001b[0;32m---> 64\u001b[0;31m       \u001b[0;32mreturn\u001b[0m \u001b[0mfn\u001b[0m\u001b[0;34m(\u001b[0m\u001b[0;34m*\u001b[0m\u001b[0margs\u001b[0m\u001b[0;34m,\u001b[0m \u001b[0;34m**\u001b[0m\u001b[0mkwargs\u001b[0m\u001b[0;34m)\u001b[0m\u001b[0;34m\u001b[0m\u001b[0;34m\u001b[0m\u001b[0m\n\u001b[0m\u001b[1;32m     65\u001b[0m     \u001b[0;32mexcept\u001b[0m \u001b[0mException\u001b[0m \u001b[0;32mas\u001b[0m \u001b[0me\u001b[0m\u001b[0;34m:\u001b[0m  \u001b[0;31m# pylint: disable=broad-except\u001b[0m\u001b[0;34m\u001b[0m\u001b[0;34m\u001b[0m\u001b[0m\n\u001b[1;32m     66\u001b[0m       \u001b[0mfiltered_tb\u001b[0m \u001b[0;34m=\u001b[0m \u001b[0m_process_traceback_frames\u001b[0m\u001b[0;34m(\u001b[0m\u001b[0me\u001b[0m\u001b[0;34m.\u001b[0m\u001b[0m__traceback__\u001b[0m\u001b[0;34m)\u001b[0m\u001b[0;34m\u001b[0m\u001b[0;34m\u001b[0m\u001b[0m\n",
            "\u001b[0;32m/usr/local/lib/python3.7/dist-packages/keras/engine/training.py\u001b[0m in \u001b[0;36msave\u001b[0;34m(self, filepath, overwrite, include_optimizer, save_format, signatures, options, save_traces)\u001b[0m\n\u001b[1;32m   2383\u001b[0m     \u001b[0;31m# pylint: enable=line-too-long\u001b[0m\u001b[0;34m\u001b[0m\u001b[0;34m\u001b[0m\u001b[0;34m\u001b[0m\u001b[0m\n\u001b[1;32m   2384\u001b[0m     save.save_model(self, filepath, overwrite, include_optimizer, save_format,\n\u001b[0;32m-> 2385\u001b[0;31m                     signatures, options, save_traces)\n\u001b[0m\u001b[1;32m   2386\u001b[0m \u001b[0;34m\u001b[0m\u001b[0m\n\u001b[1;32m   2387\u001b[0m   \u001b[0;34m@\u001b[0m\u001b[0mtraceback_utils\u001b[0m\u001b[0;34m.\u001b[0m\u001b[0mfilter_traceback\u001b[0m\u001b[0;34m\u001b[0m\u001b[0;34m\u001b[0m\u001b[0m\n",
            "\u001b[0;32m/usr/local/lib/python3.7/dist-packages/keras/utils/traceback_utils.py\u001b[0m in \u001b[0;36merror_handler\u001b[0;34m(*args, **kwargs)\u001b[0m\n\u001b[1;32m     62\u001b[0m     \u001b[0mfiltered_tb\u001b[0m \u001b[0;34m=\u001b[0m \u001b[0;32mNone\u001b[0m\u001b[0;34m\u001b[0m\u001b[0;34m\u001b[0m\u001b[0m\n\u001b[1;32m     63\u001b[0m     \u001b[0;32mtry\u001b[0m\u001b[0;34m:\u001b[0m\u001b[0;34m\u001b[0m\u001b[0;34m\u001b[0m\u001b[0m\n\u001b[0;32m---> 64\u001b[0;31m       \u001b[0;32mreturn\u001b[0m \u001b[0mfn\u001b[0m\u001b[0;34m(\u001b[0m\u001b[0;34m*\u001b[0m\u001b[0margs\u001b[0m\u001b[0;34m,\u001b[0m \u001b[0;34m**\u001b[0m\u001b[0mkwargs\u001b[0m\u001b[0;34m)\u001b[0m\u001b[0;34m\u001b[0m\u001b[0;34m\u001b[0m\u001b[0m\n\u001b[0m\u001b[1;32m     65\u001b[0m     \u001b[0;32mexcept\u001b[0m \u001b[0mException\u001b[0m \u001b[0;32mas\u001b[0m \u001b[0me\u001b[0m\u001b[0;34m:\u001b[0m  \u001b[0;31m# pylint: disable=broad-except\u001b[0m\u001b[0;34m\u001b[0m\u001b[0;34m\u001b[0m\u001b[0m\n\u001b[1;32m     66\u001b[0m       \u001b[0mfiltered_tb\u001b[0m \u001b[0;34m=\u001b[0m \u001b[0m_process_traceback_frames\u001b[0m\u001b[0;34m(\u001b[0m\u001b[0me\u001b[0m\u001b[0;34m.\u001b[0m\u001b[0m__traceback__\u001b[0m\u001b[0;34m)\u001b[0m\u001b[0;34m\u001b[0m\u001b[0;34m\u001b[0m\u001b[0m\n",
            "\u001b[0;32m/usr/local/lib/python3.7/dist-packages/keras/saving/save.py\u001b[0m in \u001b[0;36msave_model\u001b[0;34m(model, filepath, overwrite, include_optimizer, save_format, signatures, options, save_traces)\u001b[0m\n\u001b[1;32m    150\u001b[0m     \u001b[0;32mwith\u001b[0m \u001b[0mgeneric_utils\u001b[0m\u001b[0;34m.\u001b[0m\u001b[0mSharedObjectSavingScope\u001b[0m\u001b[0;34m(\u001b[0m\u001b[0;34m)\u001b[0m\u001b[0;34m:\u001b[0m\u001b[0;34m\u001b[0m\u001b[0;34m\u001b[0m\u001b[0m\n\u001b[1;32m    151\u001b[0m       saved_model_save.save(model, filepath, overwrite, include_optimizer,\n\u001b[0;32m--> 152\u001b[0;31m                             signatures, options, save_traces)\n\u001b[0m\u001b[1;32m    153\u001b[0m \u001b[0;34m\u001b[0m\u001b[0m\n\u001b[1;32m    154\u001b[0m \u001b[0;34m\u001b[0m\u001b[0m\n",
            "\u001b[0;32m/usr/local/lib/python3.7/dist-packages/keras/saving/saved_model/save.py\u001b[0m in \u001b[0;36msave\u001b[0;34m(model, filepath, overwrite, include_optimizer, signatures, options, save_traces)\u001b[0m\n\u001b[1;32m     92\u001b[0m     \u001b[0;32mwith\u001b[0m \u001b[0mutils\u001b[0m\u001b[0;34m.\u001b[0m\u001b[0mkeras_option_scope\u001b[0m\u001b[0;34m(\u001b[0m\u001b[0msave_traces\u001b[0m\u001b[0;34m)\u001b[0m\u001b[0;34m:\u001b[0m\u001b[0;34m\u001b[0m\u001b[0;34m\u001b[0m\u001b[0m\n\u001b[1;32m     93\u001b[0m       saved_nodes, node_paths = save_lib.save_and_return_nodes(\n\u001b[0;32m---> 94\u001b[0;31m           model, filepath, signatures, options)\n\u001b[0m\u001b[1;32m     95\u001b[0m \u001b[0;34m\u001b[0m\u001b[0m\n\u001b[1;32m     96\u001b[0m     \u001b[0;31m# Save all metadata to a separate file in the SavedModel directory.\u001b[0m\u001b[0;34m\u001b[0m\u001b[0;34m\u001b[0m\u001b[0;34m\u001b[0m\u001b[0m\n",
            "\u001b[0;32m/usr/local/lib/python3.7/dist-packages/tensorflow/python/saved_model/save.py\u001b[0m in \u001b[0;36msave_and_return_nodes\u001b[0;34m(obj, export_dir, signatures, options, experimental_skip_checkpoint)\u001b[0m\n\u001b[1;32m   1367\u001b[0m \u001b[0;34m\u001b[0m\u001b[0m\n\u001b[1;32m   1368\u001b[0m   _, exported_graph, object_saver, asset_info, saved_nodes, node_paths = (\n\u001b[0;32m-> 1369\u001b[0;31m       _build_meta_graph(obj, signatures, options, meta_graph_def))\n\u001b[0m\u001b[1;32m   1370\u001b[0m   saved_model.saved_model_schema_version = (\n\u001b[1;32m   1371\u001b[0m       constants.SAVED_MODEL_SCHEMA_VERSION)\n",
            "\u001b[0;32m/usr/local/lib/python3.7/dist-packages/tensorflow/python/saved_model/save.py\u001b[0m in \u001b[0;36m_build_meta_graph\u001b[0;34m(obj, signatures, options, meta_graph_def)\u001b[0m\n\u001b[1;32m   1534\u001b[0m \u001b[0;34m\u001b[0m\u001b[0m\n\u001b[1;32m   1535\u001b[0m   \u001b[0;32mwith\u001b[0m \u001b[0msave_context\u001b[0m\u001b[0;34m.\u001b[0m\u001b[0msave_context\u001b[0m\u001b[0;34m(\u001b[0m\u001b[0moptions\u001b[0m\u001b[0;34m)\u001b[0m\u001b[0;34m:\u001b[0m\u001b[0;34m\u001b[0m\u001b[0;34m\u001b[0m\u001b[0m\n\u001b[0;32m-> 1536\u001b[0;31m     \u001b[0;32mreturn\u001b[0m \u001b[0m_build_meta_graph_impl\u001b[0m\u001b[0;34m(\u001b[0m\u001b[0mobj\u001b[0m\u001b[0;34m,\u001b[0m \u001b[0msignatures\u001b[0m\u001b[0;34m,\u001b[0m \u001b[0moptions\u001b[0m\u001b[0;34m,\u001b[0m \u001b[0mmeta_graph_def\u001b[0m\u001b[0;34m)\u001b[0m\u001b[0;34m\u001b[0m\u001b[0;34m\u001b[0m\u001b[0m\n\u001b[0m",
            "\u001b[0;32m/usr/local/lib/python3.7/dist-packages/tensorflow/python/saved_model/save.py\u001b[0m in \u001b[0;36m_build_meta_graph_impl\u001b[0;34m(obj, signatures, options, meta_graph_def)\u001b[0m\n\u001b[1;32m   1476\u001b[0m   \u001b[0;32mif\u001b[0m \u001b[0msignatures\u001b[0m \u001b[0;32mis\u001b[0m \u001b[0;32mNone\u001b[0m\u001b[0;34m:\u001b[0m\u001b[0;34m\u001b[0m\u001b[0;34m\u001b[0m\u001b[0m\n\u001b[1;32m   1477\u001b[0m     signatures = signature_serialization.find_function_to_export(\n\u001b[0;32m-> 1478\u001b[0;31m         checkpoint_graph_view)\n\u001b[0m\u001b[1;32m   1479\u001b[0m \u001b[0;34m\u001b[0m\u001b[0m\n\u001b[1;32m   1480\u001b[0m   signatures, wrapped_functions = (\n",
            "\u001b[0;32m/usr/local/lib/python3.7/dist-packages/tensorflow/python/saved_model/signature_serialization.py\u001b[0m in \u001b[0;36mfind_function_to_export\u001b[0;34m(saveable_view)\u001b[0m\n\u001b[1;32m    101\u001b[0m   \u001b[0;31m# serving that model way later in the process stops working.\u001b[0m\u001b[0;34m\u001b[0m\u001b[0;34m\u001b[0m\u001b[0;34m\u001b[0m\u001b[0m\n\u001b[1;32m    102\u001b[0m   \u001b[0mpossible_signatures\u001b[0m \u001b[0;34m=\u001b[0m \u001b[0;34m[\u001b[0m\u001b[0;34m]\u001b[0m\u001b[0;34m\u001b[0m\u001b[0;34m\u001b[0m\u001b[0m\n\u001b[0;32m--> 103\u001b[0;31m   \u001b[0;32mfor\u001b[0m \u001b[0mname\u001b[0m\u001b[0;34m,\u001b[0m \u001b[0mchild\u001b[0m \u001b[0;32min\u001b[0m \u001b[0mchildren\u001b[0m\u001b[0;34m:\u001b[0m\u001b[0;34m\u001b[0m\u001b[0;34m\u001b[0m\u001b[0m\n\u001b[0m\u001b[1;32m    104\u001b[0m     \u001b[0;32mif\u001b[0m \u001b[0;32mnot\u001b[0m \u001b[0misinstance\u001b[0m\u001b[0;34m(\u001b[0m\u001b[0mchild\u001b[0m\u001b[0;34m,\u001b[0m \u001b[0;34m(\u001b[0m\u001b[0mdef_function\u001b[0m\u001b[0;34m.\u001b[0m\u001b[0mFunction\u001b[0m\u001b[0;34m,\u001b[0m \u001b[0mdefun\u001b[0m\u001b[0;34m.\u001b[0m\u001b[0mConcreteFunction\u001b[0m\u001b[0;34m)\u001b[0m\u001b[0;34m)\u001b[0m\u001b[0;34m:\u001b[0m\u001b[0;34m\u001b[0m\u001b[0;34m\u001b[0m\u001b[0m\n\u001b[1;32m    105\u001b[0m       \u001b[0;32mcontinue\u001b[0m\u001b[0;34m\u001b[0m\u001b[0;34m\u001b[0m\u001b[0m\n",
            "\u001b[0;32m/usr/local/lib/python3.7/dist-packages/tensorflow/python/saved_model/save.py\u001b[0m in \u001b[0;36mlist_children\u001b[0;34m(self, obj)\u001b[0m\n\u001b[1;32m    134\u001b[0m               \u001b[0mobj\u001b[0m\u001b[0;34m,\u001b[0m\u001b[0;34m\u001b[0m\u001b[0;34m\u001b[0m\u001b[0m\n\u001b[1;32m    135\u001b[0m               \u001b[0msave_type\u001b[0m\u001b[0;34m=\u001b[0m\u001b[0mbase\u001b[0m\u001b[0;34m.\u001b[0m\u001b[0mSaveType\u001b[0m\u001b[0;34m.\u001b[0m\u001b[0mSAVEDMODEL\u001b[0m\u001b[0;34m,\u001b[0m\u001b[0;34m\u001b[0m\u001b[0;34m\u001b[0m\u001b[0m\n\u001b[0;32m--> 136\u001b[0;31m               cache=self._serialization_cache))\n\u001b[0m\u001b[1;32m    137\u001b[0m     \u001b[0;32mfor\u001b[0m \u001b[0mname\u001b[0m\u001b[0;34m,\u001b[0m \u001b[0mchild\u001b[0m \u001b[0;32min\u001b[0m \u001b[0mself\u001b[0m\u001b[0;34m.\u001b[0m\u001b[0m_children_cache\u001b[0m\u001b[0;34m[\u001b[0m\u001b[0mobj\u001b[0m\u001b[0;34m]\u001b[0m\u001b[0;34m.\u001b[0m\u001b[0mitems\u001b[0m\u001b[0;34m(\u001b[0m\u001b[0;34m)\u001b[0m\u001b[0;34m:\u001b[0m\u001b[0;34m\u001b[0m\u001b[0;34m\u001b[0m\u001b[0m\n\u001b[1;32m    138\u001b[0m       \u001b[0;32myield\u001b[0m \u001b[0mbase\u001b[0m\u001b[0;34m.\u001b[0m\u001b[0mTrackableReference\u001b[0m\u001b[0;34m(\u001b[0m\u001b[0mname\u001b[0m\u001b[0;34m,\u001b[0m \u001b[0mchild\u001b[0m\u001b[0;34m)\u001b[0m\u001b[0;34m\u001b[0m\u001b[0;34m\u001b[0m\u001b[0m\n",
            "\u001b[0;32m/usr/local/lib/python3.7/dist-packages/tensorflow/python/training/tracking/graph_view.py\u001b[0m in \u001b[0;36mlist_children\u001b[0;34m(self, obj, save_type, **kwargs)\u001b[0m\n\u001b[1;32m    254\u001b[0m     \u001b[0mobj\u001b[0m\u001b[0;34m.\u001b[0m\u001b[0m_maybe_initialize_trackable\u001b[0m\u001b[0;34m(\u001b[0m\u001b[0;34m)\u001b[0m\u001b[0;34m\u001b[0m\u001b[0;34m\u001b[0m\u001b[0m\n\u001b[1;32m    255\u001b[0m     children = [base.TrackableReference(name, ref) for name, ref\n\u001b[0;32m--> 256\u001b[0;31m                 in obj._trackable_children(save_type, **kwargs).items()]\n\u001b[0m\u001b[1;32m    257\u001b[0m     \u001b[0;31m# pylint: enable=protected-access\u001b[0m\u001b[0;34m\u001b[0m\u001b[0;34m\u001b[0m\u001b[0;34m\u001b[0m\u001b[0m\n\u001b[1;32m    258\u001b[0m \u001b[0;34m\u001b[0m\u001b[0m\n",
            "\u001b[0;32m/usr/local/lib/python3.7/dist-packages/tensorflow/python/training/tracking/base.py\u001b[0m in \u001b[0;36m_trackable_children\u001b[0;34m(self, save_type, **kwargs)\u001b[0m\n\u001b[1;32m   1477\u001b[0m     \u001b[0;32melif\u001b[0m \u001b[0msave_type\u001b[0m \u001b[0;34m==\u001b[0m \u001b[0mSaveType\u001b[0m\u001b[0;34m.\u001b[0m\u001b[0mSAVEDMODEL\u001b[0m\u001b[0;34m:\u001b[0m\u001b[0;34m\u001b[0m\u001b[0;34m\u001b[0m\u001b[0m\n\u001b[1;32m   1478\u001b[0m       \u001b[0mcache\u001b[0m \u001b[0;34m=\u001b[0m \u001b[0mkwargs\u001b[0m\u001b[0;34m[\u001b[0m\u001b[0;34m\"cache\"\u001b[0m\u001b[0;34m]\u001b[0m\u001b[0;34m\u001b[0m\u001b[0;34m\u001b[0m\u001b[0m\n\u001b[0;32m-> 1479\u001b[0;31m       \u001b[0;32mreturn\u001b[0m \u001b[0mself\u001b[0m\u001b[0;34m.\u001b[0m\u001b[0m_get_legacy_saved_model_children\u001b[0m\u001b[0;34m(\u001b[0m\u001b[0mcache\u001b[0m\u001b[0;34m)\u001b[0m\u001b[0;34m\u001b[0m\u001b[0;34m\u001b[0m\u001b[0m\n\u001b[0m\u001b[1;32m   1480\u001b[0m     \u001b[0;32melse\u001b[0m\u001b[0;34m:\u001b[0m\u001b[0;34m\u001b[0m\u001b[0;34m\u001b[0m\u001b[0m\n\u001b[1;32m   1481\u001b[0m       raise ValueError(\"Unexpected format passed to `_trackable_children`. \"\n",
            "\u001b[0;32m/usr/local/lib/python3.7/dist-packages/tensorflow/python/training/tracking/base.py\u001b[0m in \u001b[0;36m_get_legacy_saved_model_children\u001b[0;34m(self, serialization_cache)\u001b[0m\n\u001b[1;32m   1488\u001b[0m \u001b[0;34m\u001b[0m\u001b[0m\n\u001b[1;32m   1489\u001b[0m     \u001b[0;31m# Retrieve functions attached to the object.\u001b[0m\u001b[0;34m\u001b[0m\u001b[0;34m\u001b[0m\u001b[0;34m\u001b[0m\u001b[0m\n\u001b[0;32m-> 1490\u001b[0;31m     \u001b[0mfunctions\u001b[0m \u001b[0;34m=\u001b[0m \u001b[0mself\u001b[0m\u001b[0;34m.\u001b[0m\u001b[0m_list_functions_for_serialization\u001b[0m\u001b[0;34m(\u001b[0m\u001b[0mserialization_cache\u001b[0m\u001b[0;34m)\u001b[0m\u001b[0;34m\u001b[0m\u001b[0;34m\u001b[0m\u001b[0m\n\u001b[0m\u001b[1;32m   1491\u001b[0m \u001b[0;34m\u001b[0m\u001b[0m\n\u001b[1;32m   1492\u001b[0m     \u001b[0;31m# Trace concrete functions to force side-effects:\u001b[0m\u001b[0;34m\u001b[0m\u001b[0;34m\u001b[0m\u001b[0;34m\u001b[0m\u001b[0m\n",
            "\u001b[0;32m/usr/local/lib/python3.7/dist-packages/keras/engine/training.py\u001b[0m in \u001b[0;36m_list_functions_for_serialization\u001b[0;34m(self, serialization_cache)\u001b[0m\n\u001b[1;32m   3080\u001b[0m     \u001b[0mself\u001b[0m\u001b[0;34m.\u001b[0m\u001b[0mtrain_tf_function\u001b[0m \u001b[0;34m=\u001b[0m \u001b[0;32mNone\u001b[0m\u001b[0;34m\u001b[0m\u001b[0;34m\u001b[0m\u001b[0m\n\u001b[1;32m   3081\u001b[0m     functions = super(\n\u001b[0;32m-> 3082\u001b[0;31m         Model, self)._list_functions_for_serialization(serialization_cache)\n\u001b[0m\u001b[1;32m   3083\u001b[0m     \u001b[0mself\u001b[0m\u001b[0;34m.\u001b[0m\u001b[0mtrain_function\u001b[0m \u001b[0;34m=\u001b[0m \u001b[0mtrain_function\u001b[0m\u001b[0;34m\u001b[0m\u001b[0;34m\u001b[0m\u001b[0m\n\u001b[1;32m   3084\u001b[0m     \u001b[0mself\u001b[0m\u001b[0;34m.\u001b[0m\u001b[0mtest_function\u001b[0m \u001b[0;34m=\u001b[0m \u001b[0mtest_function\u001b[0m\u001b[0;34m\u001b[0m\u001b[0;34m\u001b[0m\u001b[0m\n",
            "\u001b[0;32m/usr/local/lib/python3.7/dist-packages/keras/engine/base_layer.py\u001b[0m in \u001b[0;36m_list_functions_for_serialization\u001b[0;34m(self, serialization_cache)\u001b[0m\n\u001b[1;32m   3167\u001b[0m   \u001b[0;32mdef\u001b[0m \u001b[0m_list_functions_for_serialization\u001b[0m\u001b[0;34m(\u001b[0m\u001b[0mself\u001b[0m\u001b[0;34m,\u001b[0m \u001b[0mserialization_cache\u001b[0m\u001b[0;34m)\u001b[0m\u001b[0;34m:\u001b[0m\u001b[0;34m\u001b[0m\u001b[0;34m\u001b[0m\u001b[0m\n\u001b[1;32m   3168\u001b[0m     return (self._trackable_saved_model_saver\n\u001b[0;32m-> 3169\u001b[0;31m             .list_functions_for_serialization(serialization_cache))\n\u001b[0m\u001b[1;32m   3170\u001b[0m \u001b[0;34m\u001b[0m\u001b[0m\n\u001b[1;32m   3171\u001b[0m   \u001b[0;34m@\u001b[0m\u001b[0mproperty\u001b[0m\u001b[0;34m\u001b[0m\u001b[0;34m\u001b[0m\u001b[0m\n",
            "\u001b[0;32m/usr/local/lib/python3.7/dist-packages/keras/saving/saved_model/base_serialization.py\u001b[0m in \u001b[0;36mlist_functions_for_serialization\u001b[0;34m(self, serialization_cache)\u001b[0m\n\u001b[1;32m     91\u001b[0m       \u001b[0;32mreturn\u001b[0m \u001b[0;34m{\u001b[0m\u001b[0;34m}\u001b[0m\u001b[0;34m\u001b[0m\u001b[0;34m\u001b[0m\u001b[0m\n\u001b[1;32m     92\u001b[0m \u001b[0;34m\u001b[0m\u001b[0m\n\u001b[0;32m---> 93\u001b[0;31m     \u001b[0mfns\u001b[0m \u001b[0;34m=\u001b[0m \u001b[0mself\u001b[0m\u001b[0;34m.\u001b[0m\u001b[0mfunctions_to_serialize\u001b[0m\u001b[0;34m(\u001b[0m\u001b[0mserialization_cache\u001b[0m\u001b[0;34m)\u001b[0m\u001b[0;34m\u001b[0m\u001b[0;34m\u001b[0m\u001b[0m\n\u001b[0m\u001b[1;32m     94\u001b[0m \u001b[0;34m\u001b[0m\u001b[0m\n\u001b[1;32m     95\u001b[0m     \u001b[0;31m# The parent AutoTrackable class saves all user-defined tf.functions, and\u001b[0m\u001b[0;34m\u001b[0m\u001b[0;34m\u001b[0m\u001b[0;34m\u001b[0m\u001b[0m\n",
            "\u001b[0;32m/usr/local/lib/python3.7/dist-packages/keras/saving/saved_model/layer_serialization.py\u001b[0m in \u001b[0;36mfunctions_to_serialize\u001b[0;34m(self, serialization_cache)\u001b[0m\n\u001b[1;32m     71\u001b[0m   \u001b[0;32mdef\u001b[0m \u001b[0mfunctions_to_serialize\u001b[0m\u001b[0;34m(\u001b[0m\u001b[0mself\u001b[0m\u001b[0;34m,\u001b[0m \u001b[0mserialization_cache\u001b[0m\u001b[0;34m)\u001b[0m\u001b[0;34m:\u001b[0m\u001b[0;34m\u001b[0m\u001b[0;34m\u001b[0m\u001b[0m\n\u001b[1;32m     72\u001b[0m     return (self._get_serialized_attributes(\n\u001b[0;32m---> 73\u001b[0;31m         serialization_cache).functions_to_serialize)\n\u001b[0m\u001b[1;32m     74\u001b[0m \u001b[0;34m\u001b[0m\u001b[0m\n\u001b[1;32m     75\u001b[0m   \u001b[0;32mdef\u001b[0m \u001b[0m_get_serialized_attributes\u001b[0m\u001b[0;34m(\u001b[0m\u001b[0mself\u001b[0m\u001b[0;34m,\u001b[0m \u001b[0mserialization_cache\u001b[0m\u001b[0;34m)\u001b[0m\u001b[0;34m:\u001b[0m\u001b[0;34m\u001b[0m\u001b[0;34m\u001b[0m\u001b[0m\n",
            "\u001b[0;32m/usr/local/lib/python3.7/dist-packages/keras/saving/saved_model/layer_serialization.py\u001b[0m in \u001b[0;36m_get_serialized_attributes\u001b[0;34m(self, serialization_cache)\u001b[0m\n\u001b[1;32m     87\u001b[0m \u001b[0;34m\u001b[0m\u001b[0m\n\u001b[1;32m     88\u001b[0m     object_dict, function_dict = self._get_serialized_attributes_internal(\n\u001b[0;32m---> 89\u001b[0;31m         serialization_cache)\n\u001b[0m\u001b[1;32m     90\u001b[0m \u001b[0;34m\u001b[0m\u001b[0m\n\u001b[1;32m     91\u001b[0m     \u001b[0mserialized_attr\u001b[0m\u001b[0;34m.\u001b[0m\u001b[0mset_and_validate_objects\u001b[0m\u001b[0;34m(\u001b[0m\u001b[0mobject_dict\u001b[0m\u001b[0;34m)\u001b[0m\u001b[0;34m\u001b[0m\u001b[0;34m\u001b[0m\u001b[0m\n",
            "\u001b[0;32m/usr/local/lib/python3.7/dist-packages/keras/saving/saved_model/model_serialization.py\u001b[0m in \u001b[0;36m_get_serialized_attributes_internal\u001b[0;34m(self, serialization_cache)\u001b[0m\n\u001b[1;32m     55\u001b[0m     objects, functions = (\n\u001b[1;32m     56\u001b[0m         super(ModelSavedModelSaver, self)._get_serialized_attributes_internal(\n\u001b[0;32m---> 57\u001b[0;31m             serialization_cache))\n\u001b[0m\u001b[1;32m     58\u001b[0m     \u001b[0mfunctions\u001b[0m\u001b[0;34m[\u001b[0m\u001b[0;34m'_default_save_signature'\u001b[0m\u001b[0;34m]\u001b[0m \u001b[0;34m=\u001b[0m \u001b[0mdefault_signature\u001b[0m\u001b[0;34m\u001b[0m\u001b[0;34m\u001b[0m\u001b[0m\n\u001b[1;32m     59\u001b[0m     \u001b[0;32mreturn\u001b[0m \u001b[0mobjects\u001b[0m\u001b[0;34m,\u001b[0m \u001b[0mfunctions\u001b[0m\u001b[0;34m\u001b[0m\u001b[0;34m\u001b[0m\u001b[0m\n",
            "\u001b[0;32m/usr/local/lib/python3.7/dist-packages/keras/saving/saved_model/layer_serialization.py\u001b[0m in \u001b[0;36m_get_serialized_attributes_internal\u001b[0;34m(self, serialization_cache)\u001b[0m\n\u001b[1;32m     96\u001b[0m     \u001b[0;34m\"\"\"Returns dictionary of serialized attributes.\"\"\"\u001b[0m\u001b[0;34m\u001b[0m\u001b[0;34m\u001b[0m\u001b[0m\n\u001b[1;32m     97\u001b[0m     \u001b[0mobjects\u001b[0m \u001b[0;34m=\u001b[0m \u001b[0msave_impl\u001b[0m\u001b[0;34m.\u001b[0m\u001b[0mwrap_layer_objects\u001b[0m\u001b[0;34m(\u001b[0m\u001b[0mself\u001b[0m\u001b[0;34m.\u001b[0m\u001b[0mobj\u001b[0m\u001b[0;34m,\u001b[0m \u001b[0mserialization_cache\u001b[0m\u001b[0;34m)\u001b[0m\u001b[0;34m\u001b[0m\u001b[0;34m\u001b[0m\u001b[0m\n\u001b[0;32m---> 98\u001b[0;31m     \u001b[0mfunctions\u001b[0m \u001b[0;34m=\u001b[0m \u001b[0msave_impl\u001b[0m\u001b[0;34m.\u001b[0m\u001b[0mwrap_layer_functions\u001b[0m\u001b[0;34m(\u001b[0m\u001b[0mself\u001b[0m\u001b[0;34m.\u001b[0m\u001b[0mobj\u001b[0m\u001b[0;34m,\u001b[0m \u001b[0mserialization_cache\u001b[0m\u001b[0;34m)\u001b[0m\u001b[0;34m\u001b[0m\u001b[0;34m\u001b[0m\u001b[0m\n\u001b[0m\u001b[1;32m     99\u001b[0m     \u001b[0;31m# Attribute validator requires that the default save signature is added to\u001b[0m\u001b[0;34m\u001b[0m\u001b[0;34m\u001b[0m\u001b[0;34m\u001b[0m\u001b[0m\n\u001b[1;32m    100\u001b[0m     \u001b[0;31m# function dict, even if the value is None.\u001b[0m\u001b[0;34m\u001b[0m\u001b[0;34m\u001b[0m\u001b[0;34m\u001b[0m\u001b[0m\n",
            "\u001b[0;32m/usr/local/lib/python3.7/dist-packages/keras/saving/saved_model/save_impl.py\u001b[0m in \u001b[0;36mwrap_layer_functions\u001b[0;34m(layer, serialization_cache)\u001b[0m\n\u001b[1;32m    147\u001b[0m   \u001b[0;31m# Reset the losses of the layer and its children. The call function in each\u001b[0m\u001b[0;34m\u001b[0m\u001b[0;34m\u001b[0m\u001b[0;34m\u001b[0m\u001b[0m\n\u001b[1;32m    148\u001b[0m   \u001b[0;31m# child layer is replaced with tf.functions.\u001b[0m\u001b[0;34m\u001b[0m\u001b[0;34m\u001b[0m\u001b[0;34m\u001b[0m\u001b[0m\n\u001b[0;32m--> 149\u001b[0;31m   \u001b[0moriginal_fns\u001b[0m \u001b[0;34m=\u001b[0m \u001b[0m_replace_child_layer_functions\u001b[0m\u001b[0;34m(\u001b[0m\u001b[0mlayer\u001b[0m\u001b[0;34m,\u001b[0m \u001b[0mserialization_cache\u001b[0m\u001b[0;34m)\u001b[0m\u001b[0;34m\u001b[0m\u001b[0;34m\u001b[0m\u001b[0m\n\u001b[0m\u001b[1;32m    150\u001b[0m   \u001b[0moriginal_losses\u001b[0m \u001b[0;34m=\u001b[0m \u001b[0m_reset_layer_losses\u001b[0m\u001b[0;34m(\u001b[0m\u001b[0mlayer\u001b[0m\u001b[0;34m)\u001b[0m\u001b[0;34m\u001b[0m\u001b[0;34m\u001b[0m\u001b[0m\n\u001b[1;32m    151\u001b[0m \u001b[0;34m\u001b[0m\u001b[0m\n",
            "\u001b[0;32m/usr/local/lib/python3.7/dist-packages/keras/saving/saved_model/save_impl.py\u001b[0m in \u001b[0;36m_replace_child_layer_functions\u001b[0;34m(layer, serialization_cache)\u001b[0m\n\u001b[1;32m    275\u001b[0m       serialized_functions = (\n\u001b[1;32m    276\u001b[0m           child_layer._trackable_saved_model_saver._get_serialized_attributes(\n\u001b[0;32m--> 277\u001b[0;31m               serialization_cache).functions)\n\u001b[0m\u001b[1;32m    278\u001b[0m     \u001b[0;32melse\u001b[0m\u001b[0;34m:\u001b[0m\u001b[0;34m\u001b[0m\u001b[0;34m\u001b[0m\u001b[0m\n\u001b[1;32m    279\u001b[0m       serialized_functions = (\n",
            "\u001b[0;32m/usr/local/lib/python3.7/dist-packages/keras/saving/saved_model/layer_serialization.py\u001b[0m in \u001b[0;36m_get_serialized_attributes\u001b[0;34m(self, serialization_cache)\u001b[0m\n\u001b[1;32m     87\u001b[0m \u001b[0;34m\u001b[0m\u001b[0m\n\u001b[1;32m     88\u001b[0m     object_dict, function_dict = self._get_serialized_attributes_internal(\n\u001b[0;32m---> 89\u001b[0;31m         serialization_cache)\n\u001b[0m\u001b[1;32m     90\u001b[0m \u001b[0;34m\u001b[0m\u001b[0m\n\u001b[1;32m     91\u001b[0m     \u001b[0mserialized_attr\u001b[0m\u001b[0;34m.\u001b[0m\u001b[0mset_and_validate_objects\u001b[0m\u001b[0;34m(\u001b[0m\u001b[0mobject_dict\u001b[0m\u001b[0;34m)\u001b[0m\u001b[0;34m\u001b[0m\u001b[0;34m\u001b[0m\u001b[0m\n",
            "\u001b[0;32m/usr/local/lib/python3.7/dist-packages/keras/saving/saved_model/layer_serialization.py\u001b[0m in \u001b[0;36m_get_serialized_attributes_internal\u001b[0;34m(self, serialization_cache)\u001b[0m\n\u001b[1;32m     96\u001b[0m     \u001b[0;34m\"\"\"Returns dictionary of serialized attributes.\"\"\"\u001b[0m\u001b[0;34m\u001b[0m\u001b[0;34m\u001b[0m\u001b[0m\n\u001b[1;32m     97\u001b[0m     \u001b[0mobjects\u001b[0m \u001b[0;34m=\u001b[0m \u001b[0msave_impl\u001b[0m\u001b[0;34m.\u001b[0m\u001b[0mwrap_layer_objects\u001b[0m\u001b[0;34m(\u001b[0m\u001b[0mself\u001b[0m\u001b[0;34m.\u001b[0m\u001b[0mobj\u001b[0m\u001b[0;34m,\u001b[0m \u001b[0mserialization_cache\u001b[0m\u001b[0;34m)\u001b[0m\u001b[0;34m\u001b[0m\u001b[0;34m\u001b[0m\u001b[0m\n\u001b[0;32m---> 98\u001b[0;31m     \u001b[0mfunctions\u001b[0m \u001b[0;34m=\u001b[0m \u001b[0msave_impl\u001b[0m\u001b[0;34m.\u001b[0m\u001b[0mwrap_layer_functions\u001b[0m\u001b[0;34m(\u001b[0m\u001b[0mself\u001b[0m\u001b[0;34m.\u001b[0m\u001b[0mobj\u001b[0m\u001b[0;34m,\u001b[0m \u001b[0mserialization_cache\u001b[0m\u001b[0;34m)\u001b[0m\u001b[0;34m\u001b[0m\u001b[0;34m\u001b[0m\u001b[0m\n\u001b[0m\u001b[1;32m     99\u001b[0m     \u001b[0;31m# Attribute validator requires that the default save signature is added to\u001b[0m\u001b[0;34m\u001b[0m\u001b[0;34m\u001b[0m\u001b[0;34m\u001b[0m\u001b[0m\n\u001b[1;32m    100\u001b[0m     \u001b[0;31m# function dict, even if the value is None.\u001b[0m\u001b[0;34m\u001b[0m\u001b[0;34m\u001b[0m\u001b[0;34m\u001b[0m\u001b[0m\n",
            "\u001b[0;32m/usr/local/lib/python3.7/dist-packages/keras/saving/saved_model/save_impl.py\u001b[0m in \u001b[0;36mwrap_layer_functions\u001b[0;34m(layer, serialization_cache)\u001b[0m\n\u001b[1;32m    195\u001b[0m       \u001b[0;32mfor\u001b[0m \u001b[0mfn\u001b[0m \u001b[0;32min\u001b[0m \u001b[0mfns\u001b[0m\u001b[0;34m.\u001b[0m\u001b[0mvalues\u001b[0m\u001b[0;34m(\u001b[0m\u001b[0;34m)\u001b[0m\u001b[0;34m:\u001b[0m\u001b[0;34m\u001b[0m\u001b[0;34m\u001b[0m\u001b[0m\n\u001b[1;32m    196\u001b[0m         \u001b[0;32mif\u001b[0m \u001b[0mfn\u001b[0m \u001b[0;32mis\u001b[0m \u001b[0;32mnot\u001b[0m \u001b[0;32mNone\u001b[0m \u001b[0;32mand\u001b[0m \u001b[0;32mnot\u001b[0m \u001b[0misinstance\u001b[0m\u001b[0;34m(\u001b[0m\u001b[0mfn\u001b[0m\u001b[0;34m,\u001b[0m \u001b[0mLayerCall\u001b[0m\u001b[0;34m)\u001b[0m\u001b[0;34m:\u001b[0m\u001b[0;34m\u001b[0m\u001b[0;34m\u001b[0m\u001b[0m\n\u001b[0;32m--> 197\u001b[0;31m           \u001b[0mfn\u001b[0m\u001b[0;34m.\u001b[0m\u001b[0mget_concrete_function\u001b[0m\u001b[0;34m(\u001b[0m\u001b[0;34m)\u001b[0m\u001b[0;34m\u001b[0m\u001b[0;34m\u001b[0m\u001b[0m\n\u001b[0m\u001b[1;32m    198\u001b[0m \u001b[0;34m\u001b[0m\u001b[0m\n\u001b[1;32m    199\u001b[0m   \u001b[0;31m# Restore overwritten functions and losses\u001b[0m\u001b[0;34m\u001b[0m\u001b[0;34m\u001b[0m\u001b[0;34m\u001b[0m\u001b[0m\n",
            "\u001b[0;32m/usr/lib/python3.7/contextlib.py\u001b[0m in \u001b[0;36m__exit__\u001b[0;34m(self, type, value, traceback)\u001b[0m\n\u001b[1;32m    117\u001b[0m         \u001b[0;32mif\u001b[0m \u001b[0mtype\u001b[0m \u001b[0;32mis\u001b[0m \u001b[0;32mNone\u001b[0m\u001b[0;34m:\u001b[0m\u001b[0;34m\u001b[0m\u001b[0;34m\u001b[0m\u001b[0m\n\u001b[1;32m    118\u001b[0m             \u001b[0;32mtry\u001b[0m\u001b[0;34m:\u001b[0m\u001b[0;34m\u001b[0m\u001b[0;34m\u001b[0m\u001b[0m\n\u001b[0;32m--> 119\u001b[0;31m                 \u001b[0mnext\u001b[0m\u001b[0;34m(\u001b[0m\u001b[0mself\u001b[0m\u001b[0;34m.\u001b[0m\u001b[0mgen\u001b[0m\u001b[0;34m)\u001b[0m\u001b[0;34m\u001b[0m\u001b[0;34m\u001b[0m\u001b[0m\n\u001b[0m\u001b[1;32m    120\u001b[0m             \u001b[0;32mexcept\u001b[0m \u001b[0mStopIteration\u001b[0m\u001b[0;34m:\u001b[0m\u001b[0;34m\u001b[0m\u001b[0;34m\u001b[0m\u001b[0m\n\u001b[1;32m    121\u001b[0m                 \u001b[0;32mreturn\u001b[0m \u001b[0;32mFalse\u001b[0m\u001b[0;34m\u001b[0m\u001b[0;34m\u001b[0m\u001b[0m\n",
            "\u001b[0;32m/usr/local/lib/python3.7/dist-packages/keras/saving/saved_model/save_impl.py\u001b[0m in \u001b[0;36mtracing_scope\u001b[0;34m()\u001b[0m\n\u001b[1;32m    357\u001b[0m       \u001b[0;32mif\u001b[0m \u001b[0mtraining\u001b[0m \u001b[0;32mis\u001b[0m \u001b[0;32mnot\u001b[0m \u001b[0;32mNone\u001b[0m\u001b[0;34m:\u001b[0m\u001b[0;34m\u001b[0m\u001b[0;34m\u001b[0m\u001b[0m\n\u001b[1;32m    358\u001b[0m         \u001b[0;32mwith\u001b[0m \u001b[0mbackend\u001b[0m\u001b[0;34m.\u001b[0m\u001b[0mdeprecated_internal_learning_phase_scope\u001b[0m\u001b[0;34m(\u001b[0m\u001b[0mtraining\u001b[0m\u001b[0;34m)\u001b[0m\u001b[0;34m:\u001b[0m\u001b[0;34m\u001b[0m\u001b[0;34m\u001b[0m\u001b[0m\n\u001b[0;32m--> 359\u001b[0;31m           \u001b[0mfn\u001b[0m\u001b[0;34m.\u001b[0m\u001b[0mget_concrete_function\u001b[0m\u001b[0;34m(\u001b[0m\u001b[0;34m*\u001b[0m\u001b[0margs\u001b[0m\u001b[0;34m,\u001b[0m \u001b[0;34m**\u001b[0m\u001b[0mkwargs\u001b[0m\u001b[0;34m)\u001b[0m\u001b[0;34m\u001b[0m\u001b[0;34m\u001b[0m\u001b[0m\n\u001b[0m\u001b[1;32m    360\u001b[0m       \u001b[0;32melse\u001b[0m\u001b[0;34m:\u001b[0m\u001b[0;34m\u001b[0m\u001b[0;34m\u001b[0m\u001b[0m\n\u001b[1;32m    361\u001b[0m         \u001b[0mfn\u001b[0m\u001b[0;34m.\u001b[0m\u001b[0mget_concrete_function\u001b[0m\u001b[0;34m(\u001b[0m\u001b[0;34m*\u001b[0m\u001b[0margs\u001b[0m\u001b[0;34m,\u001b[0m \u001b[0;34m**\u001b[0m\u001b[0mkwargs\u001b[0m\u001b[0;34m)\u001b[0m\u001b[0;34m\u001b[0m\u001b[0;34m\u001b[0m\u001b[0m\n",
            "\u001b[0;32m/usr/local/lib/python3.7/dist-packages/tensorflow/python/eager/def_function.py\u001b[0m in \u001b[0;36mget_concrete_function\u001b[0;34m(self, *args, **kwargs)\u001b[0m\n\u001b[1;32m   1262\u001b[0m   \u001b[0;32mdef\u001b[0m \u001b[0mget_concrete_function\u001b[0m\u001b[0;34m(\u001b[0m\u001b[0mself\u001b[0m\u001b[0;34m,\u001b[0m \u001b[0;34m*\u001b[0m\u001b[0margs\u001b[0m\u001b[0;34m,\u001b[0m \u001b[0;34m**\u001b[0m\u001b[0mkwargs\u001b[0m\u001b[0;34m)\u001b[0m\u001b[0;34m:\u001b[0m\u001b[0;34m\u001b[0m\u001b[0;34m\u001b[0m\u001b[0m\n\u001b[1;32m   1263\u001b[0m     \u001b[0;31m# Implements GenericFunction.get_concrete_function.\u001b[0m\u001b[0;34m\u001b[0m\u001b[0;34m\u001b[0m\u001b[0;34m\u001b[0m\u001b[0m\n\u001b[0;32m-> 1264\u001b[0;31m     \u001b[0mconcrete\u001b[0m \u001b[0;34m=\u001b[0m \u001b[0mself\u001b[0m\u001b[0;34m.\u001b[0m\u001b[0m_get_concrete_function_garbage_collected\u001b[0m\u001b[0;34m(\u001b[0m\u001b[0;34m*\u001b[0m\u001b[0margs\u001b[0m\u001b[0;34m,\u001b[0m \u001b[0;34m**\u001b[0m\u001b[0mkwargs\u001b[0m\u001b[0;34m)\u001b[0m\u001b[0;34m\u001b[0m\u001b[0;34m\u001b[0m\u001b[0m\n\u001b[0m\u001b[1;32m   1265\u001b[0m     \u001b[0mconcrete\u001b[0m\u001b[0;34m.\u001b[0m\u001b[0m_garbage_collector\u001b[0m\u001b[0;34m.\u001b[0m\u001b[0mrelease\u001b[0m\u001b[0;34m(\u001b[0m\u001b[0;34m)\u001b[0m  \u001b[0;31m# pylint: disable=protected-access\u001b[0m\u001b[0;34m\u001b[0m\u001b[0;34m\u001b[0m\u001b[0m\n\u001b[1;32m   1266\u001b[0m     \u001b[0;32mreturn\u001b[0m \u001b[0mconcrete\u001b[0m\u001b[0;34m\u001b[0m\u001b[0;34m\u001b[0m\u001b[0m\n",
            "\u001b[0;32m/usr/local/lib/python3.7/dist-packages/tensorflow/python/eager/def_function.py\u001b[0m in \u001b[0;36m_get_concrete_function_garbage_collected\u001b[0;34m(self, *args, **kwargs)\u001b[0m\n\u001b[1;32m   1254\u001b[0m       \u001b[0;31m# run the first trace but we should fail if variables are created.\u001b[0m\u001b[0;34m\u001b[0m\u001b[0;34m\u001b[0m\u001b[0;34m\u001b[0m\u001b[0m\n\u001b[1;32m   1255\u001b[0m       concrete = self._stateful_fn._get_concrete_function_garbage_collected(  # pylint: disable=protected-access\n\u001b[0;32m-> 1256\u001b[0;31m           *args, **kwargs)\n\u001b[0m\u001b[1;32m   1257\u001b[0m       \u001b[0;32mif\u001b[0m \u001b[0mself\u001b[0m\u001b[0;34m.\u001b[0m\u001b[0m_created_variables\u001b[0m\u001b[0;34m:\u001b[0m\u001b[0;34m\u001b[0m\u001b[0;34m\u001b[0m\u001b[0m\n\u001b[1;32m   1258\u001b[0m         raise ValueError(\"Creating variables on a non-first call to a function\"\n",
            "\u001b[0;32m/usr/local/lib/python3.7/dist-packages/tensorflow/python/eager/function.py\u001b[0m in \u001b[0;36m_get_concrete_function_garbage_collected\u001b[0;34m(self, *args, **kwargs)\u001b[0m\n\u001b[1;32m   3034\u001b[0m       \u001b[0margs\u001b[0m\u001b[0;34m,\u001b[0m \u001b[0mkwargs\u001b[0m \u001b[0;34m=\u001b[0m \u001b[0;32mNone\u001b[0m\u001b[0;34m,\u001b[0m \u001b[0;32mNone\u001b[0m\u001b[0;34m\u001b[0m\u001b[0;34m\u001b[0m\u001b[0m\n\u001b[1;32m   3035\u001b[0m     \u001b[0;32mwith\u001b[0m \u001b[0mself\u001b[0m\u001b[0;34m.\u001b[0m\u001b[0m_lock\u001b[0m\u001b[0;34m:\u001b[0m\u001b[0;34m\u001b[0m\u001b[0;34m\u001b[0m\u001b[0m\n\u001b[0;32m-> 3036\u001b[0;31m       \u001b[0mgraph_function\u001b[0m\u001b[0;34m,\u001b[0m \u001b[0m_\u001b[0m \u001b[0;34m=\u001b[0m \u001b[0mself\u001b[0m\u001b[0;34m.\u001b[0m\u001b[0m_maybe_define_function\u001b[0m\u001b[0;34m(\u001b[0m\u001b[0margs\u001b[0m\u001b[0;34m,\u001b[0m \u001b[0mkwargs\u001b[0m\u001b[0;34m)\u001b[0m\u001b[0;34m\u001b[0m\u001b[0;34m\u001b[0m\u001b[0m\n\u001b[0m\u001b[1;32m   3037\u001b[0m       \u001b[0mseen_names\u001b[0m \u001b[0;34m=\u001b[0m \u001b[0mset\u001b[0m\u001b[0;34m(\u001b[0m\u001b[0;34m)\u001b[0m\u001b[0;34m\u001b[0m\u001b[0;34m\u001b[0m\u001b[0m\n\u001b[1;32m   3038\u001b[0m       captured = object_identity.ObjectIdentitySet(\n",
            "\u001b[0;32m/usr/local/lib/python3.7/dist-packages/tensorflow/python/eager/function.py\u001b[0m in \u001b[0;36m_maybe_define_function\u001b[0;34m(self, args, kwargs)\u001b[0m\n\u001b[1;32m   3290\u001b[0m \u001b[0;34m\u001b[0m\u001b[0m\n\u001b[1;32m   3291\u001b[0m           \u001b[0mself\u001b[0m\u001b[0;34m.\u001b[0m\u001b[0m_function_cache\u001b[0m\u001b[0;34m.\u001b[0m\u001b[0madd_call_context\u001b[0m\u001b[0;34m(\u001b[0m\u001b[0mcache_key\u001b[0m\u001b[0;34m.\u001b[0m\u001b[0mcall_context\u001b[0m\u001b[0;34m)\u001b[0m\u001b[0;34m\u001b[0m\u001b[0;34m\u001b[0m\u001b[0m\n\u001b[0;32m-> 3292\u001b[0;31m           \u001b[0mgraph_function\u001b[0m \u001b[0;34m=\u001b[0m \u001b[0mself\u001b[0m\u001b[0;34m.\u001b[0m\u001b[0m_create_graph_function\u001b[0m\u001b[0;34m(\u001b[0m\u001b[0margs\u001b[0m\u001b[0;34m,\u001b[0m \u001b[0mkwargs\u001b[0m\u001b[0;34m)\u001b[0m\u001b[0;34m\u001b[0m\u001b[0;34m\u001b[0m\u001b[0m\n\u001b[0m\u001b[1;32m   3293\u001b[0m           self._function_cache.add(cache_key, cache_key_deletion_observer,\n\u001b[1;32m   3294\u001b[0m                                    graph_function)\n",
            "\u001b[0;32m/usr/local/lib/python3.7/dist-packages/tensorflow/python/eager/function.py\u001b[0m in \u001b[0;36m_create_graph_function\u001b[0;34m(self, args, kwargs, override_flat_arg_shapes)\u001b[0m\n\u001b[1;32m   3138\u001b[0m             \u001b[0marg_names\u001b[0m\u001b[0;34m=\u001b[0m\u001b[0marg_names\u001b[0m\u001b[0;34m,\u001b[0m\u001b[0;34m\u001b[0m\u001b[0;34m\u001b[0m\u001b[0m\n\u001b[1;32m   3139\u001b[0m             \u001b[0moverride_flat_arg_shapes\u001b[0m\u001b[0;34m=\u001b[0m\u001b[0moverride_flat_arg_shapes\u001b[0m\u001b[0;34m,\u001b[0m\u001b[0;34m\u001b[0m\u001b[0;34m\u001b[0m\u001b[0m\n\u001b[0;32m-> 3140\u001b[0;31m             capture_by_value=self._capture_by_value),\n\u001b[0m\u001b[1;32m   3141\u001b[0m         \u001b[0mself\u001b[0m\u001b[0;34m.\u001b[0m\u001b[0m_function_attributes\u001b[0m\u001b[0;34m,\u001b[0m\u001b[0;34m\u001b[0m\u001b[0;34m\u001b[0m\u001b[0m\n\u001b[1;32m   3142\u001b[0m         \u001b[0mfunction_spec\u001b[0m\u001b[0;34m=\u001b[0m\u001b[0mself\u001b[0m\u001b[0;34m.\u001b[0m\u001b[0mfunction_spec\u001b[0m\u001b[0;34m,\u001b[0m\u001b[0;34m\u001b[0m\u001b[0;34m\u001b[0m\u001b[0m\n",
            "\u001b[0;32m/usr/local/lib/python3.7/dist-packages/tensorflow/python/framework/func_graph.py\u001b[0m in \u001b[0;36mfunc_graph_from_py_func\u001b[0;34m(name, python_func, args, kwargs, signature, func_graph, autograph, autograph_options, add_control_dependencies, arg_names, op_return_value, collections, capture_by_value, override_flat_arg_shapes, acd_record_initial_resource_uses)\u001b[0m\n\u001b[1;32m   1159\u001b[0m         \u001b[0m_\u001b[0m\u001b[0;34m,\u001b[0m \u001b[0moriginal_func\u001b[0m \u001b[0;34m=\u001b[0m \u001b[0mtf_decorator\u001b[0m\u001b[0;34m.\u001b[0m\u001b[0munwrap\u001b[0m\u001b[0;34m(\u001b[0m\u001b[0mpython_func\u001b[0m\u001b[0;34m)\u001b[0m\u001b[0;34m\u001b[0m\u001b[0;34m\u001b[0m\u001b[0m\n\u001b[1;32m   1160\u001b[0m \u001b[0;34m\u001b[0m\u001b[0m\n\u001b[0;32m-> 1161\u001b[0;31m       \u001b[0mfunc_outputs\u001b[0m \u001b[0;34m=\u001b[0m \u001b[0mpython_func\u001b[0m\u001b[0;34m(\u001b[0m\u001b[0;34m*\u001b[0m\u001b[0mfunc_args\u001b[0m\u001b[0;34m,\u001b[0m \u001b[0;34m**\u001b[0m\u001b[0mfunc_kwargs\u001b[0m\u001b[0;34m)\u001b[0m\u001b[0;34m\u001b[0m\u001b[0;34m\u001b[0m\u001b[0m\n\u001b[0m\u001b[1;32m   1162\u001b[0m \u001b[0;34m\u001b[0m\u001b[0m\n\u001b[1;32m   1163\u001b[0m       \u001b[0;31m# invariant: `func_outputs` contains only Tensors, CompositeTensors,\u001b[0m\u001b[0;34m\u001b[0m\u001b[0;34m\u001b[0m\u001b[0;34m\u001b[0m\u001b[0m\n",
            "\u001b[0;32m/usr/local/lib/python3.7/dist-packages/tensorflow/python/eager/def_function.py\u001b[0m in \u001b[0;36mwrapped_fn\u001b[0;34m(*args, **kwds)\u001b[0m\n\u001b[1;32m    675\u001b[0m         \u001b[0;31m# the function a weak reference to itself to avoid a reference cycle.\u001b[0m\u001b[0;34m\u001b[0m\u001b[0;34m\u001b[0m\u001b[0;34m\u001b[0m\u001b[0m\n\u001b[1;32m    676\u001b[0m         \u001b[0;32mwith\u001b[0m \u001b[0mOptionalXlaContext\u001b[0m\u001b[0;34m(\u001b[0m\u001b[0mcompile_with_xla\u001b[0m\u001b[0;34m)\u001b[0m\u001b[0;34m:\u001b[0m\u001b[0;34m\u001b[0m\u001b[0;34m\u001b[0m\u001b[0m\n\u001b[0;32m--> 677\u001b[0;31m           \u001b[0mout\u001b[0m \u001b[0;34m=\u001b[0m \u001b[0mweak_wrapped_fn\u001b[0m\u001b[0;34m(\u001b[0m\u001b[0;34m)\u001b[0m\u001b[0;34m.\u001b[0m\u001b[0m__wrapped__\u001b[0m\u001b[0;34m(\u001b[0m\u001b[0;34m*\u001b[0m\u001b[0margs\u001b[0m\u001b[0;34m,\u001b[0m \u001b[0;34m**\u001b[0m\u001b[0mkwds\u001b[0m\u001b[0;34m)\u001b[0m\u001b[0;34m\u001b[0m\u001b[0;34m\u001b[0m\u001b[0m\n\u001b[0m\u001b[1;32m    678\u001b[0m         \u001b[0;32mreturn\u001b[0m \u001b[0mout\u001b[0m\u001b[0;34m\u001b[0m\u001b[0;34m\u001b[0m\u001b[0m\n\u001b[1;32m    679\u001b[0m \u001b[0;34m\u001b[0m\u001b[0m\n",
            "\u001b[0;32m/usr/local/lib/python3.7/dist-packages/keras/saving/saved_model/save_impl.py\u001b[0m in \u001b[0;36mwrapper\u001b[0;34m(*args, **kwargs)\u001b[0m\n\u001b[1;32m    570\u001b[0m       with autocast_variable.enable_auto_cast_variables(\n\u001b[1;32m    571\u001b[0m           layer._compute_dtype_object):  # pylint: disable=protected-access\n\u001b[0;32m--> 572\u001b[0;31m         \u001b[0mret\u001b[0m \u001b[0;34m=\u001b[0m \u001b[0mmethod\u001b[0m\u001b[0;34m(\u001b[0m\u001b[0;34m*\u001b[0m\u001b[0margs\u001b[0m\u001b[0;34m,\u001b[0m \u001b[0;34m**\u001b[0m\u001b[0mkwargs\u001b[0m\u001b[0;34m)\u001b[0m\u001b[0;34m\u001b[0m\u001b[0;34m\u001b[0m\u001b[0m\n\u001b[0m\u001b[1;32m    573\u001b[0m     \u001b[0m_restore_layer_losses\u001b[0m\u001b[0;34m(\u001b[0m\u001b[0moriginal_losses\u001b[0m\u001b[0;34m)\u001b[0m\u001b[0;34m\u001b[0m\u001b[0;34m\u001b[0m\u001b[0m\n\u001b[1;32m    574\u001b[0m     \u001b[0;32mreturn\u001b[0m \u001b[0mret\u001b[0m\u001b[0;34m\u001b[0m\u001b[0;34m\u001b[0m\u001b[0m\n",
            "\u001b[0;32m/usr/local/lib/python3.7/dist-packages/keras/saving/saved_model/utils.py\u001b[0m in \u001b[0;36mwrap_with_training_arg\u001b[0;34m(*args, **kwargs)\u001b[0m\n\u001b[1;32m    168\u001b[0m     return control_flow_util.smart_cond(\n\u001b[1;32m    169\u001b[0m         \u001b[0mtraining\u001b[0m\u001b[0;34m,\u001b[0m \u001b[0;32mlambda\u001b[0m\u001b[0;34m:\u001b[0m \u001b[0mreplace_training_and_call\u001b[0m\u001b[0;34m(\u001b[0m\u001b[0;32mTrue\u001b[0m\u001b[0;34m)\u001b[0m\u001b[0;34m,\u001b[0m\u001b[0;34m\u001b[0m\u001b[0;34m\u001b[0m\u001b[0m\n\u001b[0;32m--> 170\u001b[0;31m         lambda: replace_training_and_call(False))\n\u001b[0m\u001b[1;32m    171\u001b[0m \u001b[0;34m\u001b[0m\u001b[0m\n\u001b[1;32m    172\u001b[0m   \u001b[0;31m# Create arg spec for decorated function. If 'training' is not defined in the\u001b[0m\u001b[0;34m\u001b[0m\u001b[0;34m\u001b[0m\u001b[0;34m\u001b[0m\u001b[0m\n",
            "\u001b[0;32m/usr/local/lib/python3.7/dist-packages/keras/utils/control_flow_util.py\u001b[0m in \u001b[0;36msmart_cond\u001b[0;34m(pred, true_fn, false_fn, name)\u001b[0m\n\u001b[1;32m    104\u001b[0m         pred, true_fn=true_fn, false_fn=false_fn, name=name)\n\u001b[1;32m    105\u001b[0m   return tf.__internal__.smart_cond.smart_cond(\n\u001b[0;32m--> 106\u001b[0;31m       pred, true_fn=true_fn, false_fn=false_fn, name=name)\n\u001b[0m\u001b[1;32m    107\u001b[0m \u001b[0;34m\u001b[0m\u001b[0m\n\u001b[1;32m    108\u001b[0m \u001b[0;34m\u001b[0m\u001b[0m\n",
            "\u001b[0;32m/usr/local/lib/python3.7/dist-packages/tensorflow/python/framework/smart_cond.py\u001b[0m in \u001b[0;36msmart_cond\u001b[0;34m(pred, true_fn, false_fn, name)\u001b[0m\n\u001b[1;32m     53\u001b[0m       \u001b[0;32mreturn\u001b[0m \u001b[0mtrue_fn\u001b[0m\u001b[0;34m(\u001b[0m\u001b[0;34m)\u001b[0m\u001b[0;34m\u001b[0m\u001b[0;34m\u001b[0m\u001b[0m\n\u001b[1;32m     54\u001b[0m     \u001b[0;32melse\u001b[0m\u001b[0;34m:\u001b[0m\u001b[0;34m\u001b[0m\u001b[0;34m\u001b[0m\u001b[0m\n\u001b[0;32m---> 55\u001b[0;31m       \u001b[0;32mreturn\u001b[0m \u001b[0mfalse_fn\u001b[0m\u001b[0;34m(\u001b[0m\u001b[0;34m)\u001b[0m\u001b[0;34m\u001b[0m\u001b[0;34m\u001b[0m\u001b[0m\n\u001b[0m\u001b[1;32m     56\u001b[0m   \u001b[0;32melse\u001b[0m\u001b[0;34m:\u001b[0m\u001b[0;34m\u001b[0m\u001b[0;34m\u001b[0m\u001b[0m\n\u001b[1;32m     57\u001b[0m     return control_flow_ops.cond(pred, true_fn=true_fn, false_fn=false_fn,\n",
            "\u001b[0;32m/usr/local/lib/python3.7/dist-packages/keras/saving/saved_model/utils.py\u001b[0m in \u001b[0;36m<lambda>\u001b[0;34m()\u001b[0m\n\u001b[1;32m    168\u001b[0m     return control_flow_util.smart_cond(\n\u001b[1;32m    169\u001b[0m         \u001b[0mtraining\u001b[0m\u001b[0;34m,\u001b[0m \u001b[0;32mlambda\u001b[0m\u001b[0;34m:\u001b[0m \u001b[0mreplace_training_and_call\u001b[0m\u001b[0;34m(\u001b[0m\u001b[0;32mTrue\u001b[0m\u001b[0;34m)\u001b[0m\u001b[0;34m,\u001b[0m\u001b[0;34m\u001b[0m\u001b[0;34m\u001b[0m\u001b[0m\n\u001b[0;32m--> 170\u001b[0;31m         lambda: replace_training_and_call(False))\n\u001b[0m\u001b[1;32m    171\u001b[0m \u001b[0;34m\u001b[0m\u001b[0m\n\u001b[1;32m    172\u001b[0m   \u001b[0;31m# Create arg spec for decorated function. If 'training' is not defined in the\u001b[0m\u001b[0;34m\u001b[0m\u001b[0;34m\u001b[0m\u001b[0;34m\u001b[0m\u001b[0m\n",
            "\u001b[0;32m/usr/local/lib/python3.7/dist-packages/keras/saving/saved_model/utils.py\u001b[0m in \u001b[0;36mreplace_training_and_call\u001b[0;34m(training)\u001b[0m\n\u001b[1;32m    164\u001b[0m     \u001b[0;32mdef\u001b[0m \u001b[0mreplace_training_and_call\u001b[0m\u001b[0;34m(\u001b[0m\u001b[0mtraining\u001b[0m\u001b[0;34m)\u001b[0m\u001b[0;34m:\u001b[0m\u001b[0;34m\u001b[0m\u001b[0;34m\u001b[0m\u001b[0m\n\u001b[1;32m    165\u001b[0m       \u001b[0mset_training_arg\u001b[0m\u001b[0;34m(\u001b[0m\u001b[0mtraining\u001b[0m\u001b[0;34m,\u001b[0m \u001b[0mtraining_arg_index\u001b[0m\u001b[0;34m,\u001b[0m \u001b[0margs\u001b[0m\u001b[0;34m,\u001b[0m \u001b[0mkwargs\u001b[0m\u001b[0;34m)\u001b[0m\u001b[0;34m\u001b[0m\u001b[0;34m\u001b[0m\u001b[0m\n\u001b[0;32m--> 166\u001b[0;31m       \u001b[0;32mreturn\u001b[0m \u001b[0mwrapped_call\u001b[0m\u001b[0;34m(\u001b[0m\u001b[0;34m*\u001b[0m\u001b[0margs\u001b[0m\u001b[0;34m,\u001b[0m \u001b[0;34m**\u001b[0m\u001b[0mkwargs\u001b[0m\u001b[0;34m)\u001b[0m\u001b[0;34m\u001b[0m\u001b[0;34m\u001b[0m\u001b[0m\n\u001b[0m\u001b[1;32m    167\u001b[0m \u001b[0;34m\u001b[0m\u001b[0m\n\u001b[1;32m    168\u001b[0m     return control_flow_util.smart_cond(\n",
            "\u001b[0;32m/usr/local/lib/python3.7/dist-packages/keras/saving/saved_model/save_impl.py\u001b[0m in \u001b[0;36mcall_and_return_conditional_losses\u001b[0;34m(*args, **kwargs)\u001b[0m\n\u001b[1;32m    632\u001b[0m   \u001b[0;32mdef\u001b[0m \u001b[0mcall_and_return_conditional_losses\u001b[0m\u001b[0;34m(\u001b[0m\u001b[0;34m*\u001b[0m\u001b[0margs\u001b[0m\u001b[0;34m,\u001b[0m \u001b[0;34m**\u001b[0m\u001b[0mkwargs\u001b[0m\u001b[0;34m)\u001b[0m\u001b[0;34m:\u001b[0m\u001b[0;34m\u001b[0m\u001b[0;34m\u001b[0m\u001b[0m\n\u001b[1;32m    633\u001b[0m     \u001b[0;34m\"\"\"Returns layer (call_output, conditional losses) tuple.\"\"\"\u001b[0m\u001b[0;34m\u001b[0m\u001b[0;34m\u001b[0m\u001b[0m\n\u001b[0;32m--> 634\u001b[0;31m     \u001b[0mcall_output\u001b[0m \u001b[0;34m=\u001b[0m \u001b[0mlayer_call\u001b[0m\u001b[0;34m(\u001b[0m\u001b[0;34m*\u001b[0m\u001b[0margs\u001b[0m\u001b[0;34m,\u001b[0m \u001b[0;34m**\u001b[0m\u001b[0mkwargs\u001b[0m\u001b[0;34m)\u001b[0m\u001b[0;34m\u001b[0m\u001b[0;34m\u001b[0m\u001b[0m\n\u001b[0m\u001b[1;32m    635\u001b[0m     \u001b[0;32mif\u001b[0m \u001b[0mversion_utils\u001b[0m\u001b[0;34m.\u001b[0m\u001b[0mis_v1_layer_or_model\u001b[0m\u001b[0;34m(\u001b[0m\u001b[0mlayer\u001b[0m\u001b[0;34m)\u001b[0m\u001b[0;34m:\u001b[0m\u001b[0;34m\u001b[0m\u001b[0;34m\u001b[0m\u001b[0m\n\u001b[1;32m    636\u001b[0m       conditional_losses = layer.get_losses_for(\n",
            "\u001b[0;32m/usr/local/lib/python3.7/dist-packages/keras/layers/recurrent_v2.py\u001b[0m in \u001b[0;36mcall\u001b[0;34m(self, inputs, mask, training, initial_state)\u001b[0m\n\u001b[1;32m    444\u001b[0m     \u001b[0;32melse\u001b[0m\u001b[0;34m:\u001b[0m\u001b[0;34m\u001b[0m\u001b[0;34m\u001b[0m\u001b[0m\n\u001b[1;32m    445\u001b[0m       last_output, outputs, runtime, states = self._defun_gru_call(\n\u001b[0;32m--> 446\u001b[0;31m           inputs, initial_state, training, mask, row_lengths)\n\u001b[0m\u001b[1;32m    447\u001b[0m \u001b[0;34m\u001b[0m\u001b[0m\n\u001b[1;32m    448\u001b[0m     \u001b[0;32mif\u001b[0m \u001b[0mself\u001b[0m\u001b[0;34m.\u001b[0m\u001b[0mstateful\u001b[0m\u001b[0;34m:\u001b[0m\u001b[0;34m\u001b[0m\u001b[0;34m\u001b[0m\u001b[0m\n",
            "\u001b[0;32m/usr/local/lib/python3.7/dist-packages/keras/layers/recurrent_v2.py\u001b[0m in \u001b[0;36m_defun_gru_call\u001b[0;34m(self, inputs, initial_state, training, mask, sequence_lengths)\u001b[0m\n\u001b[1;32m    522\u001b[0m       \u001b[0;32melse\u001b[0m\u001b[0;34m:\u001b[0m\u001b[0;34m\u001b[0m\u001b[0;34m\u001b[0m\u001b[0m\n\u001b[1;32m    523\u001b[0m         last_output, outputs, new_h, runtime = gru_with_backend_selection(\n\u001b[0;32m--> 524\u001b[0;31m             **normal_gru_kwargs)\n\u001b[0m\u001b[1;32m    525\u001b[0m \u001b[0;34m\u001b[0m\u001b[0m\n\u001b[1;32m    526\u001b[0m     \u001b[0mstates\u001b[0m \u001b[0;34m=\u001b[0m \u001b[0;34m[\u001b[0m\u001b[0mnew_h\u001b[0m\u001b[0;34m]\u001b[0m\u001b[0;34m\u001b[0m\u001b[0;34m\u001b[0m\u001b[0m\n",
            "\u001b[0;32m/usr/local/lib/python3.7/dist-packages/keras/layers/recurrent_v2.py\u001b[0m in \u001b[0;36mgru_with_backend_selection\u001b[0;34m(inputs, init_h, kernel, recurrent_kernel, bias, mask, time_major, go_backwards, sequence_lengths, zero_output_for_mask)\u001b[0m\n\u001b[1;32m    822\u001b[0m     \u001b[0;31m# grappler will kick in during session execution to optimize the graph.\u001b[0m\u001b[0;34m\u001b[0m\u001b[0;34m\u001b[0m\u001b[0;34m\u001b[0m\u001b[0m\n\u001b[1;32m    823\u001b[0m     \u001b[0mlast_output\u001b[0m\u001b[0;34m,\u001b[0m \u001b[0moutputs\u001b[0m\u001b[0;34m,\u001b[0m \u001b[0mnew_h\u001b[0m\u001b[0;34m,\u001b[0m \u001b[0mruntime\u001b[0m \u001b[0;34m=\u001b[0m \u001b[0mdefun_standard_gru\u001b[0m\u001b[0;34m(\u001b[0m\u001b[0;34m**\u001b[0m\u001b[0mparams\u001b[0m\u001b[0;34m)\u001b[0m\u001b[0;34m\u001b[0m\u001b[0;34m\u001b[0m\u001b[0m\n\u001b[0;32m--> 824\u001b[0;31m     \u001b[0m_function_register\u001b[0m\u001b[0;34m(\u001b[0m\u001b[0mdefun_gpu_gru\u001b[0m\u001b[0;34m,\u001b[0m \u001b[0;34m**\u001b[0m\u001b[0mparams\u001b[0m\u001b[0;34m)\u001b[0m\u001b[0;34m\u001b[0m\u001b[0;34m\u001b[0m\u001b[0m\n\u001b[0m\u001b[1;32m    825\u001b[0m \u001b[0;34m\u001b[0m\u001b[0m\n\u001b[1;32m    826\u001b[0m   \u001b[0;32mreturn\u001b[0m \u001b[0mlast_output\u001b[0m\u001b[0;34m,\u001b[0m \u001b[0moutputs\u001b[0m\u001b[0;34m,\u001b[0m \u001b[0mnew_h\u001b[0m\u001b[0;34m,\u001b[0m \u001b[0mruntime\u001b[0m\u001b[0;34m\u001b[0m\u001b[0;34m\u001b[0m\u001b[0m\n",
            "\u001b[0;32m/usr/local/lib/python3.7/dist-packages/keras/layers/recurrent_v2.py\u001b[0m in \u001b[0;36m_function_register\u001b[0;34m(func, *args, **kwargs)\u001b[0m\n\u001b[1;32m   1783\u001b[0m   \u001b[0mconcrete_func\u001b[0m \u001b[0;34m=\u001b[0m \u001b[0mfunc\u001b[0m\u001b[0;34m.\u001b[0m\u001b[0mget_concrete_function\u001b[0m\u001b[0;34m(\u001b[0m\u001b[0;34m*\u001b[0m\u001b[0margs\u001b[0m\u001b[0;34m,\u001b[0m \u001b[0;34m**\u001b[0m\u001b[0mkwargs\u001b[0m\u001b[0;34m)\u001b[0m\u001b[0;34m\u001b[0m\u001b[0;34m\u001b[0m\u001b[0m\n\u001b[1;32m   1784\u001b[0m   \u001b[0mconcrete_func\u001b[0m\u001b[0;34m.\u001b[0m\u001b[0madd_to_graph\u001b[0m\u001b[0;34m(\u001b[0m\u001b[0;34m)\u001b[0m\u001b[0;34m\u001b[0m\u001b[0;34m\u001b[0m\u001b[0m\n\u001b[0;32m-> 1785\u001b[0;31m   \u001b[0mconcrete_func\u001b[0m\u001b[0;34m.\u001b[0m\u001b[0madd_gradient_functions_to_graph\u001b[0m\u001b[0;34m(\u001b[0m\u001b[0;34m)\u001b[0m\u001b[0;34m\u001b[0m\u001b[0;34m\u001b[0m\u001b[0m\n\u001b[0m\u001b[1;32m   1786\u001b[0m   \u001b[0;32mreturn\u001b[0m \u001b[0mconcrete_func\u001b[0m\u001b[0;34m\u001b[0m\u001b[0;34m\u001b[0m\u001b[0m\n",
            "\u001b[0;32m/usr/local/lib/python3.7/dist-packages/tensorflow/python/eager/function.py\u001b[0m in \u001b[0;36madd_gradient_functions_to_graph\u001b[0;34m(self, g)\u001b[0m\n\u001b[1;32m   2104\u001b[0m     \u001b[0mself\u001b[0m\u001b[0;34m.\u001b[0m\u001b[0m_delayed_rewrite_functions\u001b[0m\u001b[0;34m.\u001b[0m\u001b[0mforward\u001b[0m\u001b[0;34m(\u001b[0m\u001b[0;34m)\u001b[0m\u001b[0;34m.\u001b[0m\u001b[0madd_to_graph\u001b[0m\u001b[0;34m(\u001b[0m\u001b[0mg\u001b[0m\u001b[0;34m)\u001b[0m\u001b[0;34m\u001b[0m\u001b[0;34m\u001b[0m\u001b[0m\n\u001b[1;32m   2105\u001b[0m     forward_function, backward_function = (\n\u001b[0;32m-> 2106\u001b[0;31m         self._delayed_rewrite_functions.forward_backward())\n\u001b[0m\u001b[1;32m   2107\u001b[0m     \u001b[0mforward_function\u001b[0m\u001b[0;34m.\u001b[0m\u001b[0madd_to_graph\u001b[0m\u001b[0;34m(\u001b[0m\u001b[0mg\u001b[0m\u001b[0;34m)\u001b[0m\u001b[0;34m\u001b[0m\u001b[0;34m\u001b[0m\u001b[0m\n\u001b[1;32m   2108\u001b[0m     \u001b[0mbackward_function\u001b[0m\u001b[0;34m.\u001b[0m\u001b[0madd_to_graph\u001b[0m\u001b[0;34m(\u001b[0m\u001b[0mg\u001b[0m\u001b[0;34m)\u001b[0m\u001b[0;34m\u001b[0m\u001b[0;34m\u001b[0m\u001b[0m\n",
            "\u001b[0;32m/usr/local/lib/python3.7/dist-packages/tensorflow/python/eager/function.py\u001b[0m in \u001b[0;36mforward_backward\u001b[0;34m(self, num_doutputs)\u001b[0m\n\u001b[1;32m    599\u001b[0m     \u001b[0;32mif\u001b[0m \u001b[0mforward_backward\u001b[0m \u001b[0;32mis\u001b[0m \u001b[0;32mnot\u001b[0m \u001b[0;32mNone\u001b[0m\u001b[0;34m:\u001b[0m\u001b[0;34m\u001b[0m\u001b[0;34m\u001b[0m\u001b[0m\n\u001b[1;32m    600\u001b[0m       \u001b[0;32mreturn\u001b[0m \u001b[0mforward_backward\u001b[0m\u001b[0;34m\u001b[0m\u001b[0;34m\u001b[0m\u001b[0m\n\u001b[0;32m--> 601\u001b[0;31m     \u001b[0mforward\u001b[0m\u001b[0;34m,\u001b[0m \u001b[0mbackward\u001b[0m \u001b[0;34m=\u001b[0m \u001b[0mself\u001b[0m\u001b[0;34m.\u001b[0m\u001b[0m_construct_forward_backward\u001b[0m\u001b[0;34m(\u001b[0m\u001b[0mnum_doutputs\u001b[0m\u001b[0;34m)\u001b[0m\u001b[0;34m\u001b[0m\u001b[0;34m\u001b[0m\u001b[0m\n\u001b[0m\u001b[1;32m    602\u001b[0m     \u001b[0mself\u001b[0m\u001b[0;34m.\u001b[0m\u001b[0m_cached_function_pairs\u001b[0m\u001b[0;34m[\u001b[0m\u001b[0mnum_doutputs\u001b[0m\u001b[0;34m]\u001b[0m \u001b[0;34m=\u001b[0m \u001b[0;34m(\u001b[0m\u001b[0mforward\u001b[0m\u001b[0;34m,\u001b[0m \u001b[0mbackward\u001b[0m\u001b[0;34m)\u001b[0m\u001b[0;34m\u001b[0m\u001b[0;34m\u001b[0m\u001b[0m\n\u001b[1;32m    603\u001b[0m     \u001b[0;32mreturn\u001b[0m \u001b[0mforward\u001b[0m\u001b[0;34m,\u001b[0m \u001b[0mbackward\u001b[0m\u001b[0;34m\u001b[0m\u001b[0;34m\u001b[0m\u001b[0m\n",
            "\u001b[0;32m/usr/local/lib/python3.7/dist-packages/tensorflow/python/eager/function.py\u001b[0m in \u001b[0;36m_construct_forward_backward\u001b[0;34m(self, num_doutputs)\u001b[0m\n\u001b[1;32m    647\u001b[0m           \u001b[0margs\u001b[0m\u001b[0;34m=\u001b[0m\u001b[0;34m[\u001b[0m\u001b[0;34m]\u001b[0m\u001b[0;34m,\u001b[0m \u001b[0mkwargs\u001b[0m\u001b[0;34m=\u001b[0m\u001b[0;34m{\u001b[0m\u001b[0;34m}\u001b[0m\u001b[0;34m,\u001b[0m\u001b[0;34m\u001b[0m\u001b[0;34m\u001b[0m\u001b[0m\n\u001b[1;32m    648\u001b[0m           \u001b[0msignature\u001b[0m\u001b[0;34m=\u001b[0m\u001b[0msignature\u001b[0m\u001b[0;34m,\u001b[0m\u001b[0;34m\u001b[0m\u001b[0;34m\u001b[0m\u001b[0m\n\u001b[0;32m--> 649\u001b[0;31m           func_graph=backwards_graph)\n\u001b[0m\u001b[1;32m    650\u001b[0m       \u001b[0mbackwards_graph_captures\u001b[0m \u001b[0;34m=\u001b[0m \u001b[0mbackwards_graph\u001b[0m\u001b[0;34m.\u001b[0m\u001b[0mexternal_captures\u001b[0m\u001b[0;34m\u001b[0m\u001b[0;34m\u001b[0m\u001b[0m\n\u001b[1;32m    651\u001b[0m       captures_from_forward = [\n",
            "\u001b[0;32m/usr/local/lib/python3.7/dist-packages/tensorflow/python/framework/func_graph.py\u001b[0m in \u001b[0;36mfunc_graph_from_py_func\u001b[0;34m(name, python_func, args, kwargs, signature, func_graph, autograph, autograph_options, add_control_dependencies, arg_names, op_return_value, collections, capture_by_value, override_flat_arg_shapes, acd_record_initial_resource_uses)\u001b[0m\n\u001b[1;32m   1083\u001b[0m     \u001b[0;31m# TensorSpecs by their `arg_names` for later binding.\u001b[0m\u001b[0;34m\u001b[0m\u001b[0;34m\u001b[0m\u001b[0;34m\u001b[0m\u001b[0m\n\u001b[1;32m   1084\u001b[0m     func_graph.structured_input_signature = (\n\u001b[0;32m-> 1085\u001b[0;31m         \u001b[0mconvert_structure_to_signature\u001b[0m\u001b[0;34m(\u001b[0m\u001b[0mfunc_args\u001b[0m\u001b[0;34m,\u001b[0m \u001b[0marg_names\u001b[0m\u001b[0;34m)\u001b[0m\u001b[0;34m,\u001b[0m\u001b[0;34m\u001b[0m\u001b[0;34m\u001b[0m\u001b[0m\n\u001b[0m\u001b[1;32m   1086\u001b[0m         convert_structure_to_signature(func_kwargs))\n\u001b[1;32m   1087\u001b[0m \u001b[0;34m\u001b[0m\u001b[0m\n",
            "\u001b[0;32m/usr/local/lib/python3.7/dist-packages/tensorflow/python/framework/func_graph.py\u001b[0m in \u001b[0;36mconvert_structure_to_signature\u001b[0;34m(structure, arg_names)\u001b[0m\n\u001b[1;32m    131\u001b[0m     ]\n\u001b[1;32m    132\u001b[0m \u001b[0;34m\u001b[0m\u001b[0m\n\u001b[0;32m--> 133\u001b[0;31m   \u001b[0mmapped\u001b[0m \u001b[0;34m=\u001b[0m \u001b[0;34m[\u001b[0m\u001b[0mencode_arg\u001b[0m\u001b[0;34m(\u001b[0m\u001b[0marg\u001b[0m\u001b[0;34m,\u001b[0m \u001b[0mpath\u001b[0m\u001b[0;34m)\u001b[0m \u001b[0;32mfor\u001b[0m \u001b[0mpath\u001b[0m\u001b[0;34m,\u001b[0m \u001b[0marg\u001b[0m \u001b[0;32min\u001b[0m \u001b[0mflattened\u001b[0m\u001b[0;34m]\u001b[0m\u001b[0;34m\u001b[0m\u001b[0;34m\u001b[0m\u001b[0m\n\u001b[0m\u001b[1;32m    134\u001b[0m   \u001b[0;32mreturn\u001b[0m \u001b[0mnest\u001b[0m\u001b[0;34m.\u001b[0m\u001b[0mpack_sequence_as\u001b[0m\u001b[0;34m(\u001b[0m\u001b[0mstructure\u001b[0m\u001b[0;34m,\u001b[0m \u001b[0mmapped\u001b[0m\u001b[0;34m)\u001b[0m\u001b[0;34m\u001b[0m\u001b[0;34m\u001b[0m\u001b[0m\n\u001b[1;32m    135\u001b[0m \u001b[0;34m\u001b[0m\u001b[0m\n",
            "\u001b[0;32m/usr/local/lib/python3.7/dist-packages/tensorflow/python/framework/func_graph.py\u001b[0m in \u001b[0;36m<listcomp>\u001b[0;34m(.0)\u001b[0m\n\u001b[1;32m    131\u001b[0m     ]\n\u001b[1;32m    132\u001b[0m \u001b[0;34m\u001b[0m\u001b[0m\n\u001b[0;32m--> 133\u001b[0;31m   \u001b[0mmapped\u001b[0m \u001b[0;34m=\u001b[0m \u001b[0;34m[\u001b[0m\u001b[0mencode_arg\u001b[0m\u001b[0;34m(\u001b[0m\u001b[0marg\u001b[0m\u001b[0;34m,\u001b[0m \u001b[0mpath\u001b[0m\u001b[0;34m)\u001b[0m \u001b[0;32mfor\u001b[0m \u001b[0mpath\u001b[0m\u001b[0;34m,\u001b[0m \u001b[0marg\u001b[0m \u001b[0;32min\u001b[0m \u001b[0mflattened\u001b[0m\u001b[0;34m]\u001b[0m\u001b[0;34m\u001b[0m\u001b[0;34m\u001b[0m\u001b[0m\n\u001b[0m\u001b[1;32m    134\u001b[0m   \u001b[0;32mreturn\u001b[0m \u001b[0mnest\u001b[0m\u001b[0;34m.\u001b[0m\u001b[0mpack_sequence_as\u001b[0m\u001b[0;34m(\u001b[0m\u001b[0mstructure\u001b[0m\u001b[0;34m,\u001b[0m \u001b[0mmapped\u001b[0m\u001b[0;34m)\u001b[0m\u001b[0;34m\u001b[0m\u001b[0;34m\u001b[0m\u001b[0m\n\u001b[1;32m    135\u001b[0m \u001b[0;34m\u001b[0m\u001b[0m\n",
            "\u001b[0;32m/usr/local/lib/python3.7/dist-packages/tensorflow/python/framework/func_graph.py\u001b[0m in \u001b[0;36mencode_arg\u001b[0;34m(arg, path)\u001b[0m\n\u001b[1;32m     87\u001b[0m       \u001b[0;32mtry\u001b[0m\u001b[0;34m:\u001b[0m\u001b[0;34m\u001b[0m\u001b[0;34m\u001b[0m\u001b[0m\n\u001b[1;32m     88\u001b[0m         user_specified_name = compat.as_str(\n\u001b[0;32m---> 89\u001b[0;31m             arg.op.get_attr(\"_user_specified_name\"))\n\u001b[0m\u001b[1;32m     90\u001b[0m       \u001b[0;32mexcept\u001b[0m \u001b[0mValueError\u001b[0m\u001b[0;34m:\u001b[0m\u001b[0;34m\u001b[0m\u001b[0;34m\u001b[0m\u001b[0m\n\u001b[1;32m     91\u001b[0m         \u001b[0;32mpass\u001b[0m\u001b[0;34m\u001b[0m\u001b[0;34m\u001b[0m\u001b[0m\n",
            "\u001b[0;31mKeyboardInterrupt\u001b[0m: "
          ]
        }
      ]
    },
    {
      "cell_type": "markdown",
      "source": [
        "## Vision Transformer\n",
        "---"
      ],
      "metadata": {
        "id": "uC5fExcDkUQs"
      }
    },
    {
      "cell_type": "code",
      "source": [
        "import math\n",
        "from typing import Tuple\n",
        "\n",
        "import torch\n",
        "from torch import nn, Tensor\n",
        "import torch.nn.functional as F\n",
        "from torch.nn import TransformerEncoder, TransformerEncoderLayer\n",
        "from torch.utils.data import dataset\n",
        "\n",
        "class Attention(nn.Module):\n",
        "    \"\"\"\n",
        "    Attention mechanism\n",
        "\n",
        "    paramteres:\n",
        "    -----------\n",
        "    dim: int\n",
        "        The input and output dimension per token features.\n",
        "\n",
        "    n_heads : int\n",
        "        Number of attention heads\n",
        "\n",
        "    qkv_bias : bool\n",
        "        Dropout probability applied to the query, key and value tensor\n",
        "\n",
        "    proj_p : float\n",
        "        Dropout probability applied to the output tensor.\n",
        "\n",
        "    Attributes\n",
        "    ----------\n",
        "    scale: float\n",
        "        Normalizing constant for the dot product.\n",
        "\n",
        "    qkv: nn.Linear\n",
        "        Linear projection for the query, key and value\n",
        "\n",
        "    proj : nn.Linear\n",
        "        Linear mapping that takes in the concatenated output of all attention heads\n",
        "        and maps it into a new space.\n",
        "    \"\"\"\n",
        "    def __init__(self, dim, n_heads=12, qkv_bias=True, attn_p=0., proj_p=0.):\n",
        "        super().__init__()\n",
        "        self.n_heads = n_heads\n",
        "        self.dim = dim\n",
        "        self.head_dim = dim // n_heads  #Define dimensionality of each head.\n",
        "        self.scale = self.head_dim ** -0.5\n",
        "\n",
        "        self.qkv = nn.Linear(dim, dim*3, bias =qkv_bias)\n",
        "        self.attn_drop = nn.Dropout(attn_p)\n",
        "        self.proj = nn.Linear(dim, dim)\n",
        "        self.proj_drop = nn.Dropout(proj_p)\n",
        "\n",
        "    def forward(self, x):\n",
        "        \"\"\"\n",
        "        :param x:\n",
        "            shape (n_samples, n_patches + 1, dim) +1 is for class token as 1st token in the sequence\n",
        "        :return: Torch.Tensor\n",
        "            shape(n_samples, n_patches + 1, dim)\n",
        "        \"\"\"\n",
        "        n_samples, n_tokens, dim = x.shape\n",
        "        if dim != self.dim:\n",
        "            raise ValueError\n",
        "\n",
        "        qkv = self.qkv(x)  # n_samples, n_patches + 1, * 3 * dim\n",
        "        qkv = qkv.reshape(\n",
        "            n_samples, n_tokens, 3, self.n_heads, self.head_dim\n",
        "        ) # n_samples, n_patches  + 1,  3 , n_heads, head_dim\n",
        "        qkv = qkv.permute(\n",
        "            2, 0, 3, 1, 4\n",
        "        ) # (3, n_samples, n_heads, n_patches + 1, head_dim)\n",
        "        q, k, v = qkv[0], qkv[1], qkv[2]\n",
        "        k_t = k.transpose(-2, -1)\n",
        "        dot_p = (\n",
        "            q @ k_t\n",
        "        ) * self.scale\n",
        "        attn = dot_p.softmax(dim=1)\n",
        "        attn = self.attn_drop(attn)\n",
        "\n",
        "        weighted_avg = attn @ v\n",
        "        weighted_avg = weighted_avg.transpose( 1, 2) #(n_samples, n_patches + 1, n_heads, head_dim)\n",
        "        weighted_avg = weighted_avg.flatten(2) # n_samples, n_patches + 1, dim\n",
        "\n",
        "        x = self.proj(weighted_avg)\n",
        "        x = self.proj_drop(x)\n",
        "\n",
        "        return x\n",
        "\n",
        "class MLP(nn.Module):\n",
        "    \"\"\"\n",
        "    Multilayer perceptron\n",
        "\n",
        "    :parameters\n",
        "    -----------\n",
        "    in_features : int\n",
        "        Number of input features.\n",
        "\n",
        "    hidden_features : int\n",
        "        Number of nodes in the hidden layer\n",
        "\n",
        "    out_features : int\n",
        "        Number of output features.\n",
        "    \"\"\"\n",
        "    def __init__(self, in_features, hidden_features, out_features, p=0.):\n",
        "        super().__init__()\n",
        "        self.fc1 = nn.Linear(in_features, hidden_features)\n",
        "        self.act = nn.GELU()\n",
        "        self.fc2 = nn.Linear(hidden_features, out_features)\n",
        "        self.drop = nn.Dropout(p)\n",
        "\n",
        "    def forward(self, x):\n",
        "        \"\"\"\n",
        "        Run forward pass.\n",
        "\n",
        "        Parameters\n",
        "        ----------\n",
        "        x : torch.Tensor\n",
        "            Shape `(n_samples, n_patches + 1, in_features)`.\n",
        "\n",
        "        :Returns\n",
        "        ---------\n",
        "        torch.Tensor\n",
        "            Shape (n_samples, n_patches + 1, out_features)\n",
        "        \"\"\"\n",
        "        x = self.fc1(\n",
        "            x\n",
        "        ) # (n_samples, n_patches + 1, hidden_features)\n",
        "        x = self.act(x)\n",
        "        x = self.drop(x)\n",
        "        x = self.fc2(x)\n",
        "        x = self.drop(x)\n",
        "\n",
        "        return x\n",
        "\n",
        "class Block(nn.Module):\n",
        "    \"\"\"\n",
        "    Transformer block\n",
        "\n",
        "    :parameter:\n",
        "    dim : int\n",
        "        Embedding dimension\n",
        "\n",
        "    n_heads : int\n",
        "        Number of attention heads.\n",
        "\n",
        "    mlp_ratio : float\n",
        "        Determines the hidden dimension size of the MLP module with respect to dim.\n",
        "\n",
        "    qkv_bias : bool\n",
        "        if True then we include bias to the query, key and value projections.\n",
        "\n",
        "    p, attn_p : float\n",
        "        Dropout probability\n",
        "\n",
        "\n",
        "    Attributes\n",
        "    ----------\n",
        "    norm1, norm2 : LayerNorm\n",
        "        LayerNormalization\n",
        "    attn : Attention\n",
        "        attention module.\n",
        "\n",
        "    mlp : MLP\n",
        "        MLP module.\n",
        "    \"\"\"\n",
        "    def __init__(self, dim, n_heads, mlp_ratio=4.0, qkv_bias=True, p=0, attn_p=0.):\n",
        "        super().__init__()\n",
        "        self.norm1 = nn.LayerNorm(dim, eps=1e-6)\n",
        "        self.attn = Attention(\n",
        "            dim,\n",
        "            n_heads=n_heads,\n",
        "            qkv_bias=qkv_bias,\n",
        "            attn_p = attn_p,\n",
        "            proj_p = p,\n",
        "        )\n",
        "        self.norm2 = nn.LayerNorm(dim, eps=1e-6)\n",
        "        hidden_features = int(dim * mlp_ratio)\n",
        "        self.mlp = MLP(\n",
        "            in_features=dim,\n",
        "            hidden_features=hidden_features,\n",
        "            out_features=dim,\n",
        "        )\n",
        "    def forward(self, x):\n",
        "        \"\"\"\n",
        "        Run forward pass\n",
        "        :param x: torch.Tensor, Shape - (n_samples, n_patches + 1, dim)\n",
        "        :return:\n",
        "        torch.Tensor, Shape - (n_samples, n_patches + 1, dim)\n",
        "        \"\"\"\n",
        "        x = x + self.attn(self.norm1(x))\n",
        "        x = x + self.mlp(self.norm2(x))\n",
        "\n",
        "        return x\n",
        "\n",
        "class visionTransformer(nn.Module):\n",
        "    \"\"\"\n",
        "    Simplified implementation of the vision transformer\n",
        "\n",
        "    :parameter\n",
        "    img_size : int\n",
        "        Both height and the width of the image (it is a square).\n",
        "\n",
        "    patch_size : int\n",
        "        Both height and the width of the patch (it is a square).\n",
        "\n",
        "    in_chans : int\n",
        "        Number of input channels.\n",
        "\n",
        "    n_classes : int\n",
        "        Number of classes.\n",
        "\n",
        "    embed_dim : int\n",
        "        Dimensionality of the token embeddings\n",
        "    depth : int\n",
        "        Number of blocks.\n",
        "    n_heads : int\n",
        "        Number of attention heads.\n",
        "    mlp_ratio : float\n",
        "        Determines the hidden dimension of the MLP module\n",
        "    qkv_bias : bool\n",
        "        if True then we include bias to the query, key and value projections.\n",
        "    p, attn_p : float\n",
        "        Dropout probability\n",
        "\n",
        "    Attributes:\n",
        "    patch_embed : PatchEmbed\n",
        "        Instance of PatchEmbed Layer.\n",
        "    cls_token : nn.Parameter\n",
        "        Learnable parameter that will represent the first token in the sequence.\n",
        "        It has embed_dim elements.\n",
        "\n",
        "    pos_emb : nn.Parameter\n",
        "        Positional embedding of the cls token + all the patches.\n",
        "        It has (n_patches + 1) * embed_dim elements.\n",
        "\n",
        "    pos_drop : nn.Dropout\n",
        "        Dropout layer.\n",
        "\n",
        "    blocks : nn.ModuleList\n",
        "        List of Block modules.\n",
        "\n",
        "    norm : nn.LayerNorm\n",
        "        Layer Normalization\n",
        "    \"\"\"\n",
        "    def __init__(self,\n",
        "                 n_classes=18,\n",
        "                 embed_dim=512,\n",
        "                 n_frames=20,\n",
        "                 depth=4,\n",
        "                 n_heads=4,\n",
        "                 mlp_ratio=2.,\n",
        "                 qkv_bias=True,\n",
        "                 p=0.,\n",
        "                 attn_p=0.,\n",
        "                 ):\n",
        "        super(visionTransformer, self).__init__()\n",
        "        self.cls_token = nn.Parameter(torch.zeros(1, 1, embed_dim))\n",
        "        self.pos_embed = nn.Parameter(\n",
        "            torch.zeros(1, 1+ n_frames, embed_dim)\n",
        "        )\n",
        "        self.pos_drop = nn.Dropout(p=p)\n",
        "        self.blocks = nn.ModuleList(\n",
        "            [\n",
        "                Block(\n",
        "                    dim = embed_dim,\n",
        "                    n_heads=n_heads,\n",
        "                    mlp_ratio=mlp_ratio,\n",
        "                    qkv_bias=qkv_bias,\n",
        "                    p=p,\n",
        "                    attn_p=attn_p,\n",
        "                )\n",
        "                for _ in range(depth)\n",
        "            ]\n",
        "        )\n",
        "        self.norm = nn.LayerNorm(embed_dim, eps=1e-6)\n",
        "        self.head = nn.Linear(embed_dim, n_classes)\n",
        "\n",
        "    def forward(self, x):\n",
        "        \"\"\"\n",
        "        Run the forward pass.\n",
        "        :param self: x : torch.Tensor\n",
        "        Shape (n_samples, num_frames, features_size\n",
        "\n",
        "        :return:\n",
        "        logits : torch.Tensor\n",
        "            Logits over all the classes - (n_samples, n_classes)\n",
        "        \"\"\"\n",
        "        n_samples = x.shape[0]\n",
        "        #x = self.patch_embed(x)\n",
        "\n",
        "        cls_token = self.cls_token.expand(\n",
        "            n_samples, -1, -1\n",
        "        ) # (n_samples, 1, embed_dim)\n",
        "        x = torch.cat((cls_token, x), dim=1) # (n_samples, 1 + n_patches, embed_dim)\n",
        "\n",
        "        x = x + self.pos_embed # (n_samples, 1 + n_patches, embed_dim)\n",
        "        x = self.pos_drop(x)\n",
        "        for block in self.blocks:\n",
        "            x = block(x)\n",
        "        x = self.norm(x)\n",
        "\n",
        "        cls_token_final = x[:, 0] # just CLS token\n",
        "        #x = torch.nn.functional.softmax(self.head(cls_token_final), dim=1)\n",
        "        x = self.head(cls_token_final)\n",
        "\n",
        "        return x"
      ],
      "metadata": {
        "id": "_F9NcGnyKroI"
      },
      "execution_count": null,
      "outputs": []
    },
    {
      "cell_type": "code",
      "source": [
        "vt_model = visionTransformer(n_classes=17, )"
      ],
      "metadata": {
        "id": "iBUzWDa7V0KP"
      },
      "execution_count": null,
      "outputs": []
    },
    {
      "cell_type": "markdown",
      "source": [
        "## Save dataset\n",
        "---"
      ],
      "metadata": {
        "id": "e6pe036bkPYi"
      }
    },
    {
      "cell_type": "code",
      "source": [
        "features, labels = [], []\n",
        "i = 1\n",
        "\n",
        "for idx in range(0, len(trainList), 50):\n",
        "    features, labels = [], []\n",
        "\n",
        "    for fp in range(idx, idx+50):\n",
        "        # print(f\"[INFO] storing games {idx+1}-{idx+51}\")    \n",
        "\n",
        "        filepath = \"labels/\" + trainList[fp] + \"/\"\n",
        "        print(f\"[INFO] {fp+1}/500 games processed\")\n",
        "\n",
        "        [features_1, features_2, labels_1, labels_2] = getGameData(filepath, \n",
        "                                                        num_classes=17, \n",
        "                                                        event_mapping=GV.EVENT_DICTIONARY_V2)\n",
        "        if features_1 is None:\n",
        "            continue\n",
        "\n",
        "        features_1, _ = divideGame(features_1, labels_1)\n",
        "        features_2, _ = divideGame(features_2, labels_2)\n",
        "\n",
        "        pred_1 = model.predict_on_batch(features_1)\n",
        "        pred_2 = model.predict_on_batch(features_2)\n",
        "\n",
        "        windows_1 = getWindows(pred_1)\n",
        "        windows_2 = getWindows(pred_2)\n",
        "\n",
        "        features_1, labels_1 = divideGame(features_1, labels_1, binary=False)\n",
        "        features_2, labels_2 = divideGame(features_2, labels_2, binary=False)\n",
        "\n",
        "        [features_1, labels_1] = segmentActions(windows_1, features_1, labels_1)\n",
        "        [features_2, labels_2] = segmentActions(windows_2, features_2, labels_2)\n",
        "\n",
        "        if features_1 is None or len(features_1.shape) != 3 or \\\n",
        "            features_2 is None or len(features_2.shape) != 3:\n",
        "            continue\n",
        "\n",
        "        if len(features) != 0:\n",
        "            features = np.concatenate((features, features_1, features_2), axis=0)\n",
        "            labels = np.concatenate((labels, labels_1, labels_2), axis=0)\n",
        "        else:\n",
        "            features = np.concatenate((features_1, features_2), axis=0)\n",
        "            labels = np.concatenate((labels_1, labels_2), axis=0)\n",
        "\n",
        "    with open(\"dataset/train_\" + str(i) +\"_features.npy\", \"wb\") as f:\n",
        "        np.save(f, features)\n",
        "\n",
        "    with open(\"dataset/train_\" + str(i) + \"_labels.npy\", \"wb\") as f:\n",
        "        np.save(f, labels)\n",
        "    \n",
        "    i += 1"
      ],
      "metadata": {
        "id": "gsucVFJZkOti"
      },
      "execution_count": null,
      "outputs": []
    },
    {
      "cell_type": "code",
      "source": [
        "def getPrePostFrames(peak, features):\n",
        "    pre, post = [], []\n",
        "    start = peak - 10\n",
        "    end = peak - 1\n",
        "    try:\n",
        "        arr = [np.array(features[f]) for f in range(start, end+1)]\n",
        "        pre.extend(arr)\n",
        "    except:\n",
        "        arr = [np.array(features[f]) for f in range(0, 11)]\n",
        "        pre.extend(arr)\n",
        "    \n",
        "    start = peak + 1\n",
        "    end = peak + 10\n",
        "    try:\n",
        "        arr = [np.array(features[f]) for f in range(start, end+1)]\n",
        "        post.extend(arr)\n",
        "    except:\n",
        "        arr = [np.array(features[f]) for f in range(len(features)-10, len(features))]\n",
        "        post.extend(arr)\n",
        "\n",
        "    return (pre, post)"
      ],
      "metadata": {
        "id": "gFkrBvIg9Pdr"
      },
      "execution_count": 7,
      "outputs": []
    },
    {
      "cell_type": "code",
      "source": [
        "pre_5_features, post_5_features, lab_5 = [], [], []\n",
        "pre_6_features, post_6_features, lab_6 = [], [], []\n",
        "\n",
        "i=1\n",
        "\n",
        "for game in trainList:\n",
        "    filepath = \"labels/\" + game + \"/\"\n",
        "    print(f\"[INFO] {i}/400 games processed\")\n",
        "    i+=1\n",
        "\n",
        "    [features_1, features_2, labels_1, labels_2] = getGameData(filepath, \n",
        "                                                    num_classes=17, \n",
        "                                                    event_mapping=GV.EVENT_DICTIONARY_V2)\n",
        "    if features_1 is None or features_2 is None:\n",
        "        continue\n",
        "    \n",
        "    for (f_, l_) in zip([features_1, features_2], [labels_1, labels_2]):\n",
        "        for (idx, l) in enumerate(l_):\n",
        "            if l[10] or l[11] or l[12]:\n",
        "                pre, post = getPrePostFrames(idx, f_)\n",
        "                pre_6_features.append(pre)\n",
        "                post_6_features.append(post)\n",
        "                lab_6.append([l[10], l[11], l[12]])\n"
      ],
      "metadata": {
        "colab": {
          "base_uri": "https://localhost:8080/"
        },
        "id": "J-n-F1Cb8y8B",
        "outputId": "041b8764-c7a6-4642-9697-7700fd46fa01"
      },
      "execution_count": 8,
      "outputs": [
        {
          "output_type": "stream",
          "name": "stdout",
          "text": [
            "[INFO] 1/400 games processed\n",
            "[INFO] 2/400 games processed\n",
            "[INFO] 3/400 games processed\n",
            "[INFO] 4/400 games processed\n",
            "[INFO] 5/400 games processed\n",
            "[INFO] 6/400 games processed\n",
            "[INFO] 7/400 games processed\n",
            "[INFO] 8/400 games processed\n",
            "[INFO] 9/400 games processed\n",
            "[INFO] 10/400 games processed\n",
            "[INFO] 11/400 games processed\n",
            "[INFO] 12/400 games processed\n",
            "[INFO] 13/400 games processed\n",
            "[INFO] 14/400 games processed\n",
            "[INFO] 15/400 games processed\n",
            "[INFO] 16/400 games processed\n",
            "[INFO] 17/400 games processed\n",
            "[INFO] 18/400 games processed\n",
            "[INFO] 19/400 games processed\n",
            "[INFO] 20/400 games processed\n",
            "[INFO] 21/400 games processed\n",
            "[INFO] 22/400 games processed\n",
            "[INFO] 23/400 games processed\n",
            "[INFO] 24/400 games processed\n",
            "[INFO] 25/400 games processed\n",
            "[INFO] 26/400 games processed\n",
            "[INFO] 27/400 games processed\n",
            "[INFO] 28/400 games processed\n",
            "[INFO] 29/400 games processed\n",
            "[INFO] 30/400 games processed\n",
            "[INFO] 31/400 games processed\n",
            "[INFO] 32/400 games processed\n",
            "[INFO] 33/400 games processed\n",
            "[INFO] 34/400 games processed\n",
            "[INFO] 35/400 games processed\n",
            "[INFO] 36/400 games processed\n",
            "[INFO] 37/400 games processed\n",
            "[INFO] 38/400 games processed\n",
            "[INFO] 39/400 games processed\n",
            "[INFO] 40/400 games processed\n",
            "[INFO] 41/400 games processed\n",
            "[INFO] 42/400 games processed\n",
            "[INFO] 43/400 games processed\n",
            "[INFO] 44/400 games processed\n",
            "[INFO] 45/400 games processed\n",
            "[INFO] 46/400 games processed\n",
            "[INFO] 47/400 games processed\n",
            "[INFO] 48/400 games processed\n",
            "[INFO] 49/400 games processed\n",
            "[INFO] 50/400 games processed\n",
            "[INFO] 51/400 games processed\n",
            "[INFO] 52/400 games processed\n",
            "[INFO] 53/400 games processed\n",
            "[INFO] 54/400 games processed\n",
            "[INFO] 55/400 games processed\n",
            "[INFO] 56/400 games processed\n",
            "[INFO] 57/400 games processed\n",
            "[INFO] 58/400 games processed\n",
            "[INFO] 59/400 games processed\n",
            "[INFO] 60/400 games processed\n",
            "[INFO] 61/400 games processed\n",
            "[INFO] 62/400 games processed\n",
            "[INFO] 63/400 games processed\n",
            "[INFO] 64/400 games processed\n",
            "[INFO] 65/400 games processed\n",
            "[INFO] 66/400 games processed\n",
            "[INFO] 67/400 games processed\n",
            "[INFO] 68/400 games processed\n",
            "[INFO] 69/400 games processed\n",
            "[INFO] 70/400 games processed\n",
            "[INFO] 71/400 games processed\n",
            "[INFO] 72/400 games processed\n",
            "[INFO] 73/400 games processed\n",
            "[INFO] 74/400 games processed\n",
            "[INFO] 75/400 games processed\n",
            "[INFO] 76/400 games processed\n",
            "[INFO] 77/400 games processed\n",
            "[INFO] 78/400 games processed\n",
            "[INFO] 79/400 games processed\n",
            "[INFO] 80/400 games processed\n",
            "[INFO] 81/400 games processed\n",
            "[INFO] 82/400 games processed\n",
            "[INFO] 83/400 games processed\n",
            "[INFO] 84/400 games processed\n",
            "[INFO] 85/400 games processed\n",
            "[INFO] 86/400 games processed\n",
            "[INFO] 87/400 games processed\n",
            "[INFO] 88/400 games processed\n",
            "[INFO] 89/400 games processed\n",
            "[INFO] 90/400 games processed\n",
            "[INFO] 91/400 games processed\n",
            "[INFO] 92/400 games processed\n",
            "[INFO] 93/400 games processed\n",
            "[INFO] 94/400 games processed\n",
            "[INFO] 95/400 games processed\n",
            "[INFO] 96/400 games processed\n",
            "[INFO] 97/400 games processed\n",
            "[INFO] 98/400 games processed\n",
            "[INFO] 99/400 games processed\n",
            "[INFO] 100/400 games processed\n",
            "[INFO] 101/400 games processed\n",
            "[INFO] 102/400 games processed\n",
            "[INFO] 103/400 games processed\n",
            "[INFO] 104/400 games processed\n",
            "[INFO] 105/400 games processed\n",
            "[INFO] 106/400 games processed\n",
            "[INFO] 107/400 games processed\n",
            "[INFO] 108/400 games processed\n",
            "[INFO] 109/400 games processed\n",
            "[INFO] 110/400 games processed\n",
            "[INFO] 111/400 games processed\n",
            "[INFO] 112/400 games processed\n",
            "[INFO] 113/400 games processed\n",
            "[INFO] 114/400 games processed\n",
            "[INFO] 115/400 games processed\n",
            "[INFO] 116/400 games processed\n",
            "[INFO] 117/400 games processed\n",
            "[INFO] 118/400 games processed\n",
            "[INFO] 119/400 games processed\n",
            "[INFO] 120/400 games processed\n",
            "[INFO] 121/400 games processed\n",
            "[INFO] 122/400 games processed\n",
            "[INFO] 123/400 games processed\n",
            "[INFO] 124/400 games processed\n",
            "[INFO] 125/400 games processed\n",
            "[INFO] 126/400 games processed\n",
            "[INFO] 127/400 games processed\n",
            "[INFO] 128/400 games processed\n",
            "[INFO] 129/400 games processed\n",
            "[INFO] 130/400 games processed\n",
            "[INFO] 131/400 games processed\n",
            "[INFO] 132/400 games processed\n",
            "[INFO] 133/400 games processed\n",
            "[INFO] 134/400 games processed\n",
            "[INFO] 135/400 games processed\n",
            "[INFO] 136/400 games processed\n",
            "[INFO] 137/400 games processed\n",
            "[INFO] 138/400 games processed\n",
            "[INFO] 139/400 games processed\n",
            "[INFO] 140/400 games processed\n",
            "[INFO] 141/400 games processed\n",
            "[INFO] 142/400 games processed\n",
            "[INFO] 143/400 games processed\n",
            "[INFO] 144/400 games processed\n",
            "[INFO] 145/400 games processed\n",
            "[INFO] 146/400 games processed\n",
            "[INFO] 147/400 games processed\n",
            "[INFO] 148/400 games processed\n",
            "[INFO] 149/400 games processed\n",
            "[INFO] 150/400 games processed\n",
            "[INFO] 151/400 games processed\n",
            "[INFO] 152/400 games processed\n",
            "[INFO] 153/400 games processed\n",
            "[INFO] 154/400 games processed\n",
            "[INFO] 155/400 games processed\n",
            "[INFO] 156/400 games processed\n",
            "[INFO] 157/400 games processed\n",
            "[INFO] 158/400 games processed\n",
            "[INFO] 159/400 games processed\n",
            "[INFO] 160/400 games processed\n",
            "[INFO] 161/400 games processed\n",
            "[INFO] 162/400 games processed\n",
            "[INFO] 163/400 games processed\n",
            "[INFO] 164/400 games processed\n",
            "[INFO] 165/400 games processed\n",
            "[INFO] 166/400 games processed\n",
            "[INFO] 167/400 games processed\n",
            "[INFO] 168/400 games processed\n",
            "[INFO] 169/400 games processed\n",
            "[INFO] 170/400 games processed\n",
            "[INFO] 171/400 games processed\n",
            "[INFO] 172/400 games processed\n",
            "[INFO] 173/400 games processed\n",
            "[INFO] 174/400 games processed\n",
            "[INFO] 175/400 games processed\n",
            "[INFO] 176/400 games processed\n",
            "[INFO] 177/400 games processed\n",
            "[INFO] 178/400 games processed\n",
            "[INFO] 179/400 games processed\n",
            "[INFO] 180/400 games processed\n",
            "[INFO] 181/400 games processed\n",
            "[INFO] 182/400 games processed\n",
            "[INFO] 183/400 games processed\n",
            "[INFO] 184/400 games processed\n",
            "[INFO] 185/400 games processed\n",
            "[INFO] 186/400 games processed\n",
            "[INFO] 187/400 games processed\n",
            "[INFO] 188/400 games processed\n",
            "[INFO] 189/400 games processed\n",
            "[INFO] 190/400 games processed\n",
            "[INFO] 191/400 games processed\n",
            "[INFO] 192/400 games processed\n",
            "[INFO] 193/400 games processed\n",
            "[INFO] 194/400 games processed\n",
            "[INFO] 195/400 games processed\n",
            "[INFO] 196/400 games processed\n",
            "[INFO] 197/400 games processed\n",
            "[INFO] 198/400 games processed\n",
            "[INFO] 199/400 games processed\n",
            "[INFO] 200/400 games processed\n",
            "[INFO] 201/400 games processed\n",
            "[INFO] 202/400 games processed\n",
            "[INFO] 203/400 games processed\n",
            "[INFO] 204/400 games processed\n",
            "[INFO] 205/400 games processed\n",
            "[INFO] 206/400 games processed\n",
            "[INFO] 207/400 games processed\n",
            "[INFO] 208/400 games processed\n",
            "[INFO] 209/400 games processed\n",
            "[INFO] 210/400 games processed\n",
            "[INFO] 211/400 games processed\n",
            "[INFO] 212/400 games processed\n",
            "[INFO] 213/400 games processed\n",
            "[INFO] 214/400 games processed\n",
            "[INFO] 215/400 games processed\n",
            "[INFO] 216/400 games processed\n",
            "[INFO] 217/400 games processed\n",
            "[INFO] 218/400 games processed\n",
            "[INFO] 219/400 games processed\n",
            "[INFO] 220/400 games processed\n",
            "[INFO] 221/400 games processed\n",
            "[INFO] 222/400 games processed\n",
            "[INFO] 223/400 games processed\n",
            "[INFO] 224/400 games processed\n",
            "[INFO] 225/400 games processed\n",
            "[INFO] 226/400 games processed\n",
            "[INFO] 227/400 games processed\n",
            "[INFO] 228/400 games processed\n",
            "[INFO] 229/400 games processed\n",
            "[INFO] 230/400 games processed\n",
            "[INFO] 231/400 games processed\n",
            "[INFO] 232/400 games processed\n",
            "[INFO] 233/400 games processed\n",
            "[INFO] 234/400 games processed\n",
            "[INFO] 235/400 games processed\n",
            "[INFO] 236/400 games processed\n",
            "[INFO] 237/400 games processed\n",
            "[INFO] 238/400 games processed\n",
            "[INFO] 239/400 games processed\n",
            "[INFO] 240/400 games processed\n",
            "[INFO] 241/400 games processed\n",
            "[INFO] 242/400 games processed\n",
            "[INFO] 243/400 games processed\n",
            "[INFO] 244/400 games processed\n",
            "[INFO] 245/400 games processed\n",
            "[INFO] 246/400 games processed\n",
            "[INFO] 247/400 games processed\n",
            "[INFO] 248/400 games processed\n",
            "[INFO] 249/400 games processed\n",
            "[INFO] 250/400 games processed\n",
            "[INFO] 251/400 games processed\n",
            "[INFO] 252/400 games processed\n",
            "[INFO] 253/400 games processed\n",
            "[INFO] 254/400 games processed\n",
            "[INFO] 255/400 games processed\n",
            "[INFO] 256/400 games processed\n",
            "[INFO] 257/400 games processed\n",
            "[INFO] 258/400 games processed\n",
            "[INFO] 259/400 games processed\n",
            "[INFO] 260/400 games processed\n",
            "[INFO] 261/400 games processed\n",
            "[INFO] 262/400 games processed\n",
            "[INFO] 263/400 games processed\n",
            "[INFO] 264/400 games processed\n",
            "[INFO] 265/400 games processed\n",
            "[INFO] 266/400 games processed\n",
            "[INFO] 267/400 games processed\n",
            "[INFO] 268/400 games processed\n",
            "[INFO] 269/400 games processed\n",
            "[INFO] 270/400 games processed\n",
            "[INFO] 271/400 games processed\n",
            "[INFO] 272/400 games processed\n",
            "[INFO] 273/400 games processed\n",
            "[INFO] 274/400 games processed\n",
            "[INFO] 275/400 games processed\n",
            "[INFO] 276/400 games processed\n",
            "[INFO] 277/400 games processed\n",
            "[INFO] 278/400 games processed\n",
            "[INFO] 279/400 games processed\n",
            "[INFO] 280/400 games processed\n",
            "[INFO] 281/400 games processed\n",
            "[INFO] 282/400 games processed\n",
            "[INFO] 283/400 games processed\n",
            "[INFO] 284/400 games processed\n",
            "[INFO] 285/400 games processed\n",
            "[INFO] 286/400 games processed\n",
            "[INFO] 287/400 games processed\n",
            "[INFO] 288/400 games processed\n",
            "[INFO] 289/400 games processed\n",
            "[INFO] 290/400 games processed\n",
            "[INFO] 291/400 games processed\n",
            "[INFO] 292/400 games processed\n",
            "[INFO] 293/400 games processed\n",
            "[INFO] 294/400 games processed\n",
            "[INFO] 295/400 games processed\n",
            "[INFO] 296/400 games processed\n",
            "[INFO] 297/400 games processed\n",
            "[INFO] 298/400 games processed\n",
            "[INFO] 299/400 games processed\n",
            "[INFO] 300/400 games processed\n",
            "[INFO] 301/400 games processed\n",
            "[INFO] 302/400 games processed\n",
            "[INFO] 303/400 games processed\n",
            "[INFO] 304/400 games processed\n",
            "[INFO] 305/400 games processed\n",
            "[INFO] 306/400 games processed\n",
            "[INFO] 307/400 games processed\n",
            "[INFO] 308/400 games processed\n",
            "[INFO] 309/400 games processed\n",
            "[INFO] 310/400 games processed\n",
            "[INFO] 311/400 games processed\n",
            "[INFO] 312/400 games processed\n",
            "[INFO] 313/400 games processed\n",
            "[INFO] 314/400 games processed\n",
            "[INFO] 315/400 games processed\n",
            "[INFO] 316/400 games processed\n",
            "[INFO] 317/400 games processed\n",
            "[INFO] 318/400 games processed\n",
            "[INFO] 319/400 games processed\n",
            "[INFO] 320/400 games processed\n",
            "[INFO] 321/400 games processed\n",
            "[INFO] 322/400 games processed\n",
            "[INFO] 323/400 games processed\n",
            "[INFO] 324/400 games processed\n",
            "[INFO] 325/400 games processed\n",
            "[INFO] 326/400 games processed\n",
            "[INFO] 327/400 games processed\n",
            "[INFO] 328/400 games processed\n",
            "[INFO] 329/400 games processed\n",
            "[INFO] 330/400 games processed\n",
            "[INFO] 331/400 games processed\n",
            "[INFO] 332/400 games processed\n",
            "[INFO] 333/400 games processed\n",
            "[INFO] 334/400 games processed\n",
            "[INFO] 335/400 games processed\n",
            "[INFO] 336/400 games processed\n",
            "[INFO] 337/400 games processed\n",
            "[INFO] 338/400 games processed\n",
            "[INFO] 339/400 games processed\n",
            "[INFO] 340/400 games processed\n",
            "[INFO] 341/400 games processed\n",
            "[INFO] 342/400 games processed\n",
            "[INFO] 343/400 games processed\n",
            "[INFO] 344/400 games processed\n",
            "[INFO] 345/400 games processed\n",
            "[INFO] 346/400 games processed\n",
            "[INFO] 347/400 games processed\n",
            "[INFO] 348/400 games processed\n",
            "[INFO] 349/400 games processed\n",
            "[INFO] 350/400 games processed\n",
            "[INFO] 351/400 games processed\n",
            "[INFO] 352/400 games processed\n",
            "[INFO] 353/400 games processed\n",
            "[INFO] 354/400 games processed\n",
            "[INFO] 355/400 games processed\n",
            "[INFO] 356/400 games processed\n",
            "[INFO] 357/400 games processed\n",
            "[INFO] 358/400 games processed\n",
            "[INFO] 359/400 games processed\n",
            "[INFO] 360/400 games processed\n",
            "[INFO] 361/400 games processed\n",
            "[INFO] 362/400 games processed\n",
            "[INFO] 363/400 games processed\n",
            "[INFO] 364/400 games processed\n",
            "[INFO] 365/400 games processed\n",
            "[INFO] 366/400 games processed\n",
            "[INFO] 367/400 games processed\n",
            "[INFO] 368/400 games processed\n",
            "[INFO] 369/400 games processed\n",
            "[INFO] 370/400 games processed\n",
            "[INFO] 371/400 games processed\n",
            "[INFO] 372/400 games processed\n",
            "[INFO] 373/400 games processed\n",
            "[INFO] 374/400 games processed\n",
            "[INFO] 375/400 games processed\n",
            "[INFO] 376/400 games processed\n",
            "[INFO] 377/400 games processed\n",
            "[INFO] 378/400 games processed\n",
            "[INFO] 379/400 games processed\n",
            "[INFO] 380/400 games processed\n",
            "[INFO] 381/400 games processed\n",
            "[INFO] 382/400 games processed\n",
            "[INFO] 383/400 games processed\n",
            "[INFO] 384/400 games processed\n",
            "[INFO] 385/400 games processed\n",
            "[INFO] 386/400 games processed\n",
            "[INFO] 387/400 games processed\n",
            "[INFO] 388/400 games processed\n",
            "[INFO] 389/400 games processed\n",
            "[INFO] 390/400 games processed\n",
            "[INFO] 391/400 games processed\n",
            "[INFO] 392/400 games processed\n",
            "[INFO] 393/400 games processed\n",
            "[INFO] 394/400 games processed\n",
            "[INFO] 395/400 games processed\n",
            "[INFO] 396/400 games processed\n",
            "[INFO] 397/400 games processed\n",
            "[INFO] 398/400 games processed\n",
            "[INFO] 399/400 games processed\n",
            "[INFO] 400/400 games processed\n"
          ]
        }
      ]
    },
    {
      "cell_type": "code",
      "source": [
        "print(np.array(pre_6_features).shape, np.array(post_6_features).shape, np.array(lab_6).shape)"
      ],
      "metadata": {
        "colab": {
          "base_uri": "https://localhost:8080/"
        },
        "id": "TcFOaNI5-3-B",
        "outputId": "6733337a-a9d5-48f8-d30c-b69d95e47e59"
      },
      "execution_count": 9,
      "outputs": [
        {
          "output_type": "stream",
          "name": "stdout",
          "text": [
            "(19286, 10, 8576) (19286, 10, 8576) (19286, 3)\n"
          ]
        }
      ]
    },
    {
      "cell_type": "code",
      "source": [
        "with open(\"dataset/pre_6_features.npy\", \"wb\") as f:\n",
        "    np.save(f, pre_6_features)"
      ],
      "metadata": {
        "id": "HmvgRjt2_MZl"
      },
      "execution_count": 10,
      "outputs": []
    },
    {
      "cell_type": "code",
      "source": [
        "with open(\"dataset/post_6_features.npy\", \"wb\") as f:\n",
        "    np.save(f, post_6_features)"
      ],
      "metadata": {
        "id": "0jZ8Wqv0_Wd6"
      },
      "execution_count": 11,
      "outputs": []
    },
    {
      "cell_type": "code",
      "source": [
        "with open(\"dataset/lab_6.npy\", \"wb\") as f:\n",
        "    np.save(f, lab_6)"
      ],
      "metadata": {
        "id": "5-NTwowK_W7g"
      },
      "execution_count": 12,
      "outputs": []
    },
    {
      "cell_type": "markdown",
      "source": [
        "## Subclass Training\n",
        "---"
      ],
      "metadata": {
        "id": "biMNgpaVYAPt"
      }
    },
    {
      "cell_type": "code",
      "source": [
        "# import\n",
        "from tensorflow.keras.layers import (\n",
        "\tDense,\n",
        "    Flatten,\n",
        "    Dropout,\n",
        "    LSTM,\n",
        "    GRU,\n",
        "    Bidirectional\n",
        ")\n",
        "from tensorflow.keras.models import Model, Sequential\n",
        "from tensorflow.keras import Input\n",
        "\n",
        "class ActionClassifier:\n",
        "\n",
        "    @staticmethod\n",
        "    def build(timesteps=15, dim=8576, classes=17):\n",
        "        model = Sequential()\n",
        "        model.add(Bidirectional(GRU(64, return_sequences=True),\n",
        "                                input_shape=(timesteps, dim),\n",
        "                                merge_mode='sum'))\n",
        "        # model.add(Dropout(0.3))\n",
        "        model.add(Bidirectional(GRU(64), merge_mode='sum'))\n",
        "        # model.add(Dropout(0.2))\n",
        "        model.add(Flatten())\n",
        "\n",
        "        # model.add(Dense(64, activation=\"relu\"))\n",
        "        # model.add(Dense(64, activation=\"relu\"))\n",
        "        # model.add(Dropout(0.3))\n",
        "\n",
        "        # Add a Dense layer.\n",
        "        model.add(Dense(classes, activation=\"softmax\"))\n",
        "\n",
        "        return model\n",
        "\n",
        "METRICS = [\n",
        "      keras.metrics.TruePositives(name='tp'),\n",
        "      keras.metrics.FalsePositives(name='fp'),\n",
        "      keras.metrics.TrueNegatives(name='tn'),\n",
        "      keras.metrics.FalseNegatives(name='fn'), \n",
        "      keras.metrics.BinaryAccuracy(name='accuracy'),\n",
        "      keras.metrics.Precision(name='precision'),\n",
        "      keras.metrics.Recall(name='recall'),\n",
        "      keras.metrics.AUC(name='auc'),\n",
        "      keras.metrics.AUC(name='prc', curve='PR'), # precision-recall curve\n",
        "]\n",
        "\n",
        "from tensorflow.keras.optimizers import Adam\n",
        "from tensorflow.keras.losses import CategoricalCrossentropy\n",
        "\n",
        "opt = Adam(learning_rate=1e-3)\n",
        "loss = CategoricalCrossentropy()\n",
        "rnn_model = ActionClassifier.build(timesteps=5, classes=3)\n",
        "rnn_model.compile(loss=loss, optimizer=opt,\n",
        "    metrics=METRICS)\n",
        "\n",
        "rnn_model.summary()"
      ],
      "metadata": {
        "colab": {
          "base_uri": "https://localhost:8080/"
        },
        "id": "aiSaCp-8FmkD",
        "outputId": "cc1b5b6e-198e-487b-d035-d3a18842483e"
      },
      "execution_count": 4,
      "outputs": [
        {
          "output_type": "stream",
          "name": "stdout",
          "text": [
            "Model: \"sequential\"\n",
            "_________________________________________________________________\n",
            " Layer (type)                Output Shape              Param #   \n",
            "=================================================================\n",
            " bidirectional (Bidirectiona  (None, 5, 64)            3318528   \n",
            " l)                                                              \n",
            "                                                                 \n",
            " bidirectional_1 (Bidirectio  (None, 64)               49920     \n",
            " nal)                                                            \n",
            "                                                                 \n",
            " flatten (Flatten)           (None, 64)                0         \n",
            "                                                                 \n",
            " dense (Dense)               (None, 3)                 195       \n",
            "                                                                 \n",
            "=================================================================\n",
            "Total params: 3,368,643\n",
            "Trainable params: 3,368,643\n",
            "Non-trainable params: 0\n",
            "_________________________________________________________________\n"
          ]
        }
      ]
    },
    {
      "cell_type": "code",
      "source": [
        "def getClassWeights(labels):\n",
        "    n_samples = len(labels)\n",
        "    n_classes = len(labels[0])\n",
        "\n",
        "    # Count each class frequency\n",
        "    class_count = [0] * n_classes\n",
        "    for classes in labels:\n",
        "        for index in range(n_classes):\n",
        "            if classes[index] != 0:\n",
        "                class_count[index] += 1\n",
        "\n",
        "    # Compute class weights using balanced method\n",
        "    class_weights = [n_samples / (n_classes * freq) if freq > 0 else 1 for freq in class_count]\n",
        "    class_labels = range(len(class_weights))\n",
        "    return dict(zip(class_labels, class_weights))"
      ],
      "metadata": {
        "id": "Zon9oBr3nA0S"
      },
      "execution_count": 5,
      "outputs": []
    },
    {
      "cell_type": "code",
      "source": [
        "# load features and labels\n",
        "# pre_features = np.load(\"dataset/pre_5_features.npy\")\n",
        "post_features = np.load(\"dataset/post_5_features.npy\")\n",
        "labels = np.load(\"dataset/lab_5.npy\")"
      ],
      "metadata": {
        "id": "f65B51BiX_Hm"
      },
      "execution_count": 6,
      "outputs": []
    },
    {
      "cell_type": "code",
      "source": [
        "pre_features.shape"
      ],
      "metadata": {
        "colab": {
          "base_uri": "https://localhost:8080/"
        },
        "id": "rIZG9xhgtOOT",
        "outputId": "00a7aad9-e9a6-4aa7-e4b3-15ac2571ec33"
      },
      "execution_count": 7,
      "outputs": [
        {
          "output_type": "execute_result",
          "data": {
            "text/plain": [
              "(19286, 10, 8576)"
            ]
          },
          "metadata": {},
          "execution_count": 7
        }
      ]
    },
    {
      "cell_type": "code",
      "source": [
        "pre_features = pre_features[:, 5:, :]\n",
        "pre_features.shape"
      ],
      "metadata": {
        "colab": {
          "base_uri": "https://localhost:8080/"
        },
        "id": "TwiGW0qqtHJ0",
        "outputId": "75b89950-2c17-4043-8e4a-241ad0bddcde"
      },
      "execution_count": 7,
      "outputs": [
        {
          "output_type": "execute_result",
          "data": {
            "text/plain": [
              "(46696, 5, 8576)"
            ]
          },
          "metadata": {},
          "execution_count": 7
        }
      ]
    },
    {
      "cell_type": "code",
      "source": [
        "post_features = post_features[:, :5, :]\n",
        "post_features.shape"
      ],
      "metadata": {
        "colab": {
          "base_uri": "https://localhost:8080/"
        },
        "id": "7G2YayadyCWP",
        "outputId": "8d57fb7b-06bc-4f5f-e633-683e6334d0a4"
      },
      "execution_count": 7,
      "outputs": [
        {
          "output_type": "execute_result",
          "data": {
            "text/plain": [
              "(46696, 5, 8576)"
            ]
          },
          "metadata": {},
          "execution_count": 7
        }
      ]
    },
    {
      "cell_type": "code",
      "source": [
        "# post_features = post_features[35022:]\n",
        "# labels = labels[35022:]"
      ],
      "metadata": {
        "id": "g0d5ABcLlyvx"
      },
      "execution_count": 12,
      "outputs": []
    },
    {
      "cell_type": "code",
      "source": [
        "partition = int(len(post_features) * 0.8)\n",
        "print(partition)"
      ],
      "metadata": {
        "colab": {
          "base_uri": "https://localhost:8080/"
        },
        "id": "Z6nImao_dbbm",
        "outputId": "e26af7ad-e78f-42f7-fa0e-62d27aa7dc19"
      },
      "execution_count": 8,
      "outputs": [
        {
          "output_type": "stream",
          "name": "stdout",
          "text": [
            "37356\n"
          ]
        }
      ]
    },
    {
      "cell_type": "code",
      "source": [
        "# rnn_model = tensorflow.keras.models.load_model(\"models/post_5_classifier\")"
      ],
      "metadata": {
        "id": "P9xM60wApOqn"
      },
      "execution_count": null,
      "outputs": []
    },
    {
      "cell_type": "code",
      "source": [
        "# train_df = tensorflow.data.Dataset.from_tensor_slices((pre_features[:partition], labels[:partition]))\n",
        "# train_df = train_df.cache().shuffle(200).batch(16).prefetch(tensorflow.data.experimental.AUTOTUNE)\n",
        "\n",
        "# val_df = tensorflow.data.Dataset.from_tensor_slices((pre_features[partition:], labels[partition:]))\n",
        "# val_df = val_df.cache().shuffle(200).batch(16).prefetch(tensorflow.data.experimental.AUTOTUNE)\n",
        "\n",
        "train_df = tensorflow.data.Dataset.from_tensor_slices((post_features[:partition], labels[:partition]))\n",
        "train_df = train_df.cache().shuffle(200).batch(32).prefetch(tensorflow.data.experimental.AUTOTUNE)\n",
        "\n",
        "val_df = tensorflow.data.Dataset.from_tensor_slices((post_features[partition:], labels[partition:]))\n",
        "val_df = val_df.cache().shuffle(200).batch(32).prefetch(tensorflow.data.experimental.AUTOTUNE)"
      ],
      "metadata": {
        "id": "ro8JrLBGYe3o"
      },
      "execution_count": 9,
      "outputs": []
    },
    {
      "cell_type": "code",
      "source": [
        "acc, loss, val_acc, val_loss = [], [], [], []"
      ],
      "metadata": {
        "id": "_38m_cjcneEW"
      },
      "execution_count": 10,
      "outputs": []
    },
    {
      "cell_type": "code",
      "source": [
        "H = rnn_model.fit(train_df,\n",
        "                  epochs=1,\n",
        "                  validation_data=val_df,\n",
        "                  class_weight = getClassWeights(labels))"
      ],
      "metadata": {
        "colab": {
          "base_uri": "https://localhost:8080/"
        },
        "id": "Xl_Wk2l0Yg6h",
        "outputId": "d9dc4bd0-e2e1-4015-94c1-883baf2279d9"
      },
      "execution_count": 17,
      "outputs": [
        {
          "output_type": "stream",
          "name": "stdout",
          "text": [
            "1168/1168 [==============================] - 176s 151ms/step - loss: 0.0901 - tp: 36268.0000 - fp: 984.0000 - tn: 73713.0000 - fn: 1103.0000 - accuracy: 0.9814 - precision: 0.9736 - recall: 0.9705 - auc: 0.9967 - prc: 0.9939 - val_loss: 0.1688 - val_tp: 8823.0000 - val_fp: 464.0000 - val_tn: 18214.0000 - val_fn: 519.0000 - val_accuracy: 0.9649 - val_precision: 0.9500 - val_recall: 0.9444 - val_auc: 0.9906 - val_prc: 0.9828\n"
          ]
        }
      ]
    },
    {
      "cell_type": "code",
      "source": [
        "acc.extend(H.history[\"accuracy\"])\n",
        "val_acc.extend(H.history[\"val_accuracy\"])\n",
        "loss.extend(H.history[\"loss\"])\n",
        "val_loss.extend(H.history[\"val_loss\"])"
      ],
      "metadata": {
        "id": "_ilcQTZBniFH"
      },
      "execution_count": 16,
      "outputs": []
    },
    {
      "cell_type": "code",
      "source": [
        "rnn_model.save(\"models/post_5_classifier\")"
      ],
      "metadata": {
        "colab": {
          "base_uri": "https://localhost:8080/"
        },
        "id": "FYSQCRdrbIZl",
        "outputId": "c5f36a01-fab2-49c7-d563-dffaf32150f9"
      },
      "execution_count": 16,
      "outputs": [
        {
          "output_type": "stream",
          "name": "stderr",
          "text": [
            "WARNING:absl:Found untraced functions such as gru_cell_1_layer_call_fn, gru_cell_1_layer_call_and_return_conditional_losses, gru_cell_2_layer_call_fn, gru_cell_2_layer_call_and_return_conditional_losses, gru_cell_4_layer_call_fn while saving (showing 5 of 8). These functions will not be directly callable after loading.\n"
          ]
        },
        {
          "output_type": "stream",
          "name": "stdout",
          "text": [
            "INFO:tensorflow:Assets written to: models/post_5_classifier/assets\n"
          ]
        },
        {
          "output_type": "stream",
          "name": "stderr",
          "text": [
            "INFO:tensorflow:Assets written to: models/post_5_classifier/assets\n",
            "WARNING:absl:<keras.layers.recurrent.GRUCell object at 0x7fd5402d1410> has the same name 'GRUCell' as a built-in Keras object. Consider renaming <class 'keras.layers.recurrent.GRUCell'> to avoid naming conflicts when loading with `tf.keras.models.load_model`. If renaming is not possible, pass the object in the `custom_objects` parameter of the load function.\n",
            "WARNING:absl:<keras.layers.recurrent.GRUCell object at 0x7fd5402d1cd0> has the same name 'GRUCell' as a built-in Keras object. Consider renaming <class 'keras.layers.recurrent.GRUCell'> to avoid naming conflicts when loading with `tf.keras.models.load_model`. If renaming is not possible, pass the object in the `custom_objects` parameter of the load function.\n",
            "WARNING:absl:<keras.layers.recurrent.GRUCell object at 0x7fd54028c750> has the same name 'GRUCell' as a built-in Keras object. Consider renaming <class 'keras.layers.recurrent.GRUCell'> to avoid naming conflicts when loading with `tf.keras.models.load_model`. If renaming is not possible, pass the object in the `custom_objects` parameter of the load function.\n",
            "WARNING:absl:<keras.layers.recurrent.GRUCell object at 0x7fd5400d0d10> has the same name 'GRUCell' as a built-in Keras object. Consider renaming <class 'keras.layers.recurrent.GRUCell'> to avoid naming conflicts when loading with `tf.keras.models.load_model`. If renaming is not possible, pass the object in the `custom_objects` parameter of the load function.\n"
          ]
        }
      ]
    },
    {
      "cell_type": "code",
      "source": [
        "# plot accuracy\n",
        "plt.style.use(\"ggplot\")\n",
        "plt.figure()\n",
        "plt.plot(acc, label=\"acc\")\n",
        "plt.plot(val_acc, label=\"val_acc\")\n",
        "plt.title(\"Training and Validation Accuracy\")\n",
        "plt.xlabel(\"Epochs\")\n",
        "plt.ylabel(\"Accuracy\")\n",
        "plt.legend(loc=\"upper left\")"
      ],
      "metadata": {
        "colab": {
          "base_uri": "https://localhost:8080/",
          "height": 316
        },
        "id": "bo676D99ZTD4",
        "outputId": "67f0b218-2663-4f88-adde-6f93879c5141"
      },
      "execution_count": 17,
      "outputs": [
        {
          "output_type": "execute_result",
          "data": {
            "text/plain": [
              "<matplotlib.legend.Legend at 0x7fdb4a79bb10>"
            ]
          },
          "metadata": {},
          "execution_count": 17
        },
        {
          "output_type": "display_data",
          "data": {
            "text/plain": [
              "<Figure size 432x288 with 1 Axes>"
            ],
            "image/png": "[encoded data removed]"
          },
          "metadata": {}
        }
      ]
    },
    {
      "cell_type": "code",
      "source": [
        "# plot accuracy\n",
        "plt.style.use(\"ggplot\")\n",
        "plt.figure()\n",
        "plt.plot(loss, label=\"loss\")\n",
        "plt.plot(val_loss, label=\"val_loss\")\n",
        "plt.title(\"Training and Validation Loss\")\n",
        "plt.xlabel(\"Epochs\")\n",
        "plt.ylabel(\"Loss\")\n",
        "plt.legend(loc=\"upper left\")"
      ],
      "metadata": {
        "colab": {
          "base_uri": "https://localhost:8080/",
          "height": 316
        },
        "id": "MTVod0nNZvl3",
        "outputId": "387f7ff5-6612-4a27-f79e-557ef25c7cea"
      },
      "execution_count": 18,
      "outputs": [
        {
          "output_type": "execute_result",
          "data": {
            "text/plain": [
              "<matplotlib.legend.Legend at 0x7fdb4a7edfd0>"
            ]
          },
          "metadata": {},
          "execution_count": 18
        },
        {
          "output_type": "display_data",
          "data": {
            "text/plain": [
              "<Figure size 432x288 with 1 Axes>"
            ],
            "image/png": "[encoded data removed]"
          },
          "metadata": {}
        }
      ]
    },
    {
      "cell_type": "markdown",
      "source": [
        "## Final Testing\n",
        "---"
      ],
      "metadata": {
        "id": "tj-TI3WixIr3"
      }
    },
    {
      "cell_type": "code",
      "source": [
        "from SoccerNet.Downloader import getListGames\n",
        "\n",
        "trainList = []\n",
        "trainList.extend(getListGames(['train']))\n",
        "trainList.extend(getListGames(['valid']))\n",
        "testList = getListGames(['test'])\n",
        "challengeList = getListGames(['challenge'])\n",
        "\n",
        "print(f\"Games in trainList: {len(trainList)}\")\n",
        "print(f\"Games in testList: {len(testList)}\")\n",
        "print(f\"Games in challengeList: {len(challengeList)}\")"
      ],
      "metadata": {
        "colab": {
          "base_uri": "https://localhost:8080/"
        },
        "id": "f20pVjKOT3Vv",
        "outputId": "d6a9db55-b45f-4519-98ed-a39c366ca4fb"
      },
      "execution_count": 4,
      "outputs": [
        {
          "output_type": "stream",
          "name": "stdout",
          "text": [
            "Games in trainList: 400\n",
            "Games in testList: 100\n",
            "Games in challengeList: 50\n"
          ]
        }
      ]
    },
    {
      "cell_type": "code",
      "source": [
        "# load models\n",
        "model = tensorflow.keras.models.load_model(\"models/naive_classifier\")\n",
        "rnn_model_grouped = tensorflow.keras.models.load_model(\"models/action_classifier_7_11window\")\n",
        "rnn_model = tensorflow.keras.models.load_model(\"models/action_classifier_17_11window\")\n",
        "pre_2_model = tensorflow.keras.models.load_model(\"models/pre_2_classifier\")\n",
        "# post_2_model = tensorflow.keras.models.load_model(\"models/post_2_classifier\")\n",
        "# pre_4_model = tensorflow.keras.models.load_model(\"models/pre_4_classifier\")\n",
        "post_4_model = tensorflow.keras.models.load_model(\"models/post_4_classifier\")\n",
        "pre_5_model = tensorflow.keras.models.load_model(\"models/pre_5_classifier\")\n",
        "# post_5_model = tensorflow.keras.models.load_model(\"models/post_5_classifier\")\n",
        "pre_6_model = tensorflow.keras.models.load_model(\"models/pre_6_classifier\")\n",
        "# post_6_model = tensorflow.keras.models.load_model(\"models/post_6_classifier\")"
      ],
      "metadata": {
        "id": "1EkRUY-4bGGc"
      },
      "execution_count": 19,
      "outputs": []
    },
    {
      "cell_type": "code",
      "source": [
        "context = np.array([0.5, 0.6, 0.7, 0.8, 0.85, 0.9, 0.95, 1., \n",
        "                    0.95, 0.9, 0.85, 0.8, 0.7, 0.6, 0.5], dtype=\"float\")\n",
        "context = np.expand_dims(context, axis=1)\n",
        "\n",
        "timestep = 1\n",
        "\n",
        "def contextLabel(labels):\n",
        "    # labels = labels * context\n",
        "    label = np.sum(labels, axis=0)\n",
        "    return label\n",
        "\n",
        "def binaryLabel(labels):\n",
        "    label = np.sum(labels, axis=0)\n",
        "    if np.sum(labels) == 0:\n",
        "        return 0\n",
        "    else:\n",
        "        return 1\n",
        "\n",
        "def divideGame(features, labels, binary=True, stride=1):\n",
        "    feat_ = []\n",
        "    lab_ = []\n",
        "\n",
        "    for i in range(0, len(features), stride):\n",
        "        if i+timestep > len(features):\n",
        "            break\n",
        "        feat_.append(features[i : i+timestep])\n",
        "        if binary:\n",
        "            lab_.append(binaryLabel(labels[i : i+timestep]))\n",
        "        else:\n",
        "            lab_.append(contextLabel(labels[i : i+timestep]))\n",
        "\n",
        "    feat_ = np.asanyarray(feat_)\n",
        "    lab_ = np.asanyarray(lab_)\n",
        "    feat_ = np.reshape(feat_, (feat_.shape[0], feat_.shape[-1]))\n",
        "    return (feat_, lab_)\n"
      ],
      "metadata": {
        "id": "g_KEQ5kr3eRD"
      },
      "execution_count": 6,
      "outputs": []
    },
    {
      "cell_type": "code",
      "source": [
        "# get windows from predictions\n",
        "def getWindows(pred, threshold=0.2):\n",
        "    windows = []\n",
        "    pred = pred > threshold\n",
        "    idx = 0\n",
        "\n",
        "    while idx < len(pred):\n",
        "        if pred[idx]:\n",
        "            start = idx\n",
        "            while idx < len(pred) and pred[idx]:\n",
        "                idx += 1\n",
        "            if idx-1 - start >= 15:\n",
        "                windows.extend([[start, start+5], [start+5, start+10], [start+10, idx-1]])\n",
        "            elif idx-1 - start >= 10:\n",
        "                windows.extend([[start, start+5], [start+5, idx-1]])\n",
        "            else:\n",
        "                windows.append([start, idx-1])\n",
        "        idx += 1\n",
        "    \n",
        "    return np.asarray(windows)"
      ],
      "metadata": {
        "id": "xGgh221Ay92c"
      },
      "execution_count": 7,
      "outputs": []
    },
    {
      "cell_type": "code",
      "source": [
        "# segment actions from game for event classification\n",
        "def segmentActions(windows, features, labels, max_window=15):\n",
        "    feat_ = []\n",
        "    lab_ = []\n",
        "\n",
        "    for (start, end) in windows:\n",
        "        temp_feat = []\n",
        "        temp_feat.extend([np.array(features[f]) for f in range(start, end+1)])\n",
        "        if end+1 - start < max_window: \n",
        "            temp_feat.extend(np.array([0] * features.shape[-1]) for _ in range(max_window - (end+1 - start)))\n",
        "        elif end+1 - start < max_window:\n",
        "            temp_feat = temp_feat[:max_window]\n",
        "\n",
        "        temp_feat = np.asarray(temp_feat)\n",
        "        feat_.append(np.array(temp_feat))\n",
        "\n",
        "        temp_lab = contextLabel(labels[start : end+1])\n",
        "        if np.sum(temp_lab) > 1:\n",
        "            temp_lab = temp_lab / np.sum(temp_lab)\n",
        "        lab_.append(temp_lab)\n",
        "\n",
        "    feat_ = np.array(feat_)\n",
        "    lab_ = np.array(lab_)\n",
        "    return (feat_, lab_)"
      ],
      "metadata": {
        "id": "lj88Hs1LzDv4"
      },
      "execution_count": 8,
      "outputs": []
    },
    {
      "cell_type": "code",
      "source": [
        "def getPrePostFrames(peak, features):\n",
        "    pre, post = [], []\n",
        "    start = peak - 5\n",
        "    end = peak - 1\n",
        "    try:\n",
        "        arr = [np.array(features[f]) for f in range(start, end+1)]\n",
        "        pre.extend(arr)\n",
        "    except:\n",
        "        arr = [np.array(features[f]) for f in range(0, 6)]\n",
        "        pre.extend(arr)\n",
        "    \n",
        "    start = peak + 1\n",
        "    end = peak + 5\n",
        "    try:\n",
        "        arr = [np.array(features[f]) for f in range(start, end+1)]\n",
        "        post.extend(arr)\n",
        "    except:\n",
        "        arr = [np.array(features[f]) for f in range(len(features)-5, len(features))]\n",
        "        post.extend(arr)\n",
        "\n",
        "    return (pre, post)"
      ],
      "metadata": {
        "id": "JlW7EkXsxHSa"
      },
      "execution_count": 9,
      "outputs": []
    },
    {
      "cell_type": "code",
      "source": [
        "label2event_2 = {\n",
        "    0: \"Goal\",\n",
        "    1: \"Shots on target\",\n",
        "    2: \"Shots off target\",\n",
        "    3: \"Corner\",\n",
        "}\n",
        "\n",
        "label2event_4 = {\n",
        "    0: \"Yellow card\",\n",
        "    1: \"Red card\",\n",
        "    2: \"Yellow->red card\",\n",
        "    3: \"Offside\",\n",
        "}\n",
        "\n",
        "label2event_5 = {\n",
        "    0: \"Clearance\",\n",
        "    1: \"Ball out of play\",\n",
        "    2: \"Throw-in\",\n",
        "}\n",
        "\n",
        "label2event_6 = {\n",
        "    0: \"Foul\",\n",
        "    1: \"Indirect free-kick\",\n",
        "    2: \"Direct free-kick\",\n",
        "}"
      ],
      "metadata": {
        "id": "As0eVyeL1Mz9"
      },
      "execution_count": 15,
      "outputs": []
    },
    {
      "cell_type": "code",
      "source": [
        "def getSubclass(peak, features, label):\n",
        "    pre, post = getPrePostFrames(peak, features)\n",
        "    pre = np.expand_dims(pre, axis=0)\n",
        "    post = np.expand_dims(post, axis=0)\n",
        "    if label == 2:\n",
        "        pre_pred = pre_2_model.predict((pre))\n",
        "        # post_pred = post_2_model.predict(post)\n",
        "        # if np.max(pre_pred) > np.max(post_pred):\n",
        "        return label2event_2[np.argmax(pre_pred)], pre_pred\n",
        "        # return label2event_2[np.argmax(post_pred)], post_pred\n",
        "    elif label == 4:\n",
        "        # pre_pred = pre_4_model.predict(pre)\n",
        "        post_pred = post_4_model.predict(post)\n",
        "        # if np.max(pre_pred) > np.max(post_pred):\n",
        "        #     return label2event_4[np.argmax(pre_pred)], pre_pred\n",
        "        return label2event_4[np.argmax(post_pred)], post_pred\n",
        "    elif label == 5:\n",
        "        pre_pred = pre_5_model.predict(pre)\n",
        "        # post_pred = post_5_model.predict(post)\n",
        "        # if np.max(pre_pred) > np.max(post_pred):\n",
        "        return label2event_5[np.argmax(pre_pred)], pre_pred\n",
        "        # return label2event_5[np.argmax(post_pred)], post_pred\n",
        "    else:\n",
        "        pre_pred = pre_6_model.predict(pre)\n",
        "        # post_pred = post_6_model.predict(post)\n",
        "        # if np.max(pre_pred) > np.max(post_pred):\n",
        "        return label2event_6[np.argmax(pre_pred)], pre_pred\n",
        "        # return label2event_6[np.argmax(post_pred)], post_pred"
      ],
      "metadata": {
        "id": "FoAQOlcb0NKA"
      },
      "execution_count": 16,
      "outputs": []
    },
    {
      "cell_type": "code",
      "source": [
        "import json\n",
        "import os\n",
        "\n",
        "res_path = \"results\"\n",
        "\n",
        "def sec2time(sec):\n",
        "    min = sec // 60\n",
        "    sec -= (min*60)\n",
        "    if sec < 10:\n",
        "        return str(min) + \":0\" + str(sec)\n",
        "    return str(min) + \":\" + str(sec)\n",
        "\n",
        "# save predictions\n",
        "def savePreds(preds, windows, features, filepath):\n",
        "    # labels = []\n",
        "    predictions = {\"annotations\": []}\n",
        "    half = 0\n",
        "    for (pred_half, window_half) in zip(preds, windows):\n",
        "        half += 1\n",
        "        for (pred, window) in zip(pred_half, window_half):\n",
        "            event = {}\n",
        "            # get timestamp\n",
        "            sec = window[0] + ((window[1] - window[0]) // 2)\n",
        "            time = sec2time(sec)\n",
        "\n",
        "            # get class\n",
        "            idx = np.argmax(pred)\n",
        "            if idx in [0, 1, 3]:\n",
        "                action = GV.INVERSE_EVENT_DICTIONARY_V2[idx]\n",
        "            elif idx == 5:\n",
        "                if half == 1:\n",
        "                    action, pred = getSubclass(sec, features[0], 5)\n",
        "                    # if np.max(pred_) < np.max(pred):\n",
        "                    #     action = GV.INVERSE_EVENT_DICTIONARY_V2[5]\n",
        "                    #     pred = pred_\n",
        "                else:\n",
        "                    action, pred = getSubclass(sec, features[1], 5)\n",
        "                    # if np.max(pred_) < np.max(pred):\n",
        "                    #     action = GV.INVERSE_EVENT_DICTIONARY_V2[5]\n",
        "                    #     pred = pred_\n",
        "            elif idx == 2:\n",
        "                if half == 1:\n",
        "                    action, pred = getSubclass(sec, features[0], 2)\n",
        "                    # if np.max(pred_) < np.max(pred):\n",
        "                    #     action = GV.INVERSE_EVENT_DICTIONARY_V2[2]\n",
        "                    #     pred = pred_\n",
        "                else:\n",
        "                    action, pred = getSubclass(sec, features[1], 2)\n",
        "                    # if np.max(pred_) < np.max(pred):\n",
        "                    #     action = GV.INVERSE_EVENT_DICTIONARY_V2[2]\n",
        "                    #     pred = pred_\n",
        "            elif idx == 4:\n",
        "                if half == 1:\n",
        "                    action, pred = getSubclass(sec, features[0], 4)\n",
        "                    # if np.max(pred_) < np.max(pred):\n",
        "                    #     action = GV.INVERSE_EVENT_DICTIONARY_V2[4]\n",
        "                    #     pred = pred_\n",
        "                else:\n",
        "                    action, pred = getSubclass(sec, features[1], 4)\n",
        "                    # if np.max(pred_) < np.max(pred):\n",
        "                    #     action = GV.INVERSE_EVENT_DICTIONARY_V2[4]\n",
        "                    #     pred = pred_\n",
        "            else:\n",
        "                if half == 1:\n",
        "                    action, pred = getSubclass(sec, features[0], 6)\n",
        "                    # if np.max(pred_) < np.max(pred):\n",
        "                    #     action = GV.INVERSE_EVENT_DICTIONARY_V2[6]\n",
        "                    #     pred = pred_\n",
        "                else:\n",
        "                    action, pred = getSubclass(sec, features[1], 6)\n",
        "                    # if np.max(pred_) < np.max(pred):\n",
        "                    #     action = GV.INVERSE_EVENT_DICTIONARY_V2[6]\n",
        "                    #     pred = pred_\n",
        "\n",
        "            # labels.append([action, time])\n",
        "            predictions[\"annotations\"].append({\"gameTime\": str(half) + \" - \" + time,\n",
        "                                            \"label\": action,\n",
        "                                            \"position\": str(sec * 1000),\n",
        "                                            \"half\": str(half),\n",
        "                                            \"confidence\": str(np.max(pred))})\n",
        "    \n",
        "    res_path = \"results/\" + filepath[7:]\n",
        "    if not os.path.exists(res_path):\n",
        "        os.makedirs(res_path)\n",
        "    with open(res_path + \"results_spotting.json\", \"w\") as f:\n",
        "        f.write(json.dumps({\"UrlLocal\": filepath[7:-1],\n",
        "            \"predictions\": predictions[\"annotations\"]}, indent=4))\n",
        "\n",
        "    # return labels\n"
      ],
      "metadata": {
        "id": "-udpSqJQzQBA"
      },
      "execution_count": 13,
      "outputs": []
    },
    {
      "cell_type": "code",
      "source": [
        "i=1\n",
        "for game in testList[:1]:\n",
        "    filepath = \"labels/\" + game + \"/\"\n",
        "    print(f\"[INFO] {i}/100 games processed\")\n",
        "    i+=1\n",
        "\n",
        "    [features_1, features_2, labels_1, labels_2] = getGameData(filepath, \n",
        "                                                    num_classes=17, \n",
        "                                                    event_mapping=GV.EVENT_DICTIONARY_V2)\n",
        "    if features_1 is None or features_2 is None:\n",
        "        continue\n",
        "\n",
        "    pred_1 = model.predict_on_batch(features_1)\n",
        "    pred_2 = model.predict_on_batch(features_2)\n",
        "\n",
        "    windows_1 = getWindows(pred_1)\n",
        "    windows_2 = getWindows(pred_2)\n",
        "\n",
        "    [seg_features_1, labels_1] = segmentActions(windows_1, features_1, labels_1, max_window=11)\n",
        "    [seg_features_2, labels_2] = segmentActions(windows_2, features_2, labels_2, max_window=11)\n",
        "\n",
        "    pred_1 = rnn_model.predict_on_batch(seg_features_1)\n",
        "    pred_1 = np.asarray(pred_1)\n",
        "    pred_2 = rnn_model.predict_on_batch(seg_features_2)\n",
        "    pred_2 = np.asarray(pred_2)\n",
        "\n",
        "    savePreds((pred_1, pred_2), (windows_1, windows_2), (features_1, features_2), filepath)"
      ],
      "metadata": {
        "colab": {
          "base_uri": "https://localhost:8080/",
          "height": 252
        },
        "id": "JcQoaa-dyl5N",
        "outputId": "d4155d22-ebb2-4d89-b485-d41ebf5b9554"
      },
      "execution_count": 14,
      "outputs": [
        {
          "output_type": "stream",
          "name": "stdout",
          "text": [
            "[INFO] 1/100 games processed\n"
          ]
        },
        {
          "output_type": "error",
          "ename": "NameError",
          "evalue": "ignored",
          "traceback": [
            "\u001b[0;31m---------------------------------------------------------------------------\u001b[0m",
            "\u001b[0;31mNameError\u001b[0m                                 Traceback (most recent call last)",
            "\u001b[0;32m<ipython-input-14-c0511e63d8da>\u001b[0m in \u001b[0;36m<module>\u001b[0;34m()\u001b[0m\n\u001b[1;32m     17\u001b[0m     \u001b[0mwindows_2\u001b[0m \u001b[0;34m=\u001b[0m \u001b[0mgetWindows\u001b[0m\u001b[0;34m(\u001b[0m\u001b[0mpred_2\u001b[0m\u001b[0;34m)\u001b[0m\u001b[0;34m\u001b[0m\u001b[0;34m\u001b[0m\u001b[0m\n\u001b[1;32m     18\u001b[0m \u001b[0;34m\u001b[0m\u001b[0m\n\u001b[0;32m---> 19\u001b[0;31m     \u001b[0;34m[\u001b[0m\u001b[0mseg_features_1\u001b[0m\u001b[0;34m,\u001b[0m \u001b[0mlabels_1\u001b[0m\u001b[0;34m]\u001b[0m \u001b[0;34m=\u001b[0m \u001b[0msegmentActions\u001b[0m\u001b[0;34m(\u001b[0m\u001b[0mwindows_1\u001b[0m\u001b[0;34m,\u001b[0m \u001b[0mfeatures_1\u001b[0m\u001b[0;34m,\u001b[0m \u001b[0mlabels_1\u001b[0m\u001b[0;34m,\u001b[0m \u001b[0mmax_window\u001b[0m\u001b[0;34m=\u001b[0m\u001b[0;36m11\u001b[0m\u001b[0;34m)\u001b[0m\u001b[0;34m\u001b[0m\u001b[0;34m\u001b[0m\u001b[0m\n\u001b[0m\u001b[1;32m     20\u001b[0m     \u001b[0;34m[\u001b[0m\u001b[0mseg_features_2\u001b[0m\u001b[0;34m,\u001b[0m \u001b[0mlabels_2\u001b[0m\u001b[0;34m]\u001b[0m \u001b[0;34m=\u001b[0m \u001b[0msegmentActions\u001b[0m\u001b[0;34m(\u001b[0m\u001b[0mwindows_2\u001b[0m\u001b[0;34m,\u001b[0m \u001b[0mfeatures_2\u001b[0m\u001b[0;34m,\u001b[0m \u001b[0mlabels_2\u001b[0m\u001b[0;34m,\u001b[0m \u001b[0mmax_window\u001b[0m\u001b[0;34m=\u001b[0m\u001b[0;36m11\u001b[0m\u001b[0;34m)\u001b[0m\u001b[0;34m\u001b[0m\u001b[0;34m\u001b[0m\u001b[0m\n\u001b[1;32m     21\u001b[0m \u001b[0;34m\u001b[0m\u001b[0m\n",
            "\u001b[0;31mNameError\u001b[0m: name 'segmentActions' is not defined"
          ]
        }
      ]
    },
    {
      "cell_type": "code",
      "source": [
        "from SoccerNet.Evaluation.ActionSpotting import evaluate\n",
        "results = evaluate(SoccerNet_path=\"labels/\", Predictions_path=\"results/\",\n",
        "                   split=\"test\", version=2, prediction_file=\"results_spotting.json\")\n",
        "\n",
        "print(\"tight Average mAP: \", results[\"a_mAP\"])\n",
        "print(\"tight Average mAP per class: \", results[\"a_mAP_per_class\"])\n",
        "print(\"tight Average mAP visible: \", results[\"a_mAP_visible\"])\n",
        "print(\"tight Average mAP visible per class: \", results[\"a_mAP_per_class_visible\"])\n",
        "print(\"tight Average mAP unshown: \", results[\"a_mAP_unshown\"])\n",
        "print(\"tight Average mAP unshown per class: \", results[\"a_mAP_per_class_unshown\"])"
      ],
      "metadata": {
        "colab": {
          "base_uri": "https://localhost:8080/"
        },
        "id": "ezMLvM7c3Uwi",
        "outputId": "af07cb92-c6b0-43de-dcea-d17f84fdcb2d"
      },
      "execution_count": 83,
      "outputs": [
        {
          "output_type": "stream",
          "name": "stderr",
          "text": [
            "100%|██████████| 100/100 [00:01<00:00, 76.95it/s]\n",
            "100%|██████████| 12/12 [00:25<00:00,  2.10s/it]"
          ]
        },
        {
          "output_type": "stream",
          "name": "stdout",
          "text": [
            "tight Average mAP:  0.10437853644342353\n",
            "tight Average mAP per class:  [0.01298701298701299, 0.09090909090909093, 0.1008464724615595, 0.09065082644628102, 0.03305785123966942, 0.10405895661143404, 0.08779190062594705, 0.09090909090909093, 0.09090909090909093, 0.09090909090909093, 0.2518373629967314, 0.08405060259852237, 0.16859504132231404, 0.45031293307003895, 0.026609795542325277, 0.0, 0.0]\n",
            "tight Average mAP visible:  0.11665090261341565\n",
            "tight Average mAP visible per class:  [0.030303030303030297, 0.1776859504132232, 0.1171120325360046, 0.09063360881542702, 0.040404040404040394, 0.10517644841698114, 0.08866263199742457, 0.09090909090909093, 0.09090909090909093, 0.09090909090909093, 0.256902195586509, 0.1269510597499702, 0.1730769230769231, 0.47014147447309307, 0.033288675928166304, 0.0, 0.0]\n",
            "tight Average mAP unshown:  0.06953056930690993\n",
            "tight Average mAP unshown per class:  [0.0, 0.09090909090909093, 0.0, 0.09090909090909093, 0.01298701298701299, 0.11111111111111115, 0.0, 0.0, 0.07254361799816346, 0.09090909090909093, 0.07838672954952025, 0.04100032199205752, 0.0, 0.3094750874811709, 0.005666247143519871, 0.0, 0.0]\n"
          ]
        },
        {
          "output_type": "stream",
          "name": "stderr",
          "text": [
            "\n"
          ]
        }
      ]
    },
    {
      "cell_type": "code",
      "source": [
        "from SoccerNet.Evaluation.ActionSpotting import evaluate\n",
        "results = evaluate(SoccerNet_path=\"labels/\", Predictions_path=\"results/\",\n",
        "                   split=\"test\", version=2, prediction_file=\"results_spotting.json\")\n",
        "\n",
        "print(\"tight Average mAP: \", results[\"a_mAP\"])\n",
        "print(\"tight Average mAP per class: \", results[\"a_mAP_per_class\"])\n",
        "print(\"tight Average mAP visible: \", results[\"a_mAP_visible\"])\n",
        "print(\"tight Average mAP visible per class: \", results[\"a_mAP_per_class_visible\"])\n",
        "print(\"tight Average mAP unshown: \", results[\"a_mAP_unshown\"])\n",
        "print(\"tight Average mAP unshown per class: \", results[\"a_mAP_per_class_unshown\"])"
      ],
      "metadata": {
        "id": "CzUmWVLnFFxY"
      },
      "execution_count": null,
      "outputs": []
    },
    {
      "cell_type": "markdown",
      "source": [
        "## Test Naive Classifier with 11 window size\n",
        "---"
      ],
      "metadata": {
        "id": "Btw4mWSf8VVl"
      }
    },
    {
      "cell_type": "code",
      "source": [
        "def temp(features, windows):\n",
        "    feat_ = []\n",
        "\n",
        "    for (s, e) in windows:\n",
        "        peak = s + ((e - s) // 2)\n",
        "        start = peak - 5\n",
        "        end = peak + 5\n",
        "        temp_feat = []\n",
        "        if start < 0:\n",
        "            arr = [np.array(features[f]) for f in range(0, 11)]\n",
        "            assert(len(arr) == 11)\n",
        "        elif end+1 > len(features)-1:\n",
        "            arr = [np.array(features[f]) for f in range(len(features)-11, len(features))]\n",
        "            assert(len(arr) == 11)\n",
        "        else:\n",
        "            arr = [np.array(features[f]) for f in range(start, end+1)]\n",
        "            assert(len(arr) == 11)\n",
        "        temp_feat.extend(arr)\n",
        "        temp_feat = np.asarray(temp_feat)\n",
        "        feat_.append(np.array(temp_feat))\n",
        "\n",
        "    feat_ = np.array(feat_)\n",
        "    return feat_"
      ],
      "metadata": {
        "id": "c2apnFW_5lRd"
      },
      "execution_count": 17,
      "outputs": []
    },
    {
      "cell_type": "code",
      "source": [
        "import json\n",
        "import os\n",
        "\n",
        "def sec2time(sec):\n",
        "    min = sec // 60\n",
        "    sec -= (min*60)\n",
        "    if sec < 10:\n",
        "        return str(min) + \":0\" + str(sec)\n",
        "    return str(min) + \":\" + str(sec)\n",
        "\n",
        "# save predictions\n",
        "def savePreds_(preds, preds_grouped , windows, features, filepath):\n",
        "    # labels = []\n",
        "    predictions = {\"annotations\": []}\n",
        "    half = 0\n",
        "    for (pred_half, pred_grouped_half, window_half) in zip(preds, preds_grouped, windows):\n",
        "        half += 1\n",
        "        for (pred, pred_g, window) in zip(pred_half, pred_grouped_half, window_half):\n",
        "            event = {}\n",
        "            # get timestamp\n",
        "            sec = window[0] + ((window[1] - window[0]) // 2)\n",
        "            time = sec2time(sec)\n",
        "\n",
        "            # get class\n",
        "            # if np.max(pred) < 0.7:\n",
        "            #     continue\n",
        "            og_pred = pred\n",
        "            idx_p = np.argmax(pred)\n",
        "            idx_pg = np.argmax(pred_g)\n",
        "\n",
        "            if idx_p in [1, 2, 3, 4, 6, 7, 8, 9, 10, 11, 12, 14, 15, 16]:\n",
        "                action = GV.INVERSE_EVENT_DICTIONARY_V2[idx_p]\n",
        "            else:\n",
        "                # og_pred = pred\n",
        "                # idx = np.argmax(pred)\n",
        "                # action = GV.INVERSE_EVENT_DICTIONARY_V2[idx]\n",
        "                \n",
        "                if idx_pg in [0, 1, 3]:\n",
        "                    action = GV.INVERSE_EVENT_DICTIONARY_V2[idx_pg]\n",
        "                elif idx_pg == 5:\n",
        "                    if half == 1:\n",
        "                        action, pred = getSubclass(sec, features[0], 5)\n",
        "                        # if np.max(pred_) < np.max(pred):\n",
        "                        #     action = GV.INVERSE_EVENT_DICTIONARY_V2[5]\n",
        "                        #     pred = pred_\n",
        "                    else:\n",
        "                        action, pred = getSubclass(sec, features[1], 5)\n",
        "                        # if np.max(pred_) < np.max(pred):\n",
        "                        #     action = GV.INVERSE_EVENT_DICTIONARY_V2[5]\n",
        "                        #     pred = pred_\n",
        "                    if action != \"Clearance\" and np.max(pred) < 0.95:\n",
        "                        continue\n",
        "                    elif action == \"Clearance\" and np.max(pred) < 0.5:\n",
        "                        continue\n",
        "                elif idx_pg == 2:\n",
        "                    # if idx == 5 and np.max(pred) < 0.75:\n",
        "                    #     # FP shot on target\n",
        "                    #     continue\n",
        "                    if half == 1:\n",
        "                        action, pred = getSubclass(sec, features[0], 2)\n",
        "                        # if np.max(pred_) < np.max(pred):\n",
        "                        #     action = GV.INVERSE_EVENT_DICTIONARY_V2[2]\n",
        "                        #     pred = pred_\n",
        "                    else:\n",
        "                        action, pred = getSubclass(sec, features[1], 2)\n",
        "                        # if np.max(pred_) < np.max(pred):\n",
        "                        #     action = GV.INVERSE_EVENT_DICTIONARY_V2[2]\n",
        "                        #     pred = pred_\n",
        "                    if np.max(pred) < 0.6:\n",
        "                        continue\n",
        "                elif idx_pg == 4:\n",
        "                    # if idx == 4 and np.max(pred) > 0.975:\n",
        "                    #     # bias for Foul\n",
        "                    #     action = GV.INVERSE_EVENT_DICTIONARY_V2[idx]\n",
        "                    if half == 1:\n",
        "                        action, pred = getSubclass(sec, features[0], 4)\n",
        "                        # if np.max(pred_) < np.max(pred):\n",
        "                        #     action = GV.INVERSE_EVENT_DICTIONARY_V2[4]\n",
        "                        #     pred = pred_\n",
        "                    else:\n",
        "                        action, pred = getSubclass(sec, features[1], 4)\n",
        "                        # if np.max(pred_) < np.max(pred):\n",
        "                        #     action = GV.INVERSE_EVENT_DICTIONARY_V2[4]\n",
        "                        #     pred = pred_\n",
        "                    if np.max(pred) < 0.6:\n",
        "                        continue\n",
        "                    if action == \"Yellow Card\":\n",
        "                        action = \"Offside\"\n",
        "                    if action == \"Red Card\":\n",
        "                        action == \"Yellow Card\"\n",
        "                else:\n",
        "                    if np.max(pred) < 0.92:\n",
        "                        # FP Indirect free kick\n",
        "                        continue\n",
        "                    if half == 1:\n",
        "                        action, pred = getSubclass(sec, features[0], 6)\n",
        "                        # if np.max(pred_) < np.max(pred):\n",
        "                        #     action = GV.INVERSE_EVENT_DICTIONARY_V2[6]\n",
        "                        #     pred = pred_\n",
        "                    else:\n",
        "                        action, pred = getSubclass(sec, features[1], 6)\n",
        "                        # if np.max(pred_) < np.max(pred):\n",
        "                        #     action = GV.INVERSE_EVENT_DICTIONARY_V2[6]\n",
        "                        #     pred = pred_\n",
        "                    if np.max(pred) < 0.6:\n",
        "                        continue\n",
        "            \n",
        "            # labels.append([action, time])\n",
        "            predictions[\"annotations\"].append({\"gameTime\": str(half) + \" - \" + time,\n",
        "                                            \"label\": action,\n",
        "                                            \"position\": str(sec * 1000),\n",
        "                                            \"half\": str(half),\n",
        "                                            \"confidence\": str(np.max(pred)),\n",
        "                                            \"og conf\": str(np.max(og_pred)),\n",
        "                                            \"pred\": str(pred),\n",
        "                                            \"og pred\": str(og_pred)})\n",
        "    \n",
        "    res_path = \"challenge/\" + filepath[7:]\n",
        "    if not os.path.exists(res_path):\n",
        "        os.makedirs(res_path)\n",
        "    with open(res_path + \"results_spotting.json\", \"w\") as f:\n",
        "        f.write(json.dumps({\"UrlLocal\": filepath[7:-1],\n",
        "            \"predictions\": predictions[\"annotations\"]}, indent=4))\n",
        "\n",
        "    # return labels"
      ],
      "metadata": {
        "id": "n4TQb20e7eCf"
      },
      "execution_count": 25,
      "outputs": []
    },
    {
      "cell_type": "code",
      "source": [
        "i=1\n",
        "for game in challengeList:\n",
        "    filepath = \"labels/\" + game + \"/\"\n",
        "    print(f\"[INFO] {i}/100 games processed\")\n",
        "    i+=1\n",
        "\n",
        "    [features_1, features_2, labels_1, labels_2] = getGameData(filepath, \n",
        "                                                    num_classes=17, \n",
        "                                                    event_mapping=GV.EVENT_DICTIONARY_V2)\n",
        "    if features_1 is None or features_2 is None:\n",
        "        continue\n",
        "\n",
        "    pred_1 = model.predict_on_batch(features_1)\n",
        "    pred_2 = model.predict_on_batch(features_2)\n",
        "\n",
        "    windows_1 = getWindows(pred_1, threshold=0.1)\n",
        "    windows_2 = getWindows(pred_2, threshold=0.1)\n",
        "\n",
        "    seg_features_1 = temp(features_1, windows_1)\n",
        "    seg_features_2 = temp(features_2, windows_2)\n",
        "\n",
        "    # [seg_features_1, labels_1] = segmentActions(windows_1, features_1, labels_1)\n",
        "    # [seg_features_2, labels_2] = segmentActions(windows_2, features_2, labels_2)\n",
        "\n",
        "    pred_1 = rnn_model.predict_on_batch(seg_features_1)\n",
        "    pred_1 = np.asarray(pred_1)\n",
        "    pred_2 = rnn_model.predict_on_batch(seg_features_2)\n",
        "    pred_2 = np.asarray(pred_2)\n",
        "\n",
        "    pred_1_grouped = rnn_model_grouped.predict_on_batch(seg_features_1)\n",
        "    pred_1_grouped = np.asarray(pred_1_grouped)\n",
        "    pred_2_grouped = rnn_model_grouped.predict_on_batch(seg_features_2)\n",
        "    pred_2_grouped = np.asarray(pred_2_grouped)\n",
        "\n",
        "    savePreds_((pred_1, pred_2), (pred_1_grouped, pred_2_grouped), (windows_1, windows_2), (features_1, features_2), filepath)"
      ],
      "metadata": {
        "colab": {
          "base_uri": "https://localhost:8080/"
        },
        "id": "7iuf0kggG7E-",
        "outputId": "de16029b-ab8e-409b-df7e-d358e5d4d061"
      },
      "execution_count": 26,
      "outputs": [
        {
          "output_type": "stream",
          "name": "stdout",
          "text": [
            "[INFO] 1/100 games processed\n",
            "[INFO] 2/100 games processed\n",
            "[INFO] 3/100 games processed\n",
            "[INFO] 4/100 games processed\n",
            "[INFO] 5/100 games processed\n",
            "[INFO] 6/100 games processed\n",
            "[INFO] 7/100 games processed\n",
            "[INFO] 8/100 games processed\n",
            "[INFO] 9/100 games processed\n",
            "[INFO] 10/100 games processed\n",
            "[INFO] 11/100 games processed\n",
            "[INFO] 12/100 games processed\n",
            "[INFO] 13/100 games processed\n",
            "[INFO] 14/100 games processed\n",
            "[INFO] 15/100 games processed\n",
            "[INFO] 16/100 games processed\n",
            "[INFO] 17/100 games processed\n",
            "[INFO] 18/100 games processed\n",
            "[INFO] 19/100 games processed\n",
            "[INFO] 20/100 games processed\n",
            "[INFO] 21/100 games processed\n",
            "[INFO] 22/100 games processed\n",
            "[INFO] 23/100 games processed\n",
            "[INFO] 24/100 games processed\n",
            "[INFO] 25/100 games processed\n",
            "[INFO] 26/100 games processed\n",
            "[INFO] 27/100 games processed\n",
            "[INFO] 28/100 games processed\n",
            "[INFO] 29/100 games processed\n",
            "[INFO] 30/100 games processed\n",
            "[INFO] 31/100 games processed\n",
            "[INFO] 32/100 games processed\n",
            "[INFO] 33/100 games processed\n",
            "[INFO] 34/100 games processed\n",
            "[INFO] 35/100 games processed\n",
            "[INFO] 36/100 games processed\n",
            "[INFO] 37/100 games processed\n",
            "[INFO] 38/100 games processed\n",
            "[INFO] 39/100 games processed\n",
            "[INFO] 40/100 games processed\n",
            "[INFO] 41/100 games processed\n",
            "[INFO] 42/100 games processed\n",
            "[INFO] 43/100 games processed\n",
            "[INFO] 44/100 games processed\n",
            "[INFO] 45/100 games processed\n",
            "[INFO] 46/100 games processed\n",
            "[INFO] 47/100 games processed\n",
            "[INFO] 48/100 games processed\n",
            "[INFO] 49/100 games processed\n",
            "[INFO] 50/100 games processed\n"
          ]
        }
      ]
    },
    {
      "cell_type": "code",
      "source": [
        "from SoccerNet.Evaluation.ActionSpotting import evaluate\n",
        "results = evaluate(SoccerNet_path=\"labels/\", Predictions_path=\"result/\",\n",
        "                   split=\"test\", version=2, prediction_file=\"results_spotting.json\")\n",
        "\n",
        "print(\"tight Average mAP: \", results[\"a_mAP\"])\n",
        "print(\"tight Average mAP per class: \", results[\"a_mAP_per_class\"])\n",
        "print(\"tight Average mAP visible: \", results[\"a_mAP_visible\"])\n",
        "print(\"tight Average mAP visible per class: \", results[\"a_mAP_per_class_visible\"])\n",
        "print(\"tight Average mAP unshown: \", results[\"a_mAP_unshown\"])\n",
        "print(\"tight Average mAP unshown per class: \", results[\"a_mAP_per_class_unshown\"])"
      ],
      "metadata": {
        "colab": {
          "base_uri": "https://localhost:8080/"
        },
        "id": "USyUBe6C6cmM",
        "outputId": "8a3c7f64-29b2-481c-d64b-6b2a8e61df49"
      },
      "execution_count": 24,
      "outputs": [
        {
          "output_type": "stream",
          "name": "stderr",
          "text": [
            "100%|██████████| 100/100 [00:01<00:00, 80.61it/s]\n",
            "100%|██████████| 12/12 [00:23<00:00,  2.00s/it]"
          ]
        },
        {
          "output_type": "stream",
          "name": "stdout",
          "text": [
            "tight Average mAP:  0.4986230950012525\n",
            "tight Average mAP per class:  [0.8830578512396694, 0.5504290979011965, 0.5663850141087726, 0.59892584505059, 0.5217551185061945, 0.14598858797165856, 0.3388127743315382, 0.5377863043332807, 0.602567911274702, 0.6709325485120846, 0.658696807730876, 0.45300379424640663, 0.5330416860074091, 0.6962605347703928, 0.576042402948368, 0.09090909090909093, 0.05199724517906335]\n",
            "tight Average mAP visible:  0.5689534384125788\n",
            "tight Average mAP visible per class:  [0.9033693579148122, 0.7375233404781896, 0.589481913654946, 0.6814813976812734, 0.5454830533361192, 0.14606650567713098, 0.3397026743761495, 0.7297855766323148, 0.6025454085553494, 0.7542512160440938, 0.6613428783901203, 0.53664928983036, 0.629555281024262, 0.6974150759775944, 0.6671422603006266, 0.27272727272727265, 0.1776859504132232]\n",
            "tight Average mAP unshown:  0.2890712654889215\n",
            "tight Average mAP unshown per class:  [0.0, 0.4847022527491621, 0.0, 0.20600407276922397, 0.26926159521853305, 0.0, 0.0, 0.39635589224678874, 0.5746643165026069, 0.5341934805279183, 0.1315599173553719, 0.4025347917768864, 0.06935064935064936, 0.6105249752098155, 0.07877450764902409, 0.0, 0.0]\n"
          ]
        },
        {
          "output_type": "stream",
          "name": "stderr",
          "text": [
            "\n"
          ]
        }
      ]
    },
    {
      "cell_type": "code",
      "source": [
        "from SoccerNet.Evaluation.ActionSpotting import evaluate\n",
        "results = evaluate(SoccerNet_path=\"labels/\", Predictions_path=\"results/\",\n",
        "                   split=\"test\", version=2, prediction_file=\"results_spotting.json\")\n",
        "\n",
        "print(\"tight Average mAP: \", results[\"a_mAP\"])\n",
        "print(\"tight Average mAP per class: \", results[\"a_mAP_per_class\"])\n",
        "print(\"tight Average mAP visible: \", results[\"a_mAP_visible\"])\n",
        "print(\"tight Average mAP visible per class: \", results[\"a_mAP_per_class_visible\"])\n",
        "print(\"tight Average mAP unshown: \", results[\"a_mAP_unshown\"])\n",
        "print(\"tight Average mAP unshown per class: \", results[\"a_mAP_per_class_unshown\"])"
      ],
      "metadata": {
        "colab": {
          "base_uri": "https://localhost:8080/"
        },
        "id": "BAf-zVRH82ux",
        "outputId": "3215a877-f8aa-4f62-da81-cfed0b865057"
      },
      "execution_count": 75,
      "outputs": [
        {
          "output_type": "stream",
          "name": "stderr",
          "text": [
            "100%|██████████| 100/100 [00:01<00:00, 68.34it/s]\n",
            "100%|██████████| 12/12 [00:27<00:00,  2.28s/it]"
          ]
        },
        {
          "output_type": "stream",
          "name": "stdout",
          "text": [
            "tight Average mAP:  0.44404035907046424\n",
            "tight Average mAP per class:  [0.09090909090909093, 0.492493578966959, 0.6006598773587231, 0.5170355076107789, 0.47702177850812666, 0.1893388610611032, 0.3383993132957046, 0.41482921816277085, 0.6147988326530657, 0.6884981882123227, 0.6505617353944374, 0.3123306577862556, 0.5905956242961752, 0.7070596455312603, 0.5686996489965732, 0.18181818181818185, 0.11363636363636362]\n",
            "tight Average mAP visible:  0.5171909702981402\n",
            "tight Average mAP visible per class:  [0.09090909090909093, 0.7731264756058145, 0.6175942228744747, 0.6075780782218648, 0.49852340514853355, 0.18997387623223114, 0.3391829318542446, 0.678263637119422, 0.6151702553264541, 0.776099886165195, 0.6566557007924367, 0.39941229062462463, 0.6474076598019095, 0.7078212914272335, 0.6490731475103066, 0.27272727272727265, 0.27272727272727265]\n",
            "tight Average mAP unshown:  0.23614319325508504\n",
            "tight Average mAP unshown per class:  [0.0, 0.36521382278402137, 0.0, 0.1454000544909636, 0.269778717048637, 0.0, 0.0, 0.23287613165227403, 0.5247801256385504, 0.5068136025354891, 0.10996900826446279, 0.21741469468238642, 0.03836163836163836, 0.6128808977575902, 0.04637281910009181, 0.0, 0.0]\n"
          ]
        },
        {
          "output_type": "stream",
          "name": "stderr",
          "text": [
            "\n"
          ]
        }
      ]
    },
    {
      "cell_type": "code",
      "source": [
        ""
      ],
      "metadata": {
        "id": "Ha0fG2SvDmoh"
      },
      "execution_count": null,
      "outputs": []
    }
  ],
  "metadata": {
    "colab": {
      "name": "main.ipynb",
      "provenance": [],
      "background_execution": "on",
      "machine_shape": "hm"
    },
    "interpreter": {
      "hash": "0ebeefa082ec3c85d6bf89ec553af4f3d392dbbb786c9bd6af75578e2ba0e0f2"
    },
    "kernelspec": {
      "display_name": "",
      "language": "python",
      "name": "python3"
    },
    "language_info": {
      "codemirror_mode": {
        "name": "ipython",
        "version": 3
      },
      "file_extension": ".py",
      "mimetype": "text/x-python",
      "name": "python",
      "nbconvert_exporter": "python",
      "pygments_lexer": "ipython3",
      "version": "3.8.7"
    },
    "orig_nbformat": 4,
    "accelerator": "GPU"
  },
  "nbformat": 4,
  "nbformat_minor": 0
}